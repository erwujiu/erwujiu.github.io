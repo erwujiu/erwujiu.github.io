{
 "cells": [
  {
   "cell_type": "code",
   "execution_count": 4,
   "metadata": {},
   "outputs": [],
   "source": [
    "import os\n",
    "os.mkdir(\"1.txt\")\n"
   ]
  },
  {
   "cell_type": "code",
   "execution_count": 14,
   "metadata": {},
   "outputs": [
    {
     "name": "stdout",
     "output_type": "stream",
     "text": [
      "222\n",
      "333\n"
     ]
    }
   ],
   "source": [
    "# 存入数据  这个已经不需要了\n",
    "import os\n",
    "file_lists= os.listdir()\n",
    "\n",
    "def pd(timer):  #对文件名是否存在进行判断\n",
    "    if \"{}.txt\".format(timer) in file_lists:\n",
    "        timer  +=1\n",
    "        pd(timer)\n",
    "    else:\n",
    "        with open('{}.txt'.format(timer),\"w\") as fp:\n",
    "            x = str(1232)\n",
    "            y = str(4562)\n",
    "            z = x +\" \"+ y \n",
    "            fp.write(z)\n",
    "            \n",
    "if __name__ == \"__main__\":\n",
    "    global timer\n",
    "    global file_name\n",
    "    timer = 0\n",
    "\n",
    "    pd(timer)"
   ]
  },
  {
   "cell_type": "code",
   "execution_count": 19,
   "metadata": {},
   "outputs": [
    {
     "name": "stdout",
     "output_type": "stream",
     "text": [
      "['123 567', '1432 123', '12 2512', '234 1234', '122 45678'] ['123', '1432', '12', '234', '122'] ['567', '123', '2512', '1234', '45678']\n"
     ]
    }
   ],
   "source": [
    "# 读取数据 \n",
    "# 第一次我创建了一个文件，但第二次，我要保存文件名，这个文件名放哪？ \n",
    "#所以要实现创建好文件才对\n",
    "import os\n",
    "\n",
    "def analysis(data):#分析\n",
    "    data = \"\".join(data)\n",
    "    data =data.split(\"\\n\")\n",
    "    zh=[]\n",
    "    mm=[]\n",
    "    for i in range(len(data)):\n",
    "        xx = data[i]\n",
    "        xx =xx.split(\" \")\n",
    "        \n",
    "        zh.append(xx[0])\n",
    "        mm.append(xx[1])\n",
    "    print(data,zh,mm)\n",
    "    \n",
    "def duqu():\n",
    "    with open(\"yzh_database.txt\",\"r+\") as fp:\n",
    "        x1 = fp.readlines()\n",
    "        analysis(x1)\n",
    "\n",
    "duqu()\n",
    "\n"
   ]
  },
  {
   "cell_type": "code",
   "execution_count": null,
   "metadata": {},
   "outputs": [],
   "source": [
    "对于账号，创建账号的时候要进行对比，这个跳过好吧，用txt存储没意义\n"
   ]
  },
  {
   "cell_type": "code",
   "execution_count": 14,
   "metadata": {},
   "outputs": [],
   "source": [
    "import os\n",
    "for i in range(1,100):\n",
    "    with open('{}.txt'.format(i),\"w\") as fp:\n",
    "        pass"
   ]
  },
  {
   "cell_type": "code",
   "execution_count": 15,
   "metadata": {},
   "outputs": [],
   "source": [
    "import os\n",
    "\n",
    "with open('1.txt',\"a+\") as fp:\n",
    "    a = str(3231)\n",
    "    b = str(6321)\n",
    "    x = a+ \" \" +b +'\\n'\n",
    "    fp.write(x)"
   ]
  },
  {
   "cell_type": "code",
   "execution_count": 31,
   "metadata": {},
   "outputs": [
    {
     "name": "stdout",
     "output_type": "stream",
     "text": [
      "['32 63\\n', '321 631\\n', '3231 6321\\n']\n",
      "32 63\n",
      "321 631\n",
      "3231 6321\n",
      "\n"
     ]
    }
   ],
   "source": [
    "with open('1.txt',\"r+\") as fp:\n",
    "    z = fp.readlines()\n",
    "print(z)\n",
    "a1 = \"\".join(z)\n",
    "print(a1)\n",
    "for i in range(len(z)):\n",
    "    zi = {\"zh\"}\n",
    "    "
   ]
  },
  {
   "cell_type": "code",
   "execution_count": 20,
   "metadata": {},
   "outputs": [
    {
     "name": "stdout",
     "output_type": "stream",
     "text": [
      "11 22 33 44 42\n",
      "['11', '22', '33', '44', '42']\n"
     ]
    }
   ],
   "source": [
    "a = '11 22 33 44 42'\n",
    "print(a)\n",
    "b= a.split(\" \")\n",
    "print(b)"
   ]
  },
  {
   "cell_type": "code",
   "execution_count": 33,
   "metadata": {},
   "outputs": [
    {
     "name": "stdout",
     "output_type": "stream",
     "text": [
      "['1', '1', ' ', '2', '2', ' ', '3', '3', ' ', '4', '4', ' ', '4', '2']\n",
      "11 22 33 44 42\n"
     ]
    }
   ],
   "source": [
    "sz = list(a)\n",
    "print(sz)\n",
    "st = \"\".join(sz)\n",
    "print(st)"
   ]
  }
 ],
 "metadata": {
  "kernelspec": {
   "display_name": "Python 3",
   "language": "python",
   "name": "python3"
  },
  "language_info": {
   "codemirror_mode": {
    "name": "ipython",
    "version": 3
   },
   "file_extension": ".py",
   "mimetype": "text/x-python",
   "name": "python",
   "nbconvert_exporter": "python",
   "pygments_lexer": "ipython3",
   "version": "3.8.5"
  }
 },
 "nbformat": 4,
 "nbformat_minor": 4
}
