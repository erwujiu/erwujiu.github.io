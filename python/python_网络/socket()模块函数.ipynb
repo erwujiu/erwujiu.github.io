{
 "cells": [
  {
   "cell_type": "code",
   "execution_count": null,
   "metadata": {},
   "outputs": [],
   "source": [
    "要创建套接字，必须使用 socket.socket()函数，它一般的语法如下。\n",
    "socket(socket_family, socket_type, protocol=0)\n",
    "其中，socket_family 是 AF_UNIX 或 AF_INET（如前所述），socket_type 是 SOCK_STREAM\n",
    "或 SOCK_DGRAM（也如前所述）。protocol 通常省略，默认为 0。"
   ]
  },
  {
   "cell_type": "code",
   "execution_count": null,
   "metadata": {},
   "outputs": [],
   "source": [
    "所以，为了创建 TCP/IP 套接字，可以用下面的方式调用 socket.socket()。\n",
    "tcpSock = socket.socket(socket.AF_INET, socket.SOCK_STREAM)"
   ]
  },
  {
   "cell_type": "code",
   "execution_count": null,
   "metadata": {},
   "outputs": [],
   "source": [
    "同样，为了创建 UDP/IP 套接字，需要执行以下语句。\n",
    "udpSock = socket.socket(socket.AF_INET, socket.SOCK_DGRAM)"
   ]
  },
  {
   "cell_type": "code",
   "execution_count": null,
   "metadata": {},
   "outputs": [],
   "source": [
    "因为有很多 socket 模块属性，所以此时使用“from module import *”这种导入方式可以\n",
    "接受，不过这只是其中的一个例外。如果使用“from socket import *”，那么我们就把 socket\n",
    "属性引入到了命名空间中。虽然这看起来有些麻烦，但是通过这种方式将能够大大缩短代码，\n",
    "正如下面所示。\n",
    "tcpSock = socket(AF_INET, SOCK_STREAM)\n",
    "一旦有了一个套接字对象，那么使用套接字对象的方法将可以进行进一步的交互"
   ]
  },
  {
   "cell_type": "code",
   "execution_count": null,
   "metadata": {},
   "outputs": [],
   "source": [
    "表 2-1 列出了最常见的套接字方法。在下一节中，我们将使用其中的一些方法创建 TCP\n",
    "和 UDP 客户端与服务器。虽然我们专注于网络套接字，但这些方法与使用本地/不联网的套\n",
    "接字时有类似的含义。\n",
    "表 2-1 常见的套接字对象方法和属性\n",
    "名 称 描 述 \n",
    "服务器套接字方法\n",
    "s.bind() 将地址（主机名、端口号对）绑定到套接字上\n",
    "s.listen() 设置并启动 TCP 监听器\n",
    "s.accept() 被动接受 TCP 客户端连接，一直等待直到连接到达（阻塞）\n",
    "客户端套接字方法\n",
    "s.connect() 主动发起 TCP 服务器连接\n",
    "s.connect_ex() connect()的扩展版本，此时会以错误码的形式返回问题，而不是抛出一个异常\n",
    "普通的套接字方法\n",
    "s.recv() 接收 TCP 消息\n",
    "s.recv_into()①\n",
    "接收 TCP 消息到指定的缓冲区\n",
    "50 第 1 部分 通用应用主题\n",
    "（续表） \n",
    "名 字 描 述 \n",
    "s.send() 发送 TCP 消息\n",
    "s.sendall() 完整地发送 TCP 消息\n",
    "s.recvfrom() 接收 UDP 消息\n",
    "s.recvfrom_into()①\n",
    "接收 UDP 消息到指定的缓冲区\n",
    "s.sendto() 发送 UDP 消息\n",
    "s.getpeername() 连接到套接字（TCP）的远程地址\n",
    "s.getsockname() 当前套接字的地址\n",
    "s.getsockopt() 返回给定套接字选项的值\n",
    "s.setsockopt() 设置给定套接字选项的值\n",
    "s.shutdown() 关闭连接\n",
    "s.close() 关闭套接字\n",
    "s.detach()② 在未关闭文件描述符的情况下关闭套接字，返回文件描述符\n",
    "s.ioctl()③\n",
    "控制套接字的模式（仅支持 Windows）\n",
    "面向阻塞的套接字方法\n",
    "s.setblocking() 设置套接字的阻塞或非阻塞模式\n",
    "s.settimeout()④ 设置阻塞套接字操作的超时时间\n",
    "s.gettimeout()④ 获取阻塞套接字操作的超时时间\n",
    "面向文件的套接字方法\n",
    "s.fileno() 套接字的文件描述符\n",
    "s.makefile() 创建与套接字关联的文件对象\n",
    "数据属性\n",
    "s.family① 套接字家族\n",
    "s.type①\n",
    "套接字类型\n",
    "s.proto①\n",
    "套接字协议\n",
    "① Python 2.5 中新增。\n",
    "② Python 3.2 中新增。\n",
    "③ Python 2.6 中新增，仅仅支持 Windows 平台；POSIX 系统可以使用 functl 模块函数。\n",
    "④ Python 2.3 中新增"
   ]
  },
  {
   "cell_type": "code",
   "execution_count": null,
   "metadata": {},
   "outputs": [],
   "source": [
    "核心提示：在不同的计算机上分别安装客户端和服务器来运行网络应用程序\n",
    "在本章众多的例子中，你会经常看到指示主机“localhost”的代码和输出，或者看到\n",
    "127.0.0.1 的 IP 地址。在这里的示例中，客户端和服务器运行在同一台计算机上。不过，\n",
    "鼓励读者修改主机名，并将代码复制到不同的计算机上，因为这样开发的代码运行起来更\n",
    "加有趣，让计算机通过网络相互通信，然后可以看到网络程序确实能够工作！\n"
   ]
  },
  {
   "cell_type": "code",
   "execution_count": null,
   "metadata": {},
   "outputs": [],
   "source": []
  },
  {
   "cell_type": "code",
   "execution_count": null,
   "metadata": {},
   "outputs": [],
   "source": [
    "创建 TCP 服务器"
   ]
  },
  {
   "cell_type": "code",
   "execution_count": null,
   "metadata": {},
   "outputs": [],
   "source": [
    "首先，我们将展现创建通用 TCP 服务器的一般伪代码，然后对这些代码的含义进行一般\n",
    "性的描述。需要记住的是，这仅仅是设计服务器的一种方式。一旦熟悉了服务器设计，那么\n",
    "你将能够按照自己的要求修改下面的伪代码来操作服务器。\n",
    "ss = socket() # 创建服务器套接字\n",
    "ss.bind() # 套接字与地址绑定\n",
    "ss.listen() # 监听连接\n",
    "inf_loop: # 服务器无限循环\n",
    "    cs = ss.accept() # 接受客户端连接\n",
    "    comm_loop: # 通信循环\n",
    "        cs.recv()/cs.send() # 对话（接收/发送）\n",
    "    cs.close() # 关闭客户端套接字\n",
    "ss.close() # 关闭服务器套接字#（可选）"
   ]
  },
  {
   "cell_type": "code",
   "execution_count": null,
   "metadata": {},
   "outputs": [],
   "source": [
    "核心提示：多线程处理客户端请求\n",
    "我们没在该例子中实现这一点，但将一个客户端请求切换到一个新线程或进程来完成\n",
    "客户端处理也是相当普遍的。SocketServer 模块是一个以 socket 为基础而创建的高级套接\n",
    "字通信模块，它支持客户端请求的线程和多进程处理。可以参考文档或在第 4 章的练习部\n",
    "分获取 SocketServer 模块的更多信息"
   ]
  },
  {
   "cell_type": "code",
   "execution_count": 7,
   "metadata": {},
   "outputs": [
    {
     "name": "stdout",
     "output_type": "stream",
     "text": [
      "waiting for connection...\n",
      "...connected from: ('127.0.0.1', 1616)\n",
      "<class 'bytes'> b'hi'\n"
     ]
    }
   ],
   "source": [
    "# TCP时间戳服务器\n",
    "from socket import *\n",
    "from time import ctime\n",
    "HOST = ''\n",
    "PORT = 21567\n",
    "BUFSIZ = 1024\n",
    "ADDR = (HOST,PORT)\n",
    "\n",
    "tcpSerSock = socket(AF_INET,SOCK_STREAM)\n",
    "tcpSerSock.bind(ADDR)\n",
    "tcpSerSock.listen(5)\n",
    "\n",
    "try:\n",
    "    while True:\n",
    "        print('waiting for connection...')\n",
    "        tcpCliSock, addr = tcpSerSock.accept()\n",
    "        print ('...connected from:',addr)\n",
    "\n",
    "        while True:\n",
    "            data = tcpCliSock.recv(BUFSIZ)\n",
    "            print(type(data),data)\n",
    "            if not data:\n",
    "                break\n",
    "    #         shuju='%s %s'%(ctime(),data).encode()\n",
    "            a='[%s] %s'%(bytes(ctime(),'utf-8'),data)\n",
    "            a=a.encode()\n",
    "            tcpCliSock.send(a)\n",
    "\n",
    "\n",
    "            tcpCliSock.close()\n",
    "except:  \n",
    "    tcpSerSock.close()\n",
    "    \n",
    "        "
   ]
  },
  {
   "cell_type": "code",
   "execution_count": 5,
   "metadata": {},
   "outputs": [
    {
     "name": "stdout",
     "output_type": "stream",
     "text": [
      "[Mon Feb 14 10:11:59 2022] hi\n"
     ]
    }
   ],
   "source": [
    "# 创建 TCP 客户端\n"
   ]
  },
  {
   "cell_type": "code",
   "execution_count": null,
   "metadata": {},
   "outputs": [],
   "source": [
    "创建客户端比服务器要简单得多。与对 TCP 服务器的描述类似，本节将先给出附带解释\n",
    "的伪代码，然后揭示真相。\n",
    "cs = socket() # 创建客户端套接字\n",
    "cs.connect() # 尝试连接服务器\n",
    "comm_loop: # 通信循环\n",
    "cs.send()/cs.recv() # 对话（发送/接收）\n",
    "cs.close() # 关闭客户端套接字"
   ]
  },
  {
   "cell_type": "code",
   "execution_count": null,
   "metadata": {},
   "outputs": [],
   "source": [
    "# TCP 时间戳客户端\n",
    "from socket import *\n",
    "\n",
    "HOST = 'localhost'\n",
    "PORT = 21567\n",
    "BUFSIZ = 1024\n",
    "ADDR = (HOST,PORT)\n",
    "\n",
    "tcpCliSock = socket(AF_INET,SOCK_STREAM)\n",
    "tcpCliSock.connect(ADDR)\n",
    "\n",
    "while True:\n",
    "    data = raw_input('> ')\n",
    "    if not data:\n",
    "        break\n",
    "    tcpCliSock.send(data)\n",
    "    data = tcpCliSock.recv(BUFSIZ)\n",
    "    if not data:\n",
    "        break\n",
    "    print (data)\n",
    "tcpCliSock.close()\n",
    "\n",
    "\n",
    "\n"
   ]
  },
  {
   "cell_type": "code",
   "execution_count": 1,
   "metadata": {},
   "outputs": [
    {
     "ename": "NameError",
     "evalue": "name 'raw_input' is not defined",
     "output_type": "error",
     "traceback": [
      "\u001b[1;31m---------------------------------------------------------------------------\u001b[0m",
      "\u001b[1;31mNameError\u001b[0m                                 Traceback (most recent call last)",
      "\u001b[1;32m<ipython-input-1-38df153c4c06>\u001b[0m in \u001b[0;36m<module>\u001b[1;34m\u001b[0m\n\u001b[1;32m----> 1\u001b[1;33m \u001b[0mdata\u001b[0m \u001b[1;33m=\u001b[0m \u001b[0mraw_input\u001b[0m\u001b[1;33m(\u001b[0m\u001b[1;34m'>'\u001b[0m\u001b[1;33m)\u001b[0m\u001b[1;33m\u001b[0m\u001b[1;33m\u001b[0m\u001b[0m\n\u001b[0m\u001b[0;32m      2\u001b[0m \u001b[0mprint\u001b[0m\u001b[1;33m(\u001b[0m\u001b[0mdata\u001b[0m\u001b[1;33m)\u001b[0m\u001b[1;33m\u001b[0m\u001b[1;33m\u001b[0m\u001b[0m\n",
      "\u001b[1;31mNameError\u001b[0m: name 'raw_input' is not defined"
     ]
    }
   ],
   "source": []
  }
 ],
 "metadata": {
  "kernelspec": {
   "display_name": "Python 3",
   "language": "python",
   "name": "python3"
  },
  "language_info": {
   "codemirror_mode": {
    "name": "ipython",
    "version": 3
   },
   "file_extension": ".py",
   "mimetype": "text/x-python",
   "name": "python",
   "nbconvert_exporter": "python",
   "pygments_lexer": "ipython3",
   "version": "3.8.5"
  }
 },
 "nbformat": 4,
 "nbformat_minor": 4
}
