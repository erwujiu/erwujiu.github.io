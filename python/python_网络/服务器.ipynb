{
 "cells": [
  {
   "cell_type": "code",
   "execution_count": 1,
   "metadata": {},
   "outputs": [
    {
     "name": "stdout",
     "output_type": "stream",
     "text": [
      "waiting for connection...\n",
      "...connected from: ('127.0.0.1', 14062)\n",
      "<class 'bytes'> b'123'\n"
     ]
    }
   ],
   "source": [
    "# TCP时间戳服务器\n",
    "from socket import *\n",
    "from time import ctime\n",
    "HOST = ''\n",
    "PORT = 21567\n",
    "BUFSIZ = 1024\n",
    "ADDR = (HOST,PORT)\n",
    "\n",
    "tcpSerSock = socket(AF_INET,SOCK_STREAM)\n",
    "tcpSerSock.bind(ADDR)\n",
    "tcpSerSock.listen(5)\n",
    "\n",
    "try:\n",
    "    while True:\n",
    "        print('waiting for connection...')\n",
    "        tcpCliSock, addr = tcpSerSock.accept()\n",
    "        print ('...connected from:',addr)\n",
    "\n",
    "        while True:\n",
    "            data = tcpCliSock.recv(BUFSIZ)\n",
    "            print(type(data),data)\n",
    "            if not data:\n",
    "                break\n",
    "            tcpCliSock.send(data)\n",
    "            tcpCliSock.close()\n",
    "except:  \n",
    "    tcpSerSock.close()\n",
    "    \n",
    "        "
   ]
  },
  {
   "cell_type": "code",
   "execution_count": null,
   "metadata": {},
   "outputs": [
    {
     "name": "stdout",
     "output_type": "stream",
     "text": [
      "waiting for message...\n"
     ]
    }
   ],
   "source": [
    "# UPD时间戳服务器\n",
    "from socket import *\n",
    "from time import ctime\n",
    "\n",
    "HOST = '192.168.247.1'\n",
    "PORT = 21567\n",
    "BUFSIZ = 1024\n",
    "ADDR = (HOST,PORT)\n",
    "\n",
    "udpSerSock = socket(AF_INET,SOCK_DGRAM)\n",
    "udpSerSock.bind(ADDR)\n",
    "\n",
    "while True:\n",
    "    print('waiting for message...')\n",
    "    data,addr = udpSerSock.recvfrom(BUFSIZ)\n",
    "    a='[{}]:{}'.format(ctime(),data.decode()).encode()\n",
    "    udpSerSock.sendto(bytes(a),addr)\n",
    "\n",
    "    print ('...received from and returned to:',addr)\n",
    "\n",
    "udpSerSock.close()"
   ]
  },
  {
   "cell_type": "code",
   "execution_count": null,
   "metadata": {},
   "outputs": [
    {
     "name": "stdout",
     "output_type": "stream",
     "text": [
      "waiting for connection...\n",
      "...connected from: ('127.0.0.1', 1473)\n",
      "...connected from: ('127.0.0.1', 1474)\n",
      "...connected from: ('127.0.0.1', 1478)\n",
      "...connected from: ('127.0.0.1', 1482)\n"
     ]
    }
   ],
   "source": [
    "# SocketServer 时间戳 TCP 服务器\n",
    "from socketserver import (TCPServer as TCP,StreamRequestHandler as SRH)\n",
    "from time import ctime\n",
    "HOST = ''\n",
    "PORT = 21567\n",
    "ADDR = (HOST,PORT)\n",
    "\n",
    "class MyRequestHandler(SRH):\n",
    "    def handle(self):\n",
    "        print ('...connected from:',self.client_address)\n",
    "        a='[{}]:{}'.format(ctime(),self.rfile.readline()).encode()\n",
    "#         self.wfile.write(bytes(1)) 只能说很奇怪\n",
    "tcpServ = TCP(ADDR,MyRequestHandler)\n",
    "print('waiting for connection...')\n",
    "tcpServ.serve_forever()\n"
   ]
  }
 ],
 "metadata": {
  "kernelspec": {
   "display_name": "Python 3",
   "language": "python",
   "name": "python3"
  },
  "language_info": {
   "codemirror_mode": {
    "name": "ipython",
    "version": 3
   },
   "file_extension": ".py",
   "mimetype": "text/x-python",
   "name": "python",
   "nbconvert_exporter": "python",
   "pygments_lexer": "ipython3",
   "version": "3.8.5"
  }
 },
 "nbformat": 4,
 "nbformat_minor": 4
}
