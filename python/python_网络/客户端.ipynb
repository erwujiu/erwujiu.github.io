{
 "cells": [
  {
   "cell_type": "code",
   "execution_count": 1,
   "metadata": {},
   "outputs": [
    {
     "name": "stdout",
     "output_type": "stream",
     "text": [
      "> 123\n",
      "b'123'\n",
      "<class 'bytes'>\n",
      "> 456\n"
     ]
    },
    {
     "ename": "ConnectionAbortedError",
     "evalue": "[WinError 10053] 你的主机中的软件中止了一个已建立的连接。",
     "output_type": "error",
     "traceback": [
      "\u001b[1;31m---------------------------------------------------------------------------\u001b[0m",
      "\u001b[1;31mConnectionAbortedError\u001b[0m                    Traceback (most recent call last)",
      "\u001b[1;32m<ipython-input-1-8d525df50f78>\u001b[0m in \u001b[0;36m<module>\u001b[1;34m\u001b[0m\n\u001b[0;32m     15\u001b[0m         \u001b[1;32mbreak\u001b[0m\u001b[1;33m\u001b[0m\u001b[1;33m\u001b[0m\u001b[0m\n\u001b[0;32m     16\u001b[0m     \u001b[0mtcpCliSock\u001b[0m\u001b[1;33m.\u001b[0m\u001b[0msend\u001b[0m\u001b[1;33m(\u001b[0m\u001b[0mdata\u001b[0m\u001b[1;33m.\u001b[0m\u001b[0mencode\u001b[0m\u001b[1;33m(\u001b[0m\u001b[1;33m)\u001b[0m\u001b[1;33m)\u001b[0m\u001b[1;33m\u001b[0m\u001b[1;33m\u001b[0m\u001b[0m\n\u001b[1;32m---> 17\u001b[1;33m     \u001b[0mdata\u001b[0m \u001b[1;33m=\u001b[0m \u001b[0mtcpCliSock\u001b[0m\u001b[1;33m.\u001b[0m\u001b[0mrecv\u001b[0m\u001b[1;33m(\u001b[0m\u001b[0mBUFSIZ\u001b[0m\u001b[1;33m)\u001b[0m\u001b[1;33m\u001b[0m\u001b[1;33m\u001b[0m\u001b[0m\n\u001b[0m\u001b[0;32m     18\u001b[0m     \u001b[1;32mif\u001b[0m \u001b[1;32mnot\u001b[0m \u001b[0mdata\u001b[0m\u001b[1;33m:\u001b[0m\u001b[1;33m\u001b[0m\u001b[1;33m\u001b[0m\u001b[0m\n\u001b[0;32m     19\u001b[0m         \u001b[0mprint\u001b[0m\u001b[1;33m(\u001b[0m\u001b[1;34m\"没有数据，终止服务\"\u001b[0m\u001b[1;33m)\u001b[0m\u001b[1;33m\u001b[0m\u001b[1;33m\u001b[0m\u001b[0m\n",
      "\u001b[1;31mConnectionAbortedError\u001b[0m: [WinError 10053] 你的主机中的软件中止了一个已建立的连接。"
     ]
    }
   ],
   "source": [
    "# TCP 时间戳客户端\n",
    "from socket import *\n",
    "\n",
    "HOST = 'localhost'\n",
    "PORT = 21567\n",
    "BUFSIZ = 1024\n",
    "ADDR = (HOST,PORT)\n",
    "\n",
    "tcpCliSock = socket(AF_INET,SOCK_STREAM)\n",
    "tcpCliSock.connect(ADDR)\n",
    "\n",
    "while True:\n",
    "    data = input('> ')\n",
    "    if not data:\n",
    "        break\n",
    "    tcpCliSock.send(data.encode())\n",
    "    data = tcpCliSock.recv(BUFSIZ)\n",
    "    if not data:\n",
    "        print(\"没有数据，终止服务\")\n",
    "        break\n",
    "\n",
    "    print(data)\n",
    "    print(type(data))\n",
    "# tcpCliSock.close()\n",
    "\n"
   ]
  },
  {
   "cell_type": "code",
   "execution_count": 2,
   "metadata": {},
   "outputs": [
    {
     "name": "stdout",
     "output_type": "stream",
     "text": [
      "> 123\n",
      "[Mon May  9 16:20:12 2022]:123\n",
      "> 456\n",
      "[Mon May  9 16:20:14 2022]:456\n",
      "> 123\n",
      "[Mon May  9 16:20:15 2022]:123\n",
      "> 123\n",
      "[Mon May  9 16:20:16 2022]:123\n",
      "> 123\n",
      "[Mon May  9 16:20:16 2022]:123\n",
      "> 123\n",
      "[Mon May  9 16:20:17 2022]:123\n",
      "> 4124123\n",
      "[Mon May  9 16:20:18 2022]:4124123\n",
      "> 213\n",
      "[Mon May  9 16:20:19 2022]:213\n",
      "> 213\n",
      "[Mon May  9 16:20:20 2022]:213\n",
      "> \n"
     ]
    }
   ],
   "source": [
    "# UDP时间戳客户端\n",
    "from socket import *\n",
    "\n",
    "HOST = 'localhost'\n",
    "PORT = 21567\n",
    "BUFSIZ = 1024\n",
    "ADDR = (HOST,PORT)\n",
    "udpCliSock = socket(AF_INET,SOCK_DGRAM)\n",
    "try:\n",
    "    while True:\n",
    "        data = input('> ')\n",
    "        if not data:\n",
    "            break\n",
    "        udpCliSock.sendto(data.encode(),ADDR)\n",
    "        data,ADDR = udpCliSock.recvfrom(BUFSIZ)\n",
    "        if not data:\n",
    "            print(\"没有数据，终止服务\")\n",
    "            break\n",
    "        print(data.decode('utf-8'))\n",
    "except:\n",
    "        udpCliSock.close()\n",
    "    "
   ]
  },
  {
   "cell_type": "code",
   "execution_count": 16,
   "metadata": {},
   "outputs": [
    {
     "name": "stdout",
     "output_type": "stream",
     "text": [
      "> ad\n",
      "ad\n",
      "> h\n",
      "h\n",
      "> njimko\n",
      "njimko\n",
      "> \n"
     ]
    }
   ],
   "source": [
    "# SocketServer 时间戳 TCP 客户端\n",
    "from socket import *\n",
    "HOST = 'localhost'\n",
    "PORT = 21567\n",
    "BUFSIZ = 1024\n",
    "ADDR = (HOST,PORT)\n",
    "\n",
    "while True:\n",
    "    tcpCliSock = socket(AF_INET,SOCK_STREAM)\n",
    "    tcpCliSock.connect(ADDR)\n",
    "    data = input('> ').encode()\n",
    "    if not data:\n",
    "        break\n",
    "    print(data.strip().decode())\n",
    "#     print(\"---\",data.decode())\n",
    "    tcpCliSock.close()"
   ]
  },
  {
   "cell_type": "code",
   "execution_count": null,
   "metadata": {},
   "outputs": [],
   "source": [
    "\n",
    "from socket import *\n",
    "\n",
    "HOST = 'localhost'\n",
    "PORT = 21567\n",
    "BUFSIZ = 1024\n",
    "ADDR = (HOST,PORT)\n",
    "\n",
    "tcpCliSock = socket(AF_INET,SOCK_STREAM)\n",
    "tcpCliSock.connect(ADDR)\n",
    "\n",
    "while True:\n",
    "    data = input('> ')\n",
    "    if not data:\n",
    "        break\n",
    "    tcpCliSock.send(data.encode())\n",
    "    data = tcpCliSock.recv(BUFSIZ)\n",
    "    if not data:\n",
    "        print(\"没有数据，终止服务\")\n",
    "        break\n",
    "\n",
    "    print(data)\n",
    "    print(type(data))\n",
    "# tcpCliSock.close()\n",
    "\n"
   ]
  }
 ],
 "metadata": {
  "kernelspec": {
   "display_name": "Python 3",
   "language": "python",
   "name": "python3"
  },
  "language_info": {
   "codemirror_mode": {
    "name": "ipython",
    "version": 3
   },
   "file_extension": ".py",
   "mimetype": "text/x-python",
   "name": "python",
   "nbconvert_exporter": "python",
   "pygments_lexer": "ipython3",
   "version": "3.8.5"
  }
 },
 "nbformat": 4,
 "nbformat_minor": 4
}
