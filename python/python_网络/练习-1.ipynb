{
 "cells": [
  {
   "cell_type": "code",
   "execution_count": 2,
   "metadata": {},
   "outputs": [
    {
     "name": "stdout",
     "output_type": "stream",
     "text": [
      "waiting for connection...\n",
      "...connected from: ('127.0.0.1', 14354)\n",
      "waiting for connection...\n",
      "...connected from: ('127.0.0.1', 14362)\n"
     ]
    },
    {
     "ename": "OSError",
     "evalue": "[WinError 10038] 在一个非套接字上尝试了一个操作。",
     "output_type": "error",
     "traceback": [
      "\u001b[1;31m---------------------------------------------------------------------------\u001b[0m",
      "\u001b[1;31mOSError\u001b[0m                                   Traceback (most recent call last)",
      "\u001b[1;32m<ipython-input-2-41c6492f291c>\u001b[0m in \u001b[0;36m<module>\u001b[1;34m\u001b[0m\n\u001b[0;32m     18\u001b[0m \u001b[1;33m\u001b[0m\u001b[0m\n\u001b[0;32m     19\u001b[0m     \u001b[1;32mwhile\u001b[0m \u001b[1;32mTrue\u001b[0m\u001b[1;33m:\u001b[0m\u001b[1;33m\u001b[0m\u001b[1;33m\u001b[0m\u001b[0m\n\u001b[1;32m---> 20\u001b[1;33m         \u001b[0mdata\u001b[0m \u001b[1;33m=\u001b[0m \u001b[0mtcpCliSock\u001b[0m\u001b[1;33m.\u001b[0m\u001b[0mrecv\u001b[0m\u001b[1;33m(\u001b[0m\u001b[0mBUFSIZ\u001b[0m\u001b[1;33m)\u001b[0m\u001b[1;33m\u001b[0m\u001b[1;33m\u001b[0m\u001b[0m\n\u001b[0m\u001b[0;32m     21\u001b[0m         \u001b[1;32mif\u001b[0m \u001b[1;32mnot\u001b[0m \u001b[0mdata\u001b[0m\u001b[1;33m:\u001b[0m\u001b[1;33m\u001b[0m\u001b[1;33m\u001b[0m\u001b[0m\n\u001b[0;32m     22\u001b[0m             \u001b[1;32mbreak\u001b[0m\u001b[1;33m\u001b[0m\u001b[1;33m\u001b[0m\u001b[0m\n",
      "\u001b[1;31mOSError\u001b[0m: [WinError 10038] 在一个非套接字上尝试了一个操作。"
     ]
    }
   ],
   "source": [
    "from socket import *\n",
    "from time import ctime\n",
    "\n",
    "HOST = ''\n",
    "PORT = 21562\n",
    "BUFSIZ = 1024\n",
    "\n",
    "ADDR = (HOST,PORT)\n",
    "\n",
    "tcpSerSock = socket(AF_INET,SOCK_STREAM)\n",
    "tcpSerSock.bind(ADDR)\n",
    "tcpSerSock.listen(5)\n",
    "\n",
    "while True:\n",
    "    print('waiting for connection...')\n",
    "    tcpCliSock, addr = tcpSerSock.accept()\n",
    "    print('...connected from:',addr)\n",
    "    \n",
    "    while True:\n",
    "        data = tcpCliSock.recv(BUFSIZ)\n",
    "        if not data:\n",
    "            break\n",
    "        a='[{}]:{}'.format(ctime(),data.decode()).encode()\n",
    "        tcpCliSock.send(a)\n",
    "        \n",
    "        tcpCliSock.close()\n",
    "tcpCliSock.close()"
   ]
  }
 ],
 "metadata": {
  "kernelspec": {
   "display_name": "Python 3",
   "language": "python",
   "name": "python3"
  },
  "language_info": {
   "codemirror_mode": {
    "name": "ipython",
    "version": 3
   },
   "file_extension": ".py",
   "mimetype": "text/x-python",
   "name": "python",
   "nbconvert_exporter": "python",
   "pygments_lexer": "ipython3",
   "version": "3.8.5"
  }
 },
 "nbformat": 4,
 "nbformat_minor": 4
}
