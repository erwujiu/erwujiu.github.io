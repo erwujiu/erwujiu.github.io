{
 "cells": [
  {
   "cell_type": "code",
   "execution_count": 3,
   "metadata": {},
   "outputs": [
    {
     "name": "stdout",
     "output_type": "stream",
     "text": [
      "starting at: Tue May 10 09:12:09 2022\n",
      "strat loop 0 at: Tue May 10 09:12:09 2022\n",
      "loop 0 done at: Tue May 10 09:12:14 2022\n",
      "strat loop 1 at: Tue May 10 09:12:14 2022\n",
      "loop 1 done at: Tue May 10 09:12:16 2022\n",
      "all DONE at: Tue May 10 09:12:16 2022\n"
     ]
    }
   ],
   "source": [
    "from time import sleep,ctime\n",
    "def loop0():\n",
    "    print(\"strat loop 0 at:\",ctime())\n",
    "    sleep(4)\n",
    "    print('loop 0 done at:',ctime())\n",
    "    \n",
    "def loop1():\n",
    "    print(\"strat loop 1 at:\",ctime())\n",
    "    sleep(2)\n",
    "    print('loop 1 done at:', ctime())   \n",
    "\n",
    "def main():\n",
    "    print ('starting at:',ctime())\n",
    "    loop0()\n",
    "    loop1()\n",
    "    print('all DONE at:',ctime())\n",
    "\n",
    "if __name__=='__main__':\n",
    "    main()\n",
    "              "
   ]
  },
  {
   "cell_type": "code",
   "execution_count": 5,
   "metadata": {
    "collapsed": true
   },
   "outputs": [
    {
     "name": "stdout",
     "output_type": "stream",
     "text": [
      "starting at: Tue May 10 09:23:25 2022\n",
      "strat loop 0 at:strat loop 1 at: Tue May 10 09:23:25 2022\n",
      " Tue May 10 09:23:25 2022\n",
      "loop 1 done at: Tue May 10 09:23:27 2022\n",
      "loop 0 done at: Tue May 10 09:23:29 2022\n",
      "all DONE at: Tue May 10 09:23:31 2022\n"
     ]
    },
    {
     "data": {
      "text/plain": [
       "'\\n这个应用程序中剩下的一个主要区别是增加了一个 sleep(6)调用。为什么必须要这样做\\n呢？这是因为如果我们没有阻止主线程继续执行，它将会继续执行下一条语句，显示“all \\ndone”然后退出，而 loop0()和 loop1()这两个线程将直接终止。\\n我们没有写让主线程等待子线程全部完成后再继续的代码，即我们所说的线程需要某种\\n形式的同步。在这个例子中，调用 sleep()来作为同步机制。将其值设定为 6 秒是因为我们知\\n道所有线程（用时 4 秒和 2 秒的）会在主线程计时到 6 秒之前完成。\\n你可能会想到，肯定会有比在主线程中额外延时 6 秒更好的线程管理方式。由于这个延\\n时，整个程序的运行时间并没有比单线程的版本更快。像这样使用 sleep()来进行线程同步是\\n不可靠的。如果循环有独立且不同的执行时间要怎么办呢？我们可能会过早或过晚退出主线\\n程。这就是引出锁的原因。\\n'"
      ]
     },
     "execution_count": 5,
     "metadata": {},
     "output_type": "execute_result"
    }
   ],
   "source": [
    "import _thread\n",
    "from time import sleep,ctime\n",
    "def loop0():\n",
    "    print(\"strat loop 0 at:\",ctime())\n",
    "    sleep(4)\n",
    "    print('loop 0 done at:',ctime())\n",
    "    \n",
    "def loop1():\n",
    "    print(\"strat loop 1 at:\",ctime())\n",
    "    sleep(2)\n",
    "    print('loop 1 done at:', ctime())   \n",
    "\n",
    "def main():\n",
    "    print ('starting at:',ctime())\n",
    "    _thread.start_new_thread(loop0,())\n",
    "    _thread.start_new_thread(loop1,())\n",
    "    sleep(6)\n",
    "    print('all DONE at:',ctime())\n",
    "\n",
    "if __name__=='__main__':\n",
    "    main()\n",
    "\n",
    "# 这个应用程序中剩下的一个主要区别是增加了一个 sleep(6)调用。为什么必须要这样做\n",
    "# 呢？这是因为如果我们没有阻止主线程继续执行，它将会继续执行下一条语句，显示“all \n",
    "# done”然后退出，而 loop0()和 loop1()这两个线程将直接终止。\n",
    "# 我们没有写让主线程等待子线程全部完成后再继续的代码，即我们所说的线程需要某种\n",
    "# 形式的同步。在这个例子中，调用 sleep()来作为同步机制。将其值设定为 6 秒是因为我们知\n",
    "# 道所有线程（用时 4 秒和 2 秒的）会在主线程计时到 6 秒之前完成。\n",
    "# 你可能会想到，肯定会有比在主线程中额外延时 6 秒更好的线程管理方式。由于这个延\n",
    "# 时，整个程序的运行时间并没有比单线程的版本更快。像这样使用 sleep()来进行线程同步是\n",
    "# 不可靠的。如果循环有独立且不同的执行时间要怎么办呢？我们可能会过早或过晚退出主线\n",
    "# 程。这就是引出锁的原因。\n",
    "\n",
    "\n",
    "          "
   ]
  },
  {
   "cell_type": "code",
   "execution_count": 1,
   "metadata": {},
   "outputs": [
    {
     "name": "stdout",
     "output_type": "stream",
     "text": [
      "starting at: Tue May 10 09:41:48 2022\n",
      "strat loop 1 at: Tue May 10 09:41:48 2022\n",
      "strat loop 0 at: Tue May 10 09:41:48 2022\n",
      "loop 1 done at: Tue May 10 09:41:50 2022\n",
      "loop 0 done at: Tue May 10 09:41:52 2022\n",
      "all DONE at: Tue May 10 09:41:52 2022\n"
     ]
    }
   ],
   "source": [
    "import _thread\n",
    "from time import sleep,ctime\n",
    "loops=[4,2]\n",
    "\n",
    "def loop(nloop,nsec,lock):\n",
    "    print(\"strat loop\",nloop,'at:',ctime())\n",
    "    sleep(nsec)\n",
    "    print('loop',nloop,'done at:',ctime())\n",
    "    lock.release()\n",
    "\n",
    "def main():\n",
    "    print ('starting at:',ctime())\n",
    "    locks=[]\n",
    "    nloops = range(len(loops))\n",
    "    for i in nloops:\n",
    "        lock = _thread.allocate_lock()\n",
    "        lock.acquire()\n",
    "        locks.append(lock)\n",
    "    for i in nloops:\n",
    "        _thread.start_new_thread(loop,(i,loops[i],locks[i]))\n",
    "\n",
    "    for i in nloops:\n",
    "        while locks[i].locked():pass\n",
    "    print('all DONE at:',ctime())\n",
    "\n",
    "if __name__=='__main__':\n",
    "    main()"
   ]
  },
  {
   "cell_type": "code",
   "execution_count": 3,
   "metadata": {},
   "outputs": [
    {
     "name": "stdout",
     "output_type": "stream",
     "text": [
      "starting at: Tue May 10 09:55:46 2022\n",
      "strat loop 0 at: Tue May 10 09:55:46 2022\n",
      "strat loop 1 at: Tue May 10 09:55:46 2022\n",
      "loop 1 done at: Tue May 10 09:55:48 2022\n",
      "loop 0 done at: Tue May 10 09:55:50 2022\n",
      "all DONE at: Tue May 10 09:55:50 2022\n"
     ]
    }
   ],
   "source": [
    "import threading\n",
    "from time import sleep,ctime\n",
    "\n",
    "loops=[4,2]\n",
    "\n",
    "def loop(nloop,nsec):\n",
    "    print(\"strat loop\",nloop,'at:',ctime())\n",
    "    sleep(nsec)\n",
    "    print('loop',nloop,'done at:',ctime())\n",
    "\n",
    "def main():\n",
    "    print ('starting at:',ctime())\n",
    "    threads=[]\n",
    "    nloops = range(len(loops))\n",
    "    \n",
    "    for i in nloops:\n",
    "        t = threading.Thread(target=loop,args=(i,loops[i]))\n",
    "        threads.append(t)\n",
    "    for i in nloops:              #start threads\n",
    "        threads[i].start()\n",
    "\n",
    "    for i in nloops: \n",
    "        threads[i].join()\n",
    "    print('all DONE at:',ctime())\n",
    "\n",
    "if __name__=='__main__':\n",
    "    main()"
   ]
  },
  {
   "cell_type": "code",
   "execution_count": 6,
   "metadata": {},
   "outputs": [
    {
     "name": "stdout",
     "output_type": "stream",
     "text": [
      "starting at: Tue May 10 10:04:34 2022\n"
     ]
    },
    {
     "ename": "AssertionError",
     "evalue": "group argument must be None for now",
     "output_type": "error",
     "traceback": [
      "\u001b[1;31m---------------------------------------------------------------------------\u001b[0m",
      "\u001b[1;31mAssertionError\u001b[0m                            Traceback (most recent call last)",
      "\u001b[1;32m<ipython-input-6-b1e106cadc38>\u001b[0m in \u001b[0;36m<module>\u001b[1;34m\u001b[0m\n\u001b[0;32m     35\u001b[0m \u001b[1;33m\u001b[0m\u001b[0m\n\u001b[0;32m     36\u001b[0m \u001b[1;32mif\u001b[0m \u001b[0m__name__\u001b[0m\u001b[1;33m==\u001b[0m\u001b[1;34m'__main__'\u001b[0m\u001b[1;33m:\u001b[0m\u001b[1;33m\u001b[0m\u001b[1;33m\u001b[0m\u001b[0m\n\u001b[1;32m---> 37\u001b[1;33m     \u001b[0mmain\u001b[0m\u001b[1;33m(\u001b[0m\u001b[1;33m)\u001b[0m\u001b[1;33m\u001b[0m\u001b[1;33m\u001b[0m\u001b[0m\n\u001b[0m",
      "\u001b[1;32m<ipython-input-6-b1e106cadc38>\u001b[0m in \u001b[0;36mmain\u001b[1;34m()\u001b[0m\n\u001b[0;32m     25\u001b[0m \u001b[1;33m\u001b[0m\u001b[0m\n\u001b[0;32m     26\u001b[0m     \u001b[1;32mfor\u001b[0m \u001b[0mi\u001b[0m \u001b[1;32min\u001b[0m \u001b[0mnloops\u001b[0m\u001b[1;33m:\u001b[0m        \u001b[1;31m#create all threads\u001b[0m\u001b[1;33m\u001b[0m\u001b[1;33m\u001b[0m\u001b[0m\n\u001b[1;32m---> 27\u001b[1;33m         \u001b[0mt\u001b[0m \u001b[1;33m=\u001b[0m \u001b[0mthreading\u001b[0m\u001b[1;33m.\u001b[0m\u001b[0mThread\u001b[0m\u001b[1;33m(\u001b[0m\u001b[0mthreading\u001b[0m\u001b[1;33m.\u001b[0m\u001b[0mThread\u001b[0m\u001b[1;33m(\u001b[0m\u001b[0mtarget\u001b[0m\u001b[1;33m=\u001b[0m\u001b[0mThreadFunc\u001b[0m\u001b[1;33m(\u001b[0m\u001b[0mloop\u001b[0m\u001b[1;33m,\u001b[0m\u001b[1;33m(\u001b[0m\u001b[0mi\u001b[0m\u001b[1;33m,\u001b[0m\u001b[0mloops\u001b[0m\u001b[1;33m[\u001b[0m\u001b[0mi\u001b[0m\u001b[1;33m]\u001b[0m\u001b[1;33m)\u001b[0m\u001b[1;33m,\u001b[0m\u001b[0mloop\u001b[0m\u001b[1;33m.\u001b[0m\u001b[0m__name__\u001b[0m\u001b[1;33m)\u001b[0m\u001b[1;33m)\u001b[0m\u001b[1;33m)\u001b[0m\u001b[1;33m\u001b[0m\u001b[1;33m\u001b[0m\u001b[0m\n\u001b[0m\u001b[0;32m     28\u001b[0m         \u001b[0mthreads\u001b[0m\u001b[1;33m.\u001b[0m\u001b[0mappend\u001b[0m\u001b[1;33m(\u001b[0m\u001b[0mt\u001b[0m\u001b[1;33m)\u001b[0m\u001b[1;33m\u001b[0m\u001b[1;33m\u001b[0m\u001b[0m\n\u001b[0;32m     29\u001b[0m     \u001b[1;32mfor\u001b[0m \u001b[0mi\u001b[0m \u001b[1;32min\u001b[0m \u001b[0mnloops\u001b[0m\u001b[1;33m:\u001b[0m              \u001b[1;31m#start threads\u001b[0m\u001b[1;33m\u001b[0m\u001b[1;33m\u001b[0m\u001b[0m\n",
      "\u001b[1;32m~\\anaconda3\\lib\\threading.py\u001b[0m in \u001b[0;36m__init__\u001b[1;34m(self, group, target, name, args, kwargs, daemon)\u001b[0m\n\u001b[0;32m    782\u001b[0m \u001b[1;33m\u001b[0m\u001b[0m\n\u001b[0;32m    783\u001b[0m         \"\"\"\n\u001b[1;32m--> 784\u001b[1;33m         \u001b[1;32massert\u001b[0m \u001b[0mgroup\u001b[0m \u001b[1;32mis\u001b[0m \u001b[1;32mNone\u001b[0m\u001b[1;33m,\u001b[0m \u001b[1;34m\"group argument must be None for now\"\u001b[0m\u001b[1;33m\u001b[0m\u001b[1;33m\u001b[0m\u001b[0m\n\u001b[0m\u001b[0;32m    785\u001b[0m         \u001b[1;32mif\u001b[0m \u001b[0mkwargs\u001b[0m \u001b[1;32mis\u001b[0m \u001b[1;32mNone\u001b[0m\u001b[1;33m:\u001b[0m\u001b[1;33m\u001b[0m\u001b[1;33m\u001b[0m\u001b[0m\n\u001b[0;32m    786\u001b[0m             \u001b[0mkwargs\u001b[0m \u001b[1;33m=\u001b[0m \u001b[1;33m{\u001b[0m\u001b[1;33m}\u001b[0m\u001b[1;33m\u001b[0m\u001b[1;33m\u001b[0m\u001b[0m\n",
      "\u001b[1;31mAssertionError\u001b[0m: group argument must be None for now"
     ]
    }
   ],
   "source": [
    "import threading\n",
    "from time import sleep,ctime\n",
    "\n",
    "loops=[4,2]\n",
    "\n",
    "class ThreadFunc(object):\n",
    "    def __init__(self,func,args,name=''):\n",
    "        self.name=name\n",
    "        self.func=func\n",
    "        self.args=args\n",
    "    def __call__(self):\n",
    "        self.func(*self.args)\n",
    "\n",
    "\n",
    "\n",
    "def loop(nloop,nsec):\n",
    "    print(\"strat loop\",nloop,'at:',ctime())\n",
    "    sleep(nsec)\n",
    "    print('loop',nloop,'done at:',ctime())\n",
    "\n",
    "def main():\n",
    "    print ('starting at:',ctime())\n",
    "    threads=[]\n",
    "    nloops = range(len(loops))\n",
    "    \n",
    "    for i in nloops:        #create all threads\n",
    "        t = threading.Thread(threading.Thread(target=ThreadFunc(loop,(i,loops[i]),loop.__name__)))\n",
    "        threads.append(t)\n",
    "    for i in nloops:              #start threads\n",
    "        threads[i].start()\n",
    "\n",
    "    for i in nloops: \n",
    "        threads[i].join()\n",
    "    print('all DONE at:',ctime())\n",
    "\n",
    "if __name__=='__main__':\n",
    "    main()"
   ]
  }
 ],
 "metadata": {
  "kernelspec": {
   "display_name": "Python 3",
   "language": "python",
   "name": "python3"
  },
  "language_info": {
   "codemirror_mode": {
    "name": "ipython",
    "version": 3
   },
   "file_extension": ".py",
   "mimetype": "text/x-python",
   "name": "python",
   "nbconvert_exporter": "python",
   "pygments_lexer": "ipython3",
   "version": "3.8.5"
  }
 },
 "nbformat": 4,
 "nbformat_minor": 4
}
