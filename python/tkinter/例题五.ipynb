{
 "cells": [
  {
   "cell_type": "code",
   "execution_count": 12,
   "metadata": {},
   "outputs": [],
   "source": [
    "# 为列表组件添加滚动条\n",
    "from tkinter import *\n",
    "root = Tk()\n",
    "root.title(\"滚动条\")\n",
    "sb = Scrollbar(root)\n",
    "sb.pack(side=RIGHT,fill=Y) #让滚动条为右边，并且随屏幕大小变动\n",
    "lb = Listbox(root, yscrollcommand=sb.set) \n",
    "#yscrollcommand=sb.set 这个去除，滚动条会复原\n",
    "for i in range(1000):\n",
    "    lb.insert(END,i)\n",
    "lb.pack(side=LEFT,fill=BOTH)\n",
    "sb.config(command=lb.yview)#让滚动条与选项互通互连\n",
    "mainloop()"
   ]
  },
  {
   "cell_type": "code",
   "execution_count": 33,
   "metadata": {},
   "outputs": [],
   "source": [
    "# 滑动滚动条Scale\n",
    "from tkinter import *\n",
    "root = Tk()\n",
    "root.title(\"滑动滚动条\")\n",
    "s1 = Scale(root,from_=2,to=300,tickinterval=5,length=200)\n",
    "#默认是垂直, tickinterval精度刻度, length单位是像素\n",
    "s1.pack()\n",
    "s2 = Scale(root, from_=0, to=100, tickinterval=20, orient=HORIZONTAL, length=200)\n",
    "s2.pack()\n",
    "def show():\n",
    "    print(s1.get(),s2.get())\n",
    "Button(root,text='音量',command=show).pack()\n",
    "mainloop()"
   ]
  },
  {
   "cell_type": "code",
   "execution_count": 4,
   "metadata": {},
   "outputs": [
    {
     "name": "stdout",
     "output_type": "stream",
     "text": [
      "提交中。。。\n"
     ]
    }
   ],
   "source": [
    "# 文本组件 Text  （插入按钮）\n",
    "from tkinter import *\n",
    "root =Tk()\n",
    "root.title('text')\n",
    "\n",
    "text =Text(root,width=30,height=20)\n",
    "text.pack()\n",
    "text.insert(INSERT, '这里是显示的文本信息内容。\\n')  #INSERT表示输入光标插入的位置\n",
    "text.insert(END, '对比一下效果。')\n",
    "def show():\n",
    "    print(\"提交中。。。\")\n",
    "b1 = Button(text,text=\"提交\",command=show)\n",
    "text.window_create(INSERT,window=b1)\n",
    "mainloop()"
   ]
  },
  {
   "cell_type": "code",
   "execution_count": 4,
   "metadata": {},
   "outputs": [],
   "source": [
    "# 文本组件 Text  （插入图片）\n",
    "from tkinter import *\n",
    "root = Tk()\n",
    "root.title(\"text\")\n",
    "text= Text(root,height=15,width=50)\n",
    "text.pack()\n",
    "photo = PhotoImage(file='pyimage2.gif')\n",
    "def show_img():\n",
    "    text.image_create(END,image=photo)\n",
    "b1 =Button(text,text=\"插入图片\",command=show_img)\n",
    "text.window_create(INSERT,window=b1)\n",
    "mainloop()"
   ]
  },
  {
   "cell_type": "code",
   "execution_count": 3,
   "metadata": {},
   "outputs": [],
   "source": [
    "上面的图片名字如果是数字1会报错"
   ]
  },
  {
   "cell_type": "code",
   "execution_count": 3,
   "metadata": {},
   "outputs": [],
   "source": [
    "# 文本组件 Text  （Indexes：索引定位）\n",
    "from tkinter import *\n",
    "root = Tk()\n",
    "root.title(\"text\")\n",
    "text = Text(root,width=30,height=10)\n",
    "text.pack()\n",
    "text.insert(INSERT,'I love baidu.com!')\n",
    "text.tag_add('tag1', '1.7', '1.12', '1.14',)\n",
    "text.tag_add('tag2', '1.7', '1.12', '1.14')\n",
    "text.tag_config('tag1', background='blue', foreground='yellow')\n",
    "text.tag_config('tag2', foreground='red')  #文字会以red为准\n",
    "mainloop()"
   ]
  },
  {
   "cell_type": "code",
   "execution_count": 10,
   "metadata": {},
   "outputs": [],
   "source": [
    "# 文本组件中可点击连接\n",
    "from tkinter import *\n",
    "import webbrowser as wb\n",
    "root = Tk()\n",
    "root.title(\"GUI link show\")\n",
    "text = Text(root,width=30,height=2)\n",
    "text.pack()\n",
    "text.insert(INSERT,'I love baidu.com!')\n",
    "text.tag_add('link','1.7','1.16')\n",
    "text.tag_config(\"link\",foreground='blue',underline=True)\n",
    "def show_arrow_cursor(event):\n",
    "    text.config(cursor='arrow')\n",
    "def show_xterm_cursor(event):\n",
    "\n",
    "    text.config(cursor='xterm')\n",
    "\n",
    " \n",
    "\n",
    "def click(event):\n",
    "\n",
    "    wb.open('http://www.baidu.com')\n",
    "\n",
    " \n",
    "\n",
    "#绑定事件\n",
    "\n",
    "text.tag_bind('link', '<Enter>', show_arrow_cursor)  #<Enter>鼠标进入\n",
    "\n",
    "text.tag_bind('link', '<Leave>', show_xterm_cursor)  #<Enter>鼠标离开\n",
    "\n",
    "text.tag_bind('link', '<Button-1>', click)  #<Enter>鼠标点击\n",
    "\n",
    " \n",
    "\n",
    "mainloop()\n"
   ]
  },
  {
   "cell_type": "code",
   "execution_count": 11,
   "metadata": {},
   "outputs": [
    {
     "data": {
      "text/plain": [
       "True"
      ]
     },
     "execution_count": 11,
     "metadata": {},
     "output_type": "execute_result"
    }
   ],
   "source": []
  }
 ],
 "metadata": {
  "kernelspec": {
   "display_name": "Python 3",
   "language": "python",
   "name": "python3"
  },
  "language_info": {
   "codemirror_mode": {
    "name": "ipython",
    "version": 3
   },
   "file_extension": ".py",
   "mimetype": "text/x-python",
   "name": "python",
   "nbconvert_exporter": "python",
   "pygments_lexer": "ipython3",
   "version": "3.8.5"
  }
 },
 "nbformat": 4,
 "nbformat_minor": 4
}
