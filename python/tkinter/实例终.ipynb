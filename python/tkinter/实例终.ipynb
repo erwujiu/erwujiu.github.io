{
 "cells": [
  {
   "cell_type": "code",
   "execution_count": null,
   "metadata": {},
   "outputs": [],
   "source": [
    "鼠标点击事件"
   ]
  },
  {
   "cell_type": "code",
   "execution_count": null,
   "metadata": {},
   "outputs": [],
   "source": [
    "import tkinter\n",
    "win = tkinter.Tk()\n",
    "win.title(\"title\")\n",
    "win.geometry(\"400x400+200+50\")\n",
    "def func(event):\n",
    "     print(event.x, event.y)\n",
    "# <Button-1>  鼠标左键\n",
    "# <Button-2>  鼠标滚轮\n",
    "# <Button-1>  鼠标右键\n",
    "# <Double-Button-1>  鼠标双击左键\n",
    "# <Triple-Button-1>  鼠标三击左键\n",
    "button1 = tkinter.Button(win, text=\"leftmouse button\")\n",
    "# bind 给控件绑定数据（参数一是绑定的事件，参数二是触发事件的函数）\n",
    "button1.bind(\"<Button-1>\", func)\n",
    "button1.pack()\n",
    "win.mainloop()\n"
   ]
  },
  {
   "cell_type": "code",
   "execution_count": null,
   "metadata": {},
   "outputs": [],
   "source": [
    "鼠标移动事件"
   ]
  },
  {
   "cell_type": "code",
   "execution_count": null,
   "metadata": {},
   "outputs": [],
   "source": [
    "import tkinter\n",
    "win = tkinter.Tk()\n",
    "win.title(\"title\")\n",
    "win.geometry(\"400x400+200+50\")\n",
    "# <B1-Motion>  左键移动\n",
    "# <B2-Motion>  中键移动\n",
    "# <B3-Motion>  右键移动\n",
    "label = tkinter.Label(win, text=\"Label\")\n",
    "label.pack()\n",
    "def func(event):\n",
    "     print(event.x, event.y)\n",
    "label.bind(\"<B1-Motion>\", func)\n",
    "win.mainloop()\n"
   ]
  },
  {
   "cell_type": "code",
   "execution_count": null,
   "metadata": {},
   "outputs": [],
   "source": [
    "鼠标释放事件"
   ]
  },
  {
   "cell_type": "code",
   "execution_count": null,
   "metadata": {},
   "outputs": [],
   "source": [
    "import tkinter\n",
    "win = tkinter.Tk()\n",
    "win.title(\"title\")\n",
    "win.geometry(\"400x400+200+50\")\n",
    "# <ButtonRelease-1> 释放鼠标左键\n",
    "# <ButtonRelease-2> 释放鼠标中键\n",
    "# <ButtonRelease-3> 释放鼠标右键\n",
    "label = tkinter.Label(win, text=\"*********\", bg=\"red\")\n",
    "label.pack()\n",
    "def func(event):\n",
    "    print(event.x, event.y)\n",
    "label.bind(\"<ButtonRelease-1>\", func)\n",
    "win.mainloop()\n"
   ]
  },
  {
   "cell_type": "code",
   "execution_count": null,
   "metadata": {},
   "outputs": [],
   "source": [
    "进入和离开事件"
   ]
  },
  {
   "cell_type": "code",
   "execution_count": null,
   "metadata": {},
   "outputs": [],
   "source": [
    "import tkinter\n",
    "win = tkinter.Tk()\n",
    "win.title(\"title\")\n",
    "win.geometry(\"400x400+200+50\")\n",
    "# <Enter>  当鼠标进入控件时触发事件\n",
    "# <Leave>  当鼠标离开控件时触发事件\n",
    "label = tkinter.Label(win, text=\"label\", bg=\"red\")\n",
    "label.pack()\n",
    "def func(event):\n",
    "    print(event.x, event.y)\n",
    "label.bind(\"<Enter>\", func)\n",
    "label.bind(\"<Leave>\", func)\n",
    "win.mainloop()\n"
   ]
  },
  {
   "cell_type": "code",
   "execution_count": null,
   "metadata": {},
   "outputs": [],
   "source": [
    "响应所有按键的事件"
   ]
  },
  {
   "cell_type": "code",
   "execution_count": null,
   "metadata": {},
   "outputs": [],
   "source": [
    "import tkinter\n",
    "win = tkinter.Tk()\n",
    "win.title(\"label\")\n",
    "win.geometry(\"400x400+200+50\")\n",
    "# <Key>  响应所有的按键（要有焦点）\n",
    "label = tkinter.Label(win, text=\"label\", bg=\"red\")\n",
    "# 设置焦点\n",
    "label.focus_set()\n",
    "label.pack()\n",
    "def func(event):\n",
    "     print(\"event.char=\", event.char)\n",
    "     print(\"event.keycode=\", event.keycode)\n",
    "label.bind(\"<Key>\", func)\n",
    "win.mainloop()\n"
   ]
  },
  {
   "cell_type": "code",
   "execution_count": null,
   "metadata": {},
   "outputs": [],
   "source": [
    "响应特殊按键事件"
   ]
  },
  {
   "cell_type": "code",
   "execution_count": null,
   "metadata": {},
   "outputs": [],
   "source": [
    "import tkinter\n",
    "win = tkinter.Tk()\n",
    "win.title(\"title\")\n",
    "win.geometry(\"400x400+200+50\")\n",
    "# <Shift_L>  只响应左侧的shift键\n",
    "# <Shift_R>\n",
    "# <F5>\n",
    "# <Return>  也就是回车键\n",
    "# <BackSpace>  返回,也就是退格键\n",
    "label = tkinter.Label(win, text=\"label\", bg=\"red\")\n",
    "# 设置焦点\n",
    "label.focus_set()\n",
    "label.pack()\n",
    "def func(event):\n",
    "     print(\"event.char=\", event.char)\n",
    "     print(\"event.keycode=\", event.keycode)\n",
    "label.bind(\"<Shift_L>\", func)\n",
    "win.mainloop()\n"
   ]
  },
  {
   "cell_type": "code",
   "execution_count": null,
   "metadata": {},
   "outputs": [],
   "source": [
    "指定按键事件"
   ]
  },
  {
   "cell_type": "code",
   "execution_count": null,
   "metadata": {},
   "outputs": [],
   "source": [
    "import tkinter\n",
    "win = tkinter.Tk()\n",
    "win.title(\"title\")\n",
    "win.geometry(\"400x400+200+50\")\n",
    "label = tkinter.Label(win, text=\"label\", bg=\"red\")\n",
    "# 设置焦点\n",
    "label.focus_set()\n",
    "label.pack()\n",
    "def func(event):\n",
    "     print(\"event.char=\", event.char)\n",
    "     print(\"event.keycode=\", event.keycode)\n",
    "win.bind(\"a\", func) # 注意前面改成了win，只需要写出按键名即可\n",
    "win.mainloop()\n"
   ]
  },
  {
   "cell_type": "code",
   "execution_count": null,
   "metadata": {},
   "outputs": [],
   "source": [
    "组合按键事件"
   ]
  },
  {
   "cell_type": "code",
   "execution_count": null,
   "metadata": {},
   "outputs": [],
   "source": [
    "import tkinter\n",
    "win = tkinter.Tk()\n",
    "win.title(\"title\")\n",
    "win.geometry(\"400x400+200+50\")\n",
    "# <Control-Alt-a>\n",
    "# <Shift-Up>\n",
    "# 只是control+alt不行\n",
    "label = tkinter.Label(win, text=\"label\", bg=\"red\")\n",
    "# 设置焦点\n",
    "label.focus_set()\n",
    "label.pack()\n",
    "def func(event):\n",
    "     print(\"event.char=\", event.char)\n",
    "     print(\"event.keycode=\", event.keycode)\n",
    "win.bind(\"<Control-Alt-a>\", func) # 注意前面改成了win，只需要写出按键名即可\n",
    "win.mainloop()\n"
   ]
  },
  {
   "cell_type": "code",
   "execution_count": null,
   "metadata": {},
   "outputs": [],
   "source": [
    "用canvas加载背景图片"
   ]
  },
  {
   "cell_type": "code",
   "execution_count": null,
   "metadata": {},
   "outputs": [],
   "source": [
    "from tkinter import *\n",
    "window = Tk()\n",
    "window.title(\"登录系统\")\n",
    "window.geometry('450x300')\n",
    "# 用画布加载图片\n",
    "canvas = Canvas(window, height=200, width=500)\n",
    "image_file = PhotoImage(file='background.png')\n",
    "image = canvas.create_image(0, 0, anchor='nw', image=image_file)\n",
    "canvas.pack(side='top')\n",
    "mainloop()\n"
   ]
  },
  {
   "cell_type": "code",
   "execution_count": null,
   "metadata": {},
   "outputs": [],
   "source": [
    "tkinter+opencv摄像头拍照功能"
   ]
  },
  {
   "cell_type": "code",
   "execution_count": 3,
   "metadata": {
    "collapsed": true
   },
   "outputs": [
    {
     "ename": "TclError",
     "evalue": "image \"pyimage1\" doesn't exist",
     "output_type": "error",
     "traceback": [
      "\u001b[1;31m---------------------------------------------------------------------------\u001b[0m",
      "\u001b[1;31mTclError\u001b[0m                                  Traceback (most recent call last)",
      "\u001b[1;32m<ipython-input-3-60ba4d9fe5e2>\u001b[0m in \u001b[0;36m<module>\u001b[1;34m\u001b[0m\n\u001b[0;32m     77\u001b[0m         \u001b[0mclosecamera\u001b[0m\u001b[1;33m(\u001b[0m\u001b[1;33m)\u001b[0m\u001b[1;33m\u001b[0m\u001b[1;33m\u001b[0m\u001b[0m\n\u001b[0;32m     78\u001b[0m \u001b[0mp\u001b[0m\u001b[1;33m=\u001b[0m\u001b[0mphoto_graph\u001b[0m\u001b[1;33m(\u001b[0m\u001b[1;33m)\u001b[0m\u001b[1;33m\u001b[0m\u001b[1;33m\u001b[0m\u001b[0m\n\u001b[1;32m---> 79\u001b[1;33m \u001b[0mp\u001b[0m\u001b[1;33m.\u001b[0m\u001b[0mcreate_win\u001b[0m\u001b[1;33m(\u001b[0m\u001b[1;33m)\u001b[0m\u001b[1;33m\u001b[0m\u001b[1;33m\u001b[0m\u001b[0m\n\u001b[0m",
      "\u001b[1;32m<ipython-input-3-60ba4d9fe5e2>\u001b[0m in \u001b[0;36mcreate_win\u001b[1;34m(self)\u001b[0m\n\u001b[0;32m     69\u001b[0m             \u001b[0mpicture\u001b[0m \u001b[1;33m=\u001b[0m \u001b[0mself\u001b[0m\u001b[1;33m.\u001b[0m\u001b[0mtkImage\u001b[0m\u001b[1;33m(\u001b[0m\u001b[1;33m)\u001b[0m\u001b[1;33m\u001b[0m\u001b[1;33m\u001b[0m\u001b[0m\n\u001b[0;32m     70\u001b[0m             \u001b[1;31m# 绘制图片，支持GIF\u001b[0m\u001b[1;33m\u001b[0m\u001b[1;33m\u001b[0m\u001b[1;33m\u001b[0m\u001b[0m\n\u001b[1;32m---> 71\u001b[1;33m             \u001b[0mself\u001b[0m\u001b[1;33m.\u001b[0m\u001b[0mcanvas\u001b[0m\u001b[1;33m.\u001b[0m\u001b[0mcreate_image\u001b[0m\u001b[1;33m(\u001b[0m\u001b[1;36m0\u001b[0m\u001b[1;33m,\u001b[0m \u001b[1;36m0\u001b[0m\u001b[1;33m,\u001b[0m \u001b[0manchor\u001b[0m\u001b[1;33m=\u001b[0m\u001b[1;34m'nw'\u001b[0m\u001b[1;33m,\u001b[0m \u001b[0mimage\u001b[0m\u001b[1;33m=\u001b[0m\u001b[0mpicture\u001b[0m\u001b[1;33m)\u001b[0m\u001b[1;33m\u001b[0m\u001b[1;33m\u001b[0m\u001b[0m\n\u001b[0m\u001b[0;32m     72\u001b[0m             \u001b[1;31m# 刷新tkinter任务\u001b[0m\u001b[1;33m\u001b[0m\u001b[1;33m\u001b[0m\u001b[1;33m\u001b[0m\u001b[0m\n\u001b[0;32m     73\u001b[0m             \u001b[0mself\u001b[0m\u001b[1;33m.\u001b[0m\u001b[0mtop\u001b[0m\u001b[1;33m.\u001b[0m\u001b[0mupdate\u001b[0m\u001b[1;33m(\u001b[0m\u001b[1;33m)\u001b[0m\u001b[1;33m\u001b[0m\u001b[1;33m\u001b[0m\u001b[0m\n",
      "\u001b[1;32m~\\anaconda3\\lib\\tkinter\\__init__.py\u001b[0m in \u001b[0;36mcreate_image\u001b[1;34m(self, *args, **kw)\u001b[0m\n\u001b[0;32m   2783\u001b[0m     \u001b[1;32mdef\u001b[0m \u001b[0mcreate_image\u001b[0m\u001b[1;33m(\u001b[0m\u001b[0mself\u001b[0m\u001b[1;33m,\u001b[0m \u001b[1;33m*\u001b[0m\u001b[0margs\u001b[0m\u001b[1;33m,\u001b[0m \u001b[1;33m**\u001b[0m\u001b[0mkw\u001b[0m\u001b[1;33m)\u001b[0m\u001b[1;33m:\u001b[0m\u001b[1;33m\u001b[0m\u001b[1;33m\u001b[0m\u001b[0m\n\u001b[0;32m   2784\u001b[0m         \u001b[1;34m\"\"\"Create image item with coordinates x1,y1.\"\"\"\u001b[0m\u001b[1;33m\u001b[0m\u001b[1;33m\u001b[0m\u001b[0m\n\u001b[1;32m-> 2785\u001b[1;33m         \u001b[1;32mreturn\u001b[0m \u001b[0mself\u001b[0m\u001b[1;33m.\u001b[0m\u001b[0m_create\u001b[0m\u001b[1;33m(\u001b[0m\u001b[1;34m'image'\u001b[0m\u001b[1;33m,\u001b[0m \u001b[0margs\u001b[0m\u001b[1;33m,\u001b[0m \u001b[0mkw\u001b[0m\u001b[1;33m)\u001b[0m\u001b[1;33m\u001b[0m\u001b[1;33m\u001b[0m\u001b[0m\n\u001b[0m\u001b[0;32m   2786\u001b[0m \u001b[1;33m\u001b[0m\u001b[0m\n\u001b[0;32m   2787\u001b[0m     \u001b[1;32mdef\u001b[0m \u001b[0mcreate_line\u001b[0m\u001b[1;33m(\u001b[0m\u001b[0mself\u001b[0m\u001b[1;33m,\u001b[0m \u001b[1;33m*\u001b[0m\u001b[0margs\u001b[0m\u001b[1;33m,\u001b[0m \u001b[1;33m**\u001b[0m\u001b[0mkw\u001b[0m\u001b[1;33m)\u001b[0m\u001b[1;33m:\u001b[0m\u001b[1;33m\u001b[0m\u001b[1;33m\u001b[0m\u001b[0m\n",
      "\u001b[1;32m~\\anaconda3\\lib\\tkinter\\__init__.py\u001b[0m in \u001b[0;36m_create\u001b[1;34m(self, itemType, args, kw)\u001b[0m\n\u001b[0;32m   2769\u001b[0m         \u001b[1;32melse\u001b[0m\u001b[1;33m:\u001b[0m\u001b[1;33m\u001b[0m\u001b[1;33m\u001b[0m\u001b[0m\n\u001b[0;32m   2770\u001b[0m             \u001b[0mcnf\u001b[0m \u001b[1;33m=\u001b[0m \u001b[1;33m{\u001b[0m\u001b[1;33m}\u001b[0m\u001b[1;33m\u001b[0m\u001b[1;33m\u001b[0m\u001b[0m\n\u001b[1;32m-> 2771\u001b[1;33m         return self.tk.getint(self.tk.call(\n\u001b[0m\u001b[0;32m   2772\u001b[0m             \u001b[0mself\u001b[0m\u001b[1;33m.\u001b[0m\u001b[0m_w\u001b[0m\u001b[1;33m,\u001b[0m \u001b[1;34m'create'\u001b[0m\u001b[1;33m,\u001b[0m \u001b[0mitemType\u001b[0m\u001b[1;33m,\u001b[0m\u001b[1;33m\u001b[0m\u001b[1;33m\u001b[0m\u001b[0m\n\u001b[0;32m   2773\u001b[0m             *(args + self._options(cnf, kw))))\n",
      "\u001b[1;31mTclError\u001b[0m: image \"pyimage1\" doesn't exist"
     ]
    }
   ],
   "source": [
    "#!/usr/bin/python\n",
    "# -*- coding: UTF-8 -*-\n",
    "from tkinter import *\n",
    "import cv2 as cv\n",
    "from PIL import Image, ImageTk\n",
    "import os\n",
    "#拍照类\n",
    "class photo_graph():\n",
    "    # 去掉文件名，返回目录\n",
    "    workpath = os.path.dirname(sys.argv[0])\n",
    "    os.chdir(workpath)  # 指定py文件执行路径为当前工作路径\n",
    "    # 界面相关\n",
    "    window_width = 640\n",
    "    window_height = 480\n",
    "    image_width = int(window_width * 0.6)\n",
    "    image_height = int(window_height * 0.6)\n",
    "    imagepos_x = int(window_width * 0.2)\n",
    "    imagepos_y = int(window_height * 0.1)\n",
    "    butpos_x = 250\n",
    "    butpos_y = 350\n",
    "    # 摄像机设置\n",
    "    # 0是代表摄像头编号，只有一个的话默认为0\n",
    "    capture = cv.VideoCapture(0)\n",
    "    top = Tk()\n",
    "    canvas = Canvas(top, bg='white', width=image_width, height=image_height)  # 绘制画布\n",
    "    # 得到图片\n",
    "    def getframe(self):\n",
    "        ref, frame = self.capture.read()\n",
    "        cv.imwrite(self.image_path, frame)\n",
    "    # 关闭摄像头\n",
    "    def closecamera(self):\n",
    "        self.capture.release()\n",
    "    # 更改标题‘羽毛’图标\n",
    "    def icon_logo(self,win):\n",
    "#         win.iconbitmap('./gui_image/face.ico')\n",
    "        win.title(\"有限公司\")\n",
    "        win.geometry(\"500x500\")\n",
    "    def tkImage(self):\n",
    "        ref, frame = self.capture.read()\n",
    "        cvimage = cv.cvtColor(frame, cv.COLOR_BGR2RGBA)\n",
    "        pilImage = Image.fromarray(cvimage)\n",
    "        pilImage = pilImage.resize((self.image_width, self.image_height), Image.ANTIALIAS)\n",
    "        tkImage = ImageTk.PhotoImage(image=pilImage)\n",
    "        return tkImage\n",
    "    # 拍照按钮，写入图片\n",
    "    def Photograph(self):\n",
    "        # 图片文件夹路径\n",
    "        path = './data/123'\n",
    "        # path文件夹下的文件列表\n",
    "        files = os.listdir(path)\n",
    "        # 列表长度+1\n",
    "        l = len(files) + 1\n",
    "        # 图片路径（为了可以多次拍照，否则只能拍一张照片）\n",
    "        image_path = path + '/'+ '_' + str(l) + '.png'\n",
    "        print('image_path:' + image_path)\n",
    "        ref, frame = self.capture.read()\n",
    "        cv.imwrite(image_path, frame)\n",
    "    #创建窗口\n",
    "    def create_win(self):\n",
    "        self.icon_logo(win=self.top)\n",
    "        self.top.wm_title(\"上海芯灵科技有限公司\")\n",
    "        self.top.geometry(str(self.window_width) + 'x' + str(self.window_height))\n",
    "        # 画布定义\n",
    "        b = Button(self.top, text='拍照', width=15, height=2, command = self.Photograph)\n",
    "        # 画布位置设置\n",
    "        self.canvas.place(x=self.imagepos_x, y=self.imagepos_y)\n",
    "        b.place(x=self.butpos_x, y=self.butpos_y)\n",
    "        while (True):\n",
    "            picture = self.tkImage()\n",
    "            # 绘制图片，支持GIF\n",
    "            self.canvas.create_image(0, 0, anchor='nw', image=picture)\n",
    "            # 刷新tkinter任务\n",
    "            self.top.update()\n",
    "            # 等待\n",
    "            self.top.after(100)\n",
    "        top.mainloop()\n",
    "        closecamera()\n",
    "p=photo_graph()\n",
    "p.create_win()\n"
   ]
  },
  {
   "cell_type": "code",
   "execution_count": null,
   "metadata": {},
   "outputs": [],
   "source": [
    "tkinter上传照片"
   ]
  },
  {
   "cell_type": "code",
   "execution_count": null,
   "metadata": {},
   "outputs": [],
   "source": [
    "import tkinter\n",
    "import tkinter.filedialog\n",
    "top = tkinter.Tk()\n",
    "top.title = 'new'\n",
    "top.geometry('640x480')\n",
    "def choose_fiel():\n",
    "    selectFileName = tkinter.filedialog.askopenfilename(title='选择文件')  # 选择文件\n",
    "    e.set(selectFileName)\n",
    "e = tkinter.StringVar()\n",
    "e_entry = tkinter.Entry(top, width=68, textvariable=e)\n",
    "e_entry.pack()\n",
    "def upload_func(a):\n",
    "    '''\n",
    "    要自己写个方法，ftp等方法，上传文件到服务器\n",
    "    '''\n",
    "    print(a)\n",
    "    pass\n",
    "submit_button = tkinter.Button(top, text =\"选择文件\", command = choose_fiel)\n",
    "submit_button.pack()\n",
    "submit_button = tkinter.Button(top, text =\"上传\", command = lambda:upload_func(e_entry.get()))\n",
    "submit_button.pack()\n",
    "from PIL import Image, ImageTk\n",
    "def showImg(img1):\n",
    "    load = Image.open(img1)\n",
    "    render = ImageTk.PhotoImage(load)\n",
    "    img = tkinter.Label(image=render)\n",
    "    img.image = render\n",
    "    img.place(x=200, y=100)\n",
    "submit_button = tkinter.Button(top, text =\"显示图片\", command = lambda :showImg(showImg('服务器上的pic路径')))\n",
    "submit_button.pack()\n",
    "top.mainloop()\n"
   ]
  },
  {
   "cell_type": "code",
   "execution_count": null,
   "metadata": {},
   "outputs": [],
   "source": [
    "tkinter上传照片到网上"
   ]
  },
  {
   "cell_type": "code",
   "execution_count": null,
   "metadata": {},
   "outputs": [],
   "source": [
    "# -*- coding: UTF-8 -*-\n",
    "#上传到网上\n",
    "from tkinter import *\n",
    "import tkinter.filedialog\n",
    "import requests\n",
    "def Upload():\n",
    "    print('upload')\n",
    "    selectFileName = tkinter.filedialog.askopenfilename(title='选择文件')  # 选择文件\n",
    "    #上传路径\n",
    "    r = requests.post('http://127.0.0.1:8000/upload', files={'file': open(selectFileName, 'rb')})\n",
    "    print(r.content.decode('utf-8'))\n",
    "    setText = r.content.decode('utf-8')\n",
    "    print(setText.__class__)\n",
    "    e1.delete(0, END)\n",
    "    e1.insert(0, setText)\n",
    "def Download():\n",
    "    link = e1.get()\n",
    "    files = requests.get(link)\n",
    "    files.raise_for_status()\n",
    "    path = tkinter.filedialog.asksaveasfilename()\n",
    "    print(files.content)\n",
    "    with open(path, 'wb') as f:\n",
    "        f.write(files.content)\n",
    "root = Tk()\n",
    "root.title('Download')\n",
    "root.geometry('+500+300')\n",
    "e1 = Entry(root, width=50)\n",
    "e1.grid(row=0, column=0)\n",
    "btn1 = Button(root, text=' 上传 ', command=Upload).grid(row=1, column=0, pady=5)\n",
    "btn2 = Button(root, text=' 下载 ', command=Download).grid(row=2, column=0, pady=5)\n",
    "btn3 = Button(root, text=' 复制 ', ).grid(row=3, column=0, pady=5)\n",
    "mainloop()\n"
   ]
  },
  {
   "cell_type": "code",
   "execution_count": null,
   "metadata": {},
   "outputs": [],
   "source": [
    "tkinter上传（移动）照片到本地"
   ]
  },
  {
   "cell_type": "code",
   "execution_count": null,
   "metadata": {},
   "outputs": [],
   "source": [
    "# -*- coding: UTF-8 -*-\n",
    "from tkinter import *\n",
    "import tkinter.filedialog\n",
    "import shutil\n",
    "def Upload():\n",
    "    print('upload')\n",
    "    #源文件的路径\n",
    "    selectFileName = tkinter.filedialog.askopenfilename(title='选择文件')  # 选择文件\n",
    "    #目标文件夹的路径\n",
    "    destination = r\"C:\\Users\\xiahuadong\\Pictures\"\n",
    "    #复制文件selectFileName到destination_path\n",
    "    shutil.copy(selectFileName, destination_path)\n",
    "root = Tk()\n",
    "root.title('Download')\n",
    "root.geometry('+500+300')\n",
    "e1 = Entry(root, width=50)\n",
    "e1.grid(row=0, column=0)\n",
    "btn1 = Button(root, text=' 上传 ', command=Upload).grid(row=1, column=0, pady=5)\n",
    "mainloop()\n"
   ]
  }
 ],
 "metadata": {
  "kernelspec": {
   "display_name": "Python 3",
   "language": "python",
   "name": "python3"
  },
  "language_info": {
   "codemirror_mode": {
    "name": "ipython",
    "version": 3
   },
   "file_extension": ".py",
   "mimetype": "text/x-python",
   "name": "python",
   "nbconvert_exporter": "python",
   "pygments_lexer": "ipython3",
   "version": "3.8.5"
  }
 },
 "nbformat": 4,
 "nbformat_minor": 4
}
