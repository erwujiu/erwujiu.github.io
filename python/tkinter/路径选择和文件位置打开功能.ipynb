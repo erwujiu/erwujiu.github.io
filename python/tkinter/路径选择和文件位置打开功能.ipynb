{
 "cells": [
  {
   "cell_type": "code",
   "execution_count": null,
   "metadata": {},
   "outputs": [],
   "source": [
    "from tkinter import *\n",
    "from tkinter.filedialog import askdirectory\n",
    "import os\n",
    "\n",
    "\n",
    "def selectPath():\n",
    "    path_ = askdirectory() #使用askdirectory()方法返回文件夹的路径\n",
    "    if path_ == \"\":\n",
    "        path.get() #当打开文件路径选择框后点击\"取消\" 输入框会清空路径，所以使用get()方法再获取一次路径\n",
    "    else:\n",
    "        path_ = path_.replace(\"/\", \"\\\\\")  # 实际在代码中执行的路径为“\\“ 所以替换一下\n",
    "        path.set(path_)\n",
    "\n",
    "\n",
    "def openPath():\n",
    "    dir = os.path.dirname(path.get()+\"\\\\\")\n",
    "    os.system('start ' + dir)\n",
    "    #print(dir)\n",
    "\n",
    "root = Tk()\n",
    "root.title(\"路径选择和文件位置打开功能演示\")\n",
    "path = StringVar()\n",
    "path.set(os.path.abspath(\".\"))\n",
    "\n",
    "Label(root, text=\"目标路径:\").grid(row=0, column=0)\n",
    "Entry(root, textvariable=path,state=\"readonly\").grid(row=0, column=1,ipadx=200)\n",
    "\n",
    "\n",
    "# e.insert(0,os.path.abspath(\".\"))\n",
    "Button(root, text=\"路径选择\", command=selectPath).grid(row=0, column=2)\n",
    "Button(root, text=\"打开文件位置\", command=openPath).grid(row=0, column=3)\n",
    "root.mainloop()\n",
    "\n"
   ]
  }
 ],
 "metadata": {
  "kernelspec": {
   "display_name": "Python 3",
   "language": "python",
   "name": "python3"
  },
  "language_info": {
   "codemirror_mode": {
    "name": "ipython",
    "version": 3
   },
   "file_extension": ".py",
   "mimetype": "text/x-python",
   "name": "python",
   "nbconvert_exporter": "python",
   "pygments_lexer": "ipython3",
   "version": "3.8.5"
  }
 },
 "nbformat": 4,
 "nbformat_minor": 4
}
