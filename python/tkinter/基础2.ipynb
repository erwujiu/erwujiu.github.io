{
 "cells": [
  {
   "cell_type": "code",
   "execution_count": null,
   "metadata": {},
   "outputs": [],
   "source": [
    "root.geometry(\"300x200+100+50\")\n",
    "\n",
    "这是什么意思呢？\n",
    "\n",
    "其实：第一个是指窗口的宽度，第二个窗口的高度，\n",
    "第三个窗口左上点离左屏幕边界距离，第四个窗口左上点离上面屏幕边界距离"
   ]
  },
  {
   "cell_type": "code",
   "execution_count": null,
   "metadata": {},
   "outputs": [],
   "source": [
    "窗口标题：root.title(\"title_a\")\n",
    "\n",
    "添加窗口图标：root.iconbitmap(icon_file)\n",
    "icon_file就是一个.ico的图标文件，使用绝对或相对路径"
   ]
  },
  {
   "cell_type": "code",
   "execution_count": null,
   "metadata": {},
   "outputs": [],
   "source": [
    "（2）常用的事件处理函数：\n",
    "\n",
    "刷新窗口状态：root.update()\n",
    "\n",
    "销毁窗口：root.destroy()\n",
    "\n",
    "自动触发事件：root.after(sec,command)，表示多少秒以后自动执行command\n",
    "\n",
    "置顶窗口：root.wm_attributes('-topmost',1)\n",
    "\n",
    "隐藏窗口外部：root.overrideredirect(True)\n",
    "\n",
    "设置最大的窗口：root.maxsize(600, 400)\n",
    "\n",
    "设置最小的窗口：root.minsize(300, 240)\n",
    "\n",
    "设置窗口是否可以缩放（两种方法）： \n",
    "\n",
    "root.resizable(width=False, height=False)#禁止改变窗口大小\n",
    "\n",
    "root.resizable(0, 0) # 设置窗口大小不可变\n",
    "————————————————\n",
    "版权声明：本文为CSDN博主「dhjabc_1」的原创文章，遵循CC 4.0 BY-SA版权协议，转载请附上原文出处链接及本声明。\n",
    "原文链接：https://blog.csdn.net/dhjabc_1/article/details/105428853"
   ]
  },
  {
   "cell_type": "code",
   "execution_count": 9,
   "metadata": {},
   "outputs": [],
   "source": [
    "from tkinter import *\n",
    "\n",
    "def anniu():\n",
    "    bt1 = Button(root,text=\"这是一个按钮\")\n",
    "    bt1.pack()\n",
    "    root.after(1000,anniu)\n",
    "    \n",
    "root = Tk()\n",
    "root.geometry(\"+500+500\")\n",
    "\n",
    "bt = Button(root,text=\"这是一个按钮\",command=anniu)\n",
    "bt.pack()\n",
    "root.after(1000,anniu)\n",
    "root.attributes()\n",
    "root.mainloop()"
   ]
  },
  {
   "cell_type": "code",
   "execution_count": 7,
   "metadata": {},
   "outputs": [],
   "source": [
    "#每过1秒，Text控件就会显示一行当前的时间戳\n",
    "import time\n",
    "import tkinter as tk\n",
    "\n",
    "def __writeText():\n",
    "    text.insert(tk.END, str(time.time())+'\\n')\n",
    "    root.after(1000, __writeText)  # again forever\n",
    "\n",
    "root = tk.Tk()\n",
    "text = tk.Text(root)\n",
    "text.pack()\n",
    "root.after(1000, __writeText)\n",
    "\n",
    "root.mainloop()"
   ]
  },
  {
   "cell_type": "code",
   "execution_count": null,
   "metadata": {},
   "outputs": [],
   "source": [
    "winfo_width获得窗口的宽度，winfo_height获得窗口的高度。\n",
    "以上两个方法都是无参方法，通过返回值我们可以获得窗口的宽高。"
   ]
  },
  {
   "cell_type": "code",
   "execution_count": 16,
   "metadata": {},
   "outputs": [],
   "source": [
    "from tkinter import *\n",
    " \n",
    "def go():\n",
    "    txt = '窗口的左上角坐标为：（%s,%s）\\n窗口的高度为：%s窗口的宽度为：%s' \\\n",
    "          % (root.winfo_x(),root.winfo_y(),root.winfo_width(),root.winfo_height())\n",
    "    label1.configure(text=txt)\n",
    "    root.after(1,go)\n",
    "root = Tk()\n",
    "root.geometry(\"300x200+100+50\")\n",
    "root.update()\n",
    "label1 = Label(root)\n",
    "label1.pack(expand=YES)\n",
    "go()\n",
    "root.mainloop()\n"
   ]
  },
  {
   "cell_type": "code",
   "execution_count": null,
   "metadata": {},
   "outputs": [],
   "source": [
    "我们使用上述的方法得到的位置和宽高，其实是tk初始化时的一个值。\n",
    "因此在初始化的时候默认都是1，\n",
    "如果需要获取准确的位置和大小信息 此时我们调用update方法，刷新win窗口。"
   ]
  },
  {
   "cell_type": "code",
   "execution_count": 14,
   "metadata": {},
   "outputs": [
    {
     "name": "stdout",
     "output_type": "stream",
     "text": [
      "初始化的窗口的宽度和宽度为 1 * 1\n",
      "update后的窗口的宽度和宽度为 120 * 100\n"
     ]
    }
   ],
   "source": [
    "import tkinter\n",
    "win = tkinter.Tk()\n",
    "win.geometry(\"100x100\")\n",
    "print(\"初始化的窗口的宽度和宽度为 %s * %s\" % (win.winfo_width(),win.winfo_height()))\n",
    "win.update()\n",
    "print(\"update后的窗口的宽度和宽度为 %s * %s\" % (win.winfo_width(),win.winfo_height()))\n",
    "win.mainloop()\n"
   ]
  },
  {
   "cell_type": "code",
   "execution_count": null,
   "metadata": {},
   "outputs": [],
   "source": [
    "#设置窗口最大化：\n",
    "#方法一\n",
    "root = Tk()\n",
    "w, h = root.maxsize()\n",
    "root.geometry(\"{}x{}\".format(w, h)) #看好了，中间的是小写字母x\n",
    "#方法二\n",
    "root = Tk()\n",
    "w = root.winfo_screenwidth()\n",
    "h = root.winfo_screenheight()\n",
    "root.geometry(\"%dx%d\" %(w, h))\n",
    "#方法三\n",
    "root = Tk()\n",
    "root.attributes(\"-fullscreen\", true)"
   ]
  },
  {
   "cell_type": "code",
   "execution_count": 18,
   "metadata": {},
   "outputs": [],
   "source": [
    "#设置居中显示\n",
    "def center_window(root, width, height):\n",
    "    screenwidth = root.winfo_screenwidth()\n",
    "    screenheight = root.winfo_screenheight()\n",
    "    size = '%dx%d+%d+%d' % (width, height, (screenwidth - width) / 2, (screenheight - height) / 2)\n",
    "    print(size)\n",
    "    root.geometry(size)\n",
    "    root.update()\n",
    "    print(root.winfo_x())"
   ]
  },
  {
   "cell_type": "code",
   "execution_count": 19,
   "metadata": {},
   "outputs": [
    {
     "name": "stdout",
     "output_type": "stream",
     "text": [
      "500x340+518+262\n",
      "518\n"
     ]
    }
   ],
   "source": [
    "#调用脚本：\n",
    "import tkinter as tk\n",
    "root = tk.Tk()\n",
    "root.title('测试窗口')\n",
    "center_window(root, 500, 340)\n",
    "root.mainloop()"
   ]
  },
  {
   "cell_type": "code",
   "execution_count": null,
   "metadata": {},
   "outputs": [],
   "source": [
    "关于控件的位置介绍\n",
    "其实跟主窗口的访问方式类似，主要是要找到对应的方法和函数。"
   ]
  },
  {
   "cell_type": "code",
   "execution_count": 20,
   "metadata": {},
   "outputs": [],
   "source": [
    "import tkinter as tk\n",
    " \n",
    "def center_window(root, width, height):\n",
    "    screenwidth = root.winfo_screenwidth()\n",
    "    screenheight = root.winfo_screenheight()\n",
    "    size = '%dx%d+%d+%d' % (width, height, (screenwidth - width) / 2, (screenheight - height) / 2)\n",
    "    root.geometry(size)\n",
    "    root.update()\n",
    " \n",
    "def go():\n",
    "    txt = 'Label1控件的位置信息如下：%s' % label1.winfo_geometry()\n",
    "    label2.configure(text=txt)\n",
    "    root.after(1,go)\n",
    " \n",
    "root = tk.Tk()\n",
    "root.title('测试窗口')\n",
    "center_window(root, 500, 340)\n",
    "label1 = tk.Label(root, text='测试用途的Label控件')\n",
    "label1.pack(expand=tk.YES)\n",
    "label2 = tk.Label(root)\n",
    "label2.pack()\n",
    "go()\n",
    "root.mainloop()"
   ]
  },
  {
   "cell_type": "code",
   "execution_count": null,
   "metadata": {},
   "outputs": [],
   "source": [
    "使用Label的compound参数让文字与标签共存，compound参数设置图像的位置。\n",
    "\n",
    "compound参数可以是下列值\n",
    "\n",
    "left：图像在左\n",
    "right：图像在右\n",
    "top：图像在顶部\n",
    "bottom：在下\n",
    "center：文字覆盖在图像上方"
   ]
  }
 ],
 "metadata": {
  "kernelspec": {
   "display_name": "Python 3",
   "language": "python",
   "name": "python3"
  },
  "language_info": {
   "codemirror_mode": {
    "name": "ipython",
    "version": 3
   },
   "file_extension": ".py",
   "mimetype": "text/x-python",
   "name": "python",
   "nbconvert_exporter": "python",
   "pygments_lexer": "ipython3",
   "version": "3.8.5"
  }
 },
 "nbformat": 4,
 "nbformat_minor": 4
}
