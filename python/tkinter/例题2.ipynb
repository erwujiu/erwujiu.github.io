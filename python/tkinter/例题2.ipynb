{
 "cells": [
  {
   "cell_type": "code",
   "execution_count": 24,
   "metadata": {},
   "outputs": [],
   "source": [
    "from tkinter import *\n",
    "\n",
    "global photo\n",
    "main = Tk()\n",
    "lb = Label(main,\n",
    "       text='请重试! \\n您的操作不被允许!',\n",
    "       justify = LEFT,  #左对齐\n",
    "       padx = 10,\n",
    "       pady = 10) #右边距 10px\n",
    "lb.pack(side=LEFT) #\n",
    "\n",
    "\n",
    "main.mainloop()"
   ]
  },
  {
   "cell_type": "code",
   "execution_count": 14,
   "metadata": {},
   "outputs": [],
   "source": [
    "from tkinter import *\n",
    "def wz():\n",
    "    txt=\"{},{},{}\".format(wt,ht,lb.winfo_geometry())\n",
    "    lb2.configure(text=txt)\n",
    "    \n",
    "    main.after(100,wz)\n",
    "main = Tk()\n",
    "\n",
    "main.title(\"显示屏幕的宽度\")\n",
    "wt = main.winfo_screenwidth()\n",
    "ht = main.winfo_screenheight()\n",
    "lb =Label(main,text=wt)\n",
    "lb2 = Label(main)\n",
    "lb2.pack(expand = YES)\n",
    "lb.pack(expand = YES)\n",
    "main.attributes()\n",
    "main.after(100,wz)\n",
    "\n",
    "main.mainloop()"
   ]
  },
  {
   "cell_type": "code",
   "execution_count": 34,
   "metadata": {},
   "outputs": [],
   "source": [
    "from tkinter import *\n",
    "\n",
    " \n",
    "\n",
    "root = Tk()\n",
    "\n",
    " \n",
    "root.geometry('600x600')\n",
    "\n",
    "\n",
    "theLabel = Label(root,\n",
    "\n",
    "                 text='生存还是毁灭\\n这是一个问题',\n",
    "\n",
    "                 justify=LEFT,\n",
    "\n",
    "                 \n",
    "\n",
    "                 compound=CENTER,\n",
    "\n",
    "                 font=('华文隶书', 20),\n",
    "\n",
    "                 fg='blue')\n",
    "\n",
    "theLabel.pack(expand=YES)\n",
    "\n",
    " \n",
    "\n",
    "root.mainloop()\n"
   ]
  },
  {
   "cell_type": "code",
   "execution_count": 12,
   "metadata": {},
   "outputs": [],
   "source": [
    "# 选项按钮\n",
    "from tkinter import *\n",
    "def callback():\n",
    "    var.set('吹吧你，我才不信呢！')\n",
    "root = Tk()\n",
    "frame1 = Frame(root)\n",
    "frame2 = Frame(root)\n",
    "var = StringVar()\n",
    "var.set('请重试！\\n您的操作不被允许！')\n",
    "textLabel = Label(frame1,\n",
    "                  textvariable=var,\n",
    "                  justify=LEFT)  #左对齐\n",
    "textLabel.pack()\n",
    "#显示图片\n",
    "photo = PhotoImage(file=\"1.gif\")\n",
    "imageLabel = Label(root,image=photo)\n",
    "imageLabel.pack(side=RIGHT)\n",
    "theButton = Button(frame2, text='我是超级管理员', command=callback)\n",
    "\n",
    "theButton.pack()\n",
    "\n",
    "frame1.pack(padx=10, pady=10)\n",
    "\n",
    "frame2.pack(padx=10, pady=10)\n",
    "root.update()\n",
    "mainloop()"
   ]
  },
  {
   "cell_type": "code",
   "execution_count": 17,
   "metadata": {},
   "outputs": [],
   "source": [
    "#选项按钮\n",
    "from tkinter import *\n",
    "root = Tk()\n",
    "v = IntVar()\n",
    "c = Checkbutton(root,text= '测试一下',variable = v) #v用来存放选中状态\n",
    "c.pack()\n",
    "i = Label(root,textvariable =v)\n",
    "i.pack()  #未选中显示为0，选中显示1\n",
    "mainloop()"
   ]
  },
  {
   "cell_type": "code",
   "execution_count": 13,
   "metadata": {},
   "outputs": [],
   "source": []
  }
 ],
 "metadata": {
  "kernelspec": {
   "display_name": "Python 3",
   "language": "python",
   "name": "python3"
  },
  "language_info": {
   "codemirror_mode": {
    "name": "ipython",
    "version": 3
   },
   "file_extension": ".py",
   "mimetype": "text/x-python",
   "name": "python",
   "nbconvert_exporter": "python",
   "pygments_lexer": "ipython3",
   "version": "3.8.5"
  }
 },
 "nbformat": 4,
 "nbformat_minor": 4
}
