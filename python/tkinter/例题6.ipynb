{
 "cells": [
  {
   "cell_type": "code",
   "execution_count": 7,
   "metadata": {},
   "outputs": [
    {
     "name": "stdout",
     "output_type": "stream",
     "text": [
      "contents I love www.baidu.com1\n",
      " sig b\"]\\x92\\xeeX\\xbc41\\xe7'9cl\\xaauAH\"\n",
      "内容有修改，是否保存？\n",
      "contents \n",
      " sig b\"]\\x92\\xeeX\\xbc41\\xe7'9cl\\xaauAH\"\n",
      "内容有修改，是否保存？\n"
     ]
    }
   ],
   "source": [
    "# 文本组件之MD5  不是很懂，用到再说吧\n",
    "from tkinter import *\n",
    "import hashlib  #用于获取文件的MD5值，检查内容是否有修改\n",
    "root = Tk()\n",
    "root.title('link click')\n",
    "text = Text(root, width=50, height=10)\n",
    "text.pack()\n",
    "text.insert(INSERT, 'I love www.baidu.com')\n",
    "contents = text.get('1.0', END)\n",
    "\n",
    "def getSig(contents):\n",
    "    m = hashlib.md5(contents.encode())\n",
    "    return m.digest()\n",
    "sig = getSig(contents)\n",
    "def check():\n",
    "    contents = text.get('1.0', END)\n",
    "#     print('contents',contents,\"sig\",sig)\n",
    "    if sig != getSig(contents):\n",
    "        print('内容有修改，是否保存？')\n",
    "    else:\n",
    "        print('无任何修改！')\n",
    "Button(root, text='检查', command=check).pack()\n",
    "mainloop()\n"
   ]
  },
  {
   "cell_type": "code",
   "execution_count": 9,
   "metadata": {},
   "outputs": [
    {
     "name": "stdout",
     "output_type": "stream",
     "text": [
      "找到啦，位置是: (1, 3)\n",
      "找到啦，位置是: (1, 18)\n"
     ]
    }
   ],
   "source": [
    "# 文本组件之全文搜索\n",
    "from tkinter import *\n",
    "root = Tk()\n",
    "root.title(\"link click\")\n",
    "text= Text(root,width = 50,height = 10)\n",
    "text.pack()\n",
    "text.insert(INSERT, 'I love www.baidu.com')\n",
    "def getIndex(text, index):\n",
    "    return tuple(map(int, str.split(text.index(index), '.')))\n",
    "start = '1.0'  #开头的位置，第1行的第0个下标位置\n",
    "\n",
    "while True:\n",
    "\n",
    "    pos = text.search('o', start, stopindex=END)  #查找文本中字符o的位置\n",
    "\n",
    "    if not pos:\n",
    "\n",
    "        break\n",
    "\n",
    "    print('找到啦，位置是:', getIndex(text, pos))\n",
    "    start = pos + '+1c'  #'+1c'指向下一个字符\n",
    "mainloop()"
   ]
  },
  {
   "cell_type": "code",
   "execution_count": 10,
   "metadata": {},
   "outputs": [],
   "source": [
    "# 文本组件之撤销操作   这个没啥用\n",
    "from tkinter import *\n",
    "root = Tk()\n",
    "root.title('link click')\n",
    "text = Text(root, width=50, height=10, undo=True)  #undo模式开启\n",
    "text.pack()\n",
    "text.insert(INSERT, 'I love www.baidu.com')\n",
    "def show():\n",
    "    text.edit_undo()\n",
    "Button(root, text='撤销', command=show).pack()  #多次撤销会删除文本组件内的内容\n",
    "mainloop()"
   ]
  }
 ],
 "metadata": {
  "kernelspec": {
   "display_name": "Python 3",
   "language": "python",
   "name": "python3"
  },
  "language_info": {
   "codemirror_mode": {
    "name": "ipython",
    "version": 3
   },
   "file_extension": ".py",
   "mimetype": "text/x-python",
   "name": "python",
   "nbconvert_exporter": "python",
   "pygments_lexer": "ipython3",
   "version": "3.8.5"
  }
 },
 "nbformat": 4,
 "nbformat_minor": 4
}
