{
 "cells": [
  {
   "cell_type": "code",
   "execution_count": 3,
   "metadata": {},
   "outputs": [],
   "source": [
    "import tkinter as tk\n",
    "import tkinter.messagebox\n",
    "main = tk.Tk()\n",
    "main.title('123')\n",
    "main.geometry('300x200')\n",
    "def display_messagebox():\n",
    "    pass\n",
    "tk.Button(main,text='click me',command=display_messagebox).pack()\n",
    "\n",
    "main.mainloop()"
   ]
  },
  {
   "cell_type": "code",
   "execution_count": null,
   "metadata": {},
   "outputs": [],
   "source": [
    "本处我们将介绍tkinter库里3种的信息提醒弹窗。\n",
    "分别为showinfo,showerror,showwarning三种"
   ]
  },
  {
   "cell_type": "code",
   "execution_count": 5,
   "metadata": {},
   "outputs": [],
   "source": [
    "window =tk.Tk() \n",
    "window.title('Test Window') \n",
    "window.geometry('300x200') \n",
    "\n",
    "def display_messagebox(): \n",
    "\ttk.messagebox.showinfo(title='display_messagebox',\n",
    "\t\tmessage='This is a showinfo_messagebox')  # 消息提醒弹窗，点击确定返回值为 ok\n",
    "\t\n",
    "tk.Button(window,text='click me',command=display_messagebox).pack()\n",
    "\n",
    "window.mainloop() \n"
   ]
  },
  {
   "cell_type": "code",
   "execution_count": null,
   "metadata": {},
   "outputs": [],
   "source": [
    "至此，一个showinfo消息提醒弹窗定义完成，当点击确定时，程序返回值为“ok\n",
    "例如：本类型名称为showinfo弹窗，\n",
    "那么可以将其名称看作成英文show info ==> 显示信息。\n",
    "这样就可以将其理解成用来 显示程序运行信息 弹窗。"
   ]
  },
  {
   "cell_type": "code",
   "execution_count": null,
   "metadata": {},
   "outputs": [],
   "source": [
    "第二种：showerror 信息错误弹窗"
   ]
  },
  {
   "cell_type": "code",
   "execution_count": 6,
   "metadata": {},
   "outputs": [],
   "source": [
    "window =tk.Tk() \n",
    "window.title('Test Window') \n",
    "window.geometry('300x200') \n",
    "\n",
    "def display_messagebox(): \n",
    "\ttk.messagebox.showerror(title='display_messagebox',\n",
    "\t\tmessage='This is a showerror_messagebox')  # 信息错误弹窗，点击确定返回值为 ok\n",
    "\t\n",
    "tk.Button(window,text='click me',command=display_messagebox).pack()  \n",
    "\n",
    "window.mainloop() \n"
   ]
  },
  {
   "cell_type": "code",
   "execution_count": null,
   "metadata": {},
   "outputs": [],
   "source": [
    "第三种：showwarning 信息警告弹窗"
   ]
  },
  {
   "cell_type": "code",
   "execution_count": 7,
   "metadata": {},
   "outputs": [],
   "source": [
    "window =tk.Tk()  \n",
    "window.title('Test Window') \n",
    "window.geometry('300x200')  \n",
    "\n",
    "def display_messagebox(): \n",
    "\ttk.messagebox.showwarning(title='display_messagebox',\n",
    "\t\tmessage='This is a showwarning_messagebox')  # 信息警告弹窗，点击确定返回值为 ok\n",
    "\t\n",
    "tk.Button(window,text='click me',command=display_messagebox).pack() \n",
    "\n",
    "window.mainloop() \n"
   ]
  },
  {
   "cell_type": "code",
   "execution_count": null,
   "metadata": {},
   "outputs": [],
   "source": [
    "三种提示弹窗已经讲完了，前面三种弹窗虽然各有个的显示方式，\n",
    "但是他们都有一个特点：选项只有一个，且返回值均为“ok”！\n",
    "现在，我们来讲一下确认信息弹窗，看看与前者3个有什么区别呢？"
   ]
  },
  {
   "cell_type": "code",
   "execution_count": null,
   "metadata": {},
   "outputs": [],
   "source": [
    "第一种：是T/否F 确认弹窗"
   ]
  },
  {
   "cell_type": "code",
   "execution_count": 8,
   "metadata": {},
   "outputs": [],
   "source": [
    "window =tk.Tk() \n",
    "window.title('Test Window')  \n",
    "window.geometry('300x200')  \n",
    "\n",
    "def display_messagebox(): \n",
    "\ttk.messagebox.askyesno(title='display_messagebox',\n",
    "\t\tmessage='This is a askyesno_messagebox')  # 信息确认弹窗 是 Ture或 否 False\n",
    "\t\n",
    "tk.Button(window,text='click me',command=display_messagebox).pack() \n",
    "\n",
    "window.mainloop() \n",
    "#返回值是True或False"
   ]
  },
  {
   "cell_type": "code",
   "execution_count": null,
   "metadata": {},
   "outputs": [],
   "source": [
    "巧记：同上理解，本类型名称为askyesno弹窗，\n",
    "那么可以将其名称看作成英文ask yes no==> 询问 是 否。\n",
    "这样就可以将其理解成用来 询问用户的是否执行下一步 弹窗。"
   ]
  },
  {
   "cell_type": "code",
   "execution_count": null,
   "metadata": {},
   "outputs": [],
   "source": [
    "第二种：是Y/否N 确认弹窗"
   ]
  },
  {
   "cell_type": "code",
   "execution_count": 9,
   "metadata": {},
   "outputs": [],
   "source": [
    "window =tk.Tk() \n",
    "window.title('Test Window') \n",
    "window.geometry('300x200')  \n",
    "\n",
    "def display_messagebox(): \n",
    "\ttk.messagebox.askquestion(title='display_messagebox',\n",
    "\t\tmessage='This is a askquestion_messagebox')  # 信息确认弹窗 是 yes或 否 no\n",
    "\t\n",
    "tk.Button(window,text='click me',command=display_messagebox).pack()  \n",
    "\n",
    "window.mainloop() \n",
    "#返回值是yes或no"
   ]
  },
  {
   "cell_type": "code",
   "execution_count": null,
   "metadata": {},
   "outputs": [],
   "source": [
    "第三种：确认T/ 取消F 确认弹窗"
   ]
  },
  {
   "cell_type": "code",
   "execution_count": null,
   "metadata": {},
   "outputs": [],
   "source": [
    "window =tk.Tk()  \n",
    "window.title('Test Window')  \n",
    "window.geometry('300x200')  \n",
    "\n",
    "def display_messagebox(): \n",
    "\ttk.messagebox.askokcancel(title='display_messagebox',\n",
    "\t\tmessage='This is a askokcancel_messagebox')  # 信息确认弹窗 确定 True或 取消 False\n",
    "\t\n",
    "tk.Button(window,text='click me',command=display_messagebox).pack()  \n",
    "\n",
    "window.mainloop() # 主窗口循环运行\n",
    "#点击 是 返回True, 否 返回False,点击关闭 返回False"
   ]
  },
  {
   "cell_type": "code",
   "execution_count": null,
   "metadata": {},
   "outputs": [],
   "source": [
    "第四种：确认Y / 否 F / 取消N 确认弹窗"
   ]
  },
  {
   "cell_type": "code",
   "execution_count": 10,
   "metadata": {},
   "outputs": [],
   "source": [
    "window =tk.Tk()  \n",
    "window.title('Test Window')  \n",
    "window.geometry('300x200')  \n",
    "\n",
    "def display_messagebox(): # 定义一个响应函数\n",
    "\ttk.messagebox.askyesnocancel(title='display_messagebox',\n",
    "\t\tmessage='This is a askyesnocancel') # 信息确认弹窗 是 True / 否 False 或 取消 None\n",
    "\t\n",
    "tk.Button(window,text='click me',command=display_messagebox).pack()  \n",
    "\n",
    "window.mainloop() \n"
   ]
  },
  {
   "cell_type": "code",
   "execution_count": null,
   "metadata": {},
   "outputs": [],
   "source": [
    "重试T / 取消F 确认弹窗"
   ]
  },
  {
   "cell_type": "code",
   "execution_count": null,
   "metadata": {},
   "outputs": [],
   "source": [
    "window =tk.Tk()  \n",
    "window.title('Test Window') \n",
    "window.geometry('300x200')  \n",
    "\n",
    "def display_messagebox():\n",
    "\ttk.messagebox.askretrycancel(title='display_messagebox',\n",
    "\t\tmessage='This is a askretrycancel') # 信息确认弹窗 重试 True / 取消 False\n",
    "\t\n",
    "tk.Button(window,text='click me',command=display_messagebox).pack() \n",
    "\n",
    "window.mainloop() \n"
   ]
  },
  {
   "cell_type": "code",
   "execution_count": null,
   "metadata": {},
   "outputs": [],
   "source": [
    "弹窗的参数详解\n",
    "title      弹窗窗口标题；\n",
    "message    弹窗所显示的消息；\n",
    "default    定义弹窗按钮；\n",
    "icon       定义弹窗图标；\n",
    "parent     定义弹窗的父组件；\n",
    "type       定义弹窗类型；\n"
   ]
  }
 ],
 "metadata": {
  "kernelspec": {
   "display_name": "Python 3",
   "language": "python",
   "name": "python3"
  },
  "language_info": {
   "codemirror_mode": {
    "name": "ipython",
    "version": 3
   },
   "file_extension": ".py",
   "mimetype": "text/x-python",
   "name": "python",
   "nbconvert_exporter": "python",
   "pygments_lexer": "ipython3",
   "version": "3.8.5"
  }
 },
 "nbformat": 4,
 "nbformat_minor": 4
}
