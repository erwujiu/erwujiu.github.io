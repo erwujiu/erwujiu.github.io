{
 "cells": [
  {
   "cell_type": "code",
   "execution_count": 1,
   "metadata": {},
   "outputs": [],
   "source": [
    "import tkinter as tk\n",
    "\n",
    "main = tk.Tk() #根窗口的实例(root窗口)\n",
    "main.title(\"标题\") #根窗口的实例(root窗口)\n",
    "\n",
    "Label = tk.Label(main,text = \"我的第一个窗口程序\") #label组件及文字内容\n",
    "Label.pack() #pack()用于自动调节组件的尺寸\n",
    "#main.geometry(\"300x300\")\n",
    "#main.state(\"zoomed\")  win系统窗口最大化\n",
    "#main.state(\"normal\")  取消最大化\n",
    "main.attributes(\"-topmost\",True) #显示在最前面\n",
    "main.mainloop()"
   ]
  },
  {
   "cell_type": "code",
   "execution_count": 8,
   "metadata": {
    "collapsed": true
   },
   "outputs": [
    {
     "name": "stdout",
     "output_type": "stream",
     "text": [
      "卧槽，居然打了个招呼！~\n",
      "卧槽，居然打了个招呼！~\n",
      "卧槽，居然打了个招呼！~\n",
      "卧槽，居然打了个招呼！~\n",
      "卧槽，居然打了个招呼！~\n",
      "卧槽，居然打了个招呼！~\n"
     ]
    }
   ],
   "source": [
    "###这个重点\n",
    "import tkinter as tk\n",
    "\n",
    " \n",
    "\n",
    "class APP:\n",
    "\n",
    "    def __init__(self, master):  #root 传参赋值给master\n",
    "\n",
    "        frame = tk.Frame(master)  #frame 组件\n",
    "\n",
    "        frame.pack(side=tk.LEFT, padx=10, pady=10)\n",
    "\n",
    " \n",
    "\n",
    "        self.hi_there = tk.Button(frame, text='打招呼', bg='black', fg='white', command=self.say_hi)  #Button按钮, command中调用定义的方法\n",
    "\n",
    "        self.hi_there.pack()\n",
    "\n",
    " \n",
    "\n",
    "    def say_hi(self):\n",
    "\n",
    "        print('卧槽，居然打了个招呼！~')\n",
    "\n",
    " \n",
    "\n",
    "root = tk.Tk()\n",
    "\n",
    "app = APP(root)\n",
    "\n",
    " \n",
    "\n",
    "root.mainloop()"
   ]
  },
  {
   "cell_type": "code",
   "execution_count": null,
   "metadata": {},
   "outputs": [],
   "source": [
    "import tkinter import *\n",
    "main = Tk()\n",
    "\n",
    "textLabel = Label"
   ]
  },
  {
   "cell_type": "code",
   "execution_count": null,
   "metadata": {},
   "outputs": [],
   "source": [
    "移动窗口在屏幕上的位置\n",
    ">>> root.geometry('+0+0')\n",
    ">>> root.geometry('+300+400')\n",
    "当geometry函数的参数是上面这种两个加号风格的时候，\n",
    "就是调整窗口在屏幕上的位置，第1个加号是距离屏幕左边的宽，\n",
    "第2个加号是距离屏幕顶部的高。\n",
    "注意加号后面可以跟负数，这是一种隐藏窗口的方式：\n",
    ">>> root.geometry('+-3000+-4000')\n",
    "两个加号后面跟非常大的负数，这样的实际效果是，\n",
    "将窗口移动到屏幕外面，彻底看不见了。这时，只有任务栏还有显示此程序"
   ]
  },
  {
   "cell_type": "code",
   "execution_count": 8,
   "metadata": {},
   "outputs": [],
   "source": [
    "import tkinter as tk\n",
    "def bt():\n",
    "    bt2= tk.Button(main,text=\"这是一个按钮\")\n",
    "    bt2.pack()\n",
    "\n",
    "main =  tk.Tk()\n",
    "lb = tk.Label(main,text=\"这是一个标签\")\n",
    "bt = tk.Button(main,text=\"这是一个按钮\",command=bt)\n",
    "lb.pack()\n",
    "bt.pack()\n",
    "main.mainloop()"
   ]
  }
 ],
 "metadata": {
  "kernelspec": {
   "display_name": "Python 3",
   "language": "python",
   "name": "python3"
  },
  "language_info": {
   "codemirror_mode": {
    "name": "ipython",
    "version": 3
   },
   "file_extension": ".py",
   "mimetype": "text/x-python",
   "name": "python",
   "nbconvert_exporter": "python",
   "pygments_lexer": "ipython3",
   "version": "3.8.5"
  }
 },
 "nbformat": 4,
 "nbformat_minor": 4
}
