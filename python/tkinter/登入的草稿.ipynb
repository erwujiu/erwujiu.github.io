{
 "cells": [
  {
   "cell_type": "code",
   "execution_count": null,
   "metadata": {},
   "outputs": [],
   "source": [
    "tkinter要求由按钮（或者其它的插件）触发的控制器函数不能含有参数\n",
    "\n",
    "若要给函数传递参数，需要在函数前添加lambda。"
   ]
  },
  {
   "cell_type": "code",
   "execution_count": 3,
   "metadata": {},
   "outputs": [
    {
     "name": "stdout",
     "output_type": "stream",
     "text": [
      "1\n",
      "1\n",
      "1\n",
      "1\n",
      "1\n",
      "1\n"
     ]
    }
   ],
   "source": [
    "from tkinter import *\n",
    "def main():\n",
    "    main = Tk()\n",
    "    main.title('主')\n",
    "    frame = Frame(main).pack()\n",
    "    \n",
    "    label = Label(frame,text=('222')).pack()\n",
    "    button = Button(frame,text=('123'),command = lambda :print(1)).pack()\n",
    "    mainloop()\n",
    "if __name__ == '__main__':\n",
    "    main()"
   ]
  },
  {
   "cell_type": "code",
   "execution_count": 4,
   "metadata": {},
   "outputs": [
    {
     "name": "stdout",
     "output_type": "stream",
     "text": [
      ".\n"
     ]
    },
    {
     "name": "stderr",
     "output_type": "stream",
     "text": [
      "Exception in Tkinter callback\n",
      "Traceback (most recent call last):\n",
      "  File \"C:\\Users\\yu\\anaconda3\\lib\\tkinter\\__init__.py\", line 1883, in __call__\n",
      "    return self.func(*args)\n",
      "TypeError: destroy() takes 1 positional argument but 2 were given\n"
     ]
    }
   ],
   "source": [
    "from tkinter import *\n",
    "# def main():\n",
    "\n",
    "main = Tk()\n",
    "print(main)\n",
    "main.title('主')\n",
    "frame = Frame(main).pack()\n",
    "\n",
    "label = Label(frame,text=('222'))\n",
    "label.pack()\n",
    "button = Button(frame,text=('123'),command =main.destroy ).pack()\n",
    "label.bind('<ButtonRelease>',create and main.destroy)\n",
    "mainloop()\n",
    "\n",
    "# if __name__ == '__main__':\n",
    "#     main()"
   ]
  },
  {
   "cell_type": "code",
   "execution_count": 2,
   "metadata": {},
   "outputs": [],
   "source": [
    "\n",
    "def create(event):    \n",
    "    main = Tk()\n",
    "    main.title(\"创建用户\")\n",
    "    main.iconbitmap('qqico.ico')\n",
    "\n",
    "    main.resizable(0, 0)\n",
    "    frame = Frame(main)\n",
    "    frame.pack(side=LEFT)\n",
    "    lb1 = Label(frame,text=\"创建的账号\",)\n",
    "    lb2 = Label(frame,text=\"账号的密码\",)\n",
    "    lb1.grid(row=0,column=0,sticky=E+W)\n",
    "    lb2.grid(row=1,column=0)\n",
    "    e1 = Entry(frame)\n",
    "    e1.grid(row=0,column=1)\n",
    "    e2 = Entry(frame,show=\"*\")\n",
    "    e2.grid(row=1,column=1)\n",
    "    bt = Button(frame,text='创建')\n",
    "    bt.grid(row=2,column=0,sticky=E)\n",
    "    bt = Button(frame,text='返回')\n",
    "    bt.grid(row=2,column=1,sticky=E)    \n",
    "    main.mainloop()\n"
   ]
  },
  {
   "cell_type": "code",
   "execution_count": 8,
   "metadata": {
    "collapsed": true
   },
   "outputs": [
    {
     "name": "stdout",
     "output_type": "stream",
     "text": [
      "当前位置： 196 1\n",
      "当前位置： 194 1\n",
      "当前位置： 191 0\n",
      "当前位置： 145 12\n",
      "当前位置： 154 20\n",
      "当前位置： 163 27\n",
      "当前位置： 173 35\n",
      "当前位置： 183 43\n",
      "当前位置： 194 52\n",
      "当前位置： 42 141\n",
      "当前位置： 83 105\n",
      "当前位置： 130 67\n",
      "当前位置： 187 24\n",
      "当前位置： 181 0\n",
      "当前位置： 180 0\n",
      "当前位置： 178 0\n",
      "当前位置： 177 0\n",
      "当前位置： 176 0\n",
      "当前位置： 175 0\n"
     ]
    }
   ],
   "source": [
    "#表示鼠标移到某个位置所触 发的事件\n",
    "from tkinter import *\n",
    "root = Tk()\n",
    "def callback(event):\n",
    "    print('当前位置：',event.x,event.y)\n",
    "frame = Frame(root,width=200,height=200)\n",
    "frame.bind('<Motion>',callback)\n",
    "frame.focus_set()  #获取焦点时触发\n",
    "frame.pack()\n",
    "mainloop()\n"
   ]
  },
  {
   "cell_type": "code",
   "execution_count": 3,
   "metadata": {},
   "outputs": [
    {
     "name": "stdout",
     "output_type": "stream",
     "text": [
      "0\n",
      "1\n",
      "0\n"
     ]
    },
    {
     "ename": "NameError",
     "evalue": "name 'main' is not defined",
     "output_type": "error",
     "traceback": [
      "\u001b[1;31m---------------------------------------------------------------------------\u001b[0m",
      "\u001b[1;31mNameError\u001b[0m                                 Traceback (most recent call last)",
      "\u001b[1;32m<ipython-input-3-8fa96dcead4f>\u001b[0m in \u001b[0;36m<module>\u001b[1;34m\u001b[0m\n\u001b[0;32m     28\u001b[0m \u001b[1;33m\u001b[0m\u001b[0m\n\u001b[0;32m     29\u001b[0m         \u001b[1;32mif\u001b[0m \u001b[0mflag\u001b[0m \u001b[1;33m==\u001b[0m \u001b[1;36m0\u001b[0m\u001b[1;33m:\u001b[0m\u001b[1;33m\u001b[0m\u001b[1;33m\u001b[0m\u001b[0m\n\u001b[1;32m---> 30\u001b[1;33m             \u001b[0mzhu\u001b[0m\u001b[1;33m(\u001b[0m\u001b[0mflag\u001b[0m\u001b[1;33m)\u001b[0m\u001b[1;33m\u001b[0m\u001b[1;33m\u001b[0m\u001b[0m\n\u001b[0m\u001b[0;32m     31\u001b[0m         \u001b[1;32mif\u001b[0m \u001b[0mflag\u001b[0m \u001b[1;33m==\u001b[0m \u001b[1;36m1\u001b[0m\u001b[1;33m:\u001b[0m\u001b[1;33m\u001b[0m\u001b[1;33m\u001b[0m\u001b[0m\n\u001b[0;32m     32\u001b[0m             \u001b[0mci\u001b[0m\u001b[1;33m(\u001b[0m\u001b[0mflag\u001b[0m\u001b[1;33m)\u001b[0m\u001b[1;33m\u001b[0m\u001b[1;33m\u001b[0m\u001b[0m\n",
      "\u001b[1;32m<ipython-input-3-8fa96dcead4f>\u001b[0m in \u001b[0;36mzhu\u001b[1;34m(flag)\u001b[0m\n\u001b[0;32m     18\u001b[0m     \u001b[0mlab\u001b[0m\u001b[1;33m.\u001b[0m\u001b[0mpack\u001b[0m\u001b[1;33m(\u001b[0m\u001b[1;33m)\u001b[0m\u001b[1;33m\u001b[0m\u001b[1;33m\u001b[0m\u001b[0m\n\u001b[0;32m     19\u001b[0m     \u001b[0mlab\u001b[0m\u001b[1;33m.\u001b[0m\u001b[0mbind\u001b[0m\u001b[1;33m(\u001b[0m\u001b[1;34m'<Button-1>'\u001b[0m\u001b[1;33m,\u001b[0m\u001b[0mzz\u001b[0m\u001b[1;33m(\u001b[0m\u001b[0mflag\u001b[0m\u001b[1;33m)\u001b[0m\u001b[1;33m)\u001b[0m\u001b[1;33m\u001b[0m\u001b[1;33m\u001b[0m\u001b[0m\n\u001b[1;32m---> 20\u001b[1;33m     \u001b[0mmain\u001b[0m\u001b[1;33m.\u001b[0m\u001b[0mafter\u001b[0m\u001b[1;33m(\u001b[0m\u001b[1;36m200\u001b[0m\u001b[1;33m,\u001b[0m\u001b[0mpd\u001b[0m\u001b[1;33m(\u001b[0m\u001b[0mflag\u001b[0m\u001b[1;33m)\u001b[0m\u001b[1;33m)\u001b[0m\u001b[1;33m\u001b[0m\u001b[1;33m\u001b[0m\u001b[0m\n\u001b[0m\u001b[0;32m     21\u001b[0m \u001b[1;33m\u001b[0m\u001b[0m\n\u001b[0;32m     22\u001b[0m \u001b[1;33m\u001b[0m\u001b[0m\n",
      "\u001b[1;32m<ipython-input-3-8fa96dcead4f>\u001b[0m in \u001b[0;36mpd\u001b[1;34m(flag)\u001b[0m\n\u001b[0;32m      8\u001b[0m     \u001b[0mprint\u001b[0m\u001b[1;33m(\u001b[0m\u001b[0mflag\u001b[0m\u001b[1;33m)\u001b[0m\u001b[1;33m\u001b[0m\u001b[1;33m\u001b[0m\u001b[0m\n\u001b[0;32m      9\u001b[0m     \u001b[1;32mif\u001b[0m \u001b[0mflag\u001b[0m \u001b[1;33m==\u001b[0m\u001b[1;36m0\u001b[0m \u001b[1;33m:\u001b[0m\u001b[1;33m\u001b[0m\u001b[1;33m\u001b[0m\u001b[0m\n\u001b[1;32m---> 10\u001b[1;33m         \u001b[0mmain\u001b[0m\u001b[1;33m.\u001b[0m\u001b[0mdestroy\u001b[0m\u001b[1;33m(\u001b[0m\u001b[1;33m)\u001b[0m\u001b[1;33m\u001b[0m\u001b[1;33m\u001b[0m\u001b[0m\n\u001b[0m\u001b[0;32m     11\u001b[0m \u001b[1;32mdef\u001b[0m \u001b[0mzhu\u001b[0m\u001b[1;33m(\u001b[0m\u001b[0mflag\u001b[0m\u001b[1;33m)\u001b[0m\u001b[1;33m:\u001b[0m\u001b[1;33m\u001b[0m\u001b[1;33m\u001b[0m\u001b[0m\n\u001b[0;32m     12\u001b[0m \u001b[1;33m\u001b[0m\u001b[0m\n",
      "\u001b[1;31mNameError\u001b[0m: name 'main' is not defined"
     ]
    }
   ],
   "source": [
    "from tkinter import *\n",
    "\n",
    "def zz(flag):\n",
    "    print(flag)\n",
    "    flag =1\n",
    "    print(flag)\n",
    "def pd(flag):\n",
    "    print(flag)\n",
    "    if flag ==0 :\n",
    "        main.destroy()\n",
    "def zhu(flag):\n",
    "\n",
    "    main  = Tk()\n",
    "    main.title('zhu')\n",
    "    frame = Frame(main,bg=\"blue\").pack()\n",
    "    bt = Button(frame,text = 'bt1',command=main.destroy).pack(fill=X)\n",
    "    lab = Label(frame,text='lab')\n",
    "    lab.pack()\n",
    "    lab.bind('<Button-1>',zz(flag))\n",
    "    main.after(200,pd(flag))\n",
    "\n",
    "    \n",
    "    main.mainloop()\n",
    "if __name__ == \"__main__\":\n",
    "\n",
    "    flag = 0\n",
    "    while(1):\n",
    "\n",
    "        if flag == 0:\n",
    "            zhu(flag)\n",
    "        if flag == 1:\n",
    "            ci(flag)\n",
    "        if flag == 3:\n",
    "            break"
   ]
  },
  {
   "cell_type": "code",
   "execution_count": 12,
   "metadata": {},
   "outputs": [],
   "source": [
    "#创建用户界面\n",
    "from tkinter import *\n",
    "def create():    \n",
    "    main = Tk()\n",
    "    main.title(\"创建用户\")\n",
    "    main.iconbitmap('qqico.ico')\n",
    "#     center_window(main, 250,70)\n",
    "    main.resizable(0, 0)\n",
    "    frame = Frame(main)\n",
    "    frame.pack(side=LEFT)\n",
    "    lb1 = Label(frame,text=\"创建的账号\",)\n",
    "    lb2 = Label(frame,text=\"账号的密码\",)\n",
    "    lb1.grid(row=0,column=0,sticky=E+W)\n",
    "    lb2.grid(row=1,column=0)\n",
    "    e1 = Entry(frame)\n",
    "    e1.grid(row=0,column=1)\n",
    "    e2 = Entry(frame,show=\"*\")\n",
    "    e2.grid(row=1,column=1)\n",
    "    bt = Button(frame,text='创建',command=lambda :save(e1.get(),e2.get()))\n",
    "    bt.grid(row=2,column=0,sticky=E)\n",
    "    bt = Button(frame,text='返回')\n",
    "    bt.grid(row=2,column=1,sticky=E)    \n",
    "    main.mainloop()\n",
    "if __name__ == \"__main__\":\n",
    "    create()"
   ]
  },
  {
   "cell_type": "code",
   "execution_count": 5,
   "metadata": {},
   "outputs": [],
   "source": [
    "# 把账号和密码保存在本地的数据库.txt中\n",
    "import os\n",
    "from tkinter import *\n",
    "from tkinter.filedialog import askdirectory\n",
    "def save(a,b):\n",
    "    if os.path.exists(\"实验文件夹\") :\n",
    "        pass\n",
    "    else:\n",
    "        os.chdir(r\"C:\\Users\\yu\\tkinter\")\n",
    "        os.mkdir(\"数据库.txt\")\n",
    "    \n",
    "#     "
   ]
  },
  {
   "cell_type": "code",
   "execution_count": 9,
   "metadata": {},
   "outputs": [],
   "source": [
    "\n"
   ]
  },
  {
   "cell_type": "code",
   "execution_count": 14,
   "metadata": {},
   "outputs": [],
   "source": [
    "from tkinter import *\n",
    "def ci():\n",
    "    root  = Tk()\n",
    "    root.title('ci')\n",
    "    frame2 = Frame(root,bg=\"red\").pack()\n",
    "    bt = Button(frame2,text = 'bt2').pack()\n",
    "    lb = Label(frame2,text='创建用户')\n",
    "    lb.pack(side=TOP)\n",
    "    lb.bind(\"<Button-1>\",quit)\n",
    "    root.mainloop()"
   ]
  },
  {
   "cell_type": "code",
   "execution_count": 18,
   "metadata": {},
   "outputs": [
    {
     "name": "stderr",
     "output_type": "stream",
     "text": [
      "Exception in Tkinter callback\n",
      "Traceback (most recent call last):\n",
      "  File \"C:\\Users\\yu\\anaconda3\\lib\\tkinter\\__init__.py\", line 1883, in __call__\n",
      "    return self.func(*args)\n",
      "  File \"<ipython-input-18-485d96863bce>\", line 9, in quit\n",
      "    main.destroy()\n",
      "  File \"C:\\Users\\yu\\anaconda3\\lib\\tkinter\\__init__.py\", line 2303, in destroy\n",
      "    self.tk.call('destroy', self._w)\n",
      "_tkinter.TclError: can't invoke \"destroy\" command: application has been destroyed\n"
     ]
    }
   ],
   "source": [
    "import tkinter as tk\n",
    "import tkinter.messagebox\n",
    "\n",
    "\n",
    "# 点击button时对应的操作\n",
    "def quit(e):\n",
    "    quit = tkinter.messagebox.askokcancel('提示', '真的要退出吗？')\n",
    "    if quit == True:\n",
    "        main.destroy()\n",
    "    ci()\n",
    "\n",
    "\n",
    "# 主窗口\n",
    "main = tk.Tk()\n",
    "main.title('测试主窗口')\n",
    "main.geometry('400x400')\n",
    "frame = tk.Frame(main).pack()\n",
    "# 控件\n",
    "com1 = tk.Button(frame, text='退出', command=quit)\n",
    "lb = tk.Label(frame,text='创建用户')\n",
    "lb.pack(side=tk.TOP)\n",
    "lb.bind(\"<Button-1>\",quit)\n",
    "com1.pack(side=tk.BOTTOM)\n",
    "\n",
    "main.mainloop()"
   ]
  },
  {
   "cell_type": "code",
   "execution_count": 1,
   "metadata": {},
   "outputs": [
    {
     "ename": "AttributeError",
     "evalue": "'dict' object has no attribute 'append'",
     "output_type": "error",
     "traceback": [
      "\u001b[1;31m---------------------------------------------------------------------------\u001b[0m",
      "\u001b[1;31mAttributeError\u001b[0m                            Traceback (most recent call last)",
      "\u001b[1;32m<ipython-input-1-befd39a9dae5>\u001b[0m in \u001b[0;36m<module>\u001b[1;34m\u001b[0m\n\u001b[0;32m      1\u001b[0m \u001b[1;31m#字典\u001b[0m\u001b[1;33m\u001b[0m\u001b[1;33m\u001b[0m\u001b[1;33m\u001b[0m\u001b[0m\n\u001b[0;32m      2\u001b[0m \u001b[0ma\u001b[0m \u001b[1;33m=\u001b[0m \u001b[1;33m{\u001b[0m\u001b[1;33m}\u001b[0m\u001b[1;33m\u001b[0m\u001b[1;33m\u001b[0m\u001b[0m\n\u001b[1;32m----> 3\u001b[1;33m \u001b[0ma\u001b[0m\u001b[1;33m.\u001b[0m\u001b[0mappend\u001b[0m\u001b[1;33m(\u001b[0m\u001b[1;36m1\u001b[0m\u001b[1;33m)\u001b[0m\u001b[1;33m\u001b[0m\u001b[1;33m\u001b[0m\u001b[0m\n\u001b[0m\u001b[0;32m      4\u001b[0m \u001b[0mprint\u001b[0m\u001b[1;33m(\u001b[0m\u001b[0ma\u001b[0m\u001b[1;33m)\u001b[0m\u001b[1;33m\u001b[0m\u001b[1;33m\u001b[0m\u001b[0m\n",
      "\u001b[1;31mAttributeError\u001b[0m: 'dict' object has no attribute 'append'"
     ]
    }
   ],
   "source": [
    "#字典\n",
    "a = {}\n",
    "a.append(1)\n",
    "print(a)"
   ]
  }
 ],
 "metadata": {
  "kernelspec": {
   "display_name": "Python 3",
   "language": "python",
   "name": "python3"
  },
  "language_info": {
   "codemirror_mode": {
    "name": "ipython",
    "version": 3
   },
   "file_extension": ".py",
   "mimetype": "text/x-python",
   "name": "python",
   "nbconvert_exporter": "python",
   "pygments_lexer": "ipython3",
   "version": "3.8.5"
  }
 },
 "nbformat": 4,
 "nbformat_minor": 4
}
