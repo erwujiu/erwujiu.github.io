{
 "cells": [
  {
   "cell_type": "code",
   "execution_count": null,
   "metadata": {},
   "outputs": [],
   "source": [
    "Tkinter 组件\n",
    "Tkinter的提供各种控件，如按钮，标签和文本框，一个GUI应用程序中使用。这些控件通常被称为控件或者部件。\n",
    "\n",
    "目前有15种Tkinter的部件。我们提出这些部件以及一个简短的介绍，在下面的表:"
   ]
  },
  {
   "cell_type": "code",
   "execution_count": null,
   "metadata": {},
   "outputs": [],
   "source": [
    "控件\t  描述\n",
    "Button\t按钮控件；在程序中显示按钮。\n",
    "Canvas\t画布控件；显示图形元素如线条或文本\n",
    "Checkbutton\t多选框控件；用于在程序中提供多项选择框\n",
    "Entry\t输入控件；用于显示简单的文本内容\n",
    "Frame\t框架控件；在屏幕上显示一个矩形区域，多用来作为容器\n",
    "Label\t标签控件；可以显示文本和位图\n",
    "Listbox\t列表框控件；在Listbox窗口小部件是用来显示一个字符串列表给用户\n",
    "Menubutton\t菜单按钮控件，用于显示菜单项。\n",
    "Menu\t菜单控件；显示菜单栏,下拉菜单和弹出菜单\n",
    "Message\t消息控件；用来显示多行文本，与label比较类似\n",
    "Radiobutton\t单选按钮控件；显示一个单选的按钮状态\n",
    "Scale\t范围控件；显示一个数值刻度，为输出限定范围的数字区间\n",
    "Scrollbar\t滚动条控件，当内容超过可视化区域时使用，如列表框。.\n",
    "Text\t文本控件；用于显示多行文本\n",
    "Toplevel\t容器控件；用来提供一个单独的对话框，和Frame比较类似\n",
    "Spinbox\t输入控件；与Entry类似，但是可以指定输入范围值\n",
    "PanedWindow\tPanedWindow是一个窗口布局管理的插件，可以包含一个或者多个子控件。\n",
    "LabelFrame\tlabelframe 是一个简单的容器控件。常用与复杂的窗口布局。\n",
    "tkMessageBox\t用于显示你应用程序的消息框。"
   ]
  },
  {
   "cell_type": "code",
   "execution_count": null,
   "metadata": {},
   "outputs": [],
   "source": [
    "标准属性\n",
    "标准属性也就是所有控件的共同属性，如大小，字体和颜色等等。"
   ]
  },
  {
   "cell_type": "code",
   "execution_count": null,
   "metadata": {},
   "outputs": [],
   "source": [
    "属性\t描述\n",
    "Dimension\t控件大小；\n",
    "Color\t控件颜色；\n",
    "Font\t控件字体；\n",
    "Anchor\t锚点；\n",
    "Relief\t控件样式；\n",
    "Bitmap\t位图；\n",
    "Cursor\t光标；"
   ]
  },
  {
   "cell_type": "code",
   "execution_count": null,
   "metadata": {},
   "outputs": [],
   "source": [
    "几何管理\n",
    "Tkinter控件有特定的几何状态管理方法，管理整个控件区域组织，以下是Tkinter公开的几何管理类：包、网格、位置\n",
    "\n",
    "几何方法\t描述\n",
    "pack()\t包装；\n",
    "grid()\t网格；\n",
    "place()\t位置；"
   ]
  }
 ],
 "metadata": {
  "kernelspec": {
   "display_name": "Python 3",
   "language": "python",
   "name": "python3"
  },
  "language_info": {
   "codemirror_mode": {
    "name": "ipython",
    "version": 3
   },
   "file_extension": ".py",
   "mimetype": "text/x-python",
   "name": "python",
   "nbconvert_exporter": "python",
   "pygments_lexer": "ipython3",
   "version": "3.8.5"
  }
 },
 "nbformat": 4,
 "nbformat_minor": 4
}
