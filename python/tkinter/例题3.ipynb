{
 "cells": [
  {
   "cell_type": "code",
   "execution_count": 9,
   "metadata": {},
   "outputs": [],
   "source": [
    "# 多个方框选项\n",
    "from tkinter import *\n",
    "root =Tk()\n",
    "GIRLS = ['西施', '貂蝉', '王昭君', '杨玉环']\n",
    "v= []\n",
    "for girl in GIRLS:\n",
    "    \n",
    "    v.append(IntVar)\n",
    "    b = Checkbutton(root,text=girl,variable=v[-1])\n",
    "    b.pack(anchor=W) #设置对齐方位，东E南S西W北N\n",
    "mainloop()"
   ]
  },
  {
   "cell_type": "code",
   "execution_count": 17,
   "metadata": {},
   "outputs": [],
   "source": [
    "# 多个圆点选项 Radiobutton\n",
    "from tkinter import *\n",
    "root =Tk()\n",
    "v = IntVar()\n",
    "Radiobutton(root,text= \"one\",variable =v ,value=1).pack(anchor=W)\n",
    "Radiobutton(root,text= \"two\",variable =v ,value=2).pack(anchor=W)\n",
    "Radiobutton(root,text= \"three\",variable =v ,value=3).pack(anchor=W)\n",
    "Radiobutton(root,text= \"four\",variable =v ,value=4).pack(anchor=W)\n",
    "mainloop()\n"
   ]
  },
  {
   "cell_type": "code",
   "execution_count": 4,
   "metadata": {},
   "outputs": [],
   "source": [
    "# 内陷填充按钮选项 Radiobutton indicatoron\n",
    "from tkinter import *\n",
    "root= Tk()\n",
    "LANGS = [\n",
    "    ('C', 1),\n",
    "    ('C++', 2),\n",
    "    ('shell', 3),\n",
    "    ('python', 4)]\n",
    "v = IntVar()\n",
    "v.set(1)\n",
    "\n",
    "for lang,num in LANGS:\n",
    "    #print(lang,num)\n",
    "    b = Radiobutton(root,text=lang,variable=v,value=num,indicatoron=False)#.pack(fill=X)\n",
    "    b.pack(fill=X)\n",
    "mainloop()"
   ]
  },
  {
   "cell_type": "code",
   "execution_count": 9,
   "metadata": {},
   "outputs": [],
   "source": [
    "# 附带标题的圆点选项 LabelFrame\n",
    "from tkinter import *\n",
    "root = Tk()\n",
    "group =LabelFrame(root,text='最好的开发语言是？',padx=5,pady=5)\n",
    "group.pack(padx=10,pady=10)  #如果在上面的一句中加入，就没效果，不知道为什么\n",
    "LANGS = [\n",
    "    ('C', 1),\n",
    "    ('C++', 2),\n",
    "    ('shell', 3),\n",
    "    ('python', 4)]\n",
    "v = IntVar()\n",
    "v.set(1)\n",
    "for lang, num in LANGS:  #对应列表中包含元组同时执行多个循环\n",
    "    b = Radiobutton(group, text=lang, variable=v, value=num)\n",
    "    b.pack(anchor=W)\n",
    "mainloop()"
   ]
  },
  {
   "cell_type": "code",
   "execution_count": 2,
   "metadata": {},
   "outputs": [],
   "source": [
    "# 输入框 Entry\n",
    "from tkinter import *\n",
    "root = Tk()\n",
    "e =Entry(root)\n",
    "e.pack(padx=20,pady=20)\n",
    "e.insert(0,\"默认文本\") #添加内容\n",
    "e.delete(0,END) #删除指定位置之后的文本\n",
    "\n",
    "mainloop()"
   ]
  },
  {
   "cell_type": "code",
   "execution_count": 1,
   "metadata": {
    "collapsed": true
   },
   "outputs": [
    {
     "name": "stdout",
     "output_type": "stream",
     "text": [
      "作品：《123》\n",
      "作者：《124123123》\n",
      "作品：《12321》\n",
      "作者：《12412312312》\n"
     ]
    }
   ],
   "source": [
    "# 按钮和输入框交互\n",
    "from tkinter import *\n",
    "root =Tk()\n",
    "root.title(\"标题\")\n",
    "Label(root,text=\"作品:\").grid(row=0,column=0)\n",
    "Label(root,text=\"作者:\").grid(row=1,column=0)\n",
    "\n",
    "e1 = Entry(root)\n",
    "e2 = Entry(root)\n",
    "\n",
    "e1.grid(row=0,column=1,padx=10,pady=5)\n",
    "e2.grid(row=1,column=1,padx=10,pady=5)\n",
    "\n",
    "def show(): #当输入内容时点击获取信息会打印\n",
    "    print(\"作品：《%s》\" %e1.get())\n",
    "    print(\"作者：《%s》\" %e2.get())\n",
    "\n",
    "b1=Button(root, text='获取信息', width=10, command=show)\n",
    "b1.grid(row=3, column=0, sticky=W, padx=10, pady=5)\n",
    "b2=Button(root, text='点击退出', width=10, command=root.quit)\n",
    "b2.grid(row=3, column=1, sticky=E, padx=10, pady=5)\n",
    "mainloop()"
   ]
  }
 ],
 "metadata": {
  "kernelspec": {
   "display_name": "Python 3",
   "language": "python",
   "name": "python3"
  },
  "language_info": {
   "codemirror_mode": {
    "name": "ipython",
    "version": 3
   },
   "file_extension": ".py",
   "mimetype": "text/x-python",
   "name": "python",
   "nbconvert_exporter": "python",
   "pygments_lexer": "ipython3",
   "version": "3.8.5"
  }
 },
 "nbformat": 4,
 "nbformat_minor": 4
}
