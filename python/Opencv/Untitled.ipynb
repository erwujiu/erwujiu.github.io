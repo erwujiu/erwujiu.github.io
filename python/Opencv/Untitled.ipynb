{
 "cells": [
  {
   "cell_type": "code",
   "execution_count": null,
   "metadata": {},
   "outputs": [],
   "source": [
    "import os\n",
    "import cv2\n",
    "from email.mime.multipart import MIMEMultipart #用于创建邮箱的格式\n",
    "from email.header import Header\n",
    "from email.mime.text import MIMEText  #设置内容\n",
    "from smtplib import SMTP_SSL\n",
    "cap=cv2.VideoCapture(0)  #开启摄像头拍照\n",
    "_, frame=cap.read()  #读取拍摄到的照片\n",
    "cv2.imwrite('image.jpg',frame)  #保存\n",
    "cap.release()  #关闭摄像头\n",
    "\n",
    "qq_server='smtp.qq.com' #qq邮箱的服务器\n",
    "qq_email_user='1432875327@qq.com' #设置邮箱的账号\n",
    "qq_email_password='rwgskjrczkpnhcbf' #授权码\n",
    "\n",
    "msg=MIMEMultipart()\n",
    "msg['Subject']=Header('照片') #主题信息\n",
    "msg['From']=qq_email_user #设置发送者的邮箱\n",
    "msg['To']=qq_email_user  #设置接收者的邮箱\n",
    "\n",
    "img=open('image.jpg','rb').read()\n",
    "image=MIMEText(img,'base64','utf-8')  #转换图片数据格式\n",
    "image['Content-Type']='image/jpg' #设置添加数据为图片类型\n",
    "msg.attach(image)  #将转换的数据添加为附件\n",
    "\n",
    "email=SMTP_SSL(qq_server)  #链接服务器\n",
    "email.login(qq_email_user,qq_email_password)  #登入邮箱\n",
    "email.sendmail(qq_email_user,qq_email_user,msg.as_string())  #发送\n",
    "email.quit()   #退出\n",
    "\n",
    "os.remove('image.jpg')\n",
    "print('over')"
   ]
  },
  {
   "cell_type": "code",
   "execution_count": 2,
   "metadata": {},
   "outputs": [
    {
     "ename": "NameError",
     "evalue": "name 'cv2' is not defined",
     "output_type": "error",
     "traceback": [
      "\u001b[1;31m---------------------------------------------------------------------------\u001b[0m",
      "\u001b[1;31mNameError\u001b[0m                                 Traceback (most recent call last)",
      "\u001b[1;32m<ipython-input-2-d7866dc79729>\u001b[0m in \u001b[0;36m<module>\u001b[1;34m\u001b[0m\n\u001b[0;32m      3\u001b[0m \u001b[0msj\u001b[0m\u001b[1;33m=\u001b[0m\u001b[0mtime\u001b[0m\u001b[1;33m.\u001b[0m\u001b[0mstrftime\u001b[0m\u001b[1;33m(\u001b[0m\u001b[1;34m'%Y-%m-%d %H:%M:%S'\u001b[0m\u001b[1;33m,\u001b[0m\u001b[0mtime\u001b[0m\u001b[1;33m.\u001b[0m\u001b[0mlocaltime\u001b[0m\u001b[1;33m(\u001b[0m\u001b[1;33m)\u001b[0m\u001b[1;33m)\u001b[0m\u001b[1;33m\u001b[0m\u001b[1;33m\u001b[0m\u001b[0m\n\u001b[0;32m      4\u001b[0m \u001b[1;33m\u001b[0m\u001b[0m\n\u001b[1;32m----> 5\u001b[1;33m \u001b[0mcap\u001b[0m\u001b[1;33m=\u001b[0m\u001b[0mcv2\u001b[0m\u001b[1;33m.\u001b[0m\u001b[0mvideoio_registry\u001b[0m\u001b[1;33m.\u001b[0m\u001b[0mVideoCapture\u001b[0m\u001b[1;33m(\u001b[0m\u001b[1;36m0\u001b[0m\u001b[1;33m)\u001b[0m  \u001b[1;31m#开启摄像头拍照\u001b[0m\u001b[1;33m\u001b[0m\u001b[1;33m\u001b[0m\u001b[0m\n\u001b[0m\u001b[0;32m      6\u001b[0m \u001b[0m_\u001b[0m\u001b[1;33m,\u001b[0m \u001b[0mframe\u001b[0m\u001b[1;33m=\u001b[0m\u001b[0mcap\u001b[0m\u001b[1;33m.\u001b[0m\u001b[0mread\u001b[0m\u001b[1;33m(\u001b[0m\u001b[1;33m)\u001b[0m  \u001b[1;31m#读取拍摄到的照片\u001b[0m\u001b[1;33m\u001b[0m\u001b[1;33m\u001b[0m\u001b[0m\n\u001b[0;32m      7\u001b[0m \u001b[0mname\u001b[0m\u001b[1;33m=\u001b[0m\u001b[1;33m(\u001b[0m\u001b[1;34m\"{}\"\u001b[0m\u001b[1;33m.\u001b[0m\u001b[0mformat\u001b[0m\u001b[1;33m(\u001b[0m\u001b[0msj\u001b[0m\u001b[1;33m)\u001b[0m\u001b[1;33m+\u001b[0m\u001b[1;34m'.jpg'\u001b[0m\u001b[1;33m)\u001b[0m\u001b[1;33m.\u001b[0m\u001b[0mreplace\u001b[0m\u001b[1;33m(\u001b[0m\u001b[1;34m' '\u001b[0m\u001b[1;33m,\u001b[0m\u001b[1;34m'_'\u001b[0m\u001b[1;33m)\u001b[0m\u001b[1;33m.\u001b[0m\u001b[0mreplace\u001b[0m\u001b[1;33m(\u001b[0m\u001b[1;34m\":\"\u001b[0m\u001b[1;33m,\u001b[0m\u001b[1;34m'_'\u001b[0m\u001b[1;33m)\u001b[0m \u001b[1;31m#保存的图片名字，不能\":\"，所以转换以下\u001b[0m\u001b[1;33m\u001b[0m\u001b[1;33m\u001b[0m\u001b[0m\n",
      "\u001b[1;31mNameError\u001b[0m: name 'cv2' is not defined"
     ]
    }
   ],
   "source": [
    "import cv2\n",
    "import time\n",
    "sj=time.strftime('%Y-%m-%d %H:%M:%S',time.localtime())\n",
    "\n",
    "cap=cv2.VideoCapture(0)  #开启摄像头拍照\n",
    "_, frame=cap.read()  #读取拍摄到的照片\n",
    "name=(\"{}\".format(sj)+'.jpg').replace(' ','_').replace(\":\",'_') #保存的图片名字，不能\":\"，所以转换以下\n",
    "print(name)\n",
    "cv2.imwrite(r\"C:\\Users\\yu\\Jupyter\\Opencv\\{}\".format(name),frame)  \n",
    "cap.release()  #关闭摄像头"
   ]
  },
  {
   "cell_type": "code",
   "execution_count": 8,
   "metadata": {},
   "outputs": [],
   "source": [
    "import cv2\n",
    "capture = cv2.VideoCapture(0)\n",
    "while True:\n",
    "    ret, frame = capture.read()\n",
    "    frame = cv2.flip(frame,1)   #镜像操作\n",
    "    cv2.imshow(\"video\", frame)\n",
    "    key = cv2.waitKey(50)\n",
    "    #print(key)\n",
    "    if key  == ord('q'):  #判断是哪一个键按下\n",
    "        break\n",
    "cv2.destroyAllWindows()\n",
    "capture.release()"
   ]
  },
  {
   "cell_type": "code",
   "execution_count": 11,
   "metadata": {},
   "outputs": [
    {
     "name": "stdout",
     "output_type": "stream",
     "text": [
      "<class 'str'>\n"
     ]
    }
   ],
   "source": [
    "import time\n",
    "sj=time.strftime('%Y-%m-%d %H:%M:%S',time.localtime())\n",
    "print(type(sj))"
   ]
  },
  {
   "cell_type": "code",
   "execution_count": 15,
   "metadata": {},
   "outputs": [
    {
     "name": "stdout",
     "output_type": "stream",
     "text": [
      "C:\\Users\\yu\\Jupyter\\Opencv\n"
     ]
    }
   ],
   "source": [
    "import os\n",
    "print(os.getcwd())"
   ]
  },
  {
   "cell_type": "code",
   "execution_count": 36,
   "metadata": {},
   "outputs": [],
   "source": [
    "cap.release()"
   ]
  }
 ],
 "metadata": {
  "kernelspec": {
   "display_name": "Python 3",
   "language": "python",
   "name": "python3"
  },
  "language_info": {
   "codemirror_mode": {
    "name": "ipython",
    "version": 3
   },
   "file_extension": ".py",
   "mimetype": "text/x-python",
   "name": "python",
   "nbconvert_exporter": "python",
   "pygments_lexer": "ipython3",
   "version": "3.8.5"
  }
 },
 "nbformat": 4,
 "nbformat_minor": 4
}
