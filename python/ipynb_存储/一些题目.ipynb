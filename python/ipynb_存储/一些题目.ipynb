{
 "cells": [
  {
   "cell_type": "code",
   "execution_count": 11,
   "metadata": {},
   "outputs": [
    {
     "name": "stdout",
     "output_type": "stream",
     "text": [
      "\n",
      "1*1=1 \n",
      "1*2=2 2*2=4 \n",
      "1*3=3 2*3=6 3*3=9 \n",
      "1*4=4 2*4=8 3*4=12 4*4=16 \n",
      "1*5=5 2*5=10 3*5=15 4*5=20 5*5=25 \n",
      "1*6=6 2*6=12 3*6=18 4*6=24 5*6=30 6*6=36 \n",
      "1*7=7 2*7=14 3*7=21 4*7=28 5*7=35 6*7=42 7*7=49 \n",
      "1*8=8 2*8=16 3*8=24 4*8=32 5*8=40 6*8=48 7*8=56 8*8=64 \n",
      "1*9=9 2*9=18 3*9=27 4*9=36 5*9=45 6*9=54 7*9=63 8*9=72 9*9=81 "
     ]
    }
   ],
   "source": [
    "\n",
    "for i in range(1,10):\n",
    "    print()\n",
    "    for j in range(1,i+1):\n",
    "        print('{}*{}={}'.format(j,i,i*j),end=' ')"
   ]
  },
  {
   "cell_type": "code",
   "execution_count": 38,
   "metadata": {},
   "outputs": [
    {
     "name": "stdout",
     "output_type": "stream",
     "text": [
      "[11, 14, 60, 78, 86]\n",
      "待查：60\n",
      "zd60\n"
     ]
    }
   ],
   "source": [
    "x=[random.randint(1,100) for i in range(5)]\n",
    "x.sort()\n",
    "print(x)\n",
    "\n",
    "y=eval(input('待查：'))\n",
    "upper=len(x)-1\n",
    "lower=0\n",
    "flag=-1\n",
    "while flag==-1 and lower<=upper:\n",
    "    mid=int((upper+lower)/2)\n",
    "    if y==x[mid]:\n",
    "        flag=1\n",
    "    elif y>=x[mid]:\n",
    "        lower=mid+1\n",
    "    else:\n",
    "        upper=mid-1\n",
    "print('zd{}'.format(y)) if flag==1 else print('my')\n",
    "    \n"
   ]
  },
  {
   "cell_type": "code",
   "execution_count": 69,
   "metadata": {},
   "outputs": [
    {
     "name": "stdout",
     "output_type": "stream",
     "text": [
      "[('dear', 4), ('my', 4), ('friend', 4), ('To', 12), ('You', 12), ('Happy', 16), ('Birthday', 16)]\n"
     ]
    }
   ],
   "source": [
    "str_info =\"\"\"Happy Birthday To You;\n",
    "Happy Birthday To You;\n",
    "Happy Birthday dear my friend.\n",
    "Happy Birthday To You;\n",
    "Happy Birthday To You;\n",
    "Happy Birthday To You;\n",
    "Happy Birthday dear my friend.\n",
    "Happy Birthday To You;\n",
    "Happy Birthday To You;\n",
    "Happy Birthday To You;\n",
    "Happy Birthday dear my friend.\n",
    "Happy Birthday To You;\n",
    "Happy Birthday To You;\n",
    "Happy Birthday To You;\n",
    "Happy Birthday dear my friend.\n",
    "Happy Birthday To You;\"\"\"\n",
    "# 在这里开始编写代码\n",
    "b=str_info.replace(';',' ').replace('.',' ')\n",
    "a=b.split()\n",
    "x={}\n",
    "for i in range(len(a)):\n",
    "    if a[i] in x.keys():\n",
    "        x[a[i]]+=1\n",
    "    else:\n",
    "        x[a[i]]=1\n",
    "c=sorted(x.items(),key=lambda x:x[1],reverse=False)\n",
    "print(c)"
   ]
  },
  {
   "cell_type": "code",
   "execution_count": 80,
   "metadata": {},
   "outputs": [
    {
     "name": "stdout",
     "output_type": "stream",
     "text": [
      "[('james', [5, 10]), ('李四', [2, 9]), ('张三', [2, 8]), ('王五', [6, 7])]\n"
     ]
    }
   ],
   "source": [
    "scores = {'张三':[2,8],'李四':[2,9],'王五':[6,7],'james':[5,10]}\n",
    "new_info=sorted(scores.items(),key=lambda i:i[1][1],reverse=True)\n",
    "print(new_info)"
   ]
  },
  {
   "cell_type": "code",
   "execution_count": 38,
   "metadata": {},
   "outputs": [
    {
     "name": "stdout",
     "output_type": "stream",
     "text": [
      "[2 3 4 5]\n"
     ]
    }
   ],
   "source": [
    "import numpy as np\n",
    "x=[[1, 2, 3, 4, 5],[6, 7, 8, 9, 10], [6, 7, 8, 9, 10],[99,23,232,1111,23]]\n",
    "\n",
    "y=np.array(x)\n",
    "print(y[0,1:])\n"
   ]
  },
  {
   "cell_type": "code",
   "execution_count": 70,
   "metadata": {
    "collapsed": true
   },
   "outputs": [
    {
     "name": "stdout",
     "output_type": "stream",
     "text": [
      "['1' '2' '3' '4']\n",
      "<U1\n",
      "['2']\n"
     ]
    }
   ],
   "source": [
    "import numpy as np\n",
    "\n",
    "arr = np.array([1, 2, 3, 4], dtype='U')\n",
    "\n",
    "print(arr)\n",
    "print(arr.dtype)\n",
    "print(arr[1:2])\n"
   ]
  },
  {
   "cell_type": "code",
   "execution_count": null,
   "metadata": {},
   "outputs": [],
   "source": []
  }
 ],
 "metadata": {
  "kernelspec": {
   "display_name": "Python 3",
   "language": "python",
   "name": "python3"
  },
  "language_info": {
   "codemirror_mode": {
    "name": "ipython",
    "version": 3
   },
   "file_extension": ".py",
   "mimetype": "text/x-python",
   "name": "python",
   "nbconvert_exporter": "python",
   "pygments_lexer": "ipython3",
   "version": "3.8.5"
  }
 },
 "nbformat": 4,
 "nbformat_minor": 4
}
