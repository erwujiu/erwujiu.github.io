{
 "cells": [
  {
   "cell_type": "code",
   "execution_count": 33,
   "metadata": {},
   "outputs": [],
   "source": [
    "import os\n",
    "\n",
    "#要改的文件名列表也可以放在这里\n",
    "\n",
    "files_name ='''12345请3\n",
    "1234562131\n",
    "123456\n",
    "1234561\n",
    "12345623\n",
    "123456213\n",
    "123456123\n",
    "123456125152'''\n",
    "a= files_name.split(\"\\n\")\n",
    " \n",
    "os.chdir(r\"C:\\Users\\yu\") #把当前路径定位到常用的目录中\n",
    "#判断当前路径是不是在指定的文件夹中\n",
    "if os.path.exists(\"实验文件夹\") :\n",
    "    os.chdir(os.getcwd()+\"\\实验文件夹\")\n",
    "     print(\"当前路径\"+os.getcwd())\n",
    "else :\n",
    "    os.mkdir(\"实验文件夹\")\n",
    "    os.chdir(os.getcwd()+\"\\实验文件夹\")\n",
    "    print(\"当前路径\"+os.getcwd())\n",
    "#创建实验文件    \n",
    "\"\"\"\n",
    "for i in range(1,100):\n",
    "    i = str(i)\n",
    "    with open(i+\".txt\",\"w\") as f:\n",
    "        f.write(i)\n",
    "\"\"\"\n",
    "with open(\"指定的文件.txt\",\"r\",encoding='utf-8') as f:\n",
    "    list1=f.readlines()\n",
    "# print(list1)\n",
    "\n",
    "# 批量更改名字\n",
    "def rename_file():\n",
    "    files = os.listdir()\n",
    "    num = 0\n",
    "    for file in files:  #这个是按照顺序的，假如文件名没有顺序，可以先循环添加首位数子\n",
    "        print(file)\n",
    "        os.rename(file,list1[num]+\".txt\")\n",
    "        num+=1\n",
    "        print(list1[num]+\".txt\")\n",
    "if __name__ == \"__main__\":\n",
    "    rename_file\n",
    "# n = 0\n",
    "# for i in os.listdir():\n",
    "#     n+=1\n",
    "#     print(i,end=\" \")\n",
    "#     if (n % 10) == 0 :\n",
    "#         print()"
   ]
  },
  {
   "cell_type": "code",
   "execution_count": 9,
   "metadata": {},
   "outputs": [
    {
     "name": "stdout",
     "output_type": "stream",
     "text": [
      "12345请3\n",
      "\n"
     ]
    }
   ],
   "source": [
    "import os\n",
    "\n",
    "with open(\"指定的文件.txt\",\"r\",encoding='utf-8') as f:\n",
    "    list1=f.readlines()\n",
    "\n",
    "print(list1)"
   ]
  },
  {
   "cell_type": "code",
   "execution_count": 37,
   "metadata": {},
   "outputs": [
    {
     "name": "stdout",
     "output_type": "stream",
     "text": [
      "当前路径C:\\Users\\yu\\实验文件夹\\实验文件夹\\实验文件夹\n",
      "['12345请3', '1234562131', '123456', '1234561', '12345623', '123456213', '123456123', '123456125152']\n"
     ]
    }
   ],
   "source": [
    "import os\n",
    "#如果字符串是多行切包括换行符，要这样的形式\n",
    "files_name ='''12345请3\n",
    "1234562131\n",
    "123456\n",
    "1234561\n",
    "12345623\n",
    "123456213\n",
    "123456123\n",
    "123456125152'''\n",
    "#判断当前路径是不是在指定的文件夹中\n",
    "if os.path.exists(\"实验文件夹\") :\n",
    "    os.chdir(os.getcwd()+\"\\实验文件夹\")\n",
    "    print(\"当前路径\"+os.getcwd())\n",
    "else :\n",
    "    os.mkdir(\"实验文件夹\")\n",
    "    os.chdir(os.getcwd()+\"\\实验文件夹\")\n",
    "    print(\"当前路径\"+os.getcwd())\n",
    "a= files_name.split(\"\\n\")\n",
    "print(a)\n",
    "def rename_file():\n",
    "    files = os.listdir()\n",
    "    num = 0\n",
    "    for file in files:  #这个是按照顺序的，假如文件名没有顺序，可以先循环添加首位数子\n",
    "        \n",
    "        os.rename(file,list1[num]+\".txt\")\n",
    "        num+=1\n",
    "n = 0\n",
    "for i in os.listdir():\n",
    "    n+=1\n",
    "    print(i,end=\" \")\n",
    "    if (n % 10) == 0 :\n",
    "        print()        "
   ]
  }
 ],
 "metadata": {
  "kernelspec": {
   "display_name": "Python 3",
   "language": "python",
   "name": "python3"
  },
  "language_info": {
   "codemirror_mode": {
    "name": "ipython",
    "version": 3
   },
   "file_extension": ".py",
   "mimetype": "text/x-python",
   "name": "python",
   "nbconvert_exporter": "python",
   "pygments_lexer": "ipython3",
   "version": "3.8.5"
  }
 },
 "nbformat": 4,
 "nbformat_minor": 4
}
