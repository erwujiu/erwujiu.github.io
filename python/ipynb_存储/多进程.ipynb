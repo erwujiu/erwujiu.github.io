{
 "cells": [
  {
   "cell_type": "code",
   "execution_count": null,
   "metadata": {},
   "outputs": [],
   "source": [
    "因为jupyter的原因，不能直接使用多进程\n"
   ]
  },
  {
   "cell_type": "code",
   "execution_count": null,
   "metadata": {},
   "outputs": [],
   "source": [
    "from multiprocessing import Pool\n",
    "\n",
    "def f(x):\n",
    "    return x*x\n",
    "\n",
    "if __name__ == \"__main__\" :\n",
    "    with Pool(5) as p:\n",
    "        print(p.map(f, [1,2,3]))"
   ]
  },
  {
   "cell_type": "code",
   "execution_count": 8,
   "metadata": {},
   "outputs": [
    {
     "name": "stdout",
     "output_type": "stream",
     "text": [
      "p.pid: 10068\n",
      "p.name: Process-9\n",
      "p.is_alive: True\n"
     ]
    }
   ],
   "source": [
    "import multiprocessing\n",
    "import time\n",
    "\n",
    "def start(interval):\n",
    "    \n",
    "    n = 5\n",
    "    while n > 0:\n",
    "        print(\"The time is {0}\".format(time.ctime()))\n",
    "        time.sleep(interval)\n",
    "        n -= 1\n",
    "\n",
    "if __name__ == \"__main__\":\n",
    "    p = multiprocessing.Process(target =start, args = (3,))\n",
    "    p.start()\n",
    "    print (\"p.pid:\", p.pid)\n",
    "    print( \"p.name:\", p.name)\n",
    "    print( \"p.is_alive:\", p.is_alive())"
   ]
  },
  {
   "cell_type": "code",
   "execution_count": 3,
   "metadata": {},
   "outputs": [
    {
     "name": "stdout",
     "output_type": "stream",
     "text": [
      "The number of CPU is:4\n",
      "child   p.name:Process-2\tp.id6352\n",
      "child   p.name:Process-3\tp.id256\n",
      "child   p.name:Process-4\tp.id3444\n",
      "END!!!!!!!!!!!!!!!!!\n"
     ]
    }
   ],
   "source": [
    "import multiprocessing\n",
    "import time\n",
    "\n",
    "def worker_1(interval):\n",
    "    print (\"worker_1\")\n",
    "    time.sleep(interval)\n",
    "    print (\"end worker_1\")\n",
    "\n",
    "def worker_2(interval):\n",
    "    print (\"worker_2\")\n",
    "    time.sleep(interval)\n",
    "    print (\"end worker_2\")\n",
    "\n",
    "def worker_3(interval):\n",
    "    print (\"worker_3\")\n",
    "    time.sleep(interval)\n",
    "    print (\"end worker_3\")\n",
    "\n",
    "if __name__ == \"__main__\":\n",
    "    p1 = multiprocessing.Process(target = worker_1, args = (2,))\n",
    "    p2 = multiprocessing.Process(target = worker_2, args = (3,))\n",
    "    p3 = multiprocessing.Process(target = worker_3, args = (4,))\n",
    "\n",
    "    p1.start()\n",
    "    p2.start()\n",
    "    p3.start()\n",
    "\n",
    "    print(\"The number of CPU is:\" + str(multiprocessing.cpu_count()))\n",
    "    for p in multiprocessing.active_children():\n",
    "        print(\"child   p.name:\" + p.name + \"\\tp.id\" + str(p.pid))\n",
    "    print (\"END!!!!!!!!!!!!!!!!!\")"
   ]
  },
  {
   "cell_type": "code",
   "execution_count": 5,
   "metadata": {},
   "outputs": [],
   "source": [
    "import multiprocessing\n",
    "import time\n",
    "\n",
    "class ClockProcess(multiprocessing.Process):\n",
    "    def __init__(self, interval):\n",
    "        multiprocessing.Process.__init__(self)\n",
    "        self.interval = interval\n",
    "\n",
    "    def run(self):\n",
    "        n = 5\n",
    "        while n > 0:\n",
    "            print(\"the time is {0}\".format(time.ctime()))\n",
    "            time.sleep(self.interval)\n",
    "            n -= 1\n",
    "\n",
    "if __name__ == '__main__':\n",
    "    p = ClockProcess(3)\n",
    "    p.start()"
   ]
  },
  {
   "cell_type": "code",
   "execution_count": null,
   "metadata": {},
   "outputs": [
    {
     "name": "stdout",
     "output_type": "stream",
     "text": [
      "Mark~ Mark~ Mark~~~~~~~~~~~~~~~~~~~~~~\n"
     ]
    }
   ],
   "source": [
    "#coding: utf-8\n",
    "import multiprocessing\n",
    "import time\n",
    "\n",
    "def func(msg):\n",
    "    print( \"msg:\", msg)\n",
    "    time.sleep(3)\n",
    "    print (\"end\")\n",
    "\n",
    "if __name__ == \"__main__\":\n",
    "    pool = multiprocessing.Pool(processes = 3)\n",
    "    for i in range(4):\n",
    "        msg = \"hello %d\" %(i)\n",
    "        pool.apply_async(func, (msg, ))   #维持执行的进程总数为processes，当一个进程执行完毕后会添加新的进程进去\n",
    "\n",
    "    print (\"Mark~ Mark~ Mark~~~~~~~~~~~~~~~~~~~~~~\")\n",
    "    pool.close()\n",
    "    pool.join()   #调用join之前，先调用close函数，否则会出错。执行完close后不会有新的进程加入到pool,join函数等待所有子进程结束\n",
    "    print (\"Sub-process(es) done.\")"
   ]
  },
  {
   "cell_type": "code",
   "execution_count": null,
   "metadata": {},
   "outputs": [],
   "source": [
    "分割线，上面的都有问题==============================================="
   ]
  },
  {
   "cell_type": "code",
   "execution_count": 9,
   "metadata": {},
   "outputs": [
    {
     "name": "stdout",
     "output_type": "stream",
     "text": [
      "Writing 多进程.py\n"
     ]
    }
   ],
   "source": [
    "%%writefile 多进程.py\n",
    "from multiprocessing import  Process\n",
    "\n",
    "def fun1(name):\n",
    "    print('测试%s多进程' %name)\n",
    "\n",
    "if __name__ == '__main__':\n",
    "    process_list = []\n",
    "    for i in range(5):  #开启5个子进程执行fun1函数\n",
    "        p = Process(target=fun1,args=('Python',)) #实例化进程对象\n",
    "        p.start()\n",
    "        process_list.append(p)\n",
    "\n",
    "    for i in process_list:\n",
    "        p.join()\n",
    "\n",
    "    print('结束测试')"
   ]
  },
  {
   "cell_type": "code",
   "execution_count": 10,
   "metadata": {},
   "outputs": [
    {
     "name": "stdout",
     "output_type": "stream",
     "text": [
      "结束测试\n"
     ]
    }
   ],
   "source": [
    "%run 多进程.py"
   ]
  },
  {
   "cell_type": "code",
   "execution_count": 7,
   "metadata": {},
   "outputs": [
    {
     "name": "stdout",
     "output_type": "stream",
     "text": [
      "父进程启动\n",
      "子进程将要执行\n",
      "pro-1\n",
      "主进程结束\n"
     ]
    },
    {
     "data": {
      "text/plain": [
       "\"\\nif __name__=='__main__':说明\\n一个Python的文件(模块)有两种使用的方法，第一是直接作为程序执行，\\n第二是被其他Python模块导入（import）调用执行（模块重用）\\n因此if __name__=='__main__':的作用就是控制这两种情况执行代码的过程，__name__是内置变量，用于表示当前模块的名字\\n(如果当前的文件作为程序直接执行，那么此时它的__name__就是__main)也就是说\\n在if __name__=='__main__':下的代码只有在文件作为程序直接执行时才会执行，而import到其他程序中是不会执行的\\n在Windows上，子进程会自动import启动它的这个文件，而在import的时候是会执行这些语句的，如果不加if __name__=='__main__':\\n的话就会无线递归创建子进程，所以必须把创建子进程的部分用那个if判断保护起来\\nimport的时候如果__name__不是__main__,就不会递归运行了\\n\""
      ]
     },
     "execution_count": 7,
     "metadata": {},
     "output_type": "execute_result"
    }
   ],
   "source": [
    "from multiprocessing import Process\n",
    "def run(name):\n",
    "    print(\"子进程运行中，name=%s\"%name)\n",
    "    print(\"子进程结束\")\n",
    "    # print(a)\n",
    "if __name__ == '__main__':\n",
    "    print(\"父进程启动\")\n",
    "    # a = 1000\n",
    "    p=Process(target=run,args=('test',),name='pro-1')\n",
    "    #\"=\"右边是创建的子进程对象，p是该对象的引用  name='pro-1'可以不写，系统会默认起名： Process-n（是第几个子进程就叫-几）\n",
    "    #target表示调用对象，args表示调用对象的位置参数元组\n",
    "    #注意：元组中只有一个元素时结尾要加,\n",
    "    print(\"子进程将要执行\")\n",
    "    p.daemon=True  #是否设置为守护进程（主进程结束，子进程也结束）（如果主进程结束，子进程还在运行，那么这个子进程叫孤儿进程）\n",
    "    p.start()#此时子进程运行，CPU中主进程和子进程频繁做切换\n",
    "    #在子进程执行时有个问题：在Windows上，子进程执行时会自动import启动它的这个文件（主进程），而在import的时候是会执行这些语句的，\n",
    "    #这些语句中包含了创建一个子进程对象，因此会导致递归（无限创建子进程）\n",
    "    print(p.name)\n",
    "    p.join()#此处join()的作用：让主进程等子进程执行完再退出（因为程序执行过程中如果主进程退出，此时子进程未执行完，也会退出）\n",
    "    print(\"主进程结束\")\n",
    "'''\n",
    "if __name__=='__main__':说明\n",
    "一个Python的文件(模块)有两种使用的方法，第一是直接作为程序执行，\n",
    "第二是被其他Python模块导入（import）调用执行（模块重用）\n",
    "因此if __name__=='__main__':的作用就是控制这两种情况执行代码的过程，__name__是内置变量，用于表示当前模块的名字\n",
    "(如果当前的文件作为程序直接执行，那么此时它的__name__就是__main)也就是说\n",
    "在if __name__=='__main__':下的代码只有在文件作为程序直接执行时才会执行，而import到其他程序中是不会执行的\n",
    "在Windows上，子进程会自动import启动它的这个文件，而在import的时候是会执行这些语句的，如果不加if __name__=='__main__':\n",
    "的话就会无线递归创建子进程，所以必须把创建子进程的部分用那个if判断保护起来\n",
    "import的时候如果__name__不是__main__,就不会递归运行了\n",
    "'''"
   ]
  }
 ],
 "metadata": {
  "kernelspec": {
   "display_name": "Python 3",
   "language": "python",
   "name": "python3"
  },
  "language_info": {
   "codemirror_mode": {
    "name": "ipython",
    "version": 3
   },
   "file_extension": ".py",
   "mimetype": "text/x-python",
   "name": "python",
   "nbconvert_exporter": "python",
   "pygments_lexer": "ipython3",
   "version": "3.8.5"
  }
 },
 "nbformat": 4,
 "nbformat_minor": 4
}
