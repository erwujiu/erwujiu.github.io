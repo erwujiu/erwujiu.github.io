{
 "cells": [
  {
   "cell_type": "code",
   "execution_count": 10,
   "metadata": {},
   "outputs": [
    {
     "name": "stdout",
     "output_type": "stream",
     "text": [
      "[1, 2, 3, 11, 12, 21, 23, 23, 25, 42, 123]\n",
      "55\n"
     ]
    }
   ],
   "source": [
    "z=0\n",
    "a=[12,23,21,42,11,123,1,23,25,2,3]\n",
    "n=len(a)\n",
    "for i in range(n): \n",
    "    for j in range(i+1,n):\n",
    "        if a[i]>a[j]:\n",
    "            a[i],a[j]=a[j],a[i]\n",
    "        z+=1\n",
    "print(a)\n",
    "print(z)\n",
    "    \n"
   ]
  },
  {
   "cell_type": "code",
   "execution_count": 5,
   "metadata": {},
   "outputs": [
    {
     "name": "stdout",
     "output_type": "stream",
     "text": [
      "[[56 23 55 58 77]\n",
      " [39  2 22 74  3]\n",
      " [24  9 75 11 92]\n",
      " [56 58 18 87 87]\n",
      " [79 46 57 96 43]]\n"
     ]
    }
   ],
   "source": [
    "import pygame\n",
    "def main():\n",
    "    pay"
   ]
  }
 ],
 "metadata": {
  "kernelspec": {
   "display_name": "Python 3",
   "language": "python",
   "name": "python3"
  },
  "language_info": {
   "codemirror_mode": {
    "name": "ipython",
    "version": 3
   },
   "file_extension": ".py",
   "mimetype": "text/x-python",
   "name": "python",
   "nbconvert_exporter": "python",
   "pygments_lexer": "ipython3",
   "version": "3.8.5"
  }
 },
 "nbformat": 4,
 "nbformat_minor": 4
}
