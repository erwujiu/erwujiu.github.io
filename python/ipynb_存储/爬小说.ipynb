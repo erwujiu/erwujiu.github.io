{
 "cells": [
  {
   "cell_type": "code",
   "execution_count": 88,
   "metadata": {},
   "outputs": [
    {
     "name": "stdout",
     "output_type": "stream",
     "text": [
      "over\n"
     ]
    }
   ],
   "source": [
    "from parsel import Selector\n",
    "import requests\n",
    "\n",
    "url=\"http://www.paoshuzw.com/10/10489/9687224.html\"\n",
    "headers={'User-Agent': 'Mozilla/5.0 (Windows NT 10.0; Win64; x64) AppleWebKit/537.36 (KHTML, like Gecko) Chrome/88.0.4324.182 Safari/537.36 Edg/88.0.705.74'}\n",
    "res=requests.get(url,headers=headers).content\n",
    "res=res.decode('utf-8')\n",
    "\n",
    "selector = Selector(res)\n",
    "titleaa = selector.xpath('//div[@id=\"content\"]').extract()\n",
    "title=str(titleaa)\n",
    "\n",
    "title=title.replace(r'\\r<br>\\r<br>\\xa0\\xa0\\xa0\\xa0',' ').replace(r'<div id=\"content\">','').replace(r'\\xa0\\xa0\\xa0\\xa0',' ')\n",
    "title=title.replace(r'</p></div>',' ')\n",
    "a=title.split(' ')\n",
    "\n",
    "a=a[1:-6]\n",
    "with open('小说.txt','w',encoding='utf-8') as fp:\n",
    "    for i in a:\n",
    "        fp.write(i+'\\n')\n",
    "        \n",
    "print('over')\n"
   ]
  },
  {
   "cell_type": "code",
   "execution_count": 4,
   "metadata": {
    "collapsed": true
   },
   "outputs": [
    {
     "ename": "JSONDecodeError",
     "evalue": "Expecting value: line 1 column 1 (char 0)",
     "output_type": "error",
     "traceback": [
      "\u001b[1;31m---------------------------------------------------------------------------\u001b[0m",
      "\u001b[1;31mJSONDecodeError\u001b[0m                           Traceback (most recent call last)",
      "\u001b[1;32m<ipython-input-4-11e9a9918aad>\u001b[0m in \u001b[0;36m<module>\u001b[1;34m\u001b[0m\n\u001b[0;32m      3\u001b[0m \u001b[0murl\u001b[0m\u001b[1;33m=\u001b[0m\u001b[1;34m\"http://www.paoshuzw.com\"\u001b[0m\u001b[1;33m\u001b[0m\u001b[1;33m\u001b[0m\u001b[0m\n\u001b[0;32m      4\u001b[0m \u001b[0mheaders\u001b[0m\u001b[1;33m=\u001b[0m\u001b[1;33m{\u001b[0m\u001b[1;34m'User-Agent'\u001b[0m\u001b[1;33m:\u001b[0m \u001b[1;34m'Mozilla/5.0 (Windows NT 10.0; Win64; x64) AppleWebKit/537.36 (KHTML, like Gecko) Chrome/88.0.4324.182 Safari/537.36 Edg/88.0.705.74'\u001b[0m\u001b[1;33m}\u001b[0m\u001b[1;33m\u001b[0m\u001b[1;33m\u001b[0m\u001b[0m\n\u001b[1;32m----> 5\u001b[1;33m \u001b[0mres\u001b[0m\u001b[1;33m=\u001b[0m\u001b[0mrequests\u001b[0m\u001b[1;33m.\u001b[0m\u001b[0mpost\u001b[0m\u001b[1;33m(\u001b[0m\u001b[0murl\u001b[0m\u001b[1;33m,\u001b[0m\u001b[0mheaders\u001b[0m\u001b[1;33m=\u001b[0m\u001b[0mheaders\u001b[0m\u001b[1;33m)\u001b[0m\u001b[1;33m.\u001b[0m\u001b[0mjson\u001b[0m\u001b[1;33m(\u001b[0m\u001b[1;33m)\u001b[0m\u001b[1;33m\u001b[0m\u001b[1;33m\u001b[0m\u001b[0m\n\u001b[0m\u001b[0;32m      6\u001b[0m \u001b[1;31m# a=re.compile('<dd>(.*)</a>')\u001b[0m\u001b[1;33m\u001b[0m\u001b[1;33m\u001b[0m\u001b[1;33m\u001b[0m\u001b[0m\n\u001b[0;32m      7\u001b[0m \u001b[1;31m# b=a.findall(res)\u001b[0m\u001b[1;33m\u001b[0m\u001b[1;33m\u001b[0m\u001b[1;33m\u001b[0m\u001b[0m\n",
      "\u001b[1;32m~\\anaconda3\\lib\\site-packages\\requests\\models.py\u001b[0m in \u001b[0;36mjson\u001b[1;34m(self, **kwargs)\u001b[0m\n\u001b[0;32m    896\u001b[0m                     \u001b[1;31m# used.\u001b[0m\u001b[1;33m\u001b[0m\u001b[1;33m\u001b[0m\u001b[1;33m\u001b[0m\u001b[0m\n\u001b[0;32m    897\u001b[0m                     \u001b[1;32mpass\u001b[0m\u001b[1;33m\u001b[0m\u001b[1;33m\u001b[0m\u001b[0m\n\u001b[1;32m--> 898\u001b[1;33m         \u001b[1;32mreturn\u001b[0m \u001b[0mcomplexjson\u001b[0m\u001b[1;33m.\u001b[0m\u001b[0mloads\u001b[0m\u001b[1;33m(\u001b[0m\u001b[0mself\u001b[0m\u001b[1;33m.\u001b[0m\u001b[0mtext\u001b[0m\u001b[1;33m,\u001b[0m \u001b[1;33m**\u001b[0m\u001b[0mkwargs\u001b[0m\u001b[1;33m)\u001b[0m\u001b[1;33m\u001b[0m\u001b[1;33m\u001b[0m\u001b[0m\n\u001b[0m\u001b[0;32m    899\u001b[0m \u001b[1;33m\u001b[0m\u001b[0m\n\u001b[0;32m    900\u001b[0m     \u001b[1;33m@\u001b[0m\u001b[0mproperty\u001b[0m\u001b[1;33m\u001b[0m\u001b[1;33m\u001b[0m\u001b[0m\n",
      "\u001b[1;32m~\\anaconda3\\lib\\json\\__init__.py\u001b[0m in \u001b[0;36mloads\u001b[1;34m(s, cls, object_hook, parse_float, parse_int, parse_constant, object_pairs_hook, **kw)\u001b[0m\n\u001b[0;32m    355\u001b[0m             \u001b[0mparse_int\u001b[0m \u001b[1;32mis\u001b[0m \u001b[1;32mNone\u001b[0m \u001b[1;32mand\u001b[0m \u001b[0mparse_float\u001b[0m \u001b[1;32mis\u001b[0m \u001b[1;32mNone\u001b[0m \u001b[1;32mand\u001b[0m\u001b[1;33m\u001b[0m\u001b[1;33m\u001b[0m\u001b[0m\n\u001b[0;32m    356\u001b[0m             parse_constant is None and object_pairs_hook is None and not kw):\n\u001b[1;32m--> 357\u001b[1;33m         \u001b[1;32mreturn\u001b[0m \u001b[0m_default_decoder\u001b[0m\u001b[1;33m.\u001b[0m\u001b[0mdecode\u001b[0m\u001b[1;33m(\u001b[0m\u001b[0ms\u001b[0m\u001b[1;33m)\u001b[0m\u001b[1;33m\u001b[0m\u001b[1;33m\u001b[0m\u001b[0m\n\u001b[0m\u001b[0;32m    358\u001b[0m     \u001b[1;32mif\u001b[0m \u001b[0mcls\u001b[0m \u001b[1;32mis\u001b[0m \u001b[1;32mNone\u001b[0m\u001b[1;33m:\u001b[0m\u001b[1;33m\u001b[0m\u001b[1;33m\u001b[0m\u001b[0m\n\u001b[0;32m    359\u001b[0m         \u001b[0mcls\u001b[0m \u001b[1;33m=\u001b[0m \u001b[0mJSONDecoder\u001b[0m\u001b[1;33m\u001b[0m\u001b[1;33m\u001b[0m\u001b[0m\n",
      "\u001b[1;32m~\\anaconda3\\lib\\json\\decoder.py\u001b[0m in \u001b[0;36mdecode\u001b[1;34m(self, s, _w)\u001b[0m\n\u001b[0;32m    335\u001b[0m \u001b[1;33m\u001b[0m\u001b[0m\n\u001b[0;32m    336\u001b[0m         \"\"\"\n\u001b[1;32m--> 337\u001b[1;33m         \u001b[0mobj\u001b[0m\u001b[1;33m,\u001b[0m \u001b[0mend\u001b[0m \u001b[1;33m=\u001b[0m \u001b[0mself\u001b[0m\u001b[1;33m.\u001b[0m\u001b[0mraw_decode\u001b[0m\u001b[1;33m(\u001b[0m\u001b[0ms\u001b[0m\u001b[1;33m,\u001b[0m \u001b[0midx\u001b[0m\u001b[1;33m=\u001b[0m\u001b[0m_w\u001b[0m\u001b[1;33m(\u001b[0m\u001b[0ms\u001b[0m\u001b[1;33m,\u001b[0m \u001b[1;36m0\u001b[0m\u001b[1;33m)\u001b[0m\u001b[1;33m.\u001b[0m\u001b[0mend\u001b[0m\u001b[1;33m(\u001b[0m\u001b[1;33m)\u001b[0m\u001b[1;33m)\u001b[0m\u001b[1;33m\u001b[0m\u001b[1;33m\u001b[0m\u001b[0m\n\u001b[0m\u001b[0;32m    338\u001b[0m         \u001b[0mend\u001b[0m \u001b[1;33m=\u001b[0m \u001b[0m_w\u001b[0m\u001b[1;33m(\u001b[0m\u001b[0ms\u001b[0m\u001b[1;33m,\u001b[0m \u001b[0mend\u001b[0m\u001b[1;33m)\u001b[0m\u001b[1;33m.\u001b[0m\u001b[0mend\u001b[0m\u001b[1;33m(\u001b[0m\u001b[1;33m)\u001b[0m\u001b[1;33m\u001b[0m\u001b[1;33m\u001b[0m\u001b[0m\n\u001b[0;32m    339\u001b[0m         \u001b[1;32mif\u001b[0m \u001b[0mend\u001b[0m \u001b[1;33m!=\u001b[0m \u001b[0mlen\u001b[0m\u001b[1;33m(\u001b[0m\u001b[0ms\u001b[0m\u001b[1;33m)\u001b[0m\u001b[1;33m:\u001b[0m\u001b[1;33m\u001b[0m\u001b[1;33m\u001b[0m\u001b[0m\n",
      "\u001b[1;32m~\\anaconda3\\lib\\json\\decoder.py\u001b[0m in \u001b[0;36mraw_decode\u001b[1;34m(self, s, idx)\u001b[0m\n\u001b[0;32m    353\u001b[0m             \u001b[0mobj\u001b[0m\u001b[1;33m,\u001b[0m \u001b[0mend\u001b[0m \u001b[1;33m=\u001b[0m \u001b[0mself\u001b[0m\u001b[1;33m.\u001b[0m\u001b[0mscan_once\u001b[0m\u001b[1;33m(\u001b[0m\u001b[0ms\u001b[0m\u001b[1;33m,\u001b[0m \u001b[0midx\u001b[0m\u001b[1;33m)\u001b[0m\u001b[1;33m\u001b[0m\u001b[1;33m\u001b[0m\u001b[0m\n\u001b[0;32m    354\u001b[0m         \u001b[1;32mexcept\u001b[0m \u001b[0mStopIteration\u001b[0m \u001b[1;32mas\u001b[0m \u001b[0merr\u001b[0m\u001b[1;33m:\u001b[0m\u001b[1;33m\u001b[0m\u001b[1;33m\u001b[0m\u001b[0m\n\u001b[1;32m--> 355\u001b[1;33m             \u001b[1;32mraise\u001b[0m \u001b[0mJSONDecodeError\u001b[0m\u001b[1;33m(\u001b[0m\u001b[1;34m\"Expecting value\"\u001b[0m\u001b[1;33m,\u001b[0m \u001b[0ms\u001b[0m\u001b[1;33m,\u001b[0m \u001b[0merr\u001b[0m\u001b[1;33m.\u001b[0m\u001b[0mvalue\u001b[0m\u001b[1;33m)\u001b[0m \u001b[1;32mfrom\u001b[0m \u001b[1;32mNone\u001b[0m\u001b[1;33m\u001b[0m\u001b[1;33m\u001b[0m\u001b[0m\n\u001b[0m\u001b[0;32m    356\u001b[0m         \u001b[1;32mreturn\u001b[0m \u001b[0mobj\u001b[0m\u001b[1;33m,\u001b[0m \u001b[0mend\u001b[0m\u001b[1;33m\u001b[0m\u001b[1;33m\u001b[0m\u001b[0m\n",
      "\u001b[1;31mJSONDecodeError\u001b[0m: Expecting value: line 1 column 1 (char 0)"
     ]
    }
   ],
   "source": [
    "import re\n",
    "import requests\n",
    "url=\"http://www.paoshuzw.com\"\n",
    "headers={'User-Agent': 'Mozilla/5.0 (Windows NT 10.0; Win64; x64) AppleWebKit/537.36 (KHTML, like Gecko) Chrome/88.0.4324.182 Safari/537.36 Edg/88.0.705.74'}\n",
    "res=requests.post(url,headers=headers).json()\n",
    "# a=re.compile('<dd>(.*)</a>')\n",
    "# b=a.findall(res)\n",
    "# print(res)\n",
    "print(res)"
   ]
  },
  {
   "cell_type": "code",
   "execution_count": 78,
   "metadata": {
    "scrolled": true
   },
   "outputs": [
    {
     "name": "stdout",
     "output_type": "stream",
     "text": [
      "12 over\n",
      "13 over\n",
      "14 over\n",
      "15 over\n",
      "16 over\n",
      "17 over\n",
      "18 over\n",
      "19 over\n",
      "20 over\n",
      "21 over\n",
      "22 over\n",
      "23 over\n",
      "24 over\n",
      "25 over\n",
      "26 over\n",
      "27 over\n",
      "28 over\n",
      "29 over\n",
      "30 over\n",
      "31 over\n",
      "32 over\n",
      "33 over\n",
      "34 over\n",
      "35 over\n",
      "36 over\n",
      "37 over\n",
      "38 over\n",
      "39 over\n",
      "40 over\n",
      "41 over\n",
      "42 over\n",
      "43 over\n",
      "44 over\n",
      "45 over\n",
      "46 over\n",
      "47 over\n",
      "48 over\n",
      "49 over\n",
      "50 over\n",
      "51 over\n",
      "52 over\n",
      "53 over\n",
      "54 over\n",
      "55 over\n",
      "56 over\n",
      "57 over\n",
      "58 over\n",
      "59 over\n",
      "60 over\n",
      "61 over\n"
     ]
    }
   ],
   "source": [
    "\n",
    "from parsel import Selector\n",
    "import requests\n",
    "import os\n",
    "path='C:/Users/yu/起点小说'\n",
    "os.chdir(path)\n",
    "url=\"https://book.qidian.com/info/1025161188#Catalog\"\n",
    "headers={'User-Agent': 'Mozilla/5.0 (Windows NT 10.0; Win64; x64) AppleWebKit/537.36 (KHTML, like Gecko) Chrome/88.0.4324.182 Safari/537.36 Edg/88.0.705.74'}\n",
    "res=requests.get(url,headers=headers).text\n",
    "date=Selector(res)\n",
    "x=[]\n",
    "for i in range(1,51):\n",
    "    a=''.join(date.xpath('//*[@id=\"j-catalogWrap\"]/div[2]/div[1]/ul/li[{}]/a/@href'.format(i)).getall())\n",
    "    x.append(a)\n",
    "n=11\n",
    "for i in x:\n",
    "    i='https:'+i\n",
    "\n",
    "    a=requests.get(i,headers=headers).text\n",
    "    b=Selector(a)\n",
    "    c=b.xpath('//div[@class=\"read-content j_readContent\"]').extract()\n",
    "    c=''.join(c)\n",
    "    c=c.replace(r'</p><p>\\u3000\\u3000',' ').replace(r'<div class=\"read-content j_readContent\" id=\"\">',' ').replace(r'</p><p>',' ')\n",
    "    c=c.replace(r'<p>',' ').replace(r'</p></div>','')\n",
    "    with open(str(n)+'txt','w+',encoding='utf-8') as fp:\n",
    "        fp.write(c)\n",
    "    n+=1\n",
    "    print(n,'over')\n",
    "\n"
   ]
  },
  {
   "cell_type": "code",
   "execution_count": 76,
   "metadata": {},
   "outputs": [
    {
     "name": "stdout",
     "output_type": "stream",
     "text": [
      "['//read.qidian.com/chapter/tQnlDEFHkgvVl9ByXxZ_TQ2/cKJHH3NNMEz4p8iEw--PPw2', '//read.qidian.com/chapter/tQnlDEFHkgvVl9ByXxZ_TQ2/0L2GwfWxl8P6ItTi_ILQ7A2', '//read.qidian.com/chapter/tQnlDEFHkgvVl9ByXxZ_TQ2/G8bSAENHmd5p4rPq4Fd4KQ2', '//read.qidian.com/chapter/tQnlDEFHkgvVl9ByXxZ_TQ2/dcapptZGIOnwrjbX3WA1AA2', '//read.qidian.com/chapter/tQnlDEFHkgvVl9ByXxZ_TQ2/_Qf1yuuwzQ62uJcMpdsVgA2', '//read.qidian.com/chapter/tQnlDEFHkgvVl9ByXxZ_TQ2/G3Xl5HsxQDDM5j8_3RRvhw2', '//read.qidian.com/chapter/tQnlDEFHkgvVl9ByXxZ_TQ2/11ST3Ti6aX7wrjbX3WA1AA2', '//read.qidian.com/chapter/tQnlDEFHkgvVl9ByXxZ_TQ2/LI-ya0olg_n4p8iEw--PPw2', '//read.qidian.com/chapter/tQnlDEFHkgvVl9ByXxZ_TQ2/cqksU91l9tyaGfXRMrUjdw2', '//read.qidian.com/chapter/tQnlDEFHkgvVl9ByXxZ_TQ2/Fk-Q2BkAb8hp4rPq4Fd4KQ2', '//read.qidian.com/chapter/tQnlDEFHkgvVl9ByXxZ_TQ2/uEWcpbmZIRn6ItTi_ILQ7A2', '//read.qidian.com/chapter/tQnlDEFHkgvVl9ByXxZ_TQ2/kTBY-EqiEtNp4rPq4Fd4KQ2', '//read.qidian.com/chapter/tQnlDEFHkgvVl9ByXxZ_TQ2/gSivRBlhIe_gn4SMoDUcDQ2', '//read.qidian.com/chapter/tQnlDEFHkgvVl9ByXxZ_TQ2/lVE3iqza7D5p4rPq4Fd4KQ2', '//read.qidian.com/chapter/tQnlDEFHkgvVl9ByXxZ_TQ2/lW2vBZSuOepp4rPq4Fd4KQ2', '//read.qidian.com/chapter/tQnlDEFHkgvVl9ByXxZ_TQ2/Rzarz8kYkYm2uJcMpdsVgA2', '//read.qidian.com/chapter/tQnlDEFHkgvVl9ByXxZ_TQ2/L99rENPuCfhOBDFlr9quQA2', '//read.qidian.com/chapter/tQnlDEFHkgvVl9ByXxZ_TQ2/d5iXpX1NZ-v6ItTi_ILQ7A2', '//read.qidian.com/chapter/tQnlDEFHkgvVl9ByXxZ_TQ2/mPGev_3Q0ATwrjbX3WA1AA2', '//read.qidian.com/chapter/tQnlDEFHkgvVl9ByXxZ_TQ2/kbQLB_WZwTS2uJcMpdsVgA2', '//read.qidian.com/chapter/tQnlDEFHkgvVl9ByXxZ_TQ2/Pg6qGyAhdibwrjbX3WA1AA2', '//read.qidian.com/chapter/tQnlDEFHkgvVl9ByXxZ_TQ2/m_RJFLFQqT_6ItTi_ILQ7A2', '//read.qidian.com/chapter/tQnlDEFHkgvVl9ByXxZ_TQ2/_NMUr94K0jyaGfXRMrUjdw2', '//read.qidian.com/chapter/tQnlDEFHkgvVl9ByXxZ_TQ2/7n6_5eaksvrM5j8_3RRvhw2', '//read.qidian.com/chapter/tQnlDEFHkgvVl9ByXxZ_TQ2/Sw6b24lzX5RMs5iq0oQwLQ2', '//read.qidian.com/chapter/tQnlDEFHkgvVl9ByXxZ_TQ2/F6Hk5qIJygr6ItTi_ILQ7A2', '//read.qidian.com/chapter/tQnlDEFHkgvVl9ByXxZ_TQ2/1nDeLboCHzrwrjbX3WA1AA2', '//read.qidian.com/chapter/tQnlDEFHkgvVl9ByXxZ_TQ2/voGl-POMjbKaGfXRMrUjdw2', '//read.qidian.com/chapter/tQnlDEFHkgvVl9ByXxZ_TQ2/2SoftFDXpOnM5j8_3RRvhw2', '//read.qidian.com/chapter/tQnlDEFHkgvVl9ByXxZ_TQ2/liIGxdDmoGROBDFlr9quQA2', '//read.qidian.com/chapter/tQnlDEFHkgvVl9ByXxZ_TQ2/z3AMrQj_JgrwrjbX3WA1AA2', '//read.qidian.com/chapter/tQnlDEFHkgvVl9ByXxZ_TQ2/1wJ7omMC3ma2uJcMpdsVgA2', '//read.qidian.com/chapter/tQnlDEFHkgvVl9ByXxZ_TQ2/46IPkFl6PWH6ItTi_ILQ7A2', '//read.qidian.com/chapter/tQnlDEFHkgvVl9ByXxZ_TQ2/ixZr7DnD2iz6ItTi_ILQ7A2', '//read.qidian.com/chapter/tQnlDEFHkgvVl9ByXxZ_TQ2/t1ckuxVPmRdOBDFlr9quQA2', '//read.qidian.com/chapter/tQnlDEFHkgvVl9ByXxZ_TQ2/K8G486Q_RQBp4rPq4Fd4KQ2', '//read.qidian.com/chapter/tQnlDEFHkgvVl9ByXxZ_TQ2/pINnTJIn0Vz4p8iEw--PPw2', '//read.qidian.com/chapter/tQnlDEFHkgvVl9ByXxZ_TQ2/vtNvt-Lgdm3M5j8_3RRvhw2', '//read.qidian.com/chapter/tQnlDEFHkgvVl9ByXxZ_TQ2/1RCCcajRd0HwrjbX3WA1AA2', '//read.qidian.com/chapter/tQnlDEFHkgvVl9ByXxZ_TQ2/taH69ciNBNFp4rPq4Fd4KQ2', '//read.qidian.com/chapter/tQnlDEFHkgvVl9ByXxZ_TQ2/tLW3pzqp4ef4p8iEw--PPw2', '//read.qidian.com/chapter/tQnlDEFHkgvVl9ByXxZ_TQ2/Q6dkUEZXaEfgn4SMoDUcDQ2', '//read.qidian.com/chapter/tQnlDEFHkgvVl9ByXxZ_TQ2/4Cc9YxxEJhVMs5iq0oQwLQ2', '//read.qidian.com/chapter/tQnlDEFHkgvVl9ByXxZ_TQ2/NUa52pnYXRT4p8iEw--PPw2', '//read.qidian.com/chapter/tQnlDEFHkgvVl9ByXxZ_TQ2/KzEmtpjkIL3wrjbX3WA1AA2', '//read.qidian.com/chapter/tQnlDEFHkgvVl9ByXxZ_TQ2/4Vo6g5F4FX-2uJcMpdsVgA2', '//read.qidian.com/chapter/tQnlDEFHkgvVl9ByXxZ_TQ2/cFxTq6Oe7Yjgn4SMoDUcDQ2', '//read.qidian.com/chapter/tQnlDEFHkgvVl9ByXxZ_TQ2/Z3j_k-zbfs9p4rPq4Fd4KQ2', '//read.qidian.com/chapter/tQnlDEFHkgvVl9ByXxZ_TQ2/MxRlHPi-NPf6ItTi_ILQ7A2', '//read.qidian.com/chapter/tQnlDEFHkgvVl9ByXxZ_TQ2/sw1LweJDe5VMs5iq0oQwLQ2']\n"
     ]
    }
   ],
   "source": [
    "import requests\n",
    "from parsel import Selector\n",
    "a=requests.get('https://read.qidian.com/chapter/tQnlDEFHkgvVl9ByXxZ_TQ2/cKJHH3NNMEz4p8iEw--PPw2').text\n",
    "b=Selector(a)\n",
    "c=b.xpath('//div[@class=\"read-content j_readContent\"]').extract()\n",
    "c=''.join(c)\n",
    "c=c.replace(r'</p><p>\\u3000\\u3000',' ').replace(r'<div class=\"read-content j_readContent\" id=\"\">',' ').replace(r'</p><p>',' ')\n",
    "c=c.replace(r'<p>',' ').replace(r'</p></div>','')\n",
    "print(x)\n"
   ]
  },
  {
   "cell_type": "code",
   "execution_count": 73,
   "metadata": {},
   "outputs": [
    {
     "name": "stdout",
     "output_type": "stream",
     "text": [
      "C:\\Users\\yu\n",
      "C:\\Users\\yu\\起点小说\n"
     ]
    }
   ],
   "source": [
    "import os\n",
    "\n",
    "print(os.getcwd())\n",
    "path='C:/Users/yu/起点小说'\n",
    "os.chdir(path)\n",
    "print(os.getcwd())"
   ]
  }
 ],
 "metadata": {
  "kernelspec": {
   "display_name": "Python 3",
   "language": "python",
   "name": "python3"
  },
  "language_info": {
   "codemirror_mode": {
    "name": "ipython",
    "version": 3
   },
   "file_extension": ".py",
   "mimetype": "text/x-python",
   "name": "python",
   "nbconvert_exporter": "python",
   "pygments_lexer": "ipython3",
   "version": "3.8.5"
  }
 },
 "nbformat": 4,
 "nbformat_minor": 4
}
