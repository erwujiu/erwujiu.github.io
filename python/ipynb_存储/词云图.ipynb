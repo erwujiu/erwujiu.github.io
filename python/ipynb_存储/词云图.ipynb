{
 "cells": [
  {
   "cell_type": "code",
   "execution_count": 1,
   "metadata": {},
   "outputs": [
    {
     "name": "stderr",
     "output_type": "stream",
     "text": [
      "Building prefix dict from the default dictionary ...\n",
      "Loading model from cache C:\\Users\\yu\\AppData\\Local\\Temp\\jieba.cache\n",
      "Loading model cost 0.778 seconds.\n",
      "Prefix dict has been built successfully.\n"
     ]
    },
    {
     "name": "stdout",
     "output_type": "stream",
     "text": [
      "over\n"
     ]
    }
   ],
   "source": [
    "#制作词云图\n",
    "import jieba #中文分词库模块\n",
    "import wordcloud #词云\n",
    "with open('1111.txt','r',encoding='utf-8') as fp:\n",
    "    a=fp.read()\n",
    "    b=jieba.lcut(a)\n",
    "c=' '.join(b)\n",
    "\n",
    "\n",
    "wc=wordcloud.WordCloud(\n",
    "    height=500,\n",
    "    width=350,\n",
    "    background_color='black',\n",
    "    font_path='msyh.ttc',  #字体\n",
    "    scale=15,        #字体大小\n",
    "    stopwords=set([line.strip() for line in open('停用词.txt','r',encoding='utf-8').readlines()]) #停用词\n",
    ")\n",
    "\n",
    "wc.generate(c)  #generate 产生\n",
    "wc.to_file('output1.jpg')   #保存\n",
    "print('over')"
   ]
  }
 ],
 "metadata": {
  "kernelspec": {
   "display_name": "Python 3",
   "language": "python",
   "name": "python3"
  },
  "language_info": {
   "codemirror_mode": {
    "name": "ipython",
    "version": 3
   },
   "file_extension": ".py",
   "mimetype": "text/x-python",
   "name": "python",
   "nbconvert_exporter": "python",
   "pygments_lexer": "ipython3",
   "version": "3.8.5"
  }
 },
 "nbformat": 4,
 "nbformat_minor": 4
}
