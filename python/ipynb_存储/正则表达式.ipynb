{
 "cells": [
  {
   "cell_type": "code",
   "execution_count": 29,
   "metadata": {
    "collapsed": true
   },
   "outputs": [
    {
     "name": "stdout",
     "output_type": "stream",
     "text": [
      "ada\n",
      "('Pwad', 'ada')\n",
      "Pwad wadaw ada weqw \n",
      "Pwad\n",
      "ada\n"
     ]
    }
   ],
   "source": [
    "import re\n",
    "str='Pwad wadaw ada weqw '\n",
    "res=re.match('(.*) wadaw (.*?) .*',str,re.I)\n",
    "print(res.groups(1)[1])\n",
    "print(res.groups())\n",
    "print(res.group())\n",
    "print(res.group(1))\n",
    "print(res.group(2))"
   ]
  },
  {
   "cell_type": "code",
   "execution_count": 72,
   "metadata": {
    "collapsed": true
   },
   "outputs": [
    {
     "name": "stdout",
     "output_type": "stream",
     "text": [
      "helHlo h\n",
      "a\n",
      "b\n",
      "c\n",
      "d\n",
      "9\n"
     ]
    }
   ],
   "source": [
    "str1='helHlo hello hello'\n",
    "res=re.match('[a-z| ]{8}',str1,re.I)\n",
    "print(res.group())\n",
    "dates='a','b','c','d','9'\n",
    "for date in dates:\n",
    "    if res:     \n",
    "        res=re.match('[a-z|\\d]',date)\n",
    "        print(res.group())\n",
    "    "
   ]
  },
  {
   "cell_type": "code",
   "execution_count": 106,
   "metadata": {},
   "outputs": [
    {
     "name": "stdout",
     "output_type": "stream",
     "text": [
      "1234\n"
     ]
    }
   ],
   "source": [
    "res=re.match('[a-z]{2,4}','123456789')\n",
    "print(res.group())nn"
   ]
  },
  {
   "cell_type": "code",
   "execution_count": 117,
   "metadata": {},
   "outputs": [
    {
     "name": "stdout",
     "output_type": "stream",
     "text": [
      "C:\\a.txt\n"
     ]
    }
   ],
   "source": [
    "path='C:\\\\a.txt'\n",
    "res=re.match(r'C:\\\\a.txt',path).group()\n",
    "print(res)"
   ]
  }
 ],
 "metadata": {
  "kernelspec": {
   "display_name": "Python 3",
   "language": "python",
   "name": "python3"
  },
  "language_info": {
   "codemirror_mode": {
    "name": "ipython",
    "version": 3
   },
   "file_extension": ".py",
   "mimetype": "text/x-python",
   "name": "python",
   "nbconvert_exporter": "python",
   "pygments_lexer": "ipython3",
   "version": "3.8.5"
  }
 },
 "nbformat": 4,
 "nbformat_minor": 4
}
