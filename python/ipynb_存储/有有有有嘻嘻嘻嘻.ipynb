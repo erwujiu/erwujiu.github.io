{
 "cells": [
  {
   "cell_type": "code",
   "execution_count": 8,
   "metadata": {},
   "outputs": [
    {
     "ename": "SyntaxError",
     "evalue": "cannot assign to conditional expression (<ipython-input-8-d875f0c9e445>, line 17)",
     "output_type": "error",
     "traceback": [
      "\u001b[1;36m  File \u001b[1;32m\"<ipython-input-8-d875f0c9e445>\"\u001b[1;36m, line \u001b[1;32m17\u001b[0m\n\u001b[1;33m    x+5 if x<=310 else list[0]=-5\u001b[0m\n\u001b[1;37m    ^\u001b[0m\n\u001b[1;31mSyntaxError\u001b[0m\u001b[1;31m:\u001b[0m cannot assign to conditional expression\n"
     ]
    }
   ],
   "source": [
    "import pygame\n",
    "from pygame.locals import *\n",
    "def main():\n",
    "    pygame.init()\n",
    "    pygame.display.set_caption('12')\n",
    "    screen=pygame.display.set_mode((350,500))\n",
    "    background=pygame.image.load('b.jpg')    \n",
    "    heroplan=pygame.image.load('飞机.jpg') \n",
    "    clock=pygame.time.Clock()\n",
    "    x,y=0,0\n",
    "    list=[5,-5]\n",
    "    while True:\n",
    "        clock.tick(60)\n",
    "        screen.blit(background,(0,0))\n",
    "        screen.blit(heroplan,(x,y))\n",
    "        key_control()\n",
    "\n",
    "\n",
    "        pygame.display.update()\n",
    "\n",
    "def key_control():\n",
    "    for event in pygame.event.get():\n",
    "        if event.type==pygame.QUIT:\n",
    "            pygame.quit()\n",
    "    \n",
    "if __name__=='__main__':\n",
    "    main()"
   ]
  },
  {
   "cell_type": "code",
   "execution_count": null,
   "metadata": {},
   "outputs": [
    {
     "name": "stdout",
     "output_type": "stream",
     "text": [
      "[5, -5]\n",
      "[-5, -5]\n",
      "[-5, 5]\n",
      "[5, 5]\n",
      "[5, -5]\n",
      "[5, 5]\n",
      "[-5, 5]\n",
      "[-5, -5]\n",
      "[5, -5]\n",
      "[5, 5]\n",
      "[-5, 5]\n",
      "[-5, -5]\n",
      "[-5, 5]\n",
      "[5, 5]\n",
      "[5, -5]\n",
      "[-5, -5]\n",
      "[-5, 5]\n",
      "[5, 5]\n",
      "[5, -5]\n",
      "[5, 5]\n",
      "[-5, 5]\n"
     ]
    }
   ],
   "source": [
    "import pygame\n",
    "pygame.init()  # 初始化pygame\n",
    "size = width, height = 640, 480  # 设置窗口大小\n",
    "screen = pygame.display.set_mode(size)  # 显示窗口\n",
    "color = (0, 0, 0)  # 设置颜色\n",
    "ball = pygame.image.load('飞机.jpg')  # 加载图片\n",
    "ballrect = ball.get_rect()  # 获取矩形区域\n",
    "speed = [5, 5]  # 设置移动的X轴、Y轴\n",
    "clock = pygame.time.Clock()  # 设置时钟\n",
    "\n",
    "while True:  # 死循环确保窗口一直显示\n",
    "    clock.tick(30)  # 每秒执行60次\n",
    "    for event in pygame.event.get():  # 遍历所有事件\n",
    "        if event.type == pygame.QUIT:  # 如果单击关闭窗口，则退出\n",
    "            pygame.quit()\n",
    "\n",
    "    ballrect = ballrect.move(speed)  # 移动小球\n",
    "    # 碰到左右边缘\n",
    "    if ballrect.left < 0 or ballrect.right > width:\n",
    "        speed[0] = -speed[0]\n",
    "        print(speed)\n",
    "    # 碰到上下边缘\n",
    "    if ballrect.top < 0 or ballrect.bottom > height:\n",
    "        speed[1] = -speed[1]\n",
    "        print(speed)\n",
    "\n",
    "    screen.fill(color)  # 填充颜色(设置为0，执不执行这行代码都一样)\n",
    "    screen.blit(ball, ballrect)  # 将图片画到窗口上\n",
    "    pygame.display.flip()  # 更新全部显示\n",
    "\n",
    "pygame.quit()  # 退出pygame"
   ]
  }
 ],
 "metadata": {
  "kernelspec": {
   "display_name": "Python 3",
   "language": "python",
   "name": "python3"
  },
  "language_info": {
   "codemirror_mode": {
    "name": "ipython",
    "version": 3
   },
   "file_extension": ".py",
   "mimetype": "text/x-python",
   "name": "python",
   "nbconvert_exporter": "python",
   "pygments_lexer": "ipython3",
   "version": "3.8.5"
  }
 },
 "nbformat": 4,
 "nbformat_minor": 4
}
