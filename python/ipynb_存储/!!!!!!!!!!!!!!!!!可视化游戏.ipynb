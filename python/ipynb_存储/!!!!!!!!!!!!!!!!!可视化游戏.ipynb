{
 "cells": [
  {
   "cell_type": "code",
   "execution_count": 2,
   "metadata": {},
   "outputs": [
    {
     "name": "stdout",
     "output_type": "stream",
     "text": [
      "力量:20\n",
      "速度20\n",
      "体质20 力量:6\n",
      "速度8\n",
      "体质9\n"
     ]
    }
   ],
   "source": [
    "import random\n",
    "class role:\n",
    "    def __init__(self,name,gj=random.randint(5,10),spd=random.randint(5,10),con=random.randint(5,10)):\n",
    "        self.name = name\n",
    "        self.str = gj\n",
    "        self.spd = spd\n",
    "        self.con = con\n",
    "    def table(self):\n",
    "        a = \"力量:{}\\n速度{}\\n体质{}\".format(self.str,self.spd,self.con)\n",
    "        return a\n",
    "    def __str__(self):\n",
    "        return 1\n",
    "    \n",
    "a = role(\"a\",20,20,20)\n",
    "b = role(\"b\")\n",
    "print(a.table(),b.table())"
   ]
  },
  {
   "cell_type": "code",
   "execution_count": 2,
   "metadata": {},
   "outputs": [
    {
     "ename": "TypeError",
     "evalue": "yx_gui() missing 1 required positional argument: 'name'",
     "output_type": "error",
     "traceback": [
      "\u001b[1;31m---------------------------------------------------------------------------\u001b[0m",
      "\u001b[1;31mTypeError\u001b[0m                                 Traceback (most recent call last)",
      "\u001b[1;32m<ipython-input-2-439d3dc38662>\u001b[0m in \u001b[0;36m<module>\u001b[1;34m\u001b[0m\n\u001b[0;32m     14\u001b[0m \u001b[1;33m\u001b[0m\u001b[0m\n\u001b[0;32m     15\u001b[0m     \u001b[0mroot\u001b[0m\u001b[1;33m.\u001b[0m\u001b[0mtk\u001b[0m\u001b[1;33m.\u001b[0m\u001b[0mmainloop\u001b[0m\u001b[1;33m(\u001b[0m\u001b[1;33m)\u001b[0m\u001b[1;33m\u001b[0m\u001b[1;33m\u001b[0m\u001b[0m\n\u001b[1;32m---> 16\u001b[1;33m \u001b[0myx_gui\u001b[0m\u001b[1;33m(\u001b[0m\u001b[1;33m)\u001b[0m\u001b[1;33m\u001b[0m\u001b[1;33m\u001b[0m\u001b[0m\n\u001b[0m",
      "\u001b[1;31mTypeError\u001b[0m: yx_gui() missing 1 required positional argument: 'name'"
     ]
    }
   ],
   "source": [
    "import tkinter as tk\n",
    "def yx_gui(name):\n",
    "    root = tk.Tk()\n",
    "    #图片与标签\n",
    "    photo_1 = tk.PhotoImage(file =\"zhujue.gif\")\n",
    "    photo_2 = tk.PhotoImage(file =\"dir.gif\")\n",
    "    la1 = tk.Label(root,text=\"1\",image=photo_1)\n",
    "    la2 = tk.Label(root,text=\"2\",image=photo_2)\n",
    "    la1.grid(row=0,column=0)\n",
    "    la2.grid(row=0,column=1)\n",
    "    #数值显示部分\n",
    "    \n",
    "    \n",
    "    \n",
    "    root.tk.mainloop()\n",
    "yx_gui()"
   ]
  },
  {
   "cell_type": "code",
   "execution_count": null,
   "metadata": {},
   "outputs": [],
   "source": []
  },
  {
   "cell_type": "code",
   "execution_count": 3,
   "metadata": {},
   "outputs": [
    {
     "name": "stderr",
     "output_type": "stream",
     "text": [
      "Exception in Tkinter callback\n",
      "Traceback (most recent call last):\n",
      "  File \"C:\\Users\\yu\\anaconda3\\lib\\tkinter\\__init__.py\", line 1883, in __call__\n",
      "    return self.func(*args)\n",
      "  File \"<ipython-input-3-b0013eeef299>\", line 14, in <lambda>\n",
      "    bt = tk.Button(root,text='开始按钮',command = lambda :pd(et.get()))\n",
      "  File \"<ipython-input-3-b0013eeef299>\", line 9, in pd\n",
      "    tk.Label(root,text=\"名字不能为空\").pack()\n",
      "NameError: name 'root' is not defined\n",
      "Exception in Tkinter callback\n",
      "Traceback (most recent call last):\n",
      "  File \"C:\\Users\\yu\\anaconda3\\lib\\tkinter\\__init__.py\", line 1883, in __call__\n",
      "    return self.func(*args)\n",
      "  File \"<ipython-input-3-b0013eeef299>\", line 14, in <lambda>\n",
      "    bt = tk.Button(root,text='开始按钮',command = lambda :pd(et.get()))\n",
      "  File \"<ipython-input-3-b0013eeef299>\", line 9, in pd\n",
      "    tk.Label(root,text=\"名字不能为空\").pack()\n",
      "NameError: name 'root' is not defined\n",
      "Exception in Tkinter callback\n",
      "Traceback (most recent call last):\n",
      "  File \"C:\\Users\\yu\\anaconda3\\lib\\tkinter\\__init__.py\", line 1883, in __call__\n",
      "    return self.func(*args)\n",
      "  File \"<ipython-input-3-b0013eeef299>\", line 14, in <lambda>\n",
      "    bt = tk.Button(root,text='开始按钮',command = lambda :pd(et.get()))\n",
      "  File \"<ipython-input-3-b0013eeef299>\", line 6, in pd\n",
      "    root.tk.destroy()\n",
      "NameError: name 'root' is not defined\n"
     ]
    }
   ],
   "source": [
    "import tkinter as tk\n",
    "\n",
    "def pd(name):\n",
    "\n",
    "    if name != \"\":\n",
    "        root.tk.destroy()\n",
    "        \n",
    "    else:\n",
    "        tk.Label(root,text=\"名字不能为空\").pack()\n",
    "def main():\n",
    "    root = tk.Tk()\n",
    "    et = tk.Entry(root,text='请输入名字')\n",
    "    et.pack()\n",
    "    bt = tk.Button(root,text='开始按钮',command = lambda :pd(et.get()))\n",
    "    bt.pack()\n",
    "\n",
    "    root.tk.mainloop()\n",
    "main()\n",
    "\n"
   ]
  },
  {
   "cell_type": "code",
   "execution_count": 11,
   "metadata": {},
   "outputs": [
    {
     "name": "stderr",
     "output_type": "stream",
     "text": [
      "Exception in Tkinter callback\n",
      "Traceback (most recent call last):\n",
      "  File \"C:\\Users\\yu\\anaconda3\\lib\\tkinter\\__init__.py\", line 1883, in __call__\n",
      "    return self.func(*args)\n",
      "  File \"<ipython-input-11-adeb97696100>\", line 6, in pd\n",
      "    main.destroy()\n",
      "AttributeError: 'function' object has no attribute 'destroy'\n"
     ]
    }
   ],
   "source": [
    "from tkinter import *\n",
    "import tkinter.messagebox\n",
    "def pd(e):\n",
    "    quit = tkinter.messagebox.askokcancel('提示', '是否要创建账号？')\n",
    "    if quit == True:\n",
    "        main.destroy()\n",
    "        create()\n",
    "def main():\n",
    "    root = Tk()\n",
    "    et = Entry(root,text='请输入名字')\n",
    "    et.pack()\n",
    "#     bt = Button(root,text='开始按钮',command=lambda : pd(et.get()))\n",
    "#     bt.pack()\n",
    "    bt = Button(root,text='开始按钮')\n",
    "    bt.pack()\n",
    "    bt.bind(\"<Button-1>\",pd)\n",
    "    root.mainloop()\n",
    "main()"
   ]
  },
  {
   "cell_type": "code",
   "execution_count": 11,
   "metadata": {},
   "outputs": [
    {
     "name": "stdout",
     "output_type": "stream",
     "text": [
      "yzh在睡觉\n",
      "sleep\n"
     ]
    }
   ],
   "source": []
  }
 ],
 "metadata": {
  "kernelspec": {
   "display_name": "Python 3",
   "language": "python",
   "name": "python3"
  },
  "language_info": {
   "codemirror_mode": {
    "name": "ipython",
    "version": 3
   },
   "file_extension": ".py",
   "mimetype": "text/x-python",
   "name": "python",
   "nbconvert_exporter": "python",
   "pygments_lexer": "ipython3",
   "version": "3.8.5"
  }
 },
 "nbformat": 4,
 "nbformat_minor": 4
}
