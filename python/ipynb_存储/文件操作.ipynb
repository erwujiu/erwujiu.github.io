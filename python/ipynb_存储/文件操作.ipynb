{
 "cells": [
  {
   "cell_type": "code",
   "execution_count": 30,
   "metadata": {},
   "outputs": [
    {
     "name": "stdout",
     "output_type": "stream",
     "text": [
      "11\n",
      "22\n",
      "\n",
      "11\n",
      "2\n"
     ]
    }
   ],
   "source": [
    "with open('实验.txt','r+') as fp:\n",
    "    #print(fp.tell())\n",
    "    fp.write('11\\n')\n",
    "    fp.write('22\\n')\n",
    "    fp.flush()\n",
    "    fp.seek(0)\n",
    "    print(fp.read())\n",
    "    \n",
    "    fp.seek(5)\n",
    "    fp.truncate()\n",
    "    fp.seek(0)\n",
    "    print(fp.read())\n"
   ]
  },
  {
   "cell_type": "code",
   "execution_count": 38,
   "metadata": {},
   "outputs": [
    {
     "data": {
      "text/plain": [
       "['.bash_history',\n",
       " '.conda',\n",
       " '.condarc',\n",
       " '.gitconfig',\n",
       " '.idea',\n",
       " '.ipynb_checkpoints',\n",
       " '.ipython',\n",
       " '.jupyter',\n",
       " '.matplotlib',\n",
       " '.packettracer',\n",
       " '.python_history',\n",
       " '.spyder-py3',\n",
       " '1.jpg',\n",
       " '123132.py',\n",
       " '3D Objects',\n",
       " 'anaconda3',\n",
       " 'AppData',\n",
       " 'Application Data',\n",
       " 'bug.json',\n",
       " 'Cisco Packet Tracer 6.2sv',\n",
       " 'Cisco Packet Tracer 7.2',\n",
       " 'Contacts',\n",
       " 'Cookies',\n",
       " 'Desktop',\n",
       " 'Documents',\n",
       " 'Downloads',\n",
       " 'Favorites',\n",
       " 'IntelGraphicsProfiles',\n",
       " 'Links',\n",
       " 'Local Settings',\n",
       " 'Music',\n",
       " 'My Documents',\n",
       " 'NetHood',\n",
       " 'NTUSER.DAT',\n",
       " 'ntuser.dat.LOG1',\n",
       " 'ntuser.dat.LOG2',\n",
       " 'NTUSER.DAT{53b39e88-18c4-11ea-a811-000d3aa4692b}.TM.blf',\n",
       " 'NTUSER.DAT{53b39e88-18c4-11ea-a811-000d3aa4692b}.TMContainer00000000000000000001.regtrans-ms',\n",
       " 'NTUSER.DAT{53b39e88-18c4-11ea-a811-000d3aa4692b}.TMContainer00000000000000000002.regtrans-ms',\n",
       " 'ntuser.ini',\n",
       " 'OneDrive',\n",
       " 'Pictures',\n",
       " 'PrintHood',\n",
       " 'pychram',\n",
       " 'py用的',\n",
       " 'Recent',\n",
       " 'Saved Games',\n",
       " 'Searches',\n",
       " 'SendTo',\n",
       " 'slots.ipynb',\n",
       " 'Templates',\n",
       " 'UIDowner',\n",
       " 'Untitled Folder',\n",
       " 'Untitled.ipynb',\n",
       " 'untitled.txt',\n",
       " 'Untitled1.ipynb',\n",
       " 'untitled1.txt',\n",
       " 'Untitled10.ipynb',\n",
       " 'Untitled11.ipynb',\n",
       " 'Untitled12.ipynb',\n",
       " 'Untitled13.ipynb',\n",
       " 'Untitled14.ipynb',\n",
       " 'Untitled2.ipynb',\n",
       " 'Untitled3.ipynb',\n",
       " 'Untitled4.ipynb',\n",
       " 'Untitled5.ipynb',\n",
       " 'Untitled6.ipynb',\n",
       " 'Untitled7.ipynb',\n",
       " 'Untitled8.ipynb',\n",
       " 'Untitled9.ipynb',\n",
       " 'Videos',\n",
       " 'zd.jpg',\n",
       " 'zd.psd',\n",
       " '「开始」菜单',\n",
       " '列表.ipynb',\n",
       " '列表修改.ipynb',\n",
       " '图形,待解决.ipynb',\n",
       " '垃圾箱.ipynb',\n",
       " '多态.ipynb',\n",
       " '实验.txt',\n",
       " '小飞机未完成.ipynb',\n",
       " '小鸡啄米.ipynb',\n",
       " '待续.ipynb',\n",
       " '文件操作.ipynb',\n",
       " '有问题的飞机大战.ipynb',\n",
       " '格式.ipynb',\n",
       " '求图',\n",
       " '爬虫，简易搜索.ipynb',\n",
       " '继承.ipynb',\n",
       " '自定义异常.ipynb',\n",
       " '舞蹈html',\n",
       " '西门吹雪大战叶孤城.ipynb',\n",
       " '静态方法.ipynb',\n",
       " '音乐.mp3',\n",
       " '飞机.jpg',\n",
       " '飞机dz.py',\n",
       " '飞机对战.ipynb']"
      ]
     },
     "execution_count": 38,
     "metadata": {},
     "output_type": "execute_result"
    }
   ],
   "source": [
    "import os \n",
    "#os.system('notepad')\n",
    "os.listdir()\n"
   ]
  }
 ],
 "metadata": {
  "kernelspec": {
   "display_name": "Python 3",
   "language": "python",
   "name": "python3"
  },
  "language_info": {
   "codemirror_mode": {
    "name": "ipython",
    "version": 3
   },
   "file_extension": ".py",
   "mimetype": "text/x-python",
   "name": "python",
   "nbconvert_exporter": "python",
   "pygments_lexer": "ipython3",
   "version": "3.8.5"
  }
 },
 "nbformat": 4,
 "nbformat_minor": 4
}
