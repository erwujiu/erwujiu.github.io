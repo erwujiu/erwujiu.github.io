{
 "cells": [
  {
   "cell_type": "code",
   "execution_count": 9,
   "metadata": {},
   "outputs": [
    {
     "name": "stdout",
     "output_type": "stream",
     "text": [
      "3139175226624\n",
      "3139175226624\n"
     ]
    }
   ],
   "source": [
    "'''\n",
    "class databaseclass():\n",
    "    def __new__(cls,*args,**kwargs):\n",
    "        if not hasattr(cls,'_instance'):       \n",
    "            cls._instance=super().__new__(cls,*args,**kwargs)\n",
    "        return cls._instance\n",
    "class dd(databaseclass):\n",
    "    pass\n",
    "\n",
    "a=dd()\n",
    "print(id(a))\n",
    "aa=dd()\n",
    "print(id(aa))\n",
    "'''"
   ]
  },
  {
   "cell_type": "code",
   "execution_count": 23,
   "metadata": {},
   "outputs": [
    {
     "name": "stdout",
     "output_type": "stream",
     "text": [
      "姓名ww 年龄:5\n"
     ]
    }
   ],
   "source": [
    "class person:\n",
    "    def __init__(self,name,age):\n",
    "        self.__name=name\n",
    "        self.__age=age\n",
    "    def __str__(self):\n",
    "        return '姓名{} 年龄:{}'.format(self.__name,self.__age)\n",
    "    def getname(self):\n",
    "        return __self.name\n",
    "    def setname(self,name):\n",
    "        self.__name=name\n",
    "    def getage(self):\n",
    "        return __self.age\n",
    "    def setage(self,age):\n",
    "        self.__age=age\n",
    "a=person('ww',12)\n",
    "a.setage(5)\n",
    "print(a)"
   ]
  },
  {
   "cell_type": "code",
   "execution_count": 31,
   "metadata": {},
   "outputs": [
    {
     "name": "stdout",
     "output_type": "stream",
     "text": [
      "张三90\n",
      "张三 98\n"
     ]
    }
   ],
   "source": [
    "class student:\n",
    "    def __init__(self):\n",
    "        self.__name='张三'\n",
    "        self.__score=90\n",
    "    @property\n",
    "    def name(self):\n",
    "        return self.__name\n",
    "    @name.setter\n",
    "    def name(self,name):\n",
    "        self.__name=name\n",
    "    @property\n",
    "    def score(self):\n",
    "        return self.__score\n",
    "    @name.setter\n",
    "    def name(self,score):\n",
    "        self.__score=score\n",
    "    def __str__(self):\n",
    "        return '{}{}'.format(self.__name,self.__score)\n",
    "    def __call__(self,*arg,**kwargs):\n",
    "        print(self.__name,self.__score)\n",
    "a=student()\n",
    "print(a)\n",
    "a.name=98\n",
    "a()\n",
    "\n"
   ]
  }
 ],
 "metadata": {
  "kernelspec": {
   "display_name": "Python 3",
   "language": "python",
   "name": "python3"
  },
  "language_info": {
   "codemirror_mode": {
    "name": "ipython",
    "version": 3
   },
   "file_extension": ".py",
   "mimetype": "text/x-python",
   "name": "python",
   "nbconvert_exporter": "python",
   "pygments_lexer": "ipython3",
   "version": "3.8.5"
  }
 },
 "nbformat": 4,
 "nbformat_minor": 4
}
