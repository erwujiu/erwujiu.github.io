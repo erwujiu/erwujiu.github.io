{
 "cells": [
  {
   "cell_type": "code",
   "execution_count": 33,
   "metadata": {},
   "outputs": [
    {
     "name": "stdout",
     "output_type": "stream",
     "text": [
      "刘德华18\n",
      "---------------------------\n",
      "帅比\n"
     ]
    }
   ],
   "source": [
    "class student:\n",
    "    name='李明'\n",
    "    def __init__(self,age):\n",
    "        self.age=age\n",
    "\n",
    "a=student(18)\n",
    "a.name='刘德华'\n",
    "print(a.name,end='')\n",
    "print(a.age)\n",
    "print('---------------------------')\n",
    "student.name='帅比'\n",
    "b=student(15)\n",
    "print(b.name)\n"
   ]
  },
  {
   "cell_type": "code",
   "execution_count": 61,
   "metadata": {},
   "outputs": [
    {
     "name": "stdout",
     "output_type": "stream",
     "text": [
      "32\n",
      "china\n",
      "china\n",
      "18:40:30\n"
     ]
    }
   ],
   "source": [
    "class people:\n",
    "    country='china'\n",
    "    @classmethod\n",
    "    def get_country(cls):\n",
    "        return cls.country \n",
    "    @classmethod\n",
    "    def change_country(cls,date):\n",
    "        cls.country=date\n",
    "    @staticmethod\n",
    "    def getdate():\n",
    "        return people.country\n",
    "    @staticmethod\n",
    "    def add(x,y):\n",
    "        return x+y\n",
    "print(people.add(10,22))\n",
    "print(people.getdate())\n",
    "p=people()\n",
    "print(p.getdate())\n",
    "import time\n",
    "class times:\n",
    "    def __init__(self,hour,min,second):\n",
    "        self.hour=hour\n",
    "        self.min=min\n",
    "        self.second=second\n",
    "    @staticmethod\n",
    "    def showtime():\n",
    "        return time.strftime('%H:%M:%S',time.localtime())\n",
    "\n",
    "print(times.showtime())"
   ]
  }
 ],
 "metadata": {
  "kernelspec": {
   "display_name": "Python 3",
   "language": "python",
   "name": "python3"
  },
  "language_info": {
   "codemirror_mode": {
    "name": "ipython",
    "version": 3
   },
   "file_extension": ".py",
   "mimetype": "text/x-python",
   "name": "python",
   "nbconvert_exporter": "python",
   "pygments_lexer": "ipython3",
   "version": "3.8.5"
  }
 },
 "nbformat": 4,
 "nbformat_minor": 4
}
