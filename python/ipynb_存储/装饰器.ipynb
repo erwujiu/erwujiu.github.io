{
 "cells": [
  {
   "cell_type": "code",
   "execution_count": 9,
   "metadata": {},
   "outputs": [
    {
     "name": "stdout",
     "output_type": "stream",
     "text": [
      "原始数据： 2 3\n",
      "5\n",
      "原始数据： 2 3\n",
      "-1\n"
     ]
    }
   ],
   "source": [
    "#不带参数的装饰器\n",
    "def d(func):\n",
    "    def a(x,y):\n",
    "        print('原始数据：',x,y)\n",
    "        return func(x,y)\n",
    "    return a\n",
    "@d\n",
    "def jia(x,y):\n",
    "    return x+y\n",
    "@d \n",
    "def jian(x,y):\n",
    "    return x-y\n",
    "print(jia(2,3))\n",
    "print(jian(2,3))"
   ]
  },
  {
   "cell_type": "code",
   "execution_count": 4,
   "metadata": {},
   "outputs": [
    {
     "name": "stdout",
     "output_type": "stream",
     "text": [
      "sum 原始数据: 1 2\n",
      "3\n",
      "jian 原始数据: 1 2\n",
      "-1\n"
     ]
    }
   ],
   "source": [
    "#带参数的装饰器\n",
    "def D(date):\n",
    "    def d(func):\n",
    "        def a(x,y):\n",
    "            print(date,'原始数据:',x,y)\n",
    "            return func(x,y)\n",
    "        return a\n",
    "    return d\n",
    "@D('sum')\n",
    "def j(x,y):\n",
    "    return x+y\n",
    "@D('jian')\n",
    "def jw(x,y):\n",
    "    return x-y\n",
    "print(j(1,2))\n",
    "print(jw(1,2))"
   ]
  },
  {
   "cell_type": "code",
   "execution_count": 12,
   "metadata": {},
   "outputs": [
    {
     "name": "stdout",
     "output_type": "stream",
     "text": [
      "2\n",
      "1\n",
      "3\n"
     ]
    }
   ],
   "source": [
    "#多重装饰\n",
    "def a(func):\n",
    "    print(1)\n",
    "    return func\n",
    "def b(func):\n",
    "    print(2)\n",
    "    return func\n",
    "@a\n",
    "@b\n",
    "def c():\n",
    "    print(3)\n",
    "c()"
   ]
  }
 ],
 "metadata": {
  "kernelspec": {
   "display_name": "Python 3",
   "language": "python",
   "name": "python3"
  },
  "language_info": {
   "codemirror_mode": {
    "name": "ipython",
    "version": 3
   },
   "file_extension": ".py",
   "mimetype": "text/x-python",
   "name": "python",
   "nbconvert_exporter": "python",
   "pygments_lexer": "ipython3",
   "version": "3.8.5"
  }
 },
 "nbformat": 4,
 "nbformat_minor": 4
}
