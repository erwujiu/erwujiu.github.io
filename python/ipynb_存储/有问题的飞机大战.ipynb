{
 "cells": [
  {
   "cell_type": "code",
   "execution_count": 1,
   "metadata": {},
   "outputs": [
    {
     "name": "stdout",
     "output_type": "stream",
     "text": [
      "pygame 2.0.1 (SDL 2.0.14, Python 3.8.5)\n",
      "Hello from the pygame community. https://www.pygame.org/contribute.html\n"
     ]
    },
    {
     "ename": "error",
     "evalue": "video system not initialized",
     "output_type": "error",
     "traceback": [
      "\u001b[1;31m---------------------------------------------------------------------------\u001b[0m",
      "\u001b[1;31merror\u001b[0m                                     Traceback (most recent call last)",
      "\u001b[1;32m<ipython-input-1-7c7485d0095f>\u001b[0m in \u001b[0;36m<module>\u001b[1;34m\u001b[0m\n\u001b[0;32m     75\u001b[0m         \u001b[0mpygame\u001b[0m\u001b[1;33m.\u001b[0m\u001b[0mdisplay\u001b[0m\u001b[1;33m.\u001b[0m\u001b[0mupdate\u001b[0m\u001b[1;33m(\u001b[0m\u001b[1;33m)\u001b[0m\u001b[1;33m\u001b[0m\u001b[1;33m\u001b[0m\u001b[0m\n\u001b[0;32m     76\u001b[0m \u001b[1;32mif\u001b[0m \u001b[0m__name__\u001b[0m\u001b[1;33m==\u001b[0m\u001b[1;34m'__main__'\u001b[0m\u001b[1;33m:\u001b[0m\u001b[1;33m\u001b[0m\u001b[1;33m\u001b[0m\u001b[0m\n\u001b[1;32m---> 77\u001b[1;33m     \u001b[0mmain\u001b[0m\u001b[1;33m(\u001b[0m\u001b[1;33m)\u001b[0m\u001b[1;33m\u001b[0m\u001b[1;33m\u001b[0m\u001b[0m\n\u001b[0m",
      "\u001b[1;32m<ipython-input-1-7c7485d0095f>\u001b[0m in \u001b[0;36mmain\u001b[1;34m()\u001b[0m\n\u001b[0;32m     73\u001b[0m         \u001b[0mhero\u001b[0m\u001b[1;33m.\u001b[0m\u001b[0mdisplay\u001b[0m\u001b[1;33m(\u001b[0m\u001b[1;33m)\u001b[0m\u001b[1;33m\u001b[0m\u001b[1;33m\u001b[0m\u001b[0m\n\u001b[0;32m     74\u001b[0m         \u001b[0mkey_control\u001b[0m\u001b[1;33m(\u001b[0m\u001b[0mhero\u001b[0m\u001b[1;33m)\u001b[0m\u001b[1;33m\u001b[0m\u001b[1;33m\u001b[0m\u001b[0m\n\u001b[1;32m---> 75\u001b[1;33m         \u001b[0mpygame\u001b[0m\u001b[1;33m.\u001b[0m\u001b[0mdisplay\u001b[0m\u001b[1;33m.\u001b[0m\u001b[0mupdate\u001b[0m\u001b[1;33m(\u001b[0m\u001b[1;33m)\u001b[0m\u001b[1;33m\u001b[0m\u001b[1;33m\u001b[0m\u001b[0m\n\u001b[0m\u001b[0;32m     76\u001b[0m \u001b[1;32mif\u001b[0m \u001b[0m__name__\u001b[0m\u001b[1;33m==\u001b[0m\u001b[1;34m'__main__'\u001b[0m\u001b[1;33m:\u001b[0m\u001b[1;33m\u001b[0m\u001b[1;33m\u001b[0m\u001b[0m\n\u001b[0;32m     77\u001b[0m     \u001b[0mmain\u001b[0m\u001b[1;33m(\u001b[0m\u001b[1;33m)\u001b[0m\u001b[1;33m\u001b[0m\u001b[1;33m\u001b[0m\u001b[0m\n",
      "\u001b[1;31merror\u001b[0m: video system not initialized"
     ]
    }
   ],
   "source": [
    "import pygame\n",
    "from pygame.locals import *\n",
    "class heroplan():\n",
    "    def __init__(self,screen):\n",
    "        self.x=150\n",
    "        self.y=450\n",
    "        self.screen=screen\n",
    "        self.imageName='飞机.jpg'\n",
    "        self.image=pygame.image.load(self.imageName)\n",
    "        self.bulltelist=[]\n",
    "    def moveleft(self):\n",
    "        if self.x>=0:\n",
    "            self.x-=5\n",
    "    def moveright(self):\n",
    "        if self.x<=300:\n",
    "            self.x+=5\n",
    "    def display(self):\n",
    "        self.screen.blit(self.image,(self.x,self.y))\n",
    "        needDellist=[]\n",
    "        for item in self.bulltelist:\n",
    "            if item.judge:\n",
    "                needDellist.append(item)\n",
    "        for i in needDellist:\n",
    "            self.bulltelist.remove(i)\n",
    "        for bullet in self.bulltelist:\n",
    "            bullet.display()\n",
    "            bullet.move()\n",
    "    def shebullet(self):\n",
    "        newbullet=Bullet(self.x,self.y,self.screen)\n",
    "        self.bulltelist.append(newbullet)\n",
    "class Bullet(object):\n",
    "    def __init__(self,x,y,screen):\n",
    "        self.x=x+13\n",
    "        self.y=y-20\n",
    "        self.screen=screen\n",
    "        self.image=pygame.image.load(\"zd.jpg\") \n",
    "    def display(self):\n",
    "        self.screen.blit(self.image,(self.x,self.y))\n",
    "    def move(self):\n",
    "        self.y-=2\n",
    "    def judge(self):\n",
    "        if self.y<=0:\n",
    "            return True\n",
    "        else:\n",
    "            return False\n",
    "    \n",
    "def key_control(heroobj):\n",
    "    eventlist=pygame.event.get()\n",
    "    for event in eventlist:\n",
    "        if event.type==QUIT:\n",
    "            pygame.quit()\n",
    "        elif event.type==KEYDOWN:\n",
    "            if event.type==K_a or event.key==K_LEFT:\n",
    "                heroobj.moveleft()\n",
    "            elif event.type==K_d or event.key==K_RIGHT:\n",
    "                heroobj.moveright()\n",
    "            elif event.key==K_SPACE:\n",
    "                \n",
    "                heroobj.shebullet()\n",
    "\n",
    "\n",
    "def main():   \n",
    "    screen=pygame.display.set_mode((350,500))\n",
    "    background=pygame.image.load('1.jpg')\n",
    "    pygame.display.set_caption('飞机大战')    \n",
    "    pygame.mixer.init()\n",
    "    pygame.mixer.music.load('音乐.mp3')\n",
    "    pygame.mixer.music.set_volume(0.2)\n",
    "    pygame.mixer.music.play(-1)\n",
    "    hero=heroplan(screen)\n",
    "    while True:\n",
    "        screen.blit(background,(0,0))\n",
    "        hero.display()\n",
    "        key_control(hero)\n",
    "        pygame.display.update()\n",
    "if __name__=='__main__':\n",
    "    main()\n"
   ]
  },
  {
   "cell_type": "code",
   "execution_count": null,
   "metadata": {},
   "outputs": [],
   "source": []
  }
 ],
 "metadata": {
  "kernelspec": {
   "display_name": "Python 3",
   "language": "python",
   "name": "python3"
  },
  "language_info": {
   "codemirror_mode": {
    "name": "ipython",
    "version": 3
   },
   "file_extension": ".py",
   "mimetype": "text/x-python",
   "name": "python",
   "nbconvert_exporter": "python",
   "pygments_lexer": "ipython3",
   "version": "3.8.5"
  }
 },
 "nbformat": 4,
 "nbformat_minor": 4
}
