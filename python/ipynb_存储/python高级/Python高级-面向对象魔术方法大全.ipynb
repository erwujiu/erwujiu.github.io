{
 "cells": [
  {
   "cell_type": "code",
   "execution_count": null,
   "metadata": {},
   "outputs": [],
   "source": [
    "基本的魔法方法\n",
    "__new__(cls[, ...])\t在一个对象实例化的时候所调用的第一个方法\n",
    "__init__(self[, ...])\t构造器，当一个实例被创建的时候调用的初始化方法\n",
    "__del__(self)\t析构器，当一个实例被销毁的时候调用的方法\n",
    "__call__(self[, args...])\t允许一个类的实例像函数一样被调用：x(a, b) 调用 x.__call__(a, b)\n",
    "__len__(self)\t定义当被 len() 调用时的行为\n",
    "__repr__(self)\t定义当被 repr() 调用时的行为\n",
    "__str__(self)\t定义当被 str() 调用时的行为\n",
    "__bytes__(self)\t定义当被 bytes() 调用时的行为\n",
    "__hash__(self)\t定义当被 hash() 调用时的行为\n",
    "__bool__(self)\t定义当被 bool() 调用时的行为，应该返回 True 或 False\n",
    "__format__(self, format_spec)\t定义当被 format() 调用时的行为"
   ]
  },
  {
   "cell_type": "code",
   "execution_count": null,
   "metadata": {},
   "outputs": [],
   "source": [
    " 有关属性\n",
    "__getattr__(self, name)\t定义当用户试图获取一个不存在的属性时的行为\n",
    "__getattribute__(self, name)\t定义当该类的属性被访问时的行为\n",
    "__setattr__(self, name, value)\t定义当一个属性被设置时的行为\n",
    "__delattr__(self, name)\t定义当一个属性被删除时的行为\n",
    "__dir__(self)\t定义当 dir() 被调用时的行为\n",
    "__get__(self, instance, owner)\t定义当描述符的值被取得时的行为\n",
    "__set__(self, instance, value)\t定义当描述符的值被改变时的行为\n",
    "__delete__(self, instance)\t定义当描述符的值被删除时的行为"
   ]
  },
  {
   "cell_type": "code",
   "execution_count": null,
   "metadata": {},
   "outputs": [],
   "source": [
    " 比较操作符\n",
    "__lt__(self, other)\t定义小于号的行为：x < y 调用 x.__lt__(y)\n",
    "__le__(self, other)\t定义小于等于号的行为：x <= y 调用 x.__le__(y)\n",
    "__eq__(self, other)\t定义等于号的行为：x == y 调用 x.__eq__(y)\n",
    "__ne__(self, other)\t定义不等号的行为：x != y 调用 x.__ne__(y)\n",
    "__gt__(self, other)\t定义大于号的行为：x > y 调用 x.__gt__(y)\n",
    "__ge__(self, other)\t定义大于等于号的行为：x >= y 调用 x.__ge__(y)"
   ]
  },
  {
   "cell_type": "code",
   "execution_count": null,
   "metadata": {},
   "outputs": [],
   "source": [
    " 算数运算符\n",
    "__add__(self, other)\t定义加法的行为：+\n",
    "__sub__(self, other)\t定义减法的行为：-\n",
    "__mul__(self, other)\t定义乘法的行为：*\n",
    "__truediv__(self, other)\t定义真除法的行为：/\n",
    "__floordiv__(self, other)\t定义整数除法的行为：//\n",
    "__mod__(self, other)\t定义取模算法的行为：%\n",
    "__divmod__(self, other)\t定义当被 divmod() 调用时的行为\n",
    "__pow__(self, other[, modulo])\t定义当被 power() 调用或 ** 运算时的行为\n",
    "__lshift__(self, other)\t定义按位左移位的行为：<<\n",
    "__rshift__(self, other)\t定义按位右移位的行为：>>\n",
    "__and__(self, other)\t定义按位与操作的行为：&\n",
    "__xor__(self, other)\t定义按位异或操作的行为：^\n",
    "__or__(self, other)\t定义按位或操作的行为：|"
   ]
  },
  {
   "cell_type": "code",
   "execution_count": null,
   "metadata": {},
   "outputs": [],
   "source": [
    " 　　　　　　　　　　　　　　　　　　　　　　反运算\n",
    "__radd__(self, other)\t（与上方相同，当左操作数不支持相应的操作时被调用）\n",
    "__rsub__(self, other)\t（与上方相同，当左操作数不支持相应的操作时被调用）\n",
    "__rmul__(self, other)\t（与上方相同，当左操作数不支持相应的操作时被调用）\n",
    "__rtruediv__(self, other)\t（与上方相同，当左操作数不支持相应的操作时被调用）\n",
    "__rfloordiv__(self, other)\t（与上方相同，当左操作数不支持相应的操作时被调用）\n",
    "__rmod__(self, other)\t（与上方相同，当左操作数不支持相应的操作时被调用）\n",
    "__rdivmod__(self, other)\t（与上方相同，当左操作数不支持相应的操作时被调用）\n",
    "__rpow__(self, other)\t（与上方相同，当左操作数不支持相应的操作时被调用）\n",
    "__rlshift__(self, other)\t（与上方相同，当左操作数不支持相应的操作时被调用）\n",
    "__rrshift__(self, other)\t（与上方相同，当左操作数不支持相应的操作时被调用）\n",
    "__rand__(self, other)\t（与上方相同，当左操作数不支持相应的操作时被调用）\n",
    "__rxor__(self, other)\t（与上方相同，当左操作数不支持相应的操作时被调用）\n",
    "__ror__(self, other)\t（与上方相同，当左操作数不支持相应的操作时被调用）"
   ]
  },
  {
   "cell_type": "code",
   "execution_count": null,
   "metadata": {},
   "outputs": [],
   "source": [
    "增量赋值运算\n",
    "__iadd__(self, other)\t定义赋值加法的行为：+=\n",
    "__isub__(self, other)\t定义赋值减法的行为：-=\n",
    "__imul__(self, other)\t定义赋值乘法的行为：*=\n",
    "__itruediv__(self, other)\t定义赋值真除法的行为：/=\n",
    "__ifloordiv__(self, other)\t定义赋值整数除法的行为：//=\n",
    "__imod__(self, other)\t定义赋值取模算法的行为：%=\n",
    "__ipow__(self, other[, modulo])\t定义赋值幂运算的行为：**=\n",
    "__ilshift__(self, other)\t定义赋值按位左移位的行为：<<=\n",
    "__irshift__(self, other)\t定义赋值按位右移位的行为：>>=\n",
    "__iand__(self, other)\t定义赋值按位与操作的行为：&=\n",
    "__ixor__(self, other)\t定义赋值按位异或操作的行为：^=\n",
    "__ior__(self, other)\t定义赋值按位或操作的行为：|="
   ]
  },
  {
   "cell_type": "code",
   "execution_count": null,
   "metadata": {},
   "outputs": [],
   "source": [
    " 一元操作符\n",
    "__pos__(self)\t定义正号的行为：+x\n",
    "__neg__(self)\t定义负号的行为：-x\n",
    "__abs__(self)\t定义当被 abs() 调用时的行为\n",
    "__invert__(self)\t定义按位求反的行为：~x"
   ]
  },
  {
   "cell_type": "code",
   "execution_count": null,
   "metadata": {},
   "outputs": [],
   "source": [
    " 类型转换\n",
    "__complex__(self)\t定义当被 complex() 调用时的行为（需要返回恰当的值）\n",
    "__int__(self)\t定义当被 int() 调用时的行为（需要返回恰当的值）\n",
    "__float__(self)\t定义当被 float() 调用时的行为（需要返回恰当的值）\n",
    "__round__(self[, n])\t定义当被 round() 调用时的行为（需要返回恰当的值）\n",
    "__index__(self)\t1. 当对象是被应用在切片表达式中时，实现整形强制转换\n",
    "2. 如果你定义了一个可能在切片时用到的定制的数值型,你应该定义 __index__\n",
    "3. 如果 __index__ 被定义，则 __int__ 也需要被定义，且返回相同的值\n",
    "\n",
    "上下文管理（with 语句）\n",
    "\n",
    "__enter__(self)\t1. 定义当使用 with 语句时的初始化行为\n",
    "2. __enter__ 的返回值被 with 语句的目标或者 as 后的名字绑定\n",
    "__exit__(self, exc_type, exc_value, traceback)\t1. 定义当一个代码块被执行或者终止后上下文管理器应该做什么\n",
    "2. 一般被用来处理异常，清除工作或者做一些代码块执行完毕之后的日常工作"
   ]
  },
  {
   "cell_type": "code",
   "execution_count": null,
   "metadata": {},
   "outputs": [],
   "source": [
    " 容器类型\n",
    "__len__(self)\t定义当被 len() 调用时的行为（返回容器中元素的个数）\n",
    "__getitem__(self, key)\t定义获取容器中指定元素的行为，相当于 self[key]\n",
    "__setitem__(self, key, value)\t定义设置容器中指定元素的行为，相当于 self[key] = value\n",
    "__delitem__(self, key)\t定义删除容器中指定元素的行为，相当于 del self[key]\n",
    "__iter__(self)\t定义当迭代容器中的元素的行为\n",
    "__reversed__(self)\t定义当被 reversed() 调用时的行为\n",
    "__contains__(self, item)\t定义当使用成员测试运算符（in 或 not in）时的行为\n"
   ]
  }
 ],
 "metadata": {
  "kernelspec": {
   "display_name": "Python 3",
   "language": "python",
   "name": "python3"
  },
  "language_info": {
   "codemirror_mode": {
    "name": "ipython",
    "version": 3
   },
   "file_extension": ".py",
   "mimetype": "text/x-python",
   "name": "python",
   "nbconvert_exporter": "python",
   "pygments_lexer": "ipython3",
   "version": "3.8.5"
  }
 },
 "nbformat": 4,
 "nbformat_minor": 4
}
