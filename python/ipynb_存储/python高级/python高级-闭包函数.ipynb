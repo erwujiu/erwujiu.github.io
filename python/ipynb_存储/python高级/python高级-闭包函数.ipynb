{
 "cells": [
  {
   "cell_type": "code",
   "execution_count": null,
   "metadata": {},
   "outputs": [],
   "source": [
    "1. 闭包的介绍\n",
    "我们前面已经学过了函数，我们知道当函数调用完，函数内定义的变量都销毁了，但是我们有时候需要保存函数内的这个变量，每次在这个变量的基础上完成一些列的操作，比如: 每次在这个变量的基础上和其它数字进行求和计算，那怎么办呢?\n",
    "\n",
    "我们就可以通过咱们今天学习的闭包来解决这个需求。\n",
    "\n",
    "闭包的定义:在函数嵌套的前提下，内部函数使用了外部函数的变量，并且外部函数返回了内部函数，我们把这个使用外部函数变量的内部函数称为闭包。"
   ]
  },
  {
   "cell_type": "code",
   "execution_count": null,
   "metadata": {},
   "outputs": [],
   "source": [
    "2. 闭包的构成条件\n",
    "1，在函数嵌套(函数里面再定义函数)的前提下\n",
    "\n",
    "2，内部函数使用了外部函数的变量(还包括外部函数的参数)\n",
    "\n",
    "3，外部函数返回了内部函数"
   ]
  },
  {
   "cell_type": "code",
   "execution_count": null,
   "metadata": {},
   "outputs": [],
   "source": [
    "# 定义一个外部函数\n",
    "def func_out(num1):\n",
    "    # 定义一个内部函数\n",
    "    def func_inner(num2):\n",
    "        # 内部函数使用了外部函数的变量(num1)\n",
    "        result = num1 + num2\n",
    "        print(\"结果是:\", result)\n",
    "    # 外部函数返回了内部函数，这里返回的内部函数就是闭包\n",
    "    return func_inner\n",
    " \n",
    "# 创建闭包实例\n",
    "f = func_out(1)\n",
    "# 执行闭包\n",
    "f(2) # 3\n",
    "f(3) # 4"
   ]
  },
  {
   "cell_type": "code",
   "execution_count": null,
   "metadata": {},
   "outputs": [],
   "source": [
    "5. 小结\n",
    "1,当返回的内部函数使用了外部函数的变量就形成了闭包\n",
    "\n",
    "2,闭包可以对外部函数的变量进行保存\n",
    "\n",
    "3,实现闭包的标准格式:"
   ]
  },
  {
   "cell_type": "code",
   "execution_count": null,
   "metadata": {},
   "outputs": [],
   "source": [
    "# 需求: 根据配置信息使用闭包实现不同人的对话信息，例如对话:\n",
    "# 李雷: 吃饭了吗？\n",
    "# 韩梅梅: 还没吃呢，一起吃不？\n",
    "def name(name):\n",
    "    def say(say_info):\n",
    "        print('%s:%s'%(name,say_info))\n",
    "    return say\n",
    " \n",
    "lilei = name('李雷')\n",
    "lilei('吃饭了吗?')\n",
    " \n",
    "hanmeimei = name('韩梅梅')\n",
    "hanmeimei('还没吃呢，一起吃不？')\n",
    " \n",
    "###输出结果\n",
    "# 李雷:吃饭了吗\n",
    "# 韩梅梅:还没吃呢，一起吃不？"
   ]
  },
  {
   "cell_type": "code",
   "execution_count": 1,
   "metadata": {},
   "outputs": [
    {
     "name": "stdout",
     "output_type": "stream",
     "text": [
      "1\n",
      "结果是: 11\n",
      "1\n",
      "结果是: 12\n"
     ]
    }
   ],
   "source": [
    "# 修改闭包内使用的外部变量的错误示例:\n",
    "# 定义一个外部函数\n",
    "def func_out(num1):\n",
    " \n",
    "    # 定义一个内部函数\n",
    "    def func_inner(num2):\n",
    "        # 这里本意想要修改外部num1的值，实际上是在内部函数定义了一个局部变量num1\n",
    "        num1 = 10\n",
    "        # 内部函数使用了外部函数的变量(num1)\n",
    "        result = num1 + num2\n",
    "        print(\"结果是:\", result)\n",
    " \n",
    "    print(num1)\n",
    "    func_inner(1)\n",
    "    print(num1) # 没有修改，结果仍然是外部函数的\n",
    " \n",
    "    # 外部函数返回了内部函数，这里返回的内部函数就是闭包\n",
    "    return func_inner\n",
    " \n",
    "# 创建闭包实例\n",
    "f = func_out(1)\n",
    "# 执行闭包\n",
    "f(2) # 12"
   ]
  },
  {
   "cell_type": "code",
   "execution_count": 3,
   "metadata": {},
   "outputs": [
    {
     "name": "stdout",
     "output_type": "stream",
     "text": [
      "1\n",
      "结果是: 11\n",
      "10\n",
      "结果是: 12\n"
     ]
    }
   ],
   "source": [
    "# 修改闭包内使用的外部变量的正确示例:\n",
    "# 定义一个外部函数\n",
    "def func_out(num1):\n",
    " \n",
    "    # 定义一个内部函数\n",
    "    def func_inner(num2):\n",
    "        # 这里本意想要修改外部num1的值，实际上是在内部函数定义了一个局部变量num1\n",
    "        nonlocal num1  # 告诉解释器，此处使用的是 外部变量a\n",
    "        # 修改外部变量num1\n",
    "        num1 = 10\n",
    "        # 内部函数使用了外部函数的变量(num1)\n",
    "        result = num1 + num2\n",
    "        print(\"结果是:\", result)\n",
    " \n",
    "    print(num1)\n",
    "    func_inner(1)\n",
    "    print(num1) # 此处使用的修改后的外部变量\n",
    " \n",
    "    # 外部函数返回了内部函数，这里返回的内部函数就是闭包\n",
    "    return func_inner\n",
    " \n",
    "# 创建闭包实例\n",
    "f = func_out(1)  \n",
    "# 执行闭包\n",
    "f(2) # 12"
   ]
  }
 ],
 "metadata": {
  "kernelspec": {
   "display_name": "Python 3",
   "language": "python",
   "name": "python3"
  },
  "language_info": {
   "codemirror_mode": {
    "name": "ipython",
    "version": 3
   },
   "file_extension": ".py",
   "mimetype": "text/x-python",
   "name": "python",
   "nbconvert_exporter": "python",
   "pygments_lexer": "ipython3",
   "version": "3.8.5"
  }
 },
 "nbformat": 4,
 "nbformat_minor": 4
}
