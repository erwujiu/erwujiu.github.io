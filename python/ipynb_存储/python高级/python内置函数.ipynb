{
 "cells": [
  {
   "cell_type": "code",
   "execution_count": null,
   "metadata": {},
   "outputs": [],
   "source": [
    "divmod() Python divmod() 函数接收两个数字类型（非复数）参数，返回一个包含商和余数的元组(a // b, a % b)。"
   ]
  },
  {
   "cell_type": "markdown",
   "metadata": {},
   "source": [
    "https://www.python-china.com/html/50.html"
   ]
  },
  {
   "cell_type": "code",
   "execution_count": 4,
   "metadata": {},
   "outputs": [
    {
     "name": "stdout",
     "output_type": "stream",
     "text": [
      "{'hostname-主机名称': 'yu-zuo-hang', 'system_version-系统版本': 'Windows-10-10.0.19041-SP0', 'python_version-python版本': '3.8.5', 'cpus_percent-cup使用率': 17.9, '已用内容-memory_usage': 65.9, 'cpu_count-CPU核数': 4, 'memory_used-已用内存': '2620', 'memory_total-总内存容量': '3977', 'memory_free-空闲内存': '1357', 'boot_time-服务器时间': datetime.datetime(2022, 1, 13, 9, 37, 25), 'up_time_format-服务器运行时间': ' 9 小时44 分钟50 秒', 'disk_partitions_list': [{'device-系统盘位置': 'C:\\\\', 'fstype-硬盘类型': 'NTFS', 'total-总容量': '121427', 'used-已用硬盘': '91239', 'free-空闲硬盘': '30187', 'percent已用比例': 75.1}, {'device-系统盘位置': 'D:\\\\', 'fstype-硬盘类型': 'NTFS', 'total-总容量': '953835', 'used-已用硬盘': '334429', 'free-空闲硬盘': '619406', 'percent已用比例': 35.1}], 'time_now': '19:22:15 '}\n"
     ]
    }
   ],
   "source": [
    "import os\n",
    "import platform\n",
    "import re\n",
    "from datetime import datetime\n",
    "import time\n",
    "import psutil\n",
    " \n",
    "'''获取服务器信息'''\n",
    " \n",
    "def get_server_information():\n",
    "    # 主机名称\n",
    "    hostname = platform.node()\n",
    "    # 系统版本\n",
    "    system_version = platform.platform()\n",
    "    # python版本\n",
    "    python_version = platform.python_version()\n",
    "    # 逻辑cpu数量\n",
    "    cpu_count = psutil.cpu_count()\n",
    "    # cup使用率\n",
    "    cpus_percent = psutil.cpu_percent(interval=0.1)\n",
    "    # 内存\n",
    "    memory_information = psutil.virtual_memory()\n",
    "    # 内存使用率\n",
    "    memory_usage = memory_information.percent\n",
    "    memory_used = str(round(memory_information.used / 1024 / 1024))\n",
    "    memory_total = str(round(memory_information.total / 1024 / 1024))\n",
    "    memory_free = str(round(memory_information.free / 1024 / 1024))\n",
    "    # 磁盘信息\n",
    "    disk_partitions_list = []\n",
    "    # 判断是否在容器中\n",
    "    if not os.path.exists('/.dockerenv'):\n",
    "        disk_partitions = psutil.disk_partitions()\n",
    "        for i in disk_partitions:\n",
    "            a = psutil.disk_usage(i.device)\n",
    "            disk_partitions_dict = {\n",
    "                'device-系统盘位置': i.device,\n",
    "                'fstype-硬盘类型': i.fstype,\n",
    "                'total-总容量': str(round(a.total / 1024 / 1024)),\n",
    "                'used-已用硬盘': str(round(a.used / 1024 / 1024)),\n",
    "                'free-空闲硬盘': str(round(a.free / 1024 / 1024)),\n",
    "                'percent已用比例': a.percent\n",
    "            }\n",
    "            disk_partitions_list.append(disk_partitions_dict)\n",
    "    # 开机时间\n",
    "    boot_time = datetime.fromtimestamp(psutil.boot_time()).replace(microsecond=0)\n",
    "    up_time = datetime.now().replace(microsecond=0) - boot_time\n",
    "    up_time_list = re.split(r':', str(up_time))\n",
    "    up_time_format = \" {} 小时{} 分钟{} 秒\".format(up_time_list[0], up_time_list[1], up_time_list[2])\n",
    "    # 当前时间\n",
    "    time_now = time.strftime('%H:%M:%S ', time.localtime(time.time()))\n",
    "    data = {}\n",
    "    data[\"hostname-主机名称\"] = hostname\n",
    "    data[\"system_version-系统版本\"] = system_version\n",
    "    data[\"python_version-python版本\"] = python_version\n",
    "    data[\"cpus_percent-cup使用率\"] = cpus_percent\n",
    "    data[\"已用内容-memory_usage\"] = memory_usage\n",
    "    data[\"cpu_count-CPU核数\"] = cpu_count\n",
    "    data[\"memory_used-已用内存\"] = memory_used\n",
    "    data[\"memory_total-总内存容量\"] = memory_total\n",
    "    data[\"memory_free-空闲内存\"] = memory_free\n",
    "    data[\"boot_time-服务器时间\"] = boot_time\n",
    "    data[\"up_time_format-服务器运行时间\"] = up_time_format\n",
    "    data[\"disk_partitions_list\"] = disk_partitions_list\n",
    "    data[\"time_now\"] = time_now\n",
    "    return data\n",
    "print(get_server_information())"
   ]
  }
 ],
 "metadata": {
  "kernelspec": {
   "display_name": "Python 3",
   "language": "python",
   "name": "python3"
  },
  "language_info": {
   "codemirror_mode": {
    "name": "ipython",
    "version": 3
   },
   "file_extension": ".py",
   "mimetype": "text/x-python",
   "name": "python",
   "nbconvert_exporter": "python",
   "pygments_lexer": "ipython3",
   "version": "3.8.5"
  }
 },
 "nbformat": 4,
 "nbformat_minor": 4
}
