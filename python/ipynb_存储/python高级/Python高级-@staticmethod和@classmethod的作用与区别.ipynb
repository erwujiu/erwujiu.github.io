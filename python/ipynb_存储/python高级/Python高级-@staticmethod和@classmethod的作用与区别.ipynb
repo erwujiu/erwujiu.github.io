{
 "cells": [
  {
   "cell_type": "code",
   "execution_count": null,
   "metadata": {},
   "outputs": [],
   "source": [
    "作用\n",
    "一般来说，要使用某个类的方法，需要先实例化一个对象再调用方法。但是使用@staticmethod或@classmethod，就可以不需要实例化\n",
    "\n",
    "所以@staticmethod或@classmethod作用：使用@staticmethod或@classmethod，就可以不需要实例化，直接类名.方法名()来调用。\n",
    "这有利于组织代码，把某些应该属于某个类的函数给放到那个类里去，同时有利于命名空间的整洁。"
   ]
  },
  {
   "cell_type": "code",
   "execution_count": null,
   "metadata": {},
   "outputs": [],
   "source": [
    "区别\n",
    "既然@staticmethod和@classmethod都可以直接类名.方法名()来调用，那他们有什么区别呢？\n",
    "\n",
    "从它们的使用上来看：\n",
    "\n",
    "1，@staticmethod不需要表示自身对象的self和自身类的cls参数，就跟使用函数一样。\n",
    "\n",
    "2，@classmethod也不需要self参数，但第一个参数需要是表示自身类的cls参数。\n",
    "\n",
    "3，@classmethod 是一个函数修饰符，它表示接下来的是一个类方法，而对于平常我们见到的则叫做实例方法。\n",
    "类方法的第一个参数cls，而实例方法的第一个参数是self，表示该类的一个实例。\n",
    "\n",
    "4，类方法有类变量cls传入，从而可以用cls做一些相关的处理。并且有子类继承时，\n",
    "调用该类方法时，传入的类变量cls是子类，而非父类。\n",
    "\n",
    "5，对于类方法，可以通过类来调用，就像Test.foo()，有点类似C＋＋中的静态方法, \n",
    "也可以通过类的一个实例来调用，就像Test().foo()，这里Test()，写成这样之后它就是类的一个实例了。\n",
    "\n",
    "6，静态方法则没有，它基本上跟一个全局函数相同，一般来说用的很少\n",
    "\n",
    "7，如果在@staticmethod中要调用到这个类的一些属性方法，只能直接类名.属性名或类名.方法名。\n",
    "\n",
    "8，而@classmethod因为持有cls参数(当然，也可以用“self” 代替，个人认为是为了和类的self区分才用cls的)，\n",
    "可以来调用类的属性，类的方法，实例化对象等，避免硬编码。"
   ]
  },
  {
   "cell_type": "code",
   "execution_count": 8,
   "metadata": {},
   "outputs": [
    {
     "name": "stdout",
     "output_type": "stream",
     "text": [
      "static_foo\n",
      "1\n",
      "class_foo\n",
      "1\n",
      "foo\n"
     ]
    }
   ],
   "source": [
    "class A(object):\n",
    "    bar = 1\n",
    "    \n",
    "    def foo(self):\n",
    "        print('foo')\n",
    "    @staticmethod\n",
    "    def static_foo():\n",
    "        print(\"static_foo\")\n",
    "        print(A.bar)\n",
    "        \n",
    "    @classmethod\n",
    "    def class_foo(cls):\n",
    "        print('class_foo')\n",
    "        print(cls.bar)\n",
    "        cls().foo()\n",
    "A.static_foo()\n",
    "A.class_foo()"
   ]
  },
  {
   "cell_type": "markdown",
   "metadata": {},
   "source": [
    "https://pic3.zhimg.com/80/v2-36fe89762fcf455c9f6e36671c4bc8ba_720w.jpg\n",
    "https://pic1.zhimg.com/80/v2-7b5ca1645e807c4d306ba1950fb9f3ac_720w.jpg\n",
    "https://pic2.zhimg.com/80/v2-69ce4b5c0222cf960251ae207c417e3d_720w.jpg"
   ]
  },
  {
   "cell_type": "code",
   "execution_count": null,
   "metadata": {},
   "outputs": [],
   "source": []
  }
 ],
 "metadata": {
  "kernelspec": {
   "display_name": "Python 3",
   "language": "python",
   "name": "python3"
  },
  "language_info": {
   "codemirror_mode": {
    "name": "ipython",
    "version": 3
   },
   "file_extension": ".py",
   "mimetype": "text/x-python",
   "name": "python",
   "nbconvert_exporter": "python",
   "pygments_lexer": "ipython3",
   "version": "3.8.5"
  }
 },
 "nbformat": 4,
 "nbformat_minor": 4
}
