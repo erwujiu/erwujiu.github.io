{
 "cells": [
  {
   "cell_type": "code",
   "execution_count": null,
   "metadata": {},
   "outputs": [],
   "source": [
    "什么是反射（自省）？\n",
    "反射的概念是由Smith在1982年提出的，主要是指程序可以访问，检测和修改他本身状态或行为的一种能力(自省)\n",
    "\n",
    "hasattr(object,name):判断object里有没有一个name字符串(‘属性名’)对应的方法或属性\n",
    "\n",
    "getattr(object,name):获取属性值\n",
    "\n",
    "setattr(object,name):修改或者新增属性及值\n",
    "\n",
    "delattr(object,name):删除属性\n",
    "\n",
    "has attr (判断有没有 属性)"
   ]
  },
  {
   "cell_type": "code",
   "execution_count": 4,
   "metadata": {},
   "outputs": [
    {
     "name": "stdout",
     "output_type": "stream",
     "text": [
      "y 12\n",
      "正在调用get_name方法。。。\n",
      "y\n",
      "12\n"
     ]
    }
   ],
   "source": [
    "class Student(object):\n",
    "    country = 'china'\n",
    "    def __init__(self,name,age):\n",
    "        self.name = name\n",
    "        self.age = age\n",
    "    def get_name(self):\n",
    "        print('正在调用get_name方法。。。')\n",
    "        return self.name\n",
    "    def get_age(self):\n",
    "        return self.age\n",
    " \n",
    " \n",
    "s = Student('bayi',33)\n",
    " \n",
    "# hasattr(object,name):判断object里有没有一个name字符串(‘属性名’)对应的方法或属性\n",
    "print(hasattr(s,'name')) # True\n",
    "print(hasattr(s,'get_name')) # True\n",
    "print(hasattr(s,'get_con')) # False\n",
    " \n",
    "# getattr(object,name):获取属性值\n",
    "print(getattr(s,'name')) # bayi\n",
    "print(getattr(s,'get_name')) # <bound method Student.get_name of <__main__.Student object at 0x000001426082D668>>\n",
    "# 获取方法信息返回的是方法名，想要运行方法，如何操作呢\n",
    "n = getattr(s,'get_name')\n",
    "print(n()) # bayi\n",
    " \n",
    "# setattr(object,name,newname):新增属性及值,修改属性及值\n",
    "setattr(s,'name','feng') # 修改属性及值\n",
    "print(s.name) # feng\n",
    "setattr(s,'aihao','famele')\n",
    "print(getattr(s,'aihao')) # famele\n",
    " \n",
    "# delattr(object,name):删除属性\n",
    "print(getattr(s,'age')) # 33\n",
    "delattr(s,'age')\n",
    "if hasattr(s,'age'):\n",
    "    print(getattr(s,'age'))\n",
    "else:\n",
    "    print('age属性不存在')\n",
    "# 结果：age属性不存在\n",
    " \n",
    " \n",
    "'''\n",
    "Python一切皆对象，文件也是对象，所有文件也可以反射\n",
    "    需求：检测一下time这个当前模块有没有某些属性\n",
    "    需求：检测当前模块有没有某些属性\n",
    "'''\n",
    "import time\n",
    "#     需求：检测一下time这个当前模块有没有某些属性\n",
    "print(hasattr(time,'ctime')) # True\n",
    "f = getattr(time,'ctime')\n",
    "print(f()) # Thu Apr 16 10:47:49 2020\n",
    " \n",
    "# 需求：检测当前模块有没有某些属性\n",
    "import sys\n",
    "# 获取当前模块对象\n",
    "# print(sys.modules)\n",
    "cur_obj = sys.modules[__name__] # 获取当前模块的对象\n",
    "print(hasattr(cur_obj,'a')) # False\n",
    "a = 22\n",
    "print(hasattr(cur_obj,'a')) # True"
   ]
  }
 ],
 "metadata": {
  "kernelspec": {
   "display_name": "Python 3",
   "language": "python",
   "name": "python3"
  },
  "language_info": {
   "codemirror_mode": {
    "name": "ipython",
    "version": 3
   },
   "file_extension": ".py",
   "mimetype": "text/x-python",
   "name": "python",
   "nbconvert_exporter": "python",
   "pygments_lexer": "ipython3",
   "version": "3.8.5"
  }
 },
 "nbformat": 4,
 "nbformat_minor": 4
}
