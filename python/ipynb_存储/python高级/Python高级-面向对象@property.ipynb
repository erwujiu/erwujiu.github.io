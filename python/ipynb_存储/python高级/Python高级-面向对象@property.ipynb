{
 "cells": [
  {
   "cell_type": "code",
   "execution_count": null,
   "metadata": {},
   "outputs": [],
   "source": [
    "在绑定属性时，如果我们直接把属性暴露出去，虽然写起来很简单，但是，没办法检查参数，\n",
    "导致可以把属性随便改，这显然不合逻辑。为了限制属性的范围和条件，可以通过一个校验的方法来设置成绩，\n",
    "再通过一个获取的方法来获取成绩，这样，在设置的方法里，就可以检查参数：(如下实例)"
   ]
  },
  {
   "cell_type": "code",
   "execution_count": 4,
   "metadata": {},
   "outputs": [
    {
     "name": "stdout",
     "output_type": "stream",
     "text": [
      "70\n"
     ]
    }
   ],
   "source": [
    "class Student(object):\n",
    "    def get_score(self):\n",
    "        return self.score\n",
    "    def set_score(self,value):\n",
    "        if not isinstance(value,int):\n",
    "            raise ValueError('分数必须是一个整数')\n",
    "        if value < 0 or value > 100:\n",
    "            raise ValueError('分数不能小于0或者大于100')\n",
    "        self.score = value\n",
    "s = Student()\n",
    "s.set_score(70) # 这里设置的值不是0到100之间的时候就会报错\n",
    "score = s.get_score()\n",
    "print(score) # 70"
   ]
  },
  {
   "cell_type": "code",
   "execution_count": null,
   "metadata": {},
   "outputs": [],
   "source": [
    "现在，对任意的Student实例进行操作，就不能随心所欲地设置score了，必须要满足条件才能设置。\n",
    "\n",
    "但是，上面的调用方法又略显复杂，没有直接用属性这么直接简单。\n",
    "\n",
    "有没有既能检查参数，又可以用类似属性这样简单的方式来访问类的变量呢？对于追求完美的Python程序员来说，这是必须要做到的！\n",
    "\n",
    "还记得装饰器（decorator）可以给函数动态加上功能吗？对于类的方法，装饰器一样起作用。Python内置的@property装饰器就是负责把一个方法变成属性调用的：()如下实例"
   ]
  },
  {
   "cell_type": "code",
   "execution_count": null,
   "metadata": {},
   "outputs": [],
   "source": [
    "class Student(object):\n",
    "    @property\n",
    "    def score(self):\n",
    "        return self.score_v\n",
    "    @score.setter\n",
    "    def score(self,value):\n",
    "        if not isinstance(value,int):\n",
    "            raise ValueError('分数必须是一个整数')\n",
    "        if value < 0 or value > 100:\n",
    "            raise ValueError('分数不能小于0或者大于100')\n",
    "        self.score_v = value\n",
    "s = Student()\n",
    "s.score = 60 # 实际转化为s.set_score(60)\n",
    "sc = s.score # 实际转化为s.get_score()\n",
    "print(sc) # 60"
   ]
  },
  {
   "cell_type": "code",
   "execution_count": null,
   "metadata": {},
   "outputs": [],
   "source": [
    "@property的实现比较复杂，我们先考察如何使用。把一个getter方法变成属性，只需要加上@property就可以了，此时，@property本身又创建了另一个装饰器@score.setter，负责把一个setter方法变成属性赋值，于是，我们就拥有一个可控的属性操作。\n",
    "\n",
    "@property创建的另一个装饰器有，@score.setter，@score.getter,@score.deleter\n",
    "\n",
    "还可以定义只读属性，只定义getter方法，不定义setter方法就是一个只读属性：(如下实例)"
   ]
  },
  {
   "cell_type": "code",
   "execution_count": 6,
   "metadata": {},
   "outputs": [
    {
     "name": "stdout",
     "output_type": "stream",
     "text": [
      "35\n"
     ]
    }
   ],
   "source": [
    "class Student(object):\n",
    "    @property\n",
    "    def birth(self):\n",
    "        return self.birth_v\n",
    "    @birth.setter\n",
    "    def birth(self,value):\n",
    "        self.birth_v = value\n",
    "    @property\n",
    "    def age(self): # 相当于只定义getter方法\n",
    "        return 2020 - self.birth_v\n",
    "s = Student()\n",
    "s.birth = 1985 # 设置birth属性\n",
    "print(s.age)\n",
    "# 上面的birth是可读写属性，而age就是一个只读属性，因为age可以根据birth和当前时间计算出来。"
   ]
  },
  {
   "cell_type": "code",
   "execution_count": null,
   "metadata": {},
   "outputs": [],
   "source": [
    "@property的setter方法只能传递一个参数，如果要传递多个参数，可以使用历遍，元组，字典等，如下实例：\n",
    "\n",
    "class Screen(object):"
   ]
  },
  {
   "cell_type": "code",
   "execution_count": 7,
   "metadata": {},
   "outputs": [
    {
     "name": "stdout",
     "output_type": "stream",
     "text": [
      "resolution = 786432\n",
      "测试通过!\n"
     ]
    }
   ],
   "source": [
    "class Screen(object):\n",
    "    @property\n",
    "    def resolution(self):\n",
    "        return self.wh\n",
    "    @resolution.setter\n",
    "    def resolution(self,wh):\n",
    "        self.wh = wh[0] * wh[1]\n",
    "s = Screen()\n",
    "s.resolution = [1024,768]\n",
    "print('resolution =', s.resolution)\n",
    "if s.resolution == 786432:\n",
    "    print('测试通过!')\n",
    "else:\n",
    "    print('测试失败!')"
   ]
  }
 ],
 "metadata": {
  "kernelspec": {
   "display_name": "Python 3",
   "language": "python",
   "name": "python3"
  },
  "language_info": {
   "codemirror_mode": {
    "name": "ipython",
    "version": 3
   },
   "file_extension": ".py",
   "mimetype": "text/x-python",
   "name": "python",
   "nbconvert_exporter": "python",
   "pygments_lexer": "ipython3",
   "version": "3.8.5"
  }
 },
 "nbformat": 4,
 "nbformat_minor": 4
}
