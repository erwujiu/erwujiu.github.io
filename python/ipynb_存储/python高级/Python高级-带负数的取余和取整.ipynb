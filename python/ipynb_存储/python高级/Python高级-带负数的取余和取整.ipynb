{
 "cells": [
  {
   "cell_type": "code",
   "execution_count": null,
   "metadata": {},
   "outputs": [],
   "source": [
    "# 普通的取整，取余\n",
    "print(8//3) # 2\n",
    "print(-9//-3) # 3\n",
    "print(5%3) # 2\n",
    "print(-5%-3) # -2"
   ]
  },
  {
   "cell_type": "code",
   "execution_count": null,
   "metadata": {},
   "outputs": [],
   "source": [
    "# 带一个负号的取整\n",
    "# a//b\n",
    "\n",
    "# 1,当a是负数时，在负无穷到a之间找一个最接近于a的数c，并且c能被b整除,那么取整的值就是c//b\n",
    "\n",
    "# 2,当b时负数时，在a到正无穷之间找一个最接近于a的数c,，并且c能被b整除，那么取整的值就是c//b\n",
    "\n",
    "# 代码实例：\n",
    "print(8//-3)\n",
    "# 输出 -3\n",
    "# 在8到正无穷之间，9最接近于8并且能被-3整除，所以9除于-3等于-3\n",
    "print(-10//3)\n",
    "# 输出 -4\n",
    "# 在负无穷到-10之间，-12最接近-10并且能被3整数，所以-12除于3等于-4\n",
    " \n",
    "print(8.8//-3) # -3.0\n",
    "print(9.8//-3) # -4.0\n",
    "print(-8.8//3) # -3.0\n",
    "print(-9.8//3) # -4.0"
   ]
  },
  {
   "cell_type": "code",
   "execution_count": 1,
   "metadata": {},
   "outputs": [
    {
     "name": "stdout",
     "output_type": "stream",
     "text": [
      "1\n",
      "-1\n",
      "2\n",
      "-2\n",
      "1.7000000000000002\n",
      "-1.2000000000000002\n",
      "1.4400000000000004\n",
      "-1.4400000000000004\n"
     ]
    }
   ],
   "source": [
    "# 带一个负号的取余\n",
    "# a%b\n",
    "\n",
    "# 1,当a是负数时，在负无穷到a之间找一个最接近于a的数c，并且c能被b整除,那么取余的值就是c-a\n",
    "\n",
    "# 2,当b时负数时，在a到正无穷之间找一个最接近于a的数c，并且c能被b整除,那么取余的值就是c-a\n",
    "\n",
    "# 代码实例：\n",
    "\n",
    "print (-5%3)\n",
    "# 输出 1\n",
    "# 在负无穷到-5之间找到一个数能被3整数,最接近于-5的数是-6,所以-5 - (-6) = 1\n",
    " \n",
    "print(5%-3)\n",
    "# 输出-1\n",
    "# 在5到正无穷之间找到一个数能被-3整数,最接近于5的数是6,所以5 - 6 = -1\n",
    " \n",
    "print(-4%3) # 2\n",
    "print(4%-3) # -2\n",
    " \n",
    "print(-4.3%3) # 1.7000000000000002\n",
    "print(4.8%-3) # -1.2000000000000002\n",
    "print(4.44%3) # 1.4400000000000004\n",
    "print(-4.44%-3) # -1.4400000000000004"
   ]
  }
 ],
 "metadata": {
  "kernelspec": {
   "display_name": "Python 3",
   "language": "python",
   "name": "python3"
  },
  "language_info": {
   "codemirror_mode": {
    "name": "ipython",
    "version": 3
   },
   "file_extension": ".py",
   "mimetype": "text/x-python",
   "name": "python",
   "nbconvert_exporter": "python",
   "pygments_lexer": "ipython3",
   "version": "3.8.5"
  }
 },
 "nbformat": 4,
 "nbformat_minor": 4
}
