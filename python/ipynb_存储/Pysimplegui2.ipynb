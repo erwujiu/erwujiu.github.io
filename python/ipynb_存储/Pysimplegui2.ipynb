{
 "cells": [
  {
   "cell_type": "code",
   "execution_count": 18,
   "metadata": {},
   "outputs": [],
   "source": []
  },
  {
   "cell_type": "code",
   "execution_count": 15,
   "metadata": {},
   "outputs": [],
   "source": [
    "\n",
    "layout =[[sg.Text(\"enter somthing\"),sg.Input(key=\"-IN-\")],\n",
    "         [sg.Text('our output will go here',size=(30,1),key=\"-OUT-\")],\n",
    "         [sg.Button(\"OK\"),sg.Button(\"exit\")]]\n",
    "\n",
    "window=sg.Window(\"title\",layout)\n",
    "while True:\n",
    "    event,values=window.read()\n",
    "    if event == \"exit\" or event==sg.WIN_CLOSED:\n",
    "        break\n",
    "    window[\"-OUT-\"].update(values[\"-IN-\"])\n",
    "window.close()"
   ]
  },
  {
   "cell_type": "code",
   "execution_count": 19,
   "metadata": {
    "collapsed": true
   },
   "outputs": [
    {
     "ename": "FileNotFoundError",
     "evalue": "[WinError 3] 系统找不到指定的路径。: '-f'",
     "output_type": "error",
     "traceback": [
      "\u001b[1;31m---------------------------------------------------------------------------\u001b[0m",
      "\u001b[1;31mFileNotFoundError\u001b[0m                         Traceback (most recent call last)",
      "\u001b[1;32m<ipython-input-19-793f335e2f8b>\u001b[0m in \u001b[0;36m<module>\u001b[1;34m\u001b[0m\n\u001b[0;32m      5\u001b[0m \u001b[1;32melse\u001b[0m\u001b[1;33m:\u001b[0m\u001b[1;33m\u001b[0m\u001b[1;33m\u001b[0m\u001b[0m\n\u001b[0;32m      6\u001b[0m     \u001b[0mmy_path\u001b[0m\u001b[1;33m=\u001b[0m\u001b[0msys\u001b[0m\u001b[1;33m.\u001b[0m\u001b[0margv\u001b[0m\u001b[1;33m[\u001b[0m\u001b[1;36m1\u001b[0m\u001b[1;33m]\u001b[0m\u001b[1;33m\u001b[0m\u001b[1;33m\u001b[0m\u001b[0m\n\u001b[1;32m----> 7\u001b[1;33m \u001b[0mfiles\u001b[0m\u001b[1;33m=\u001b[0m\u001b[0mos\u001b[0m\u001b[1;33m.\u001b[0m\u001b[0mlistdir\u001b[0m\u001b[1;33m(\u001b[0m\u001b[0mmy_path\u001b[0m\u001b[1;33m)\u001b[0m\u001b[1;33m\u001b[0m\u001b[1;33m\u001b[0m\u001b[0m\n\u001b[0m\u001b[0;32m      8\u001b[0m \u001b[0mprint\u001b[0m\u001b[1;33m(\u001b[0m\u001b[1;34m'\\n'\u001b[0m\u001b[1;33m.\u001b[0m\u001b[0mjoin\u001b[0m\u001b[1;33m(\u001b[0m\u001b[0mfiles\u001b[0m\u001b[1;33m)\u001b[0m\u001b[1;33m)\u001b[0m\u001b[1;33m\u001b[0m\u001b[1;33m\u001b[0m\u001b[0m\n\u001b[0;32m      9\u001b[0m \u001b[0mexit\u001b[0m\u001b[1;33m(\u001b[0m\u001b[1;33m)\u001b[0m\u001b[1;33m\u001b[0m\u001b[1;33m\u001b[0m\u001b[0m\n",
      "\u001b[1;31mFileNotFoundError\u001b[0m: [WinError 3] 系统找不到指定的路径。: '-f'"
     ]
    }
   ],
   "source": [
    "my_pyth=r\"C:\\users\\yu\"\n",
    "if len(sys.argv) ==1:\n",
    "    my_path=sg.popup_get_folder(\"Please enter folder\")\n",
    "    exit()\n",
    "else:\n",
    "    my_path=sys.argv[1]\n",
    "files=os.listdir(my_path)\n",
    "print('\\n'.join(files))\n",
    "exit()\n"
   ]
  },
  {
   "cell_type": "code",
   "execution_count": null,
   "metadata": {},
   "outputs": [],
   "source": [
    "pad=((0,0),(0,0))填充物\n",
    "key标识\n",
    "tooltip鼠标放上去的提示[sg.Input(key=\"-INPUT-\",tooltip=\"input stuff here\")]\n",
    "font='Courier 14'可单独用或者放在窗口级(全部)用\n",
    "colors\n",
    "enable events\n",
    "visibility\n",
    "metadata\n",
    "right click menu "
   ]
  },
  {
   "cell_type": "code",
   "execution_count": 39,
   "metadata": {},
   "outputs": [
    {
     "name": "stdout",
     "output_type": "stream",
     "text": [
      "OK {'-INPUT-': ''}\n",
      "Cancel {'-INPUT-': ''}\n"
     ]
    }
   ],
   "source": [
    "import PySimpleGUI as sg\n",
    "layout=[\n",
    "    [sg.Text(\"my layout\",size=(20,1),pad=((20,0),(20,0)))],\n",
    "    [sg.Input(key=\"-INPUT-\",metadata=123)],\n",
    "    [sg.Button('OK'),sg.Button('Cancel')]\n",
    "]\n",
    "window=sg.Window(\"title\",layout,font='Courier 14')\n",
    "while True:\n",
    "    event,values =window.read()\n",
    "    print(event,values)\n",
    "    if event in (None,\"Cancel\"):\n",
    "        break\n",
    "window.close()"
   ]
  },
  {
   "cell_type": "code",
   "execution_count": 46,
   "metadata": {},
   "outputs": [
    {
     "ename": "SyntaxError",
     "evalue": "closing parenthesis ']' does not match opening parenthesis '(' (<ipython-input-46-85222fbceff8>, line 4)",
     "output_type": "error",
     "traceback": [
      "\u001b[1;36m  File \u001b[1;32m\"<ipython-input-46-85222fbceff8>\"\u001b[1;36m, line \u001b[1;32m4\u001b[0m\n\u001b[1;33m    event,values=sg.Window(\"title\",[[sg.Text(\"my layout\"], [sg.Input(key=\"-INPUT-\",metadata=123)],[sg.Button('OK')]).read(close=True)\u001b[0m\n\u001b[1;37m                                                        ^\u001b[0m\n\u001b[1;31mSyntaxError\u001b[0m\u001b[1;31m:\u001b[0m closing parenthesis ']' does not match opening parenthesis '('\n"
     ]
    }
   ],
   "source": [
    "import PySimpleGUI as sg\n",
    "import os\n",
    "\n",
    "event,values=sg.Window(\"title\",[[sg.Text(\"my layout\"], [sg.Input(key=\"-INPUT-\",metadata=123)],[sg.Button('OK')]).read(close=True)\n",
    "sg.popup(event,values)\n",
    "exit()"
   ]
  }
 ],
 "metadata": {
  "kernelspec": {
   "display_name": "Python 3",
   "language": "python",
   "name": "python3"
  },
  "language_info": {
   "codemirror_mode": {
    "name": "ipython",
    "version": 3
   },
   "file_extension": ".py",
   "mimetype": "text/x-python",
   "name": "python",
   "nbconvert_exporter": "python",
   "pygments_lexer": "ipython3",
   "version": "3.8.5"
  }
 },
 "nbformat": 4,
 "nbformat_minor": 4
}
