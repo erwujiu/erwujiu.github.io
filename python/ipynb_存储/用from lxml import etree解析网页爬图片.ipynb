{
 "cells": [
  {
   "cell_type": "code",
   "execution_count": 35,
   "metadata": {
    "collapsed": true
   },
   "outputs": [
    {
     "name": "stdout",
     "output_type": "stream",
     "text": [
      "C:\\Users\\yu\\biaoqingbao\\biaoqingbao\n",
      "1\n",
      "2\n"
     ]
    }
   ],
   "source": [
    "import os \n",
    "print(os.getcwd())\n",
    "print(1)\n",
    "a =  os.getcwd().split(\"\\\\\")[-1]\n",
    "if a != \"biaoqingbao\" :\n",
    "    os.chdir(\"biaoqingbao\")\n",
    "    print(os.getcwd)\n",
    "print(2)"
   ]
  },
  {
   "cell_type": "code",
   "execution_count": 12,
   "metadata": {
    "collapsed": true
   },
   "outputs": [
    {
     "name": "stdout",
     "output_type": "stream",
     "text": [
      "http://wx1.sinaimg.cn/mw690/6a04b428ly1g19akwia0rg209b09qwgf.gif 奥特曼表情包 [平平淡淡才是真]\n",
      "http://wx4.sinaimg.cn/mw690/6a04b428gy1g1crllm55jg208c069glz.gif 派大星借钱表情包 [听说最近有个叫派大星的到处骗钱]\n",
      "http://wx4.sinaimg.cn/mw690/6a04b428ly1g19al5q20ug209k09kgny.gif 游戏兔表情包 [老子游戏菜 嘴巴不菜！]\n",
      "http://wx4.sinaimg.cn/mw690/6a04b428ly1g19bv7fek7g20b40etwh9.gif 聊天表情包 [按 “F” 进入坦克]\n",
      "http://wx4.sinaimg.cn/mw690/6a04b428gy1g1crli5ajjg20g20g2acs.gif 熊猫人表情包 [最近那个手头有点紧 有点紧]\n",
      "http://wx4.sinaimg.cn/mw690/6a04b428ly1g19aktss1jg208w050b24.gif 你好骚啊表情包 [洪世贤：满脑子都是立体环绕你好骚啊]\n",
      "http://wx4.sinaimg.cn/mw690/6a04b428gy1g0zytnfw3wg209q06ydh4.gif 不要和我说什么表情包 [老夫玩农药 只为了浪浪浪 看我越塔强杀！]\n",
      "http://wx4.sinaimg.cn/mw690/6a04b428gy1g0zyt8offig205i05iq3d.gif 日常表情包 [你们是我带过最差的一届奥特曼]\n",
      "http://wx4.sinaimg.cn/mw690/6a04b428gy1g101erzdnlg208c098dh2.gif 吉娃娃表情包 [我想这是用表情包的最高境界]\n",
      "http://wx4.sinaimg.cn/mw690/6a04b428gy1g0zywiu4q1g204l07wx58.gif 天线宝宝GIF表情包 [很适合哄女朋友开心] 全套100张\n",
      "http://wx4.sinaimg.cn/mw690/6a04b428gy1g0t2ptmtutg202802ojra.gif 东北话方言表情包 [学会你就是半个东北人]\n",
      "http://wx4.sinaimg.cn/mw690/6a04b428gy1g0t20vxcvpg20c80eewg9.gif 蘑菇头表情包 [所有的事情会慢慢地好起来！]\n",
      "http://wx4.sinaimg.cn/mw690/6a04b428gy1g0t1xgk4iig206o06o0tg.gif 卑微表情包 [葡萄美酒夜光卑 举卑消愁愁更愁]\n",
      "http://wx4.sinaimg.cn/mw690/6a04b428gy1g0sd3go9xhg20j60j6agw.gif 欧阳娜娜表情包 [小时候就是个行走的表情包]\n",
      "http://wx4.sinaimg.cn/mw690/6a04b428gy1g0sc3h1j52g202d02sdfs.gif 小黄鸡表情包 [深受女生喜爱的迷你Q版小鹦鹉] 全套200张\n",
      "http://wx4.sinaimg.cn/mw690/6a04b428gy1g0sddpapktg20b40bjdi4.gif 聊天表情包 [后来我都会选择绕过那条街]\n",
      "http://wx4.sinaimg.cn/mw690/6a04b428gy1g0gva0g5leg205k05kaw0.gif 爱宠大机密表情包GIF [原创高清100张兔子小白动态表情包]\n",
      "http://wx4.sinaimg.cn/mw690/6a04b428gy1g0gvwh22khg205l05lt8p.gif 简笔画表情包 [看似简单，用起来可有意思了]\n",
      "http://wx4.sinaimg.cn/mw690/6a04b428gy1g0gvwed3btg209q09qmyj.gif 辛普森一家表情包 [l'm okay l'm not crying]\n",
      "http://wx4.sinaimg.cn/mw690/6a04b428gy1g0gvw312lxg202z02bt8k.gif 日常表情包 [即使听着苏喂苏喂也心如止水]\n",
      "http://wx4.sinaimg.cn/mw690/6a04b428gy1g0gvwqzlb5g20u00u018n.gif 在吗表情包 [亲爱的你在吗 你在吗 在吗 不在吗 那我走了 再见]\n",
      "http://wx4.sinaimg.cn/mw690/6a04b428gy1g0gvwo509hg208c08ct93.gif 佛系小黄鸡表情包 [纸醉金迷 庸俗不堪 我去禅房冥个想]\n",
      "http://wx4.sinaimg.cn/mw690/6a04b428gy1g05xdiz1dvg20b00acgny.gif 回旋踢表情包 [我是受过严格训练的]\n",
      "http://wx4.sinaimg.cn/mw690/6a04b428gy1g058ml44r8g207h085mzu.gif Apeach屁桃君表情包 [24张KakaoTalk的屁桃动态图片]\n",
      "http://wx4.sinaimg.cn/mw690/6a04b428gy1g0588j8kobg20u00u0asz.gif 鲨鱼表情包 [你不如鲨了我啊]\n",
      "http://wx4.sinaimg.cn/mw690/6a04b428gy1g056m8vjp8g20gl0glwju.gif 聊天表情包 [答应我，别当舔狗了好吗]\n",
      "http://wx4.sinaimg.cn/mw690/6a04b428gy1g02sgumofrg20fp04gtvl.gif 微信阅后即焚表情包 [比撤回消息还实用的文字燃烧] 全套100张\n",
      "http://wx4.sinaimg.cn/mw690/6a04b428gy1fzy78prl1eg206o03cmyq.gif 屎屎表情包 [一和你说话我就满屏幕的屎屎]\n",
      "http://wx4.sinaimg.cn/mw690/6a04b428gy1fzy798g6mgg209q09q0u6.gif 起床了表情包 [猫咪围观喊你起床啦]\n",
      "http://wx4.sinaimg.cn/mw690/6a04b428gy1fzy78qjmomg206o06ojsg.gif 跳跳猪表情包 [抖音可爱猪猪表情包高清版]\n",
      "http://www.bbsnet.com/wp-content/plugins/wechat-shop/assets/image/v2.ui2.close2.png close\n",
      "http://www.bbsnet.com/wp-content/plugins/wechat-shop/assets/image/alipay-l.png 支付宝\n",
      "http://www.bbsnet.com/wp-content/plugins/wechat-shop/assets/image/wechat-l.png 微信支付\n",
      "http://wx4.sinaimg.cn/mw690/6a04b428gy1fzy78zgxlyg203c02dwef.gif 拍奶子表情包 [仓鼠：拍楼上奶子 哦豁手感不错]\n",
      "http://wx4.sinaimg.cn/mw690/006HJgYYgy1fzkigwctyeg301o01owem.gif GIF小表情包 [为小表情控收集的可爱迷你动态表情包]\n",
      "http://wx4.sinaimg.cn/mw690/006HJgYYgy1fzkihhn45jg306o06owfe.gif giao哥表情包 [玩归玩 闹归闹 别拿我giao哥开玩笑]\n",
      "http://wx4.sinaimg.cn/mw690/006HJgYYgy1fzkign2zdjg30hs0hs0zi.gif 兔子大叔表情包 [大叔萌起来，真的要了命]\n",
      "http://wx4.sinaimg.cn/mw690/6a04b428gy1fza30f2kh2g207205yaaz.gif 柠檬精表情包 [最近很火的柠檬表情包]\n",
      "http://wx4.sinaimg.cn/mw690/6a04b428gy1fza0h5jfpug208206o1h3.gif 日常表情包 [一组魔性的动态搞笑表情包]\n",
      "http://wx4.sinaimg.cn/mw690/6a04b428gy1fz9xvcn4p2g201p028mx0.gif 小人表情包 [日常喝茶 看书 打架]\n",
      "http://wx4.sinaimg.cn/mw690/6a04b428gy1fz2pxxfogbg206x060q3o.gif 胖妹拿手机表情包 [出来耍出来耍 开部保时捷来接我]\n",
      "http://wx4.sinaimg.cn/mw690/6a04b428gy1fz2pzl5w3tg209d09qjsz.gif 说了你又不听表情包 [听了你又不懂 懂了你又不做完整版]\n",
      "http://wx4.sinaimg.cn/mw690/6a04b428gy1fyr5lma1n4g204e04eq37.gif 狗狗表情包带字 [这双狗眼看透太多了]\n",
      "http://wx4.sinaimg.cn/mw690/6a04b428gy1fyr5l1zs46g206o06oq37.gif 开车吗表情包 [什么时候开车？我营养跟得上]\n",
      "http://wx4.sinaimg.cn/mw690/6a04b428gy1fyr5kuqgzkg208c08c4pg.gif 阿红老师GIF表情包 [对这种会跳舞的女生真的没有抵抗力]\n",
      "http://wx4.sinaimg.cn/mw690/6a04b428gy1fyr6kbrudxg208c08cjsm.gif 谢广坤表情包 [因为我谢广坤是个造孽之人！]\n",
      "http://wx4.sinaimg.cn/mw690/6a04b428gy1fyr5legjqmg20c80c8myg.gif 怀念的表情包 [好怀念以前小时候放牛的日子]\n",
      "http://wx4.sinaimg.cn/mw690/006HJgYYgy1fqkhm2dznug30bv0bvb19.gif 权律二gif表情包 [实在太可爱了] 大全300张\n",
      "http://wx4.sinaimg.cn/mw690/6a04b428gy1fykn69809xg202a02q0sp.gif 沙雕马表情包 [怕你吗！干一架？]\n",
      "http://wx4.sinaimg.cn/mw690/6a04b428gy1fykn6orrejg207i07iglk.gif 荡秋千表情包 [好嗨哟 感觉人生已经到达了高潮]\n",
      "http://wx4.sinaimg.cn/mw690/6a04b428gy1fykn6e3pfcg208508cmyi.gif 海口尬舞大叔表情包 [黑虎掏心 飞龙在天 大力汗脚...]\n",
      "http://wx4.sinaimg.cn/mw690/6a04b428gy1fykn68m4bhg207e07e1b6.gif 老年生活表情包GIF [一个老年人梦想中的理想生活]\n",
      "http://wx4.sinaimg.cn/mw690/6a04b428gy1fycjysphgug209q09qdgr.gif 白色鸭子表情包 [嘎嘎嘎嘎... 以鹅传鹅]\n",
      "http://wx4.sinaimg.cn/mw690/6a04b428gy1fyizyd3aj2g208s08wq4j.gif 圣诞节表情包 [圣诞节 我一个人玩]\n",
      "http://wx4.sinaimg.cn/mw690/6a04b428gy1fyizxw4t0dg206o06oaap.gif 徐锦江圣诞老人表情包 [你们是不是在等一个红帽子白胡子的老人 ]\n",
      "http://wx4.sinaimg.cn/mw690/6a04b428gy1fycjzkk8mug20if0ifjvp.gif 小黄鸭表情包 [最近很火的鸭子表情包]\n",
      "http://wx4.sinaimg.cn/mw690/6a04b428gy1fycjzuzv2cg205m05kq3f.gif 张飞李逵表情包 [Sorry！ 我现在李逵和张飞傻傻分不清了]\n",
      "http://wx4.sinaimg.cn/mw690/6a04b428gy1fyck8d8hz9g205h048aae.gif 蜡笔小新表情包 [史上最全金馆长版蜡笔小新50张]\n",
      "http://wx4.sinaimg.cn/mw690/6a04b428gy1fyck04fin7g206o06oweq.gif 土豪捂脸表情包 [假装捂脸，实际是在炫富]\n",
      "http://wx4.sinaimg.cn/mw690/6a04b428gy1fy7ab1pyrqg20c80bw417.gif 萌系李逵表情包 [我是你的小傻瓜咩]\n",
      "http://wx4.sinaimg.cn/mw690/6a04b428gy1fy7aaunfgig20c80bsmzl.gif 我不扫码表情包 [扫码领你马、我们不认识]\n",
      "http://wx4.sinaimg.cn/mw690/6a04b428gy1fxzsi0iy6rg209h09q0u5.gif 假笑男孩表情包 [没有钱就不要想这些事情了]\n",
      "http://wx4.sinaimg.cn/mw690/6a04b428gy1fxzsi851fzg207805f7kg.gif 雪姨表情包 [出来玩啊！]\n",
      "http://www.bbsnet.com/wp-content/plugins/wechat-shop/assets/image/v2.ui2.close2.png close\n",
      "http://www.bbsnet.com/wp-content/plugins/wechat-shop/assets/image/alipay-l.png 支付宝\n",
      "http://www.bbsnet.com/wp-content/plugins/wechat-shop/assets/image/wechat-l.png 微信支付\n",
      "over\n"
     ]
    }
   ],
   "source": [
    "import requests\n",
    "import os \n",
    "from lxml import etree\n",
    "for i in range(1,2):\n",
    "\n",
    "    headers = {\"User-Agent\": \"Mozilla/5.0 (Windows NT 10.0; Win64; x64) AppleWebKit/537.36 (KHTML, like Gecko) Chrome/91.0.4472.124 Safari/537.36 Edg/91.0.864.64\"}\n",
    "    url=\"http://www.bbsnet.com/doutu/page/{}\".format(i)\n",
    "    res =requests.get(url=url,headers=headers).text\n",
    "\n",
    "\n",
    "    html = etree.HTML(res) #网页源代码编程一个etree对象\n",
    "    img_list = html.xpath('//img[contains(@src,\"http://\")]') #contains 匹配一个属性中包含的字符串\n",
    "    \n",
    "\n",
    "    for img in img_list :\n",
    "        url = img.xpath(\"./@src\")[0]\n",
    "        name = img.xpath(\"./@alt\")[0]\n",
    "        print(url,name)\n",
    "\n",
    "        image = requests.get(url,headers)\n",
    "        \"\"\"\n",
    "        with open( name + \".gif\" ,\"wb\") as f:\n",
    "            f.write(image.content)\n",
    "        \"\"\"\n",
    "print(\"over\")"
   ]
  },
  {
   "cell_type": "code",
   "execution_count": 5,
   "metadata": {},
   "outputs": [
    {
     "name": "stdout",
     "output_type": "stream",
     "text": [
      "<built-in function getcwd>\n",
      "https://pic.netbian.com//uploads/allimg/220203/004447-1643820287f5a9.jpg 睁一只眼闭一只眼动漫人物女孩尖耳朵 棕黄色头发 蓝色眼睛 蝴蝶 花瓣 感受阳光 4k动漫壁纸 下载完毕\n",
      "https://pic.netbian.com//uploads/allimg/220129/143412-1643438052b185.jpg 红色眼睛女孩 面纱 尖耳朵 唯美厚涂画 4k动漫壁纸 下载完毕\n",
      "https://pic.netbian.com//uploads/allimg/220202/234059-1643816459afa1.jpg 王者荣耀寅虎心曲杨玉环 无水印4k游戏壁纸 下载完毕\n",
      "https://pic.netbian.com//uploads/allimg/220118/123915-16424807555dd7.jpg cos海琴烟 cosplay美女4k高清壁纸 下载完毕\n",
      "https://pic.netbian.com//uploads/allimg/210831/102129-16303764895142.jpg cosplay美女 电脑桌 键盘 机房 可爱 小姐姐4k壁纸3840x2160 下载完毕\n",
      "https://pic.netbian.com//uploads/allimg/210812/234309-1628782989c289.jpg 天空小姐姐 黑色唯美裙子 厚涂画风 4k动漫壁纸 下载完毕\n",
      "https://pic.netbian.com//uploads/allimg/220202/160359-164378903948d5.jpg 美女 古风 古装 花 唯美 4k美女壁纸3840x2160 下载完毕\n",
      "https://pic.netbian.com//uploads/allimg/220202/160812-164378929299c6.jpg 古风美女 灯笼 饼 4k美女壁纸3840x2160 下载完毕\n",
      "https://pic.netbian.com//uploads/allimg/210317/001935-16159115757f04.jpg 猫羽雫 蓝色眼睛女子 尾巴 女孩子 猫耳 猫 可爱二次元动漫4k壁纸 下载完毕\n",
      "https://pic.netbian.com//uploads/allimg/210423/224716-16191892361adb.jpg 赛博朋克风格奇幻少女 集原美电脑4k壁纸3840x2160 下载完毕\n",
      "https://pic.netbian.com//uploads/allimg/171024/224722-15088564422d17.jpg 广西桂林山水高清风景4K壁纸 下载完毕\n",
      "https://pic.netbian.com//uploads/allimg/170725/103840-15009503208823.jpg 布兰德福德路 作者 TheWanderingSoul 4K风景壁纸 下载完毕\n",
      "https://pic.netbian.com//uploads/allimg/180315/110404-152108304476cb.jpg 美丽雪山湖泊风景4k壁纸3840x2160 下载完毕\n",
      "https://pic.netbian.com//uploads/allimg/180826/113958-1535254798fc1c.jpg 阿尔卑斯山风景4k高清壁纸3840x2160 下载完毕\n",
      "https://pic.netbian.com//uploads/allimg/190824/212516-1566653116f355.jpg 下午 趴在桌子的女孩4k动漫壁纸3840x2160 下载完毕\n",
      "https://pic.netbian.com//uploads/allimg/220202/160140-1643788900a729.jpg 好看古风美女 油灯 小花瓣 4k高清美女壁纸 下载完毕\n",
      "https://pic.netbian.com//uploads/allimg/200618/005100-1592412660f973.jpg 长发少女黑色吊带裙 好看的4k动漫美女壁纸3840x2160 下载完毕\n",
      "https://pic.netbian.com//uploads/allimg/220131/012219-16435633391d32.jpg 居家 沙发 好看衣服 短裙 好看身材美女美腿4k壁纸3840x2160 下载完毕\n",
      "https://pic.netbian.com//uploads/allimg/220117/162819-1642408099f26c.jpg 2022虎年好运虎年大吉新年新春4k壁纸 下载完毕\n",
      "https://pic.netbian.com//uploads/allimg/220129/134107-1643434867c24f.jpg 华为MateBook X Pro 2022虎年新春快乐4k原图壁纸 下载完毕\n"
     ]
    }
   ],
   "source": [
    "import requests\n",
    "from lxml import etree\n",
    "import os\n",
    "\n",
    "# 判断有没有在指定目录中\n",
    "os.chdir(r\"C:\\Users\\yu\\Jupyter\\requests_picture\")\n",
    "a =  os.getcwd().split(\"\\\\\")[-1]\n",
    "if a != \"图片\" :\n",
    "    if os.path.exists(\"图片\") :  \n",
    "        os.chdir(\"图片\")\n",
    "    else :\n",
    "        os.mkdir(\"图片\")\n",
    "        os.chdir(\"图片\")\n",
    "    print(os.getcwd)\n",
    "\n",
    "headers = {\"User-Agent\": \"Mozilla/5.0 (Windows NT 10.0; Win64; x64) AppleWebKit/537.36 (KHTML, like Gecko) Chrome/91.0.4472.124 Safari/537.36 Edg/91.0.864.64\"}\n",
    "url=\"https://pic.netbian.com/index.html\"\n",
    "res =requests.get(url=url,headers=headers).text\n",
    "res=res.encode('iso-8859-1').decode('gbk')             #转换编码\n",
    "html = etree.HTML(res)\n",
    "img_list = html.xpath('//img[contains(@src,\"/uploads/allimg/\")]')\n",
    "for img in img_list :\n",
    "    url =\"https://pic.netbian.com/\"+ img.xpath(\"./@src\")[0]\n",
    "    name = img.xpath(\"./@alt\")[0]\n",
    "    \n",
    "    tp = requests.get(url=url,headers=headers).content\n",
    "    with open(name+\".jpg\",'wb') as f :\n",
    "        f.write(tp)\n",
    "    print(url,name,\"下载完毕\")"
   ]
  },
  {
   "cell_type": "code",
   "execution_count": 118,
   "metadata": {},
   "outputs": [
    {
     "name": "stdout",
     "output_type": "stream",
     "text": [
      "['/song?id=${x.id}', '/song?id=${x.id}', '/song?id=${x.id}', '/song?id=${x.id}', '/song?id=${x.id}', '/song?id=${x.id}', '/song?id=${x.id}', '/song?id=${x.id}', '/song?id=${x.id}']\n"
     ]
    }
   ],
   "source": [
    "# 爬取网易云的音乐ID\n",
    "import requests\n",
    "from lxml import etree\n",
    "\n",
    "headers = {\"User-Agent\": \"Mozilla/5.0 (Windows NT 10.0; Win64; x64) AppleWebKit/537.36 (KHTML, like Gecko) Chrome/91.0.4472.124 Safari/537.36 Edg/91.0.864.64\"}\n",
    "url=\"https://music.163.com/#/discover/toplist?id=3778678\"\n",
    "res =requests.get(url=url,headers=headers).text\n",
    "\n",
    "html= etree.HTML(res)\n",
    "number_list = html.xpath('//span[@class=\"txt\"]/a/@href')\n",
    "print(number_list)\n"
   ]
  },
  {
   "cell_type": "code",
   "execution_count": 4,
   "metadata": {},
   "outputs": [
    {
     "name": "stdout",
     "output_type": "stream",
     "text": [
      "日本投降76周年\n",
      "张哲瀚及其工作室社交账号被封\n",
      "日本首相菅义伟向靖国神社供奉祭品\n",
      "复旦启动调查张文宏博士论文问题\n",
      "商丘确诊病例瞒报致疫情反弹\n",
      "中网工委评张哲瀚不应止于禁言\n"
     ]
    }
   ],
   "source": [
    "#爬取百度热搜\n",
    "import requests\n",
    "from lxml import etree\n",
    "\n",
    "headers = {\"User-Agent\": \"Mozilla/5.0 (Windows NT 10.0; Win64; x64) AppleWebKit/537.36 (KHTML, like Gecko) Chrome/91.0.4472.124 Safari/537.36 Edg/91.0.864.64\"}\n",
    "url=\"https://www.baidu.com/?tn=80035161_1_dg\"\n",
    "res =requests.get(url=url,headers=headers).text\n",
    "\n",
    "html= etree.HTML(res)\n",
    "resou = html.xpath('//span[@class=\"title-content-title\"]/text()')\n",
    "for i in resou :\n",
    "    print(i)"
   ]
  },
  {
   "cell_type": "code",
   "execution_count": 126,
   "metadata": {},
   "outputs": [
    {
     "name": "stdout",
     "output_type": "stream",
     "text": [
      "https://movie.douban.com/subject/34874432/ 花束般的恋爱\n",
      "                        / \n",
      "https://movie.douban.com/subject/35151297/ 王国：北方的阿信\n",
      "                        / \n",
      "https://movie.douban.com/subject/25828589/ 黑寡妇\n",
      "                        / \n",
      "https://movie.douban.com/subject/3692602/ 丛林奇航\n",
      "                        / \n",
      "https://movie.douban.com/subject/29984000/ 热带往事\n",
      "                        / \n",
      "https://movie.douban.com/subject/35360296/ 偶然与想象\n",
      "                        / \n",
      "https://movie.douban.com/subject/27179288/ 血色天劫\n",
      "                        / \n",
      "https://movie.douban.com/subject/33407124/ 浪客剑心 最终章 追忆篇\n",
      "                        / \n",
      "https://movie.douban.com/subject/35477218/ 怪奇宅\n",
      "                        / \n",
      "https://movie.douban.com/subject/35009298/ 猪\n",
      "                        / \n"
     ]
    }
   ],
   "source": [
    "#爬取豆瓣电影排行榜\n",
    "import requests\n",
    "from lxml import etree\n",
    "\n",
    "headers = {\"User-Agent\": \"Mozilla/5.0 (Windows NT 10.0; Win64; x64) AppleWebKit/537.36 (KHTML, like Gecko) Chrome/91.0.4472.124 Safari/537.36 Edg/91.0.864.64\"}\n",
    "url=\"https://movie.douban.com/chart\"\n",
    "res =requests.get(url=url,headers=headers).text\n",
    "\n",
    "html = etree.HTML(res)\n",
    "\n",
    "dyb = html.xpath('//div[@class=\"pl2\"]/a') \n",
    "for  i in dyb :\n",
    "    name = i.xpath('./text()')[0].lstrip()  #lstrip()去除字符串左侧空格\n",
    "    url = i.xpath('./@href')[0]\n",
    "    print(url,name)"
   ]
  },
  {
   "cell_type": "code",
   "execution_count": 3,
   "metadata": {},
   "outputs": [
    {
     "name": "stdout",
     "output_type": "stream",
     "text": [
      "https://www.kugou.com/song/mfra3c3.html Billie Eilish、Khalid - lovely\n",
      "['myAudio']\n",
      "https://www.kugou.com/song/1o4y783.html 芮河大对唱 - 背叛情歌\n",
      "['myAudio']\n",
      "https://www.kugou.com/song/17ph9a83.html 程响 - 不再等候的姑娘\n",
      "['myAudio']\n",
      "https://www.kugou.com/song/38hs45.html 动力火车 - 背叛情歌\n",
      "['myAudio']\n",
      "https://www.kugou.com/song/1x636y1d.html 洛先生 - 孤城\n",
      "['myAudio']\n",
      "https://www.kugou.com/song/asgif3.html Taylor Swift - Love Story\n",
      "['myAudio']\n",
      "https://www.kugou.com/song/1xldcfd8.html 邹秋实 - 山海入梦来\n",
      "['myAudio']\n",
      "https://www.kugou.com/song/1wcpx2d2.html G.E.M.邓紫棋、王者荣耀 - 无双的王者\n",
      "['myAudio']\n",
      "https://www.kugou.com/song/1wy9i638.html 王茗 - 星月为媒\n",
      "['myAudio']\n",
      "https://www.kugou.com/song/1xm17y2a.html 王忻辰 - 时间沦陷 (DJ版)\n",
      "['myAudio']\n",
      "https://www.kugou.com/song/1w3mdm7a.html 马跃展 - 秋殇别恋 (正式版)\n",
      "['myAudio']\n",
      "https://www.kugou.com/song/1y12at80.html 程jiajia - 外婆说\n",
      "['myAudio']\n",
      "https://www.kugou.com/song/1iybos33.html 朱添泽 - 等\n",
      "['myAudio']\n",
      "https://www.kugou.com/song/1y7zq4cf.html 周深 - 生而为赢\n",
      "['myAudio']\n",
      "https://www.kugou.com/song/1wsizbd1.html 海伦 - 画离弦\n",
      "['myAudio']\n",
      "https://www.kugou.com/song/hcteb75.html 阿吉太组合 - 阿衣莫\n",
      "['myAudio']\n",
      "https://www.kugou.com/song/1xj6yx97.html 霈丹(浪哥) - 忆爱\n",
      "['myAudio']\n",
      "https://www.kugou.com/song/1xgacnfb.html 程响 - 时光洪流\n",
      "['myAudio']\n",
      "https://www.kugou.com/song/1kfcq081.html 王天阳 - 借月\n",
      "['myAudio']\n",
      "https://www.kugou.com/song/1xr89v82.html 莫叫弟弟 - 天上飞 (热搜新版)\n",
      "['myAudio']\n",
      "https://www.kugou.com/song/1xhuiw59.html DJ小鱼儿 - 黑桃A\n",
      "['myAudio']\n",
      "https://www.kugou.com/song/1lnk4m0b.html 朱添泽 - 想 (DJ版)\n",
      "['myAudio']\n"
     ]
    }
   ],
   "source": [
    "# 爬取酷狗音乐  未完成\n",
    "# 思路 我事先知道酷狗的下载地址在开发者工具的网络选项的媒体中\n",
    "# 我在听歌页面的元素中找到需要拼装的地址\n",
    "# 我要在排行榜中找到听歌页面的url\n",
    "\n",
    "import requests\n",
    "from lxml import etree\n",
    "# 基本操作\n",
    "headers = {\"User-Agent\": \"Mozilla/5.0 (Windows NT 10.0; Win64; x64) AppleWebKit/537.36 (KHTML, like Gecko) Chrome/91.0.4472.124 Safari/537.36 Edg/91.0.864.64\"}\n",
    "url=\"https://www.kugou.com/yy/html/rank.html\"\n",
    "res =requests.get(url=url,headers=headers).text\n",
    "# 解析数据获取排行榜的音乐url\n",
    "html = etree.HTML(res)\n",
    "url_list = html.xpath('//li[@class=\" \"]/a')\n",
    "# name_list = html.xpath('//li[@class=\" \"]/a/text()')\n",
    "\n",
    "# 在排行榜爬取音乐网页的地址和名称\n",
    "for url in url_list :\n",
    "    name = url.xpath('./@title')[0]\n",
    "    url = url.xpath('./@href')[0]\n",
    "    print(url,name)\n",
    "    # 爬取音乐的下载地址，但不是连续的，要组合\n",
    "    res2 = requests.get(url=url,headers=headers).text\n",
    "    yy_html = etree.HTML(res2)\n",
    "    yy_url = yy_html.xpath('//div[@class=\"mainPage\"]/audio/@id')\n",
    "    print(yy_url)\n",
    "    \n",
    "    #可能是因为要解析的内容是动态的原因，暂缓操作\n",
    "    \n",
    "#     for zz_url in yy_url :\n",
    "#         z1 = zz_url('./@src')\n",
    "#         z2 = zz_url('./@data-hash')[0]"
   ]
  },
  {
   "cell_type": "code",
   "execution_count": 11,
   "metadata": {},
   "outputs": [
    {
     "name": "stdout",
     "output_type": "stream",
     "text": [
      "True\n",
      "C:\\Users\\yu\n"
     ]
    }
   ],
   "source": [
    "import os\n",
    "print(os.path.exists(\"图片\"))\n",
    "os.chdir(r\"C:\\Users\\yu\")\n",
    "print(os.getcwd())\n"
   ]
  }
 ],
 "metadata": {
  "kernelspec": {
   "display_name": "Python 3",
   "language": "python",
   "name": "python3"
  },
  "language_info": {
   "codemirror_mode": {
    "name": "ipython",
    "version": 3
   },
   "file_extension": ".py",
   "mimetype": "text/x-python",
   "name": "python",
   "nbconvert_exporter": "python",
   "pygments_lexer": "ipython3",
   "version": "3.8.5"
  }
 },
 "nbformat": 4,
 "nbformat_minor": 4
}
