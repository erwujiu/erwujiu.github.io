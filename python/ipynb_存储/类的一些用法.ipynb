{
 "cells": [
  {
   "cell_type": "code",
   "execution_count": 4,
   "metadata": {},
   "outputs": [
    {
     "name": "stdout",
     "output_type": "stream",
     "text": [
      "绑定列方法\n",
      "余作杭的体重是：80在无敌大学读大学\n",
      "90\n"
     ]
    }
   ],
   "source": [
    "import types\n",
    "def dongtai(self):\n",
    "    print('{}的体重是：{}在{}读大学'.format(self.name,self.weight,self.school))\n",
    "@classmethod\n",
    "def test(cls):\n",
    "    print('这是一个类方法')\n",
    "    \n",
    "class student():\n",
    "    def __init__(self,name,age):\n",
    "        self.name=name\n",
    "        self.age=age\n",
    "    def __str__(self):\n",
    "        return '{}今天{}岁了'.format(self.name,self.age)\n",
    "    \n",
    "print('绑定列方法')\n",
    "student.ww=test\n",
    "student.ww\n",
    "    \n",
    "zyh=student('余作杭',20)\n",
    "zyh.weight=80\n",
    "zyh.printInfo=types.MethodType(dongtai,zyh)\n",
    "yu=student('无敌',18)\n",
    "student.school='无敌大学'\n",
    "zyh.printInfo()\n",
    "z=student\n",
    "z.weight=90\n",
    "print(yu.weight)\n",
    "    "
   ]
  },
  {
   "cell_type": "code",
   "execution_count": 2,
   "metadata": {},
   "outputs": [
    {
     "name": "stdout",
     "output_type": "stream",
     "text": [
      "1231\n"
     ]
    },
    {
     "ename": "TypeError",
     "evalue": "test() missing 1 required positional argument: 'cls'",
     "output_type": "error",
     "traceback": [
      "\u001b[1;31m---------------------------------------------------------------------------\u001b[0m",
      "\u001b[1;31mTypeError\u001b[0m                                 Traceback (most recent call last)",
      "\u001b[1;32m<ipython-input-2-2b7d5882f9d3>\u001b[0m in \u001b[0;36m<module>\u001b[1;34m\u001b[0m\n\u001b[0;32m     10\u001b[0m \u001b[0ma\u001b[0m\u001b[1;33m.\u001b[0m\u001b[0mwe\u001b[0m\u001b[1;33m(\u001b[0m\u001b[1;33m)\u001b[0m\u001b[1;33m\u001b[0m\u001b[1;33m\u001b[0m\u001b[0m\n\u001b[0;32m     11\u001b[0m \u001b[0ma\u001b[0m\u001b[1;33m.\u001b[0m\u001b[0maa\u001b[0m\u001b[1;33m=\u001b[0m\u001b[0mtest\u001b[0m\u001b[1;33m\u001b[0m\u001b[1;33m\u001b[0m\u001b[0m\n\u001b[1;32m---> 12\u001b[1;33m \u001b[0ma\u001b[0m\u001b[1;33m.\u001b[0m\u001b[0maa\u001b[0m\u001b[1;33m(\u001b[0m\u001b[1;33m)\u001b[0m\u001b[1;33m\u001b[0m\u001b[1;33m\u001b[0m\u001b[0m\n\u001b[0m",
      "\u001b[1;31mTypeError\u001b[0m: test() missing 1 required positional argument: 'cls'"
     ]
    }
   ],
   "source": [
    "class a:\n",
    "    pass\n",
    "@classmethod\n",
    "def test(cls):\n",
    "    print('wewewe')\n",
    "@staticmethod\n",
    "def www():\n",
    "    print(1231)\n",
    "a.we=www\n",
    "a.we()\n",
    "a.aa=test\n",
    "a.aa()"
   ]
  }
 ],
 "metadata": {
  "kernelspec": {
   "display_name": "Python 3",
   "language": "python",
   "name": "python3"
  },
  "language_info": {
   "codemirror_mode": {
    "name": "ipython",
    "version": 3
   },
   "file_extension": ".py",
   "mimetype": "text/x-python",
   "name": "python",
   "nbconvert_exporter": "python",
   "pygments_lexer": "ipython3",
   "version": "3.8.5"
  }
 },
 "nbformat": 4,
 "nbformat_minor": 4
}
