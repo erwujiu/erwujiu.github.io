{
 "cells": [
  {
   "cell_type": "code",
   "execution_count": null,
   "metadata": {},
   "outputs": [],
   "source": [
    "关于xpath的网站\n",
    "https://blog.csdn.net/weixin_40970987/article/details/86625307\n",
    "https://blog.csdn.net/jianmoumou233/article/details/80244035"
   ]
  },
  {
   "cell_type": "code",
   "execution_count": 23,
   "metadata": {
    "collapsed": true
   },
   "outputs": [
    {
     "name": "stdout",
     "output_type": "stream",
     "text": [
      "over\n"
     ]
    }
   ],
   "source": [
    "import requests\n",
    "import re\n",
    "\n",
    "url='http://www.paoshuzw.com/10/10489/4535761.html'\n",
    "headers={'User-Agent': 'Mozilla/5.0 (Windows NT 10.0; Win64; x64) AppleWebKit/537.36 (KHTML, like Gecko) Chrome/88.0.4324.182 Safari/537.36 Edg/88.0.705.74'}\n",
    "res=requests.get(url,headers=headers).content\n",
    "\n",
    "a=re.compile('<div id=\"content\">(.*)')\n",
    "b=a.findall(res.decode())\n",
    "b=str(b)\n",
    "\n",
    "with open('小说.txt','w+',encoding='utf-8') as fp:\n",
    "    fp.write(b)\n",
    "print('over')"
   ]
  },
  {
   "cell_type": "code",
   "execution_count": 92,
   "metadata": {},
   "outputs": [
    {
     "name": "stdout",
     "output_type": "stream",
     "text": [
      "三寸人间_正文卷 第三章 好同学，一切有我！_修真小说_新笔趣阁\n",
      "三寸人间_正文卷 第三章 好同学，一切有我！_修真小说_新笔趣阁\n",
      " 第三章 好同学，一切有我！_修真小说_新笔趣阁\n"
     ]
    }
   ],
   "source": [
    "\n",
    "from parsel import Selector\n",
    "import requests\n",
    "\n",
    "url = \"http://www.paoshuzw.com/10/10489/9687224.html\"\n",
    "body = requests.get(url).content\n",
    "body = body.decode('utf-8')\n",
    "selector = Selector(text=body)\n",
    "title = selector.xpath(\"//title/text()\").extract_first()\n",
    "print(title)\n",
    "\n",
    "title = selector.css(\"title::text\").extract_first()\n",
    "print (title)\n",
    "title = selector.xpath(\"//title/text()\").re(\" .+\")[0]\n",
    "print (title)\n",
    "#title = selector.re(\"<title>(\\S+)</title>\")[0]\n",
    "#print (title)"
   ]
  },
  {
   "cell_type": "code",
   "execution_count": 88,
   "metadata": {},
   "outputs": [
    {
     "name": "stdout",
     "output_type": "stream",
     "text": [
      "<Selector xpath=None data='<html xmlns=\"http://www.w3.org/1999/x...'>\n"
     ]
    }
   ],
   "source": []
  },
  {
   "cell_type": "code",
   "execution_count": null,
   "metadata": {},
   "outputs": [],
   "source": [
    "import requests\n",
    "\n",
    "url = \"https://www.biqooge.com/2_2591/1203488.html\"\n",
    "headers={'User-Agent': 'Mozilla/5.0 (Windows NT 10.0; Win64; x64) AppleWebKit/537.36 (KHTML, like Gecko) Chrome/88.0.4324.182 Safari/537.36 Edg/88.0.705.74'}\n",
    "res=requests.get(url,headers=headers).content\n"
   ]
  }
 ],
 "metadata": {
  "kernelspec": {
   "display_name": "Python 3",
   "language": "python",
   "name": "python3"
  },
  "language_info": {
   "codemirror_mode": {
    "name": "ipython",
    "version": 3
   },
   "file_extension": ".py",
   "mimetype": "text/x-python",
   "name": "python",
   "nbconvert_exporter": "python",
   "pygments_lexer": "ipython3",
   "version": "3.8.5"
  }
 },
 "nbformat": 4,
 "nbformat_minor": 4
}
