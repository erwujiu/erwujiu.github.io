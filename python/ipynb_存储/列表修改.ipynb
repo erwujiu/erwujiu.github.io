{
 "cells": [
  {
   "cell_type": "code",
   "execution_count": 5,
   "metadata": {},
   "outputs": [
    {
     "name": "stdout",
     "output_type": "stream",
     "text": [
      "[82, 89, 88, 12, 0, 99]\n",
      "[1982, 1989, 1988, 1912, 2000, 1999]\n",
      "[1912, 1982, 1988, 1989, 1999, 2000]\n"
     ]
    }
   ],
   "source": [
    "year=[82,89,88,12,00,99]\n",
    "print(year)\n",
    "for a,b in enumerate(year):\n",
    "    if str(b)!='0':\n",
    "        year[a]=int('19'+str(b))\n",
    "    \n",
    "    else:\n",
    "        year[a]=int('200'+str(b))\n",
    "        \n",
    "        \n",
    "print(year)        \n",
    "year.sort()\n",
    "print(year)\n",
    "    \n"
   ]
  },
  {
   "cell_type": "code",
   "execution_count": 13,
   "metadata": {},
   "outputs": [
    {
     "name": "stdout",
     "output_type": "stream",
     "text": [
      "['112', '123', '1124', '1112', '123']\n"
     ]
    }
   ],
   "source": [
    "x=['12','23','124','112','23']\n",
    "x=['1'+str for str in x]\n",
    "print(x)"
   ]
  },
  {
   "cell_type": "markdown",
   "metadata": {},
   "source": [
    "\n"
   ]
  }
 ],
 "metadata": {
  "kernelspec": {
   "display_name": "Python 3",
   "language": "python",
   "name": "python3"
  },
  "language_info": {
   "codemirror_mode": {
    "name": "ipython",
    "version": 3
   },
   "file_extension": ".py",
   "mimetype": "text/x-python",
   "name": "python",
   "nbconvert_exporter": "python",
   "pygments_lexer": "ipython3",
   "version": "3.8.5"
  }
 },
 "nbformat": 4,
 "nbformat_minor": 4
}
