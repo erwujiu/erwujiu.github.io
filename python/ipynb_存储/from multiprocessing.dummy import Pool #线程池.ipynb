{
 "cells": [
  {
   "cell_type": "code",
   "execution_count": 3,
   "metadata": {
    "collapsed": true
   },
   "outputs": [
    {
     "name": "stdout",
     "output_type": "stream",
     "text": [
      "正在爬取 https://www.bilibili.com/video/BV1eX4y137wT?p=39&spm_id_from=pageDriver\n"
     ]
    },
    {
     "ename": "TypeError",
     "evalue": "object of type 'Thread' has no len()",
     "output_type": "error",
     "traceback": [
      "\u001b[1;31m---------------------------------------------------------------------------\u001b[0m",
      "\u001b[1;31mTypeError\u001b[0m                                 Traceback (most recent call last)",
      "\u001b[1;32m<ipython-input-3-bb9082647479>\u001b[0m in \u001b[0;36m<module>\u001b[1;34m\u001b[0m\n\u001b[0;32m     23\u001b[0m     \u001b[0mcontent\u001b[0m\u001b[1;33m.\u001b[0m\u001b[0mstart\u001b[0m\u001b[1;33m(\u001b[0m\u001b[1;33m)\u001b[0m\u001b[1;33m\u001b[0m\u001b[1;33m\u001b[0m\u001b[0m\n\u001b[0;32m     24\u001b[0m     \u001b[1;31m#content = get_content(url)\u001b[0m\u001b[1;33m\u001b[0m\u001b[1;33m\u001b[0m\u001b[1;33m\u001b[0m\u001b[0m\n\u001b[1;32m---> 25\u001b[1;33m     \u001b[0mparse_content\u001b[0m\u001b[1;33m(\u001b[0m\u001b[0mcontent\u001b[0m\u001b[1;33m)\u001b[0m\u001b[1;33m\u001b[0m\u001b[1;33m\u001b[0m\u001b[0m\n\u001b[0m",
      "\u001b[1;32m<ipython-input-3-bb9082647479>\u001b[0m in \u001b[0;36mparse_content\u001b[1;34m(content)\u001b[0m\n\u001b[0;32m     17\u001b[0m \u001b[1;33m\u001b[0m\u001b[0m\n\u001b[0;32m     18\u001b[0m \u001b[1;32mdef\u001b[0m \u001b[0mparse_content\u001b[0m\u001b[1;33m(\u001b[0m\u001b[0mcontent\u001b[0m\u001b[1;33m)\u001b[0m\u001b[1;33m:\u001b[0m\u001b[1;33m\u001b[0m\u001b[1;33m\u001b[0m\u001b[0m\n\u001b[1;32m---> 19\u001b[1;33m     \u001b[0mprint\u001b[0m\u001b[1;33m(\u001b[0m\u001b[1;34m\"响应数据的长度\"\u001b[0m\u001b[1;33m,\u001b[0m\u001b[0mlen\u001b[0m\u001b[1;33m(\u001b[0m\u001b[0mcontent\u001b[0m\u001b[1;33m)\u001b[0m\u001b[1;33m)\u001b[0m\u001b[1;33m\u001b[0m\u001b[1;33m\u001b[0m\u001b[0m\n\u001b[0m\u001b[0;32m     20\u001b[0m \u001b[1;33m\u001b[0m\u001b[0m\n\u001b[0;32m     21\u001b[0m \u001b[1;32mfor\u001b[0m \u001b[0murl\u001b[0m \u001b[1;32min\u001b[0m \u001b[0murls\u001b[0m\u001b[1;33m:\u001b[0m\u001b[1;33m\u001b[0m\u001b[1;33m\u001b[0m\u001b[0m\n",
      "\u001b[1;31mTypeError\u001b[0m: object of type 'Thread' has no len()"
     ]
    }
   ],
   "source": [
    "#爬取是有阻塞，很慢\n",
    "import requests\n",
    "\n",
    "headers = {\n",
    "    \"user-agent\": \"Mozilla/5.0 (Windows NT 10.0; Win64; x64) AppleWebKit/537.36 (KHTML, like Gecko) Chrome/92.0.4515.159 Safari/537.36 Edg/92.0.902.84\"\n",
    "}\n",
    "urls = {\n",
    "    \"https://www.bilibili.com/video/BV1eX4y137wT?p=39&spm_id_from=pageDriver\",\n",
    "    \"https://www.baidu.com/?tn=80035161_1_dg\",\n",
    "    \"https://jingyan.baidu.com/article/6766299796ce9354d41b8443.html\"\n",
    "}\n",
    "\n",
    "def get_content(url):\n",
    "    print(\"正在爬取\",url)\n",
    "    res = requests.get(url=url,headers=headers)\n",
    "    if res.status_code == 200 :\n",
    "        return res.content\n",
    "\n",
    "def parse_content(content):\n",
    "    print(\"响应数据的长度\",len(content))\n",
    "\n",
    "for url in urls:\n",
    "    content = get_content(url)\n",
    "    parse_content(content)"
   ]
  },
  {
   "cell_type": "code",
   "execution_count": 10,
   "metadata": {},
   "outputs": [
    {
     "name": "stdout",
     "output_type": "stream",
     "text": [
      "正在下载 xiaozi\n",
      "正在下载 aa\n",
      "正在下载 bb正在下载 cc\n",
      "\n",
      "下载完成下载完成 xiaozi\n",
      " aa\n",
      "下载完成下载完成  bb\n",
      "cc\n"
     ]
    }
   ],
   "source": [
    "import time\n",
    "import threading\n",
    "def get_page(str):\n",
    "    print(\"正在下载\",str)\n",
    "    time.sleep(2)\n",
    "    print(\"下载完成\",str)\n",
    "name_list = ['xiaozi','aa','bb','cc']\n",
    "\n",
    "\n",
    "\n",
    "for i in name_list:\n",
    "    f=threading.Thread(target=get_page,args=(i,))\n",
    "    f.start()\n",
    "\n",
    "\n"
   ]
  },
  {
   "cell_type": "code",
   "execution_count": 12,
   "metadata": {},
   "outputs": [
    {
     "name": "stdout",
     "output_type": "stream",
     "text": [
      "正在下载正在下载 aa\n",
      "正在下载 bb\n",
      " 正在下载 cc\n",
      "xiaozi\n",
      "下载完成 aa\n",
      "下载完成下载完成 cc\n",
      "下载完成  xiaozibb\n",
      "\n",
      "2.030540943145752\n"
     ]
    }
   ],
   "source": [
    "#原则，线程池是处理阻塞且耗时的数据\n",
    "import time\n",
    "from multiprocessing.dummy import Pool #使用线程池\n",
    "\n",
    "start_time = time.time()\n",
    "def get_page(str):\n",
    "    print(\"正在下载\",str)\n",
    "    time.sleep(2)\n",
    "    print(\"下载完成\",str)\n",
    "name_list = ['xiaozi','aa','bb','cc']\n",
    "\n",
    "#实例化一个线程池对象\n",
    "pool = Pool(4)\n",
    "#将类列表中每一个列表元素传递给get_page进行处理\n",
    "pool.map(get_page,name_list)  #如果get_page有返回值,会依次辅助给pool.map\n",
    "\n",
    "end_time = time.time()\n",
    "print(end_time-start_time)\n",
    "   \n",
    "\n"
   ]
  },
  {
   "cell_type": "code",
   "execution_count": 25,
   "metadata": {},
   "outputs": [
    {
     "name": "stdout",
     "output_type": "stream",
     "text": [
      "https://www.pearvideo.com/video_1740211 夫妻携手回母校读研：曾是大学同桌，已工作9年.mp4\n",
      "[]\n",
      "https://www.pearvideo.com/video_1740221 30岁宝妈国企辞职说脱口秀：家人看了她表演后不再反对.mp4\n",
      "[]\n",
      "https://www.pearvideo.com/video_1740092 扬州早茶，“封控”下的人间烟火.mp4\n",
      "[]\n",
      "https://www.pearvideo.com/video_1735735 6旬大爷患癌放弃化疗，乐观直播分享抗癌心得.mp4\n",
      "[]\n",
      "https://www.pearvideo.com/video_1737228 95后无腿小伙练举重：希望更高更快更强，拿奥运金牌.mp4\n",
      "[]\n",
      "https://www.pearvideo.com/video_1735841 六旬老人为圆少年梦，结友开摩托游西藏.mp4\n",
      "[]\n",
      "https://www.pearvideo.com/video_1735735 6旬大爷患癌放弃化疗，乐观直播分享抗癌心得.mp4\n",
      "[]\n",
      "https://www.pearvideo.com/video_1735731 8旬爷爷自制20多种乐器：梦想在90岁时办个唱.mp4\n",
      "[]\n",
      "https://www.pearvideo.com/video_1734980 7旬老人1年看400本书：每月生活上只花100元.mp4\n",
      "[]\n",
      "https://www.pearvideo.com/video_1734854 不满只能说“好听的”，算命先生改行按摩：现开起分店.mp4\n",
      "[]\n",
      "https://www.pearvideo.com/video_1734824 男子辞世界500强经理职位当街头艺人：有成就感.mp4\n",
      "[]\n",
      "https://www.pearvideo.com/video_1740097 成都立交桥下建体育乐园：长达1公里，滑梯球场攀岩啥都有.mp4\n",
      "[]\n",
      "https://www.pearvideo.com/video_1740066 20万个“爱心包子”来了！扬州困难群体在家也能吃上早茶.mp4\n",
      "[]\n",
      "https://www.pearvideo.com/video_1740086 七代人，只做一件事.mp4\n",
      "[]\n"
     ]
    }
   ],
   "source": [
    "#用线程池下载梨视频的视频\n",
    "import requests\n",
    "from  lxml import etree\n",
    "import re\n",
    "def parsel_i(html_url,html_title):\n",
    "    res = requests.get(html_url,headers).text\n",
    "    ex = 'srcUrl=\"(.*?)\",vdoUrl'\n",
    "    a = re.findall(ex,res[0])\n",
    "    print(a)\n",
    "headers = {\n",
    "    \"user-agent\": \"Mozilla/5.0 (Windows NT 10.0; Win64; x64) AppleWebKit/537.36 (KHTML, like Gecko) Chrome/92.0.4515.159 Safari/537.36 Edg/92.0.902.84\"\n",
    "}\n",
    "url= \"https://www.pearvideo.com/category_5\"\n",
    "\n",
    "page_text = requests.get(url,headers).text\n",
    "tree = etree.HTML(page_text)\n",
    "html = tree.xpath('//div[@class=\"vervideo-bd\"]/a')\n",
    "for i in  html :\n",
    "    html_url=\"https://www.pearvideo.com/\"+i.xpath('./@href')[0]\n",
    "    html_title = i.xpath('./div[@class=\"vervideo-title\"]/text()')[0]+\".mp4\"\n",
    "    print(html_url,html_title)\n",
    "    parsel_i(html_url,html_title)\n",
    "#当要获取页面中的下载地址时，发现不是静态加载，而是动态加载，又发现是js，可以用正则获取，\n",
    "#因为xpath不能获取\n",
    "\n",
    "    \n",
    "\n"
   ]
  }
 ],
 "metadata": {
  "kernelspec": {
   "display_name": "Python 3",
   "language": "python",
   "name": "python3"
  },
  "language_info": {
   "codemirror_mode": {
    "name": "ipython",
    "version": 3
   },
   "file_extension": ".py",
   "mimetype": "text/x-python",
   "name": "python",
   "nbconvert_exporter": "python",
   "pygments_lexer": "ipython3",
   "version": "3.8.5"
  }
 },
 "nbformat": 4,
 "nbformat_minor": 4
}
