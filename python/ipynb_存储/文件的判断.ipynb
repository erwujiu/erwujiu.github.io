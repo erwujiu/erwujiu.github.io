{
 "cells": [
  {
   "cell_type": "code",
   "execution_count": 31,
   "metadata": {},
   "outputs": [
    {
     "name": "stdout",
     "output_type": "stream",
     "text": [
      "1\n",
      "1\n",
      "1\n",
      "1\n",
      "1\n",
      "1\n",
      "1\n",
      "1\n",
      "1\n",
      "1\n"
     ]
    }
   ],
   "source": [
    "import os\n",
    "def now_path():\n",
    "    \n",
    "    a = os.getcwd()\n",
    "    print(a)\n",
    "f=['1.jpg',\n",
    "'1111.TXT',\n",
    "'12.json',\n",
    "'123132.py',\n",
    "'3D Objects',\n",
    "'anaconda3',\n",
    "'app1.py',\n",
    "'AppData',\n",
    "'Application Data',\n",
    "'array.mat',\n",
    "  ]\n",
    "flag = os.path.exists(\"小说\")\n",
    "if not flag :\n",
    "    os.mkdir(\"小说\")\n",
    "    os.chdir(\"小说\")\n",
    "    now_path()\n",
    "for file in os.listdir():\n",
    "    if file in f:\n",
    "        print(1)\n",
    "    else:\n",
    "        continue\n",
    "\n",
    "    "
   ]
  },
  {
   "cell_type": "code",
   "execution_count": 26,
   "metadata": {},
   "outputs": [
    {
     "name": "stdout",
     "output_type": "stream",
     "text": [
      "1.txt 10.txt 11.txt 12.txt 13.txt 14.txt 15.txt 16.txt 17.txt 18.txt \n",
      "19.txt 2.txt 20.txt 21.txt 22.txt 23.txt 24.txt 25.txt 26.txt 27.txt \n",
      "28.txt 29.txt 3.txt 30.txt 31.txt 32.txt 33.txt 34.txt 35.txt 36.txt \n",
      "37.txt 38.txt 39.txt 4.txt 40.txt 41.txt 42.txt 43.txt 44.txt 45.txt \n",
      "46.txt 47.txt 48.txt 49.txt 5.txt 50.txt 51.txt 52.txt 53.txt 54.txt \n",
      "55.txt 56.txt 57.txt 58.txt 59.txt 6.txt 60.txt 61.txt 62.txt 63.txt \n",
      "64.txt 65.txt 66.txt 67.txt 68.txt 69.txt 7.txt 70.txt 71.txt 72.txt \n",
      "73.txt 74.txt 75.txt 76.txt 77.txt 78.txt 79.txt 8.txt 80.txt 81.txt \n",
      "82.txt 83.txt 84.txt 85.txt 86.txt 87.txt 88.txt 89.txt 9.txt 90.txt \n",
      "91.txt 92.txt 93.txt 94.txt 95.txt 96.txt 97.txt 98.txt 99.txt "
     ]
    }
   ],
   "source": [
    "import os \n",
    "os.chdir(r\"C:\\Users\\yu\") #把当前路径定位到常用的目录中\n",
    "#判断当前路径是不是在指定的文件夹中\n",
    "if os.path.exists(\"实验文件夹\") :\n",
    "    os.chdir(os.getcwd()+\"\\实验文件夹\")\n",
    "else :\n",
    "    os.mkdir(\"实验文件夹\")\n",
    "    os.chdir(os.getcwd()+\"\\实验文件夹\")\n",
    "    print(os.getcwd())\n",
    "#创建实验文件    \n",
    "for i in range(1,100):\n",
    "    i = str(i)\n",
    "    with open(i+\".txt\",\"w\") as f:\n",
    "        f.write(i)\n",
    "\n",
    "n = 0\n",
    "for i in os.listdir():\n",
    "    n+=1\n",
    "    print(i,end=\" \")\n",
    "    if (n % 10) == 0 :\n",
    "        print()\n",
    "# 批量更改名字\n",
    "def rename_file():\n",
    "    files = os.listdir()\n",
    "    for file in files:\n",
    "        os.rename(file,r\"404//\"+file.split('.')[0]+\".txt\")"
   ]
  },
  {
   "cell_type": "code",
   "execution_count": 15,
   "metadata": {},
   "outputs": [
    {
     "name": "stdout",
     "output_type": "stream",
     "text": [
      "C:\\Users\\yu\n",
      "C:\\Users\\yu\\实验文件夹\n",
      "C:\\Users\\yu\\实验文件夹\n"
     ]
    }
   ],
   "source": [
    "import os \n",
    "os.chdir(r\"C:\\Users\\yu\")\n",
    "print(os.getcwd())\n",
    "#os.rmdir(\"实验文件夹\")\n",
    "#print(os.listdir())\n",
    "a =os.getcwd()\n",
    "a = a+\"\\实验文件夹\"\n",
    "print(a)\n",
    "os.chdir(a)\n",
    "print(os.getcwd())\n",
    "\n"
   ]
  },
  {
   "cell_type": "code",
   "execution_count": 28,
   "metadata": {},
   "outputs": [],
   "source": [
    "import os\n"
   ]
  }
 ],
 "metadata": {
  "kernelspec": {
   "display_name": "Python 3",
   "language": "python",
   "name": "python3"
  },
  "language_info": {
   "codemirror_mode": {
    "name": "ipython",
    "version": 3
   },
   "file_extension": ".py",
   "mimetype": "text/x-python",
   "name": "python",
   "nbconvert_exporter": "python",
   "pygments_lexer": "ipython3",
   "version": "3.8.5"
  }
 },
 "nbformat": 4,
 "nbformat_minor": 4
}
