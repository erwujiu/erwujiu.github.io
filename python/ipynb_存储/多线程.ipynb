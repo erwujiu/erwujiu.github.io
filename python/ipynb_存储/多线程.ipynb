{
 "cells": [
  {
   "cell_type": "code",
   "execution_count": 23,
   "metadata": {},
   "outputs": [
    {
     "name": "stdout",
     "output_type": "stream",
     "text": [
      "666 qq\n",
      "555 qq\n",
      "0.007983207702636719\n",
      "666 ww555 ww\n",
      "\n",
      "666 over555 over\n",
      "\n"
     ]
    }
   ],
   "source": [
    "#普通的创建方式\n",
    "import threading\n",
    "import time\n",
    "def run(name):\n",
    "    print(name+\"qq\")\n",
    "    time.sleep(1)\n",
    "    print(name+\"ww\")\n",
    "    time.sleep(2)\n",
    "    print(name+\"over\")\n",
    "\n",
    "def main():\n",
    "    time1 = time.time()\n",
    "    thread = []\n",
    "    t1 = threading.Thread(target=run,args=(\"666 \",))\n",
    "    t2 = threading.Thread(target=run,args=(\"555 \",))\n",
    "    thread.append(t1)\n",
    "    thread.append(t2)\n",
    "    \n",
    "    \"\"\"\n",
    "    如果线程多可以用for\n",
    "    t1.start()\n",
    "    t2.start()    \n",
    "    \"\"\"\n",
    "    for i in thread :\n",
    "        i.start()\n",
    "    time2 = time.time()\n",
    "    print(time2-time1)\n",
    "if __name__ == \"__main__\":\n",
    "    \n",
    "    main()\n",
    "    \n",
    "    "
   ]
  },
  {
   "cell_type": "code",
   "execution_count": 45,
   "metadata": {},
   "outputs": [
    {
     "name": "stdout",
     "output_type": "stream",
     "text": [
      "https://www.fabiaoqing.com/biaoqing/lists/page/1.html\n",
      "https://www.fabiaoqing.com/biaoqing/lists/page/2.html\n",
      "https://www.fabiaoqing.com/biaoqing/lists/page/3.html\n"
     ]
    }
   ],
   "source": [
    "import threading\n",
    "import requests\n",
    "import time\n",
    "\n",
    "def pa(url):\n",
    "    \n",
    "    headers = {\n",
    "    \"User-Agent\":\n",
    "    \" Mozilla/5.0 (Windows NT 10.0;Win64; x64) AppleWebKit/537.36 (KHTML, like Gecko) Chrome/92.0.4515.131 Safari/537.36 Edg/92.0.902.73\"}\n",
    "    res=requests.get(url,headers)\n",
    "    print(res)\n",
    "class MyThread(threading.Thread):\n",
    "    def __init__(self,args,name):\n",
    "        super(MyThread,self).__init__()\n",
    "        self.name=name        \n",
    "        self.args=args\n",
    "    \n",
    "    def run(self):\n",
    "        #pa(args)\n",
    "        print(self.args)\n",
    "        time.sleep(1)\n",
    "       \n",
    "        time.sleep(1)\n",
    "    \n",
    "\n",
    "    \n",
    "     \n",
    "def main():\n",
    "    a =[]\n",
    "    for i in range(1,4) :\n",
    "        url=\"https://www.fabiaoqing.com/biaoqing/lists/page/{}.html\".format(i)\n",
    "        a.append(url)\n",
    "        #print(a[i-1])\n",
    "    t1 = MyThread(a[0],1)\n",
    "    t2 = MyThread(a[1],2)\n",
    "    t3 = MyThread(a[2],3)\n",
    "    t1.start()\n",
    "    t2.start()\n",
    "    t3.start()\n",
    "    \n",
    "\n",
    "if __name__ == \"__main__\" :\n",
    "    main()\n",
    "        \n",
    "    \n",
    "    \n",
    "    "
   ]
  },
  {
   "cell_type": "code",
   "execution_count": 32,
   "metadata": {},
   "outputs": [
    {
     "name": "stdout",
     "output_type": "stream",
     "text": [
      "task t1 45\n",
      "t1 45\n",
      "task t2 40\n",
      "t2 40\n",
      "2s2s\n",
      "\n",
      "1s1s\n",
      "\n",
      "0s0s\n",
      "\n"
     ]
    }
   ],
   "source": [
    "#网上的自定义线程的样本\n",
    "import threading\n",
    "import time\n",
    "\n",
    "class MyThread(threading.Thread):\n",
    "    def __init__(self,n,a):\n",
    "        super(MyThread,self).__init__()\n",
    "        self.n = n\n",
    "        self.a = a\n",
    "        \n",
    "    \n",
    "    def run(self):\n",
    "        print('task',self.n,self.a)\n",
    "        print(self.n,self.a)\n",
    "        time.sleep(1)\n",
    "        print(\"2s\")\n",
    "        time.sleep(1)\n",
    "        print(\"1s\")\n",
    "        time.sleep(1)\n",
    "        print('0s')\n",
    "        time.sleep(1)\n",
    "    def pa_1(self):\n",
    "        pa(self)\n",
    "    \n",
    "def pa(n):\n",
    "    print(n+11111)\n",
    "    print(2222)\n",
    "        \n",
    "if __name__ == \"__main__\":\n",
    "    \n",
    "    t1=MyThread('t1',45)\n",
    "    t2=MyThread('t2',40)\n",
    "    t1.start()\n",
    "    t2.start()\n"
   ]
  },
  {
   "cell_type": "code",
   "execution_count": 49,
   "metadata": {},
   "outputs": [
    {
     "name": "stdout",
     "output_type": "stream",
     "text": [
      "<Response [200]>\n",
      "<Response [200]>\n"
     ]
    }
   ],
   "source": [
    "import threading\n",
    "import time\n",
    "def run(name):\n",
    "    print(name+\"qq\")\n",
    "    time.sleep(1)\n",
    "    print(name+\"ww\")\n",
    "    time.sleep(2)\n",
    "    print(name+\"over\")\n",
    "def pa(url):    \n",
    "    headers = {\n",
    "    \"User-Agent\":\n",
    "    \" Mozilla/5.0 (Windows NT 10.0;Win64; x64) AppleWebKit/537.36 (KHTML, like Gecko) Chrome/92.0.4515.131 Safari/537.36 Edg/92.0.902.73\"}\n",
    "    res=requests.get(url,headers)\n",
    "    print(res)\n",
    "    \n",
    "def main():\n",
    "    time1 = time.time()\n",
    "    thread = []\n",
    "\n",
    "    a =[]\n",
    "    for i in range(1,4) :\n",
    "        url=\"https://www.fabiaoqing.com/biaoqing/lists/page/{}.html\".format(i)\n",
    "        a.append(url)\n",
    "        #print(a[i-1])\n",
    "    t1 = threading.Thread(target=pa,args=(a[0],))   #这个逗号去了就失败了，不知道为什么\n",
    "    t2 = threading.Thread(target=pa,args=(a[1],))\n",
    "        \n",
    "    thread.append(t1)\n",
    "    thread.append(t2)\n",
    "    \n",
    "    \"\"\"\n",
    "    如果线程多可以用for\n",
    "    t1.start()\n",
    "    t2.start()    \n",
    "    \"\"\"\n",
    "    for i in thread :\n",
    "        i.start()\n",
    "    time2 = time.time()\n",
    "    #print(time2-time1)\n",
    "if __name__ == \"__main__\":\n",
    "    \n",
    "    main()"
   ]
  },
  {
   "cell_type": "code",
   "execution_count": 56,
   "metadata": {},
   "outputs": [
    {
     "name": "stdout",
     "output_type": "stream",
     "text": [
      "https://www.fabiaoqing.com/biaoqing/lists/page/1.html\n",
      "https://www.fabiaoqing.com/biaoqing/lists/page/2.html\n",
      "https://www.fabiaoqing.com/biaoqing/lists/page/3.html\n",
      "https://www.fabiaoqing.com/biaoqing/lists/page/4.html\n"
     ]
    }
   ],
   "source": [
    "import threading\n",
    "\n",
    "\n",
    "def pa(url):    \n",
    "    headers = {\n",
    "    \"User-Agent\":\n",
    "    \" Mozilla/5.0 (Windows NT 10.0;Win64; x64) AppleWebKit/537.36 (KHTML, like Gecko) Chrome/92.0.4515.131 Safari/537.36 Edg/92.0.902.73\"}\n",
    "    res=requests.get(url,headers)\n",
    "    print(url)\n",
    "    \n",
    "thread = []\n",
    "a =[]\n",
    "for i in range(1,5) :\n",
    "    url=\"https://www.fabiaoqing.com/biaoqing/lists/page/{}.html\".format(i)\n",
    "    a.append(url)\n",
    "    #print(a[i-1])\n",
    "for i in range(0,4):\n",
    "\n",
    "    b = threading.Thread(target=pa,args=(a[i],))\n",
    "    b.start()\n",
    "\n",
    "    "
   ]
  }
 ],
 "metadata": {
  "kernelspec": {
   "display_name": "Python 3",
   "language": "python",
   "name": "python3"
  },
  "language_info": {
   "codemirror_mode": {
    "name": "ipython",
    "version": 3
   },
   "file_extension": ".py",
   "mimetype": "text/x-python",
   "name": "python",
   "nbconvert_exporter": "python",
   "pygments_lexer": "ipython3",
   "version": "3.8.5"
  }
 },
 "nbformat": 4,
 "nbformat_minor": 4
}
