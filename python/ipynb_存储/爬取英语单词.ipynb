{
 "cells": [
  {
   "cell_type": "code",
   "execution_count": null,
   "metadata": {},
   "outputs": [],
   "source": [
    "https://doc.wendoc.com/bff09c2e791fc7305ee997d06-1.html\n",
    "    共82页"
   ]
  },
  {
   "cell_type": "code",
   "execution_count": 5,
   "metadata": {},
   "outputs": [
    {
     "name": "stdout",
     "output_type": "stream",
     "text": [
      "大学英语三级词汇表\n",
      "A\n",
      " \n",
      "a,an  art.一，任一，每一\n",
      "abandon v.1.放弃 ，2.离弃，抛弃\n",
      "ability n.1.能力  2.才能,能力\n",
      "able a.1.有能力的，有才干的 2.显示出才华的be~ to V.能,会\n",
      "aboard ad.在船（飞机，车）上   prep.在（船.飞机.车）上\n",
      "about prep.1. 在…周围 ，2.关于，对于 ad.1.周围,附近,到处2.大约  be ~ to V.即将  above prep. 高于，在…之上 a.上面的，上述的 ad.以上，在上面\n",
      "abroad ad.到国外，在国外\n",
      "absence n.1.不在，缺席，2.缺乏，没有\n",
      "absent a.(from)不在的,缺席的\n",
      "absolute a.完全的,绝对的\n",
      "absorb vt.吸收  be ~ed in专心于\n",
      "abstract a. 抽象的 n.摘(提)要 vt. 提(抽)取\n",
      "abuse n.& v.1.滥用, 2.辱骂\n",
      "academic a.1.学院的, 2.学术的\n",
      "accent n.1.口音，腔调  2.重音\n",
      "accept vt.1.接受，领受 2.同意,承认\n",
      "acceptable a.可接受的\n",
      "access n.1.接近. 进入  ，接近（或进入）的方法 have/gain ~ to 可以获得  accident n.事故，意外的事  by ~ 偶然\n",
      "accompany vt.1.伴随,陪同  2.为……伴奏\n",
      "accomplish vt.完成\n",
      "according  ~ to 按照,根据\n",
      "account n.1.账,账户  2叙述,说明  vt.说明 ~ for说明(原因等) on ~ of 因为 take into ~ 考虑\n",
      "accuracy n.准确(性),精确(性)\n",
      "accurate a.准确的,精确的\n",
      "accuse vt.(of)控告,谴责\n",
      "ache vi.痛  n.痛,疼痛\n",
      "achieve vt.1.完成    2.达到,得到\n",
      "achievement n.1.完成,达到,   2.成就,成绩\n",
      "acid n.酸  a.酸的\n",
      "acquire vt.1.取得,获得   2.学到\n",
      "across prep.1.横过,穿过   2.在……对面    与……交叉 ad. 1.横过,穿过  2.宽,阔  act vi.1.行动,做事  2.(on)作用  n.行为,动作\n",
      "action n.1.行动,行为,活动 2.(on) 作用于\n",
      "active a.1.有活动力的,积极的,活跃的 2.在活动中的\n",
      "activity n.1.活动 2.活性,活力\n",
      "actor n.男演员\n",
      "actress n.女演员\n",
      "存储在C:\\Users\\yu\\Jupyter\\ipynb_存储\n"
     ]
    }
   ],
   "source": [
    "from lxml import etree\n",
    "import requests\n",
    "import os\n",
    "from fake_useragent import UserAgent\n",
    "for i in range(1,2): \n",
    "    ua ={'User-Agent':UserAgent().random}\n",
    "    url=\"https://doc.wendoc.com/bff09c2e791fc7305ee997d06-{}.html\".format(i)\n",
    "    res =requests.get(url=url,headers=ua).text\n",
    "\n",
    "\n",
    "    html = etree.HTML(res) #网页源代码编程一个etree对象\n",
    "    img_list = html.xpath('//div[contains(@id,\"contents\")]') #contains 匹配一个属性中包含的字符串\n",
    "    \n",
    "\n",
    "    for img in img_list :\n",
    "        url = img.xpath(\"./p/text()\")\n",
    "        for p in url:      \n",
    "            print(p)\n",
    "#             with open( \"大学英语\"+ \".txt\" ,\"a\") as f:\n",
    "#                 f.write(p+'\\n')\n",
    "                \n",
    "            \n",
    "print(\"存储在{}\".format(os.getcwd()))"
   ]
  }
 ],
 "metadata": {
  "kernelspec": {
   "display_name": "Python 3",
   "language": "python",
   "name": "python3"
  },
  "language_info": {
   "codemirror_mode": {
    "name": "ipython",
    "version": 3
   },
   "file_extension": ".py",
   "mimetype": "text/x-python",
   "name": "python",
   "nbconvert_exporter": "python",
   "pygments_lexer": "ipython3",
   "version": "3.8.5"
  }
 },
 "nbformat": 4,
 "nbformat_minor": 4
}
