{
 "cells": [
  {
   "cell_type": "code",
   "execution_count": 29,
   "metadata": {},
   "outputs": [
    {
     "name": "stdout",
     "output_type": "stream",
     "text": [
      "C:\\Users\\yu\\file\\file\n",
      "创建file目录成功\n"
     ]
    }
   ],
   "source": [
    "import os\n",
    "current_path=os.getcwd()   #获取当前路径\n",
    "print(current_path)\n",
    "if not os.path.exists(\"file\"):   #判断当前目录是否存在\n",
    "    os.mkdir(\"file\")\n",
    "    print(\"创建file目录成功\")\n",
    "    os.chdir(current_path+r\"\\file\")\n",
    "else:\n",
    "    print(\"目录已存在\")\n",
    "\n"
   ]
  },
  {
   "cell_type": "code",
   "execution_count": 25,
   "metadata": {},
   "outputs": [],
   "source": [
    "os.chdir(current_path+r\"\\file\")       # 这里是手动进入，因为有bug\n",
    "print(os.getcwd())"
   ]
  },
  {
   "cell_type": "code",
   "execution_count": 32,
   "metadata": {},
   "outputs": [
    {
     "name": "stdout",
     "output_type": "stream",
     "text": [
      "当前路径为C:\\Users\\yu\\file\\file\n",
      "['1155.txt', '1251.txt', '1352.txt', '1859.txt', '1975.txt', '2121.txt', '2206.txt', '2334.txt', '2365.txt', '2556.txt', '2576.txt', '2625.txt', '2757.txt', '3004.txt', '3081.txt', '3119.txt', '3206.txt', '3345.txt', '3403.txt', '3508.txt', '3636.txt', '3839.txt', '3942.txt', '4111.txt', '4251.txt', '4281.txt', '4289.txt', '4488.txt', '4527.txt', '4599.txt', '4600.txt', '4711.txt', '4741.txt', '4778.txt', '4804.txt', '4805.txt', '4806.txt', '4975.txt', '5017.txt', '5078.txt', '5234.txt', '5314.txt', '5371.txt', '5387.txt', '5444.txt', '5467.txt', '5595.txt', '5747.txt', '5755.txt', '5825.txt', '5936.txt', '5998.txt', '6008.txt', '6048.txt', '6157.txt', '6183.txt', '6215.txt', '6228.txt', '6238.txt', '6240.txt', '6287.txt', '6294.txt', '6428.txt', '6446.txt', '6596.txt', '7042.txt', '7213.txt', '7238.txt', '7502.txt', '7869.txt', '7960.txt', '7969.txt', '7984.txt', '8122.txt', '8212.txt', '8257.txt', '8287.txt', '8408.txt', '8476.txt', '8511.txt', '8534.txt', '8654.txt', '8703.txt', '8730.txt', '8748.txt', '8780.txt', '8797.txt', '8815.txt', '8852.txt', '9233.txt', '9265.txt', '9393.txt', '9442.txt', '9452.txt', '9686.txt', '9722.txt', '9756.txt', '9897.txt', '9903.txt']\n",
      "over\n",
      "['0.txt', '1.txt', '10.txt', '11.txt', '12.txt', '13.txt', '14.txt', '15.txt', '16.txt', '17.txt', '18.txt', '19.txt', '2.txt', '20.txt', '21.txt', '22.txt', '23.txt', '24.txt', '25.txt', '26.txt', '27.txt', '28.txt', '29.txt', '3.txt', '30.txt', '31.txt', '32.txt', '33.txt', '34.txt', '35.txt', '36.txt', '37.txt', '38.txt', '39.txt', '4.txt', '40.txt', '41.txt', '42.txt', '43.txt', '44.txt', '45.txt', '46.txt', '47.txt', '48.txt', '49.txt', '5.txt', '50.txt', '51.txt', '52.txt', '53.txt', '54.txt', '55.txt', '56.txt', '57.txt', '58.txt', '59.txt', '6.txt', '60.txt', '61.txt', '62.txt', '63.txt', '64.txt', '65.txt', '66.txt', '67.txt', '68.txt', '69.txt', '7.txt', '70.txt', '71.txt', '72.txt', '73.txt', '74.txt', '75.txt', '76.txt', '77.txt', '78.txt', '79.txt', '8.txt', '80.txt', '81.txt', '82.txt', '83.txt', '84.txt', '85.txt', '86.txt', '87.txt', '88.txt', '89.txt', '9.txt', '90.txt', '91.txt', '92.txt', '93.txt', '94.txt', '95.txt', '96.txt', '97.txt', '98.txt']\n"
     ]
    }
   ],
   "source": [
    "import random\n",
    "print(\"当前路径为{}\".format(current_path))   \n",
    "for i in range(1,101):                     #这里是手动创建100个txt文件\n",
    "    os.system(r\"echo {} > {}.txt\".format(i,random.randint(1000,10000)))          #这里是shell方法\n",
    "#     print(r\"echo {} > {}.txt\".format(i,i))\n",
    "allfile=os.listdir()\n",
    "print(allfile)\n",
    "for i in  range(0,len(allfile)):  \n",
    "    os.rename(allfile[i],\"{}.txt\".format(i))\n",
    "\n",
    "print(\"over\")\n",
    "print(os.listdir())"
   ]
  },
  {
   "cell_type": "code",
   "execution_count": 22,
   "metadata": {},
   "outputs": [
    {
     "ename": "FileNotFoundError",
     "evalue": "[WinError 2] 系统找不到指定的文件。: '10.txt' -> '200.txt'",
     "output_type": "error",
     "traceback": [
      "\u001b[1;31m---------------------------------------------------------------------------\u001b[0m",
      "\u001b[1;31mFileNotFoundError\u001b[0m                         Traceback (most recent call last)",
      "\u001b[1;32m<ipython-input-22-c18c56b0bee9>\u001b[0m in \u001b[0;36m<module>\u001b[1;34m\u001b[0m\n\u001b[0;32m      1\u001b[0m \u001b[1;32mfor\u001b[0m \u001b[0mi\u001b[0m \u001b[1;32min\u001b[0m  \u001b[0mrange\u001b[0m\u001b[1;33m(\u001b[0m\u001b[1;36m1\u001b[0m\u001b[1;33m,\u001b[0m\u001b[1;36m101\u001b[0m\u001b[1;33m)\u001b[0m\u001b[1;33m:\u001b[0m\u001b[1;33m\u001b[0m\u001b[1;33m\u001b[0m\u001b[0m\n\u001b[0;32m      2\u001b[0m \u001b[1;33m\u001b[0m\u001b[0m\n\u001b[1;32m----> 3\u001b[1;33m     \u001b[0mos\u001b[0m\u001b[1;33m.\u001b[0m\u001b[0mrename\u001b[0m\u001b[1;33m(\u001b[0m\u001b[0mallfile\u001b[0m\u001b[1;33m[\u001b[0m\u001b[0mi\u001b[0m\u001b[1;33m]\u001b[0m\u001b[1;33m,\u001b[0m\u001b[1;34m\"{}.txt\"\u001b[0m\u001b[1;33m.\u001b[0m\u001b[0mformat\u001b[0m\u001b[1;33m(\u001b[0m\u001b[0mi\u001b[0m\u001b[1;33m*\u001b[0m\u001b[1;36m200\u001b[0m\u001b[1;33m)\u001b[0m\u001b[1;33m)\u001b[0m\u001b[1;33m\u001b[0m\u001b[1;33m\u001b[0m\u001b[0m\n\u001b[0m\u001b[0;32m      4\u001b[0m \u001b[0mprint\u001b[0m\u001b[1;33m(\u001b[0m\u001b[1;34m\"over\"\u001b[0m\u001b[1;33m)\u001b[0m\u001b[1;33m\u001b[0m\u001b[1;33m\u001b[0m\u001b[0m\n\u001b[0;32m      5\u001b[0m \u001b[0mprint\u001b[0m\u001b[1;33m(\u001b[0m\u001b[0mos\u001b[0m\u001b[1;33m.\u001b[0m\u001b[0mlistdir\u001b[0m\u001b[1;33m(\u001b[0m\u001b[1;33m)\u001b[0m\u001b[1;33m)\u001b[0m\u001b[1;33m\u001b[0m\u001b[1;33m\u001b[0m\u001b[0m\n",
      "\u001b[1;31mFileNotFoundError\u001b[0m: [WinError 2] 系统找不到指定的文件。: '10.txt' -> '200.txt'"
     ]
    }
   ],
   "source": [
    "\n"
   ]
  },
  {
   "cell_type": "code",
   "execution_count": null,
   "metadata": {},
   "outputs": [],
   "source": [
    "import os\n",
    "folder_or_dir = \"~/work\"\n",
    "if not os.path.exists(folder_or_dir):\n",
    "\tprint(\"folder or dir not exist !!!!!!\")\n",
    "\tos.makedirs(folder_or_dir)\t# 创建目录或文件夹\n"
   ]
  },
  {
   "cell_type": "code",
   "execution_count": null,
   "metadata": {},
   "outputs": [],
   "source": [
    "import os\n",
    "file_name = \"~/test.png\"\n",
    "if not os.path.exists(file_name):\n",
    "\tprint(\"file not exist !!!!!!\")\n",
    "\tos.system(\"touch test.png\")\t# 调用shell命令，创建文件\n"
   ]
  },
  {
   "cell_type": "code",
   "execution_count": 23,
   "metadata": {},
   "outputs": [
    {
     "name": "stdout",
     "output_type": "stream",
     "text": [
      "['1.txt', '1000.txt', '10000.txt', '10200.txt', '10400.txt', '10600.txt', '10800.txt', '11000.txt', '11200.txt', '11400.txt', '11600.txt', '11800.txt', '1200.txt', '12000.txt', '12200.txt', '12400.txt', '12600.txt', '12800.txt', '13000.txt', '13200.txt', '13400.txt', '13600.txt', '13800.txt', '1400.txt', '14000.txt', '14200.txt', '14400.txt', '14600.txt', '14800.txt', '15000.txt', '15200.txt', '15400.txt', '15600.txt', '15800.txt', '1600.txt', '16000.txt', '16200.txt', '16400.txt', '16600.txt', '16800.txt', '17000.txt', '17200.txt', '17400.txt', '17600.txt', '17800.txt', '1800.txt', '18000.txt', '18200.txt', '18400.txt', '18600.txt', '18800.txt', '19000.txt', '19200.txt', '19400.txt', '19600.txt', '19800.txt', '200.txt', '2000.txt', '20000.txt', '2200.txt', '2400.txt', '2600.txt', '2800.txt', '3000.txt', '3200.txt', '3400.txt', '3600.txt', '3800.txt', '400.txt', '4000.txt', '4200.txt', '4400.txt', '4600.txt', '4800.txt', '5000.txt', '5200.txt', '5400.txt', '5600.txt', '5800.txt', '600.txt', '6000.txt', '6200.txt', '6400.txt', '6600.txt', '6800.txt', '7000.txt', '7200.txt', '7400.txt', '7600.txt', '7800.txt', '800.txt', '8000.txt', '8200.txt', '8400.txt', '8600.txt', '8800.txt', '9000.txt', '9200.txt', '9400.txt', '9600.txt', '9800.txt']\n"
     ]
    }
   ],
   "source": []
  }
 ],
 "metadata": {
  "kernelspec": {
   "display_name": "Python 3",
   "language": "python",
   "name": "python3"
  },
  "language_info": {
   "codemirror_mode": {
    "name": "ipython",
    "version": 3
   },
   "file_extension": ".py",
   "mimetype": "text/x-python",
   "name": "python",
   "nbconvert_exporter": "python",
   "pygments_lexer": "ipython3",
   "version": "3.8.5"
  }
 },
 "nbformat": 4,
 "nbformat_minor": 4
}
