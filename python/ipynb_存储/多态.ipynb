{
 "cells": [
  {
   "cell_type": "code",
   "execution_count": 11,
   "metadata": {},
   "outputs": [
    {
     "name": "stdout",
     "output_type": "stream",
     "text": [
      "我是哟个亚子\n",
      "我是一个狗狗\n",
      "我是哟个鸟人\n",
      "我是一个学生\n",
      "我是哟个亚子\n"
     ]
    }
   ],
   "source": [
    "class animal:\n",
    "    def say(self):\n",
    "        print('我是一个动物')\n",
    "        pass\n",
    "    pass\n",
    "\n",
    "class dog(animal):\n",
    "    def say(self):\n",
    "        print('我是一个狗狗')   \n",
    "class student(animal):\n",
    "    def say(self):\n",
    "        print('我是一个学生')\n",
    "class duck(animal):\n",
    "    def say(self):\n",
    "        print('我是哟个亚子')\n",
    "class bird(animal):\n",
    "    def say(self):\n",
    "        print('我是哟个鸟人')    \n",
    "\n",
    "def  ccc(obj):\n",
    "    obj.say()\n",
    "listobj=[duck(),dog(),bird(),student()]\n",
    "for item in listobj:\n",
    "    ccc(item)\n",
    "ccc(duck())"
   ]
  },
  {
   "cell_type": "code",
   "execution_count": 4,
   "metadata": {},
   "outputs": [],
   "source": []
  }
 ],
 "metadata": {
  "kernelspec": {
   "display_name": "Python 3",
   "language": "python",
   "name": "python3"
  },
  "language_info": {
   "codemirror_mode": {
    "name": "ipython",
    "version": 3
   },
   "file_extension": ".py",
   "mimetype": "text/x-python",
   "name": "python",
   "nbconvert_exporter": "python",
   "pygments_lexer": "ipython3",
   "version": "3.8.5"
  }
 },
 "nbformat": 4,
 "nbformat_minor": 4
}
