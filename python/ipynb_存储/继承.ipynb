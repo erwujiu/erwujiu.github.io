{
 "cells": [
  {
   "cell_type": "code",
   "execution_count": 19,
   "metadata": {},
   "outputs": [
    {
     "name": "stdout",
     "output_type": "stream",
     "text": [
      "这是构造方法\n",
      "小花猫\n",
      "这是构造解析方法\n",
      "小花猫 这个对象被彻底清除了 内存空间也被释放了\n",
      "程序等待中1\n",
      "************************************************\n",
      "这是构造方法\n",
      "这是构造解析方法\n",
      "科技小狗 这个对象被彻底清除了 内存空间也被释放了\n"
     ]
    }
   ],
   "source": [
    "class x:\n",
    "    def __init__(self,name):\n",
    "        self.name=name\n",
    "        print(\"这是构造方法\")\n",
    "    def __del__(self):\n",
    "        print('这是构造解析方法')\n",
    "        print('%s 这个对象被彻底清除了 内存空间也被释放了'%self.name)\n",
    "cat=x('小花猫')\n",
    "print(cat.name)\n",
    "del cat\n",
    "input('程序等待中')\n",
    "print('*'*48)\n",
    "dog=x('科技小狗')\n",
    "\n"
   ]
  },
  {
   "cell_type": "code",
   "execution_count": 55,
   "metadata": {
    "scrolled": true
   },
   "outputs": [
    {
     "name": "stdout",
     "output_type": "stream",
     "text": [
      "吃饭了\n",
      "喝水了\n",
      "小猫猫猫叫\n"
     ]
    },
    {
     "ename": "AttributeError",
     "evalue": "'cat' object has no attribute 'wwj'",
     "output_type": "error",
     "traceback": [
      "\u001b[1;31m---------------------------------------------------------------------------\u001b[0m",
      "\u001b[1;31mAttributeError\u001b[0m                            Traceback (most recent call last)",
      "\u001b[1;32m<ipython-input-55-f9d146d14c3a>\u001b[0m in \u001b[0;36m<module>\u001b[1;34m\u001b[0m\n\u001b[0;32m     16\u001b[0m \u001b[0md2\u001b[0m\u001b[1;33m.\u001b[0m\u001b[0mdrink\u001b[0m\u001b[1;33m(\u001b[0m\u001b[1;33m)\u001b[0m\u001b[1;33m\u001b[0m\u001b[1;33m\u001b[0m\u001b[0m\n\u001b[0;32m     17\u001b[0m \u001b[0md2\u001b[0m\u001b[1;33m.\u001b[0m\u001b[0mmmj\u001b[0m\u001b[1;33m(\u001b[0m\u001b[1;33m)\u001b[0m\u001b[1;33m\u001b[0m\u001b[1;33m\u001b[0m\u001b[0m\n\u001b[1;32m---> 18\u001b[1;33m \u001b[0md2\u001b[0m\u001b[1;33m.\u001b[0m\u001b[0mwwj\u001b[0m\u001b[1;33m(\u001b[0m\u001b[1;33m)\u001b[0m\u001b[1;33m\u001b[0m\u001b[1;33m\u001b[0m\u001b[0m\n\u001b[0m\u001b[0;32m     19\u001b[0m \u001b[1;33m\u001b[0m\u001b[0m\n",
      "\u001b[1;31mAttributeError\u001b[0m: 'cat' object has no attribute 'wwj'"
     ]
    }
   ],
   "source": [
    "class animal:\n",
    "    def  eat(self):\n",
    "        print('吃饭了')\n",
    "    def drink(self):\n",
    "        print('喝水了')\n",
    "class dog(animal):\n",
    "    def wwj(self):\n",
    "        print('小狗汪汪叫')\n",
    "    pass\n",
    "class cat(animal):\n",
    "    def mmj(self):\n",
    "        print('小猫猫猫叫')\n",
    "d1=dog()\n",
    "d1.eat()\n",
    "d2=cat()\n",
    "d2.drink()\n",
    "d2.mmj()\n",
    "d2.wwj()\n",
    "\n"
   ]
  },
  {
   "cell_type": "code",
   "execution_count": 11,
   "metadata": {},
   "outputs": [
    {
     "name": "stdout",
     "output_type": "stream",
     "text": [
      "柯基犬的颜色是红色 它的身高是90cm体重是20\n"
     ]
    }
   ],
   "source": [
    "class grandfather:\n",
    "    def __init__(self,name,color):\n",
    "        self.name=name\n",
    "        self.color=color\n",
    "    def bark(self):\n",
    "        print('汪汪叫')\n",
    "class father(grandfather): \n",
    "    def __init__(self,name,color):\n",
    "        #grandfather.__init__(self,name,color)\n",
    "        super().__init__(name,color)\n",
    "        self.height=90\n",
    "        self.weight=20\n",
    "    def __str__(self):\n",
    "        return '{}的颜色是{} 它的身高是{}cm体重是{}'.format(self.name,self.color,self.height,self.weight)\n",
    "    def bark(self):\n",
    "        print('叫的和神一样')\n",
    "        print(self.name)\n",
    "\n",
    "s=father('柯基犬','红色')\n",
    "print\n",
    "print(s)"
   ]
  },
  {
   "cell_type": "code",
   "execution_count": 38,
   "metadata": {},
   "outputs": [
    {
     "name": "stdout",
     "output_type": "stream",
     "text": [
      "科技的颜色是红色\n"
     ]
    }
   ],
   "source": [
    "\n",
    "\n",
    "\n",
    "\n",
    "\n",
    "class dog(object):\n",
    "    def __init__(self,name,color):\n",
    "        self.name=name\n",
    "        self.color=color\n",
    "    def __str__(self):\n",
    "        return self.name,self.color\n",
    "    def chifan():\n",
    "        print('吃饭')\n",
    "\n",
    "\n",
    "class xdog(dog):\n",
    "    \n",
    "    def __init__(self,name,color):\n",
    "        self.name='name'\n",
    "        self.color='color '  \n",
    "        super().__init__(name,color)\n",
    "    def __str__(self):\n",
    "        return '{}的颜色是{}'.format(self.name,self.color)\n",
    "       \n",
    "\n",
    "    def chifan():\n",
    "        print('cf')\n",
    "x=xdog('科技','红色')\n",
    "print(x)\n",
    "\n",
    "\n",
    "\n",
    "\n"
   ]
  },
  {
   "cell_type": "code",
   "execution_count": 16,
   "metadata": {},
   "outputs": [
    {
     "ename": "AttributeError",
     "evalue": "'dog' object has no attribute 'name'",
     "output_type": "error",
     "traceback": [
      "\u001b[1;31m---------------------------------------------------------------------------\u001b[0m",
      "\u001b[1;31mAttributeError\u001b[0m                            Traceback (most recent call last)",
      "\u001b[1;32m<ipython-input-16-6733910a60d8>\u001b[0m in \u001b[0;36m<module>\u001b[1;34m\u001b[0m\n\u001b[0;32m     12\u001b[0m         \u001b[0mself\u001b[0m\u001b[1;33m.\u001b[0m\u001b[0mcolor\u001b[0m\u001b[1;33m=\u001b[0m\u001b[0mcolor\u001b[0m\u001b[1;33m\u001b[0m\u001b[1;33m\u001b[0m\u001b[0m\n\u001b[0;32m     13\u001b[0m \u001b[0ma\u001b[0m\u001b[1;33m=\u001b[0m\u001b[0mdog\u001b[0m\u001b[1;33m(\u001b[0m\u001b[1;34m'泰迪'\u001b[0m\u001b[1;33m)\u001b[0m\u001b[1;33m\u001b[0m\u001b[1;33m\u001b[0m\u001b[0m\n\u001b[1;32m---> 14\u001b[1;33m \u001b[0mprint\u001b[0m\u001b[1;33m(\u001b[0m\u001b[0ma\u001b[0m\u001b[1;33m)\u001b[0m\u001b[1;33m\u001b[0m\u001b[1;33m\u001b[0m\u001b[0m\n\u001b[0m",
      "\u001b[1;32m<ipython-input-16-6733910a60d8>\u001b[0m in \u001b[0;36m__str__\u001b[1;34m(self)\u001b[0m\n\u001b[0;32m      7\u001b[0m         \u001b[1;32mreturn\u001b[0m \u001b[1;33m(\u001b[0m\u001b[1;34m'{} need sleep'\u001b[0m\u001b[1;33m.\u001b[0m\u001b[0mformat\u001b[0m\u001b[1;33m(\u001b[0m\u001b[0mself\u001b[0m\u001b[1;33m.\u001b[0m\u001b[0mname\u001b[0m\u001b[1;33m)\u001b[0m\u001b[1;33m)\u001b[0m\u001b[1;33m\u001b[0m\u001b[1;33m\u001b[0m\u001b[0m\n\u001b[0;32m      8\u001b[0m     \u001b[1;32mdef\u001b[0m \u001b[0m__str__\u001b[0m\u001b[1;33m(\u001b[0m\u001b[0mself\u001b[0m\u001b[1;33m)\u001b[0m\u001b[1;33m:\u001b[0m\u001b[1;33m\u001b[0m\u001b[1;33m\u001b[0m\u001b[0m\n\u001b[1;32m----> 9\u001b[1;33m         \u001b[1;32mreturn\u001b[0m \u001b[1;34m'这是一个{}'\u001b[0m\u001b[1;33m.\u001b[0m\u001b[0mformat\u001b[0m\u001b[1;33m(\u001b[0m\u001b[0mself\u001b[0m\u001b[1;33m.\u001b[0m\u001b[0mname\u001b[0m\u001b[1;33m)\u001b[0m\u001b[1;33m\u001b[0m\u001b[1;33m\u001b[0m\u001b[0m\n\u001b[0m\u001b[0;32m     10\u001b[0m \u001b[1;32mclass\u001b[0m \u001b[0mdog\u001b[0m\u001b[1;33m(\u001b[0m\u001b[0manimal\u001b[0m\u001b[1;33m)\u001b[0m\u001b[1;33m:\u001b[0m\u001b[1;33m\u001b[0m\u001b[1;33m\u001b[0m\u001b[0m\n\u001b[0;32m     11\u001b[0m     \u001b[1;32mdef\u001b[0m \u001b[0m__init__\u001b[0m\u001b[1;33m(\u001b[0m\u001b[0mself\u001b[0m\u001b[1;33m,\u001b[0m\u001b[0mcolor\u001b[0m\u001b[1;33m)\u001b[0m\u001b[1;33m:\u001b[0m\u001b[1;33m\u001b[0m\u001b[1;33m\u001b[0m\u001b[0m\n",
      "\u001b[1;31mAttributeError\u001b[0m: 'dog' object has no attribute 'name'"
     ]
    }
   ],
   "source": [
    "class animal():\n",
    "    def __init__(self,name):\n",
    "        self.name=name    \n",
    "    def eat(self):\n",
    "        return ('{} need food'.format(self.name))\n",
    "    def sleep(self):\n",
    "        return ('{} need sleep'.format(self.name))\n",
    "    def __str__(self):\n",
    "        return '这是一个{}'.format(self.name)\n",
    "class dog(animal):\n",
    "    def __init__(self,color):\n",
    "        self.color=color\n",
    "a=dog('泰迪')\n",
    "print(a)\n"
   ]
  },
  {
   "cell_type": "code",
   "execution_count": null,
   "metadata": {},
   "outputs": [],
   "source": []
  }
 ],
 "metadata": {
  "kernelspec": {
   "display_name": "Python 3",
   "language": "python",
   "name": "python3"
  },
  "language_info": {
   "codemirror_mode": {
    "name": "ipython",
    "version": 3
   },
   "file_extension": ".py",
   "mimetype": "text/x-python",
   "name": "python",
   "nbconvert_exporter": "python",
   "pygments_lexer": "ipython3",
   "version": "3.8.5"
  }
 },
 "nbformat": 4,
 "nbformat_minor": 4
}
