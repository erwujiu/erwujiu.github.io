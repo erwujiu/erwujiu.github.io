{
 "cells": [
  {
   "cell_type": "code",
   "execution_count": null,
   "metadata": {},
   "outputs": [],
   "source": [
    "cart=[1,23,4,56,7]\n",
    "for i in range(len(cart)-1,-1,-1):\n",
    "    print(cart[i])"
   ]
  },
  {
   "cell_type": "code",
   "execution_count": 33,
   "metadata": {},
   "outputs": [
    {
     "name": "stdout",
     "output_type": "stream",
     "text": [
      "{1: 'nb', 2: 'wa', 3: 'we', 4: 'we', 5: 'we'}\n",
      "请输入您的星座名称:2\n",
      "2 wa\n",
      "False\n",
      "对不起，请输入的有错\n"
     ]
    }
   ],
   "source": [
    "a=[1,2,3,4,5]\n",
    "b=['nb','wa','we','we','we']\n",
    "d=dict(zip(a,b))\n",
    "print(d)\n",
    "key=eval(input('请输入您的星座名称:'))\n",
    "flag=True\n",
    "for i in d:\n",
    "    if key==i:\n",
    "        flag=True\n",
    "        print(key,d.get(key))\n",
    "        break\n",
    "    else:\n",
    "        flag=False\n",
    "print(flag)\n",
    "if not flag:\n",
    "    print('对不起，请输入的有错')\n"
   ]
  },
  {
   "cell_type": "code",
   "execution_count": 37,
   "metadata": {},
   "outputs": [
    {
     "name": "stdout",
     "output_type": "stream",
     "text": [
      "\u001b[44;1m21213123\n"
     ]
    }
   ],
   "source": [
    "a='\\033[44;1m21'\n",
    "s=f'{a}213123'\n",
    "print(s)"
   ]
  },
  {
   "cell_type": "code",
   "execution_count": 50,
   "metadata": {},
   "outputs": [
    {
     "name": "stdout",
     "output_type": "stream",
     "text": [
      "您好,欢迎光临咖啡馆\n",
      "本店经营的咖啡有:\n",
      "{1: '狼上', 2: '卡布奇诺', 3: '纳特'},请选择您喜欢的咖啡编号:\n",
      "1\n",
      "您的咖啡的狼上已经到了，请你慢用。。。\n"
     ]
    }
   ],
   "source": [
    "def coffe():\n",
    "    print(\"您好,欢迎光临咖啡馆\")\n",
    "    print('本店经营的咖啡有:')\n",
    "    x={1:'狼上',2:'卡布奇诺',3:'纳特'}\n",
    "    y=int(input('{},请选择您喜欢的咖啡编号:\\n'.format(x)))\n",
    "    if x.get(y)!=None:\n",
    "        print('您的咖啡的{}已经到了，请你慢用。。。'.format(x.get(y)))\n",
    "    else:\n",
    "        print(\"请输入正确编号\")\n",
    "main=coffe()"
   ]
  },
  {
   "cell_type": "code",
   "execution_count": 44,
   "metadata": {},
   "outputs": [
    {
     "name": "stdout",
     "output_type": "stream",
     "text": [
      "狼上\n"
     ]
    }
   ],
   "source": []
  },
  {
   "cell_type": "code",
   "execution_count": null,
   "metadata": {},
   "outputs": [],
   "source": [
    "import random\n",
    "a=random.randint(1,10)\n",
    "for i in range(1,11):\n",
    "    b=int(input('\\033[44m1猜数'))"
   ]
  }
 ],
 "metadata": {
  "kernelspec": {
   "display_name": "Python 3",
   "language": "python",
   "name": "python3"
  },
  "language_info": {
   "codemirror_mode": {
    "name": "ipython",
    "version": 3
   },
   "file_extension": ".py",
   "mimetype": "text/x-python",
   "name": "python",
   "nbconvert_exporter": "python",
   "pygments_lexer": "ipython3",
   "version": "3.8.5"
  }
 },
 "nbformat": 4,
 "nbformat_minor": 4
}
