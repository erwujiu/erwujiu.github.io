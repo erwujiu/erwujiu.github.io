{
 "cells": [
  {
   "cell_type": "code",
   "execution_count": 5,
   "metadata": {},
   "outputs": [
    {
     "name": "stdout",
     "output_type": "stream",
     "text": [
      "请输入Q\n",
      "Q在qweqeqwe2qhawkhjakehawauieqh中出现的次数为:5\n"
     ]
    }
   ],
   "source": [
    "#lower 大写转小写\n",
    "#upper 小写转大写\n",
    "def get_count(s,ch):\n",
    "    count=0\n",
    "    for item in s:\n",
    "        if ch.upper()==item or ch.lower()==item:\n",
    "            count+=1\n",
    "    return count\n",
    "if __name__=='__main__':\n",
    "    s='qweqeqwe2qhawkhjakehawauieqh'\n",
    "    ch=input('请输入')\n",
    "    count=get_count(s,ch)\n",
    "    print(f'{ch}在{s}中出现的次数为:{count}')\n",
    "    "
   ]
  },
  {
   "cell_type": "code",
   "execution_count": 23,
   "metadata": {},
   "outputs": [
    {
     "name": "stdout",
     "output_type": "stream",
     "text": [
      "编号\t\t名称\t\t品牌\t\t单价\n",
      "01\t\t电风扇\t\t没得\t\t50120\t\t\n",
      "02\t\t电扇\t\t没we得\t\t5010\t\t\n",
      "03\t\t扇\t\t得\t\t5020\t\t\n",
      "格式化------------------\n",
      "编号\t\t名称\t\t品牌\t\t单价\n",
      "000001\t\t电风扇\t\t没得\t\t¥50120.00\t\t\n",
      "000002\t\t电扇\t\t没we得\t\t¥5010.00\t\t\n",
      "000003\t\t扇\t\t得\t\t¥5020.00\t\t\n"
     ]
    }
   ],
   "source": [
    "lst=[['01','电风扇','没得',50120],\n",
    "    ['02','电扇','没we得',5010],\n",
    "    ['03','扇','得',5020]]\n",
    "    \n",
    "print('编号\\t\\t名称\\t\\t品牌\\t\\t单价')\n",
    "def show(lst):\n",
    "    for item in lst:\n",
    "        for i in item:\n",
    "            print(i,end='\\t\\t')\n",
    "        print()\n",
    "show(lst)    \n",
    "print('格式化------------------')\n",
    "print('编号\\t\\t名称\\t\\t品牌\\t\\t单价')\n",
    "for item in lst:\n",
    "    item[0]='0000'+item[0]\n",
    "    item[3]='¥{:.2f}'.format(item[3])\n",
    "show(lst)\n",
    "    \n",
    "\n",
    "    "
   ]
  },
  {
   "cell_type": "code",
   "execution_count": 7,
   "metadata": {},
   "outputs": [
    {
     "name": "stdout",
     "output_type": "stream",
     "text": [
      "weqqq\n"
     ]
    }
   ],
   "source": [
    "a='weqQQ'\n",
    "print(a.lower())"
   ]
  },
  {
   "cell_type": "code",
   "execution_count": 17,
   "metadata": {},
   "outputs": [
    {
     "name": "stdout",
     "output_type": "stream",
     "text": [
      "c\n",
      "a b\n",
      "3.142\n",
      "15\n"
     ]
    },
    {
     "data": {
      "text/plain": [
       "False"
      ]
     },
     "execution_count": 17,
     "metadata": {},
     "output_type": "execute_result"
    }
   ],
   "source": [
    "numbers = [1, 2, 3, 4, 5, 6, 7, 8, 9, 10]\n",
    "numbers[0: 2]\n",
    "numbers[0::3]\n",
    "\n",
    "numbers[-2:]\n",
    "numbers[: -1]\n",
    "\n",
    "\n",
    "word = 'cloud'\n",
    "print(min(word))\n",
    "print(\"a\",\"b\")\n",
    "import math\n",
    "print('{:5.3f}'.format(math.pi))\n",
    "\n",
    "3.1416\n",
    "a='Life is short, you need Python.'.find('you') \n",
    "print(a)\n"
   ]
  },
  {
   "cell_type": "code",
   "execution_count": 25,
   "metadata": {},
   "outputs": [
    {
     "name": "stdout",
     "output_type": "stream",
     "text": [
      "False\n"
     ]
    }
   ],
   "source": [
    "x=(1,2) in zip(range(4),range(2,6))\n",
    "print(x)"
   ]
  },
  {
   "cell_type": "code",
   "execution_count": 26,
   "metadata": {},
   "outputs": [
    {
     "name": "stdout",
     "output_type": "stream",
     "text": [
      "False\n",
      "python.\n"
     ]
    }
   ],
   "source": [
    "my_list = [s.lower() for s in 'Life is short, you need Python.'.split(' ')]\n",
    "print('short' in my_list)\n",
    "print(my_list[5])"
   ]
  },
  {
   "cell_type": "code",
   "execution_count": 29,
   "metadata": {},
   "outputs": [
    {
     "name": "stdout",
     "output_type": "stream",
     "text": [
      "['p', 'y', 't', 'h', 'o', 'n']\n",
      "0\n"
     ]
    }
   ],
   "source": [
    "a=list(\"php\")\n",
    "a[1:]=\"ython\"\n",
    "print(a)\n",
    "print(list('Life is short, you need Python.').count('is'))\n",
    "\n"
   ]
  },
  {
   "cell_type": "code",
   "execution_count": 30,
   "metadata": {},
   "outputs": [
    {
     "name": "stdout",
     "output_type": "stream",
     "text": [
      "[1, 2, 3]\n"
     ]
    }
   ],
   "source": [
    "x=[2,3,1]\n",
    "x.sort()\n",
    "print(x)"
   ]
  },
  {
   "cell_type": "code",
   "execution_count": null,
   "metadata": {},
   "outputs": [],
   "source": [
    "9,10true,11"
   ]
  },
  {
   "cell_type": "code",
   "execution_count": 34,
   "metadata": {},
   "outputs": [
    {
     "name": "stdout",
     "output_type": "stream",
     "text": [
      "15\n"
     ]
    }
   ],
   "source": [
    "words = ['Life', 'is', 'short', 'you', 'need', 'Python'] \n",
    "\n",
    "words.index('you')\n",
    "# print(list('Life is short, you need Python.').count('is'))\n",
    "a='Life is short, you need Python.'.find('you') \n",
    "print(a)"
   ]
  }
 ],
 "metadata": {
  "kernelspec": {
   "display_name": "Python 3",
   "language": "python",
   "name": "python3"
  },
  "language_info": {
   "codemirror_mode": {
    "name": "ipython",
    "version": 3
   },
   "file_extension": ".py",
   "mimetype": "text/x-python",
   "name": "python",
   "nbconvert_exporter": "python",
   "pygments_lexer": "ipython3",
   "version": "3.8.5"
  }
 },
 "nbformat": 4,
 "nbformat_minor": 4
}
