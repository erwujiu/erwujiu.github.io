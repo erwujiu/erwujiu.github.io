{
 "cells": [
  {
   "cell_type": "code",
   "execution_count": 12,
   "metadata": {},
   "outputs": [
    {
     "name": "stdout",
     "output_type": "stream",
     "text": [
      "[6, 44, 40, 26]\n",
      "[6, 86, 22, 26]\n",
      "[74, 85, 40, 98]\n",
      "[90, 22, 72, 33]\n"
     ]
    }
   ],
   "source": [
    "import random\n",
    "x=[]\n",
    "for i in range(4):\n",
    "    x.append([])\n",
    "    for j in range(4):\n",
    "        a=random.randint(1,100)\n",
    "        x[i].append(a)\n",
    "for i in range(4):\n",
    "    print(x[i])\n",
    "\n",
    "    "
   ]
  },
  {
   "cell_type": "code",
   "execution_count": 26,
   "metadata": {},
   "outputs": [
    {
     "name": "stdout",
     "output_type": "stream",
     "text": [
      "[1, 83, 43, 20]\n",
      "[85, 28, 50, 31]\n",
      "[96, 96, 80, 77]\n",
      "[68, 80, 12, 29]\n",
      "没有找到靶点\n",
      "[23, 13, 46, 8]\n",
      "[100, 60, 8, 78]\n",
      "[74, 54, 67, 91]\n",
      "[34, 96, 21, 30]\n",
      "没有找到靶点\n",
      "[11, 23, 80, 35]\n",
      "[46, 41, 18, 45]\n",
      "[10, 43, 14, 8]\n",
      "[16, 13, 18, 18]\n",
      "没有找到靶点\n",
      "[67, 54, 99, 55]\n",
      "[56, 98, 30, 82]\n",
      "[59, 32, 40, 62]\n",
      "[42, 12, 5, 10]\n",
      "找到第1个靶点42第4行第1列\n",
      "[[67, 56, 59, 42], [67, 56, 59, 42], [67, 56, 59, 42], [67, 56, 59, 42]]\n",
      "42 42\n",
      "找到第2个靶点42第4行第2列\n",
      "[[67, 56, 59, 42], [67, 56, 59, 42], [67, 56, 59, 42], [67, 56, 59, 42]]\n",
      "42 42\n",
      "找到第3个靶点42第4行第3列\n",
      "[[67, 56, 59, 42], [67, 56, 59, 42], [67, 56, 59, 42], [67, 56, 59, 42]]\n",
      "42 42\n",
      "找到第4个靶点42第4行第4列\n",
      "[[67, 56, 59, 42], [67, 56, 59, 42], [67, 56, 59, 42], [67, 56, 59, 42]]\n",
      "42 42\n"
     ]
    }
   ],
   "source": [
    "from random import randint\n",
    "f=0\n",
    "while f==0:    \n",
    "    a=[[randint(1,100) for j in range(4)] for i in range(4)]\n",
    "    x=[]\n",
    "    for i in range(4):\n",
    "        x.append([])\n",
    "        for j in range(4):\n",
    "            x[i].append(a[j][0])    \n",
    "    f=0\n",
    "    for i in range(4):\n",
    "        print(a[i])\n",
    "        n=1\n",
    "    for j in range(4):\n",
    "        max1=max(a[i])\n",
    "        min1=min(x[j])\n",
    "        if max1==min1:\n",
    "            print('找到第{}个靶点{}第{}行第{}列'.format(n,max1,i+1,j+1))\n",
    "            f=1\n",
    "            print(x)\n",
    "            print(max(a[i]),min(x[j]))\n",
    "        n+=1\n",
    "    if f==0:\n",
    "        print('没有找到靶点')\n",
    "\n",
    "    \n",
    "\n",
    "    \n"
   ]
  },
  {
   "cell_type": "code",
   "execution_count": 305,
   "metadata": {},
   "outputs": [
    {
     "name": "stdout",
     "output_type": "stream",
     "text": [
      "[[ 91  72  59  63  15]\n",
      " [ 61  18  82   1   5]\n",
      " [ 47  59 100  83  12]\n",
      " [ 83  42   5  13  23]\n",
      " [ 43  35  13  19  43]]\n",
      "找到鞍点43，第5行第1列\n"
     ]
    }
   ],
   "source": [
    "#3.1\n",
    "import numpy as np\n",
    "import random\n",
    "flag=0\n",
    "while flag==0:\n",
    "    two_list=[[random.randint(1,100) for i in range(5)] for i in range(5)]\n",
    "    for i in range(len(two_list)):\n",
    "        f=0\n",
    "        list_max=max(two_list[i])\n",
    "        a=max(two_list[i])\n",
    "        index=two_list[i].index(list_max)\n",
    "        for j in range(len(two_list)):         \n",
    "            if list_max>two_list[j][index]:\n",
    "                f=1\n",
    "        if f==0:\n",
    "            print(np.array(two_list));flag=1\n",
    "            print('找到鞍点{}，第{}行第{}列'.format(list_max,i+1,index+1))\n",
    "\n",
    "\n",
    "                \n",
    "            "
   ]
  },
  {
   "cell_type": "code",
   "execution_count": 302,
   "metadata": {},
   "outputs": [
    {
     "name": "stdout",
     "output_type": "stream",
     "text": [
      "[[ 91  16  57  70  12]\n",
      " [ 45  97  39  88  59]\n",
      " [ 72  61 100  87  97]\n",
      " [  9  75  48  77  78]\n",
      " [ 11  63  62  67  27]]\n",
      "找到鞍点67，第5行第4列\n"
     ]
    }
   ],
   "source": [
    "#找鞍点3.0 14行\n",
    "import numpy as np\n",
    "import random\n",
    "two_list=[[random.randint(1,100) for i in range(5)] for i in range(5)]\n",
    "print(np.array(two_list))\n",
    "for i in range(len(two_list)):\n",
    "    f=0\n",
    "    list_max=max(two_list[i])\n",
    "    a=max(two_list[i])\n",
    "    index=two_list[i].index(list_max)\n",
    "    for j in range(len(two_list)):\n",
    "        if list_max>two_list[j][index]:\n",
    "            f+=1\n",
    "    if f==0:        \n",
    "        print('找到鞍点{}，第{}行第{}列'.format(list_max,i+1,index+1))"
   ]
  }
 ],
 "metadata": {
  "kernelspec": {
   "display_name": "Python 3",
   "language": "python",
   "name": "python3"
  },
  "language_info": {
   "codemirror_mode": {
    "name": "ipython",
    "version": 3
   },
   "file_extension": ".py",
   "mimetype": "text/x-python",
   "name": "python",
   "nbconvert_exporter": "python",
   "pygments_lexer": "ipython3",
   "version": "3.8.5"
  }
 },
 "nbformat": 4,
 "nbformat_minor": 4
}
