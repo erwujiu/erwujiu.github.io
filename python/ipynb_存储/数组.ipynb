{
 "cells": [
  {
   "cell_type": "code",
   "execution_count": 14,
   "metadata": {},
   "outputs": [
    {
     "ename": "IndentationError",
     "evalue": "expected an indented block (<ipython-input-14-738b633e55aa>, line 4)",
     "output_type": "error",
     "traceback": [
      "\u001b[1;36m  File \u001b[1;32m\"<ipython-input-14-738b633e55aa>\"\u001b[1;36m, line \u001b[1;32m4\u001b[0m\n\u001b[1;33m    slow=0\u001b[0m\n\u001b[1;37m    ^\u001b[0m\n\u001b[1;31mIndentationError\u001b[0m\u001b[1;31m:\u001b[0m expected an indented block\n"
     ]
    }
   ],
   "source": [
    "nums=[1,2,2,2,3,3]\n",
    "\n",
    "\n",
    "j=0\n",
    "for i in range(len(nums)):\n",
    "    if nums[i]!=nums[j]:\n",
    "        \n",
    "\n"
   ]
  },
  {
   "cell_type": "code",
   "execution_count": 8,
   "metadata": {},
   "outputs": [
    {
     "name": "stdout",
     "output_type": "stream",
     "text": [
      "[1, 2, 3]\n"
     ]
    }
   ],
   "source": [
    "nums=[1,1,2,2,2,3,3,3,3]\n",
    "for i in range(len(nums)-1,0,-1):\n",
    "    if nums[i]==nums[i-1]:\n",
    "        del nums[i]\n",
    "print(nums)"
   ]
  },
  {
   "cell_type": "code",
   "execution_count": 27,
   "metadata": {},
   "outputs": [
    {
     "name": "stdout",
     "output_type": "stream",
     "text": [
      "[8, 10, 9, 4, 2, 4, 2, 10, 9, 5]\n",
      "2\n",
      "2\n",
      "8\n",
      "12\n"
     ]
    }
   ],
   "source": [
    "#贪心算法\n",
    "import random \n",
    "a=[random.randint(1,10) for i in range(10)]\n",
    "print(a)\n",
    "min=0\n",
    "sum=0\n",
    "for i in range(len(a)-1):\n",
    "    if a[i]<a[i+1]:\n",
    "        sum+=a[i+1]-a[i]\n",
    "        print(a[i+1]-a[i])\n",
    "print(sum) "
   ]
  },
  {
   "cell_type": "code",
   "execution_count": 52,
   "metadata": {},
   "outputs": [
    {
     "name": "stdout",
     "output_type": "stream",
     "text": [
      "[5, 6, 7, 7, 2, 2, 2, 8, 1, 2]\n",
      "7\n",
      "[7, 2, 2, 2, 8, 1, 2, 5, 6, 7]\n"
     ]
    }
   ],
   "source": [
    "import random \n",
    "a=[random.randint(1,10) for i in range(10)]\n",
    "print(a)\n",
    "k=int(input())\n",
    "if k>len(a):\n",
    "    k=k-len(a)\n",
    "b=a[-k:]\n",
    "c=a[:-k]\n",
    "print(b+c)"
   ]
  },
  {
   "cell_type": "code",
   "execution_count": 54,
   "metadata": {},
   "outputs": [
    {
     "name": "stdout",
     "output_type": "stream",
     "text": [
      "[5, 6, 7, 1, 2, 3, 4]\n"
     ]
    }
   ],
   "source": [
    "a=[1,2,3,4,5,6,7]\n",
    "k=3\n",
    "b=a[-k:]\n",
    "c=a[:-k]\n",
    "print(b+c)"
   ]
  }
 ],
 "metadata": {
  "kernelspec": {
   "display_name": "Python 3",
   "language": "python",
   "name": "python3"
  },
  "language_info": {
   "codemirror_mode": {
    "name": "ipython",
    "version": 3
   },
   "file_extension": ".py",
   "mimetype": "text/x-python",
   "name": "python",
   "nbconvert_exporter": "python",
   "pygments_lexer": "ipython3",
   "version": "3.8.5"
  }
 },
 "nbformat": 4,
 "nbformat_minor": 4
}
