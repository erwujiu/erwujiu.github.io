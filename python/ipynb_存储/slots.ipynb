{
 "cells": [
  {
   "cell_type": "code",
   "execution_count": 24,
   "metadata": {},
   "outputs": [
    {
     "name": "stdout",
     "output_type": "stream",
     "text": [
      "11\n"
     ]
    }
   ],
   "source": [
    "class person(object):\n",
    "\n",
    "    def __str__(self):\n",
    "        return '{}{}'.format(self.name,self.age)\n",
    "    \n",
    "    __slots__=('name','age','wudi')\n",
    "\n",
    "#print(xw.__dict__) #定义了slots变量之后 类的实例就不能随意创建\n",
    "\n",
    "class studnet(person):\n",
    "    __slots__=('wudi')\n",
    "    pass\n",
    "a=studnet()\n",
    "a.wudi=11\n",
    "print(a.wudi)"
   ]
  }
 ],
 "metadata": {
  "kernelspec": {
   "display_name": "Python 3",
   "language": "python",
   "name": "python3"
  },
  "language_info": {
   "codemirror_mode": {
    "name": "ipython",
    "version": 3
   },
   "file_extension": ".py",
   "mimetype": "text/x-python",
   "name": "python",
   "nbconvert_exporter": "python",
   "pygments_lexer": "ipython3",
   "version": "3.8.5"
  }
 },
 "nbformat": 4,
 "nbformat_minor": 4
}
