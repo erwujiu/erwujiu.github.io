{
 "cells": [
  {
   "cell_type": "code",
   "execution_count": null,
   "metadata": {},
   "outputs": [],
   "source": [
    " Python xlwt 写入 操作Excel（仅限xls格式！）"
   ]
  },
  {
   "cell_type": "code",
   "execution_count": 7,
   "metadata": {},
   "outputs": [],
   "source": [
    "#使用xlwt创建新表格并写入\n",
    "\n",
    "def fun3_2_2():\n",
    "    # 创建新的workbook（其实就是创建新的excel）\n",
    "    workbook = xlwt.Workbook(encoding='ascii')\n",
    "    # 创建新的sheet表\n",
    "    worksheet = workbook.add_sheet(\"My new Sheet\")\n",
    "      # 往表格写入内容\n",
    "    worksheet.write(0,0,\"内容1\")\n",
    "    worksheet.write(2,1,\"内容2\")\n",
    "    # 保存\n",
    "    workbook.save(\"2.xls\")\n",
    "fun3_2_2()"
   ]
  },
  {
   "cell_type": "code",
   "execution_count": 15,
   "metadata": {},
   "outputs": [],
   "source": [
    "# 3.2.3 xlwt设置字体格式\n",
    "def fun3_2_3():\n",
    "    # 创建新的workbook（其实就是创建新的excel）\n",
    "    workbook = xlwt.Workbook(encoding= 'ascii')\n",
    "\n",
    "    # 创建新的sheet表\n",
    "    worksheet = workbook.add_sheet(\"My new Sheet\")\n",
    "\n",
    "    # 初始化样式\n",
    "    style = xlwt.XFStyle()\n",
    "\n",
    "    # 为样式创建字体\n",
    "    font = xlwt.Font()\n",
    "    font.name = 'Times New Roman'   #字体\n",
    "    font.bold = True                #加粗\n",
    "    font.underline = True           #下划线\n",
    "    font.italic = True              #斜体\n",
    "\n",
    "    # 设置样式\n",
    "    style.font = font\n",
    "\n",
    "    # 往表格写入内容\n",
    "    worksheet.write(0,0, \"内容1\")\n",
    "    worksheet.write(2,1, \"内容2\",style)\n",
    "\n",
    "    # 保存\n",
    "    workbook.save(\"新创建的表格1.xls\")\n",
    "fun3_2_3()"
   ]
  },
  {
   "cell_type": "code",
   "execution_count": null,
   "metadata": {},
   "outputs": [],
   "source": [
    "2.4 xlwt 设置列宽\n",
    "xlwt中列宽的值表示方法：默认字体0的1/256为衡量单位。\n",
    "xlwt创建时使用的默认宽度为2960，既11个字符0的宽度\n",
    "所以我们在设置列宽时可以用如下方法：\n",
    "width = 256 * 20 256为衡量单位，20表示20个字符宽度\n"
   ]
  },
  {
   "cell_type": "code",
   "execution_count": 16,
   "metadata": {},
   "outputs": [],
   "source": [
    "# 3.2.4 设置列宽\n",
    "def fun3_2_4():\n",
    "    # 创建新的workbook（其实就是创建新的excel）\n",
    "    workbook = xlwt.Workbook(encoding= 'ascii')\n",
    "\n",
    "    # 创建新的sheet表\n",
    "    worksheet = workbook.add_sheet(\"My new Sheet\")\n",
    "\n",
    "    # 往表格写入内容\n",
    "    worksheet.write(0,0, \"内容1\")\n",
    "    worksheet.write(2,1, \"内容2\")\n",
    "\n",
    "    # 设置列宽\n",
    "    worksheet.col(0).width = 256*20\n",
    "\n",
    "    # 保存\n",
    "    workbook.save(\"32.xls\")\n",
    "fun3_2_4()"
   ]
  },
  {
   "cell_type": "code",
   "execution_count": null,
   "metadata": {},
   "outputs": [],
   "source": [
    "2.5 xlwt 设置行高\n",
    "在xlwt中没有特定的函数来设置默认的列宽及行高\n",
    "\n",
    "行高是在单元格的样式中设置的，你可以通过自动换行通过输入文字的多少来确定行高"
   ]
  },
  {
   "cell_type": "code",
   "execution_count": null,
   "metadata": {},
   "outputs": [],
   "source": [
    "# 3.2.5 设置行高\n",
    "def fun3_2_5():\n",
    "    # 创建新的workbook（其实就是创建新的excel）\n",
    "    workbook = xlwt.Workbook(encoding= 'ascii')\n",
    "\n",
    "    # 创建新的sheet表\n",
    "    worksheet = workbook.add_sheet(\"My new Sheet\")\n",
    "\n",
    "    # 往表格写入内容\n",
    "    worksheet.write(0,0, \"内容1\")\n",
    "    worksheet.write(2,1, \"内容2\")\n",
    "\n",
    "    # 设置行高\n",
    "    style = xlwt.easyxf('font:height 360;')  # 18pt,类型小初的字号\n",
    "    row = worksheet.row(0)\n",
    "    row.set_style(style)\n",
    "\n",
    "    # 保存\n",
    "    workbook.save(\"新创建的表格.xls\")"
   ]
  },
  {
   "cell_type": "code",
   "execution_count": null,
   "metadata": {},
   "outputs": [],
   "source": [
    "2.6 xlwt 合并列和行"
   ]
  },
  {
   "cell_type": "code",
   "execution_count": null,
   "metadata": {},
   "outputs": [],
   "source": [
    "# 3.2.6 合并列和行\n",
    "def fun3_2_6():\n",
    "    # 创建新的workbook（其实就是创建新的excel）\n",
    "    workbook = xlwt.Workbook(encoding= 'ascii')\n",
    "\n",
    "    # 创建新的sheet表\n",
    "    worksheet = workbook.add_sheet(\"My new Sheet\")\n",
    "\n",
    "    # 往表格写入内容\n",
    "    worksheet.write(0,0, \"内容1\")\n",
    "\n",
    "    # 合并 第1行到第2行 的 第0列到第3列\n",
    "    worksheet.write_merge(1, 2, 0, 3, 'Merge Test')\n",
    "\n",
    "    # 保存\n",
    "    workbook.save(\"新创建的表格.xls\")"
   ]
  },
  {
   "cell_type": "code",
   "execution_count": null,
   "metadata": {},
   "outputs": [],
   "source": [
    "xlwt 添加边框"
   ]
  },
  {
   "cell_type": "code",
   "execution_count": null,
   "metadata": {},
   "outputs": [],
   "source": [
    "# 3.2.7 添加边框\n",
    "def fun3_2_7():\n",
    "    # 创建新的workbook（其实就是创建新的excel）\n",
    "    workbook = xlwt.Workbook(encoding= 'ascii')\n",
    "\n",
    "    # 创建新的sheet表\n",
    "    worksheet = workbook.add_sheet(\"My new Sheet\")\n",
    "\n",
    "    # 往表格写入内容\n",
    "    worksheet.write(0,0, \"内容1\")\n",
    "\n",
    "    # 设置边框样式\n",
    "    borders = xlwt.Borders()  # Create Borders\n",
    "\n",
    "    # May be:   NO_LINE, THIN, MEDIUM, DASHED, DOTTED, THICK, DOUBLE, HAIR,\n",
    "    #           MEDIUM_DASHED, THIN_DASH_DOTTED, MEDIUM_DASH_DOTTED, THIN_DASH_DOT_DOTTED,\n",
    "    #           MEDIUM_DASH_DOT_DOTTED, SLANTED_MEDIUM_DASH_DOTTED, or 0x00 through 0x0D.\n",
    "    # DASHED虚线\n",
    "    # NO_LINE没有\n",
    "    # THIN实线\n",
    "\n",
    "    borders.left = xlwt.Borders.DASHED\n",
    "    borders.right = xlwt.Borders.DASHED\n",
    "    borders.top = xlwt.Borders.DASHED\n",
    "    borders.bottom = xlwt.Borders.DASHED\n",
    "    borders.left_colour = 0x40\n",
    "    borders.right_colour = 0x40\n",
    "    borders.top_colour = 0x40\n",
    "    borders.bottom_colour = 0x40\n",
    "\n",
    "    style = xlwt.XFStyle()  # Create Style\n",
    "    style.borders = borders  # Add Borders to Style\n",
    "\n",
    "    worksheet.write(0, 0, '内容1', style)\n",
    "\n",
    "    worksheet.write(2,1, \"内容2\")\n",
    "\n",
    "    # 保存\n",
    "    workbook.save(\"新创建的表格.xls\")"
   ]
  }
 ],
 "metadata": {
  "kernelspec": {
   "display_name": "Python 3",
   "language": "python",
   "name": "python3"
  },
  "language_info": {
   "codemirror_mode": {
    "name": "ipython",
    "version": 3
   },
   "file_extension": ".py",
   "mimetype": "text/x-python",
   "name": "python",
   "nbconvert_exporter": "python",
   "pygments_lexer": "ipython3",
   "version": "3.8.5"
  }
 },
 "nbformat": 4,
 "nbformat_minor": 4
}
