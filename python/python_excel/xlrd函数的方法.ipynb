{
 "cells": [
  {
   "cell_type": "code",
   "execution_count": null,
   "metadata": {},
   "outputs": [],
   "source": [
    "（1）什么是xlrd模块？\n",
    "\n",
    "python操作excel主要用到xlrd和xlwt这两个库，即xlrd是读excel，xlwt是写excel的库。\n",
    "（2）为什么使用xlrd模块？\n",
    "\n",
    "在UI自动化或者接口自动化中数据维护是一个核心，所以此模块非常实用。\n",
    "xlrd模块可以用于读取Excel的数据，速度非常快，推荐使用！\n",
    "\n",
    "常用单元格的数据类型\n",
    "empty（空的）\n",
    "string（text）\n",
    "number\n",
    "date\n",
    "boolean\n",
    "error\n",
    "blank（空白表格）\n",
    "导入模块"
   ]
  },
  {
   "cell_type": "code",
   "execution_count": null,
   "metadata": {},
   "outputs": [],
   "source": [
    "data = xlrd.open_workbook(filename)#文件名以及路径，\n",
    "#如果路径或者文件名有中文给前面加一个 r\n",
    "\n",
    "（1）获取book（excel文件）中一个工作表\n",
    "table = data.sheets()[0]                    #通过索引顺序获取\n",
    "table = data.sheet_by_index(sheet_indx)     #通过索引顺序获取\n",
    "table = data.sheet_by_name(sheet_name)      #通过名称获取\n",
    "\n",
    "# 以上三个函数都会返回一个xlrd.sheet.Sheet()对象\n",
    "\n",
    "names = data.sheet_names()                  #返回book中所有工作表的名字\n",
    "data.sheet_loaded(sheet_name or indx)       # 检查某个sheet是否导入完毕"
   ]
  },
  {
   "cell_type": "code",
   "execution_count": 3,
   "metadata": {},
   "outputs": [],
   "source": [
    "（2） 行的操作\n",
    "nrows = table.nrows\n",
    "    # 获取该sheet中的行数，注，这里table.nrows后面不带().\n",
    "\n",
    "table.row(rowx)\n",
    "    # 返回由该行中所有的单元格对象组成的列表,这与tabel.raw()方法并没有区别。\n",
    "\n",
    "table.row_slice(rowx)\n",
    "    # 返回由该行中所有的单元格对象组成的列表\n",
    "\n",
    "table.row_types(rowx, start_colx=0, end_colx=None)\n",
    "    # 返回由该行中所有单元格的数据类型组成的列表；　　　　\n",
    "    # 返回值为逻辑值列表，若类型为empy则为0，否则为1\n",
    "\n",
    "table.row_values(rowx, start_colx=0, end_colx=None)\n",
    "    # 返回由该行中所有单元格的数据组成的列表\n",
    "\n",
    "table.row_len(rowx)\n",
    "    # 返回该行的有效单元格长度，即这一行有多少个数据"
   ]
  },
  {
   "cell_type": "code",
   "execution_count": null,
   "metadata": {},
   "outputs": [],
   "source": [
    "（3）列（colnum）的操作\n",
    "\n",
    "ncols = table.ncols\n",
    "    # 获取列表的有效列数\n",
    "\n",
    "table.col(colx, start_rowx=0, end_rowx=None)\n",
    "    # 返回由该列中所有的单元格对象组成的列表\n",
    "\n",
    "table.col_slice(colx, start_rowx=0, end_rowx=None)\n",
    "    # 返回由该列中所有的单元格对象组成的列表\n",
    "\n",
    "table.col_types(colx, start_rowx=0, end_rowx=None)\n",
    "    # 返回由该列中所有单元格的数据类型组成的列表\n",
    "\n",
    "table.col_values(colx, start_rowx=0, end_rowx=None)\n",
    "    # 返回由该列中所有单元格的数据组成的列表"
   ]
  },
  {
   "cell_type": "code",
   "execution_count": null,
   "metadata": {},
   "outputs": [],
   "source": [
    "（4）单元格的操作\n",
    "\n",
    "table.cell(rowx,colx)\n",
    "    # 返回单元格对象\n",
    "\n",
    "table.cell_type(rowx,colx)\n",
    "    # 返回对应位置单元格中的数据类型\n",
    "\n",
    "table.cell_value(rowx,colx)\n",
    "    # 返回对应位置单元格中的数据"
   ]
  }
 ],
 "metadata": {
  "kernelspec": {
   "display_name": "Python 3",
   "language": "python",
   "name": "python3"
  },
  "language_info": {
   "codemirror_mode": {
    "name": "ipython",
    "version": 3
   },
   "file_extension": ".py",
   "mimetype": "text/x-python",
   "name": "python",
   "nbconvert_exporter": "python",
   "pygments_lexer": "ipython3",
   "version": "3.8.5"
  }
 },
 "nbformat": 4,
 "nbformat_minor": 4
}
