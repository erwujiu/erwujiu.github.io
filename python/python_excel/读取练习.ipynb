{
 "cells": [
  {
   "cell_type": "code",
   "execution_count": 4,
   "metadata": {},
   "outputs": [
    {
     "name": "stdout",
     "output_type": "stream",
     "text": [
      "2.0\n"
     ]
    }
   ],
   "source": [
    "import xlrd \n",
    "xlsx = xlrd.open_workbook('1.xlsx')\n",
    "table = xlsx.sheet_by_index(0)\n",
    "#获取单个表格值 (2,1)表示获取第3行第2列单元格的值  (0,0)为第一行第一列\n",
    "value = table.cell_value(2,1)\n",
    "print(value)"
   ]
  },
  {
   "cell_type": "code",
   "execution_count": 8,
   "metadata": {},
   "outputs": [
    {
     "name": "stdout",
     "output_type": "stream",
     "text": [
      "表格一共有 4 行\n",
      "表格一共有 4 列\n"
     ]
    }
   ],
   "source": [
    "nrows = table.nrows\n",
    "ncols = table.ncols\n",
    "print(\"表格一共有\",nrows,\"行\")\n",
    "print(\"表格一共有\",ncols,\"列\")"
   ]
  },
  {
   "cell_type": "code",
   "execution_count": 11,
   "metadata": {},
   "outputs": [
    {
     "name": "stdout",
     "output_type": "stream",
     "text": [
      "第4列所有的值： ['hello', 'hi', '哈哈']\n",
      "第4列所有的值： ['1.0', '2.0', '3.0']\n"
     ]
    }
   ],
   "source": [
    "# 获取第4列所有值（列表生成式）\n",
    "name_list = [str(table.cell_value(i,3)) for i in range(1,nrows)]\n",
    "print(\"第4列所有的值：\",name_list)\n",
    "\n",
    "# 获取第2列所有值（列表生成式）\n",
    "name_list2 = [str(table.cell_value(i,1)) for i in range(1,ncols)]\n",
    "print(\"第4列所有的值：\",name_list2)"
   ]
  }
 ],
 "metadata": {
  "kernelspec": {
   "display_name": "Python 3",
   "language": "python",
   "name": "python3"
  },
  "language_info": {
   "codemirror_mode": {
    "name": "ipython",
    "version": 3
   },
   "file_extension": ".py",
   "mimetype": "text/x-python",
   "name": "python",
   "nbconvert_exporter": "python",
   "pygments_lexer": "ipython3",
   "version": "3.8.5"
  }
 },
 "nbformat": 4,
 "nbformat_minor": 4
}
